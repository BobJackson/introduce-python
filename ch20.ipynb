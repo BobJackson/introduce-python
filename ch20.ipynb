{
 "cells": [
  {
   "cell_type": "code",
   "execution_count": 1,
   "id": "initial_id",
   "metadata": {
    "collapsed": true,
    "ExecuteTime": {
     "end_time": "2024-03-13T04:48:26.830745Z",
     "start_time": "2024-03-13T04:48:26.823084Z"
    }
   },
   "outputs": [
    {
     "data": {
      "text/plain": "'png'"
     },
     "execution_count": 1,
     "metadata": {},
     "output_type": "execute_result"
    }
   ],
   "source": [
    "import imghdr\n",
    "\n",
    "imghdr.what('demo.png')"
   ]
  },
  {
   "cell_type": "code",
   "outputs": [
    {
     "data": {
      "text/plain": "'PNG'"
     },
     "execution_count": 1,
     "metadata": {},
     "output_type": "execute_result"
    }
   ],
   "source": [
    "from PIL import Image\n",
    "\n",
    "img = Image.open('demo.png')\n",
    "img.format"
   ],
   "metadata": {
    "collapsed": false,
    "ExecuteTime": {
     "end_time": "2024-03-15T04:38:36.975051Z",
     "start_time": "2024-03-15T04:38:36.801487Z"
    }
   },
   "id": "9639214dc575c8bf",
   "execution_count": 1
  },
  {
   "cell_type": "code",
   "outputs": [
    {
     "data": {
      "text/plain": "(2484, 1346)"
     },
     "execution_count": 2,
     "metadata": {},
     "output_type": "execute_result"
    }
   ],
   "source": [
    "img.size"
   ],
   "metadata": {
    "collapsed": false,
    "ExecuteTime": {
     "end_time": "2024-03-15T04:38:44.164611Z",
     "start_time": "2024-03-15T04:38:44.159743Z"
    }
   },
   "id": "11ba9a309e56afd6",
   "execution_count": 2
  },
  {
   "cell_type": "code",
   "outputs": [
    {
     "data": {
      "text/plain": "'RGB'"
     },
     "execution_count": 3,
     "metadata": {},
     "output_type": "execute_result"
    }
   ],
   "source": [
    "img.mode"
   ],
   "metadata": {
    "collapsed": false,
    "ExecuteTime": {
     "end_time": "2024-03-15T04:38:52.220630Z",
     "start_time": "2024-03-15T04:38:52.216767Z"
    }
   },
   "id": "84c84b8742c158d4",
   "execution_count": 3
  },
  {
   "cell_type": "code",
   "outputs": [],
   "source": [
    "img.show()"
   ],
   "metadata": {
    "collapsed": false,
    "ExecuteTime": {
     "end_time": "2024-03-15T04:39:13.474321Z",
     "start_time": "2024-03-15T04:39:12.946694Z"
    }
   },
   "id": "a9f564035fac4b",
   "execution_count": 4
  },
  {
   "cell_type": "code",
   "outputs": [],
   "source": [
    "crop = (55, 70, 85, 100)\n",
    "img2 = img.crop(crop)\n",
    "img2.show()"
   ],
   "metadata": {
    "collapsed": false,
    "ExecuteTime": {
     "end_time": "2024-03-15T04:40:37.411150Z",
     "start_time": "2024-03-15T04:40:37.265009Z"
    }
   },
   "id": "606f0c4805cfb1d0",
   "execution_count": 5
  },
  {
   "cell_type": "code",
   "outputs": [
    {
     "data": {
      "text/plain": "'GIF'"
     },
     "execution_count": 6,
     "metadata": {},
     "output_type": "execute_result"
    }
   ],
   "source": [
    "img2.save('cropped.gif', 'GIF')\n",
    "img3 = Image.open('cropped.gif')\n",
    "img3.format"
   ],
   "metadata": {
    "collapsed": false,
    "ExecuteTime": {
     "end_time": "2024-03-15T04:41:32.150910Z",
     "start_time": "2024-03-15T04:41:32.137598Z"
    }
   },
   "id": "7b66c30a47d04a73",
   "execution_count": 6
  },
  {
   "cell_type": "code",
   "outputs": [
    {
     "data": {
      "text/plain": "(30, 30)"
     },
     "execution_count": 7,
     "metadata": {},
     "output_type": "execute_result"
    }
   ],
   "source": [
    "img3.size"
   ],
   "metadata": {
    "collapsed": false,
    "ExecuteTime": {
     "end_time": "2024-03-15T04:41:37.730420Z",
     "start_time": "2024-03-15T04:41:37.726477Z"
    }
   },
   "id": "5e597e99892b71d2",
   "execution_count": 7
  },
  {
   "cell_type": "code",
   "outputs": [],
   "source": [
    "from PIL import Image\n",
    "critter = Image.open('ch20_critter.png')\n",
    "stache = Image.open('ch20_stache.png')\n",
    "stache.putalpha(100)\n",
    "img = Image.new('RGBA', critter.size, (255, 255, 255, 0))\n",
    "img.paste(critter, (0, 0))\n",
    "img.paste(stache, (45, 90), mask=stache)\n",
    "img.show()"
   ],
   "metadata": {
    "collapsed": false,
    "ExecuteTime": {
     "end_time": "2024-03-15T04:47:02.845031Z",
     "start_time": "2024-03-15T04:47:02.385748Z"
    }
   },
   "id": "bb6890d17060a985",
   "execution_count": 8
  },
  {
   "cell_type": "code",
   "outputs": [
    {
     "ename": "ImportError",
     "evalue": "MagickWand shared library not found.\nYou probably had not installed ImageMagick library.\nTry to install:\n  brew install freetype imagemagick",
     "output_type": "error",
     "traceback": [
      "\u001B[0;31m---------------------------------------------------------------------------\u001B[0m",
      "\u001B[0;31mOSError\u001B[0m                                   Traceback (most recent call last)",
      "File \u001B[0;32m~/PycharmProjects/introduce-python/.venv/lib/python3.9/site-packages/wand/api.py:159\u001B[0m\n\u001B[1;32m    158\u001B[0m \u001B[38;5;28;01mtry\u001B[39;00m:\n\u001B[0;32m--> 159\u001B[0m     libraries \u001B[38;5;241m=\u001B[39m \u001B[43mload_library\u001B[49m\u001B[43m(\u001B[49m\u001B[43m)\u001B[49m\n\u001B[1;32m    160\u001B[0m \u001B[38;5;28;01mexcept\u001B[39;00m (\u001B[38;5;167;01mOSError\u001B[39;00m, \u001B[38;5;167;01mIOError\u001B[39;00m):\n",
      "File \u001B[0;32m~/PycharmProjects/introduce-python/.venv/lib/python3.9/site-packages/wand/api.py:148\u001B[0m, in \u001B[0;36mload_library\u001B[0;34m()\u001B[0m\n\u001B[1;32m    147\u001B[0m     \u001B[38;5;28;01mreturn\u001B[39;00m libwand, libmagick\n\u001B[0;32m--> 148\u001B[0m \u001B[38;5;28;01mraise\u001B[39;00m \u001B[38;5;167;01mIOError\u001B[39;00m(\u001B[38;5;124m'\u001B[39m\u001B[38;5;124mcannot find library; tried paths: \u001B[39m\u001B[38;5;124m'\u001B[39m \u001B[38;5;241m+\u001B[39m \u001B[38;5;28mrepr\u001B[39m(tried_paths))\n",
      "\u001B[0;31mOSError\u001B[0m: cannot find library; tried paths: []",
      "\nDuring handling of the above exception, another exception occurred:\n",
      "\u001B[0;31mImportError\u001B[0m                               Traceback (most recent call last)",
      "Cell \u001B[0;32mIn[11], line 1\u001B[0m\n\u001B[0;32m----> 1\u001B[0m \u001B[38;5;28;01mfrom\u001B[39;00m \u001B[38;5;21;01mwand\u001B[39;00m\u001B[38;5;21;01m.\u001B[39;00m\u001B[38;5;21;01mimage\u001B[39;00m \u001B[38;5;28;01mimport\u001B[39;00m Image\n\u001B[1;32m      2\u001B[0m \u001B[38;5;28;01mfrom\u001B[39;00m \u001B[38;5;21;01mwand\u001B[39;00m\u001B[38;5;21;01m.\u001B[39;00m\u001B[38;5;21;01mdisplay\u001B[39;00m \u001B[38;5;28;01mimport\u001B[39;00m display\n\u001B[1;32m      3\u001B[0m img \u001B[38;5;241m=\u001B[39m Image(filename\u001B[38;5;241m=\u001B[39m\u001B[38;5;124m'\u001B[39m\u001B[38;5;124mdemo.png\u001B[39m\u001B[38;5;124m'\u001B[39m)\n",
      "File \u001B[0;32m~/PycharmProjects/introduce-python/.venv/lib/python3.9/site-packages/wand/image.py:18\u001B[0m\n\u001B[1;32m     15\u001B[0m \u001B[38;5;28;01mimport\u001B[39;00m \u001B[38;5;21;01mnumbers\u001B[39;00m\n\u001B[1;32m     16\u001B[0m \u001B[38;5;28;01mimport\u001B[39;00m \u001B[38;5;21;01mweakref\u001B[39;00m\n\u001B[0;32m---> 18\u001B[0m \u001B[38;5;28;01mfrom\u001B[39;00m \u001B[38;5;21;01m.\u001B[39;00m \u001B[38;5;28;01mimport\u001B[39;00m assertions\n\u001B[1;32m     19\u001B[0m \u001B[38;5;28;01mfrom\u001B[39;00m \u001B[38;5;21;01m.\u001B[39;00m\u001B[38;5;21;01mapi\u001B[39;00m \u001B[38;5;28;01mimport\u001B[39;00m libc, libmagick, library\n\u001B[1;32m     20\u001B[0m \u001B[38;5;28;01mfrom\u001B[39;00m \u001B[38;5;21;01m.\u001B[39;00m\u001B[38;5;21;01mcdefs\u001B[39;00m\u001B[38;5;21;01m.\u001B[39;00m\u001B[38;5;21;01mstructures\u001B[39;00m \u001B[38;5;28;01mimport\u001B[39;00m (CCObjectInfo, CCObjectInfo70A, CCObjectInfo710,\n\u001B[1;32m     21\u001B[0m                                ChannelFeature, GeometryInfo, PixelInfo,\n\u001B[1;32m     22\u001B[0m                                RectangleInfo)\n",
      "File \u001B[0;32m~/PycharmProjects/introduce-python/.venv/lib/python3.9/site-packages/wand/assertions.py:156\u001B[0m\n\u001B[1;32m    152\u001B[0m     in_list(options, label, \u001B[38;5;241m*\u001B[39m\u001B[38;5;241m*\u001B[39mkwargs)\n\u001B[1;32m    155\u001B[0m \u001B[38;5;66;03m# Lazy load recursive import\u001B[39;00m\n\u001B[0;32m--> 156\u001B[0m \u001B[38;5;28;01mfrom\u001B[39;00m \u001B[38;5;21;01m.\u001B[39;00m\u001B[38;5;21;01mcolor\u001B[39;00m \u001B[38;5;28;01mimport\u001B[39;00m Color  \u001B[38;5;66;03m# noqa: E402\u001B[39;00m\n",
      "File \u001B[0;32m~/PycharmProjects/introduce-python/.venv/lib/python3.9/site-packages/wand/color.py:10\u001B[0m\n\u001B[1;32m      7\u001B[0m \u001B[38;5;28;01mimport\u001B[39;00m \u001B[38;5;21;01mctypes\u001B[39;00m\n\u001B[1;32m      8\u001B[0m \u001B[38;5;28;01mimport\u001B[39;00m \u001B[38;5;21;01mnumbers\u001B[39;00m\n\u001B[0;32m---> 10\u001B[0m \u001B[38;5;28;01mfrom\u001B[39;00m \u001B[38;5;21;01m.\u001B[39;00m\u001B[38;5;21;01mapi\u001B[39;00m \u001B[38;5;28;01mimport\u001B[39;00m library\n\u001B[1;32m     11\u001B[0m \u001B[38;5;28;01mfrom\u001B[39;00m \u001B[38;5;21;01m.\u001B[39;00m\u001B[38;5;21;01mcdefs\u001B[39;00m\u001B[38;5;21;01m.\u001B[39;00m\u001B[38;5;21;01mstructures\u001B[39;00m \u001B[38;5;28;01mimport\u001B[39;00m MagickPixelPacket, PixelInfo\n\u001B[1;32m     12\u001B[0m \u001B[38;5;28;01mfrom\u001B[39;00m \u001B[38;5;21;01m.\u001B[39;00m\u001B[38;5;21;01mcompat\u001B[39;00m \u001B[38;5;28;01mimport\u001B[39;00m binary, text\n",
      "File \u001B[0;32m~/PycharmProjects/introduce-python/.venv/lib/python3.9/site-packages/wand/api.py:183\u001B[0m\n\u001B[1;32m    181\u001B[0m         \u001B[38;5;28;01melif\u001B[39;00m distname \u001B[38;5;129;01min\u001B[39;00m (\u001B[38;5;124m'\u001B[39m\u001B[38;5;124mfedora\u001B[39m\u001B[38;5;124m'\u001B[39m, \u001B[38;5;124m'\u001B[39m\u001B[38;5;124mcentos\u001B[39m\u001B[38;5;124m'\u001B[39m, \u001B[38;5;124m'\u001B[39m\u001B[38;5;124mredhat\u001B[39m\u001B[38;5;124m'\u001B[39m):\n\u001B[1;32m    182\u001B[0m             msg \u001B[38;5;241m=\u001B[39m \u001B[38;5;124m'\u001B[39m\u001B[38;5;124myum install ImageMagick-devel\u001B[39m\u001B[38;5;124m'\u001B[39m\n\u001B[0;32m--> 183\u001B[0m     \u001B[38;5;28;01mraise\u001B[39;00m \u001B[38;5;167;01mImportError\u001B[39;00m(\u001B[38;5;124m'\u001B[39m\u001B[38;5;124mMagickWand shared library not found.\u001B[39m\u001B[38;5;130;01m\\n\u001B[39;00m\u001B[38;5;124m'\u001B[39m\n\u001B[1;32m    184\u001B[0m                       \u001B[38;5;124m'\u001B[39m\u001B[38;5;124mYou probably had not installed ImageMagick library.\u001B[39m\u001B[38;5;130;01m\\n\u001B[39;00m\u001B[38;5;124m'\u001B[39m\n\u001B[1;32m    185\u001B[0m                       \u001B[38;5;124m'\u001B[39m\u001B[38;5;124mTry to install:\u001B[39m\u001B[38;5;130;01m\\n\u001B[39;00m\u001B[38;5;124m  \u001B[39m\u001B[38;5;124m'\u001B[39m \u001B[38;5;241m+\u001B[39m msg)\n\u001B[1;32m    187\u001B[0m \u001B[38;5;66;03m#: (:class:`ctypes.CDLL`) The MagickWand library.\u001B[39;00m\n\u001B[1;32m    188\u001B[0m library \u001B[38;5;241m=\u001B[39m libraries[\u001B[38;5;241m0\u001B[39m]\n",
      "\u001B[0;31mImportError\u001B[0m: MagickWand shared library not found.\nYou probably had not installed ImageMagick library.\nTry to install:\n  brew install freetype imagemagick"
     ]
    }
   ],
   "source": [
    "from wand.image import Image\n",
    "from wand.display import display\n",
    "img = Image(filename='demo.png')\n",
    "img.size"
   ],
   "metadata": {
    "collapsed": false,
    "ExecuteTime": {
     "end_time": "2024-03-15T04:57:27.235320Z",
     "start_time": "2024-03-15T04:57:26.786412Z"
    }
   },
   "id": "b8255772f2bb03ec",
   "execution_count": 11
  },
  {
   "cell_type": "code",
   "outputs": [],
   "source": [],
   "metadata": {
    "collapsed": false
   },
   "id": "152351600c9953bc"
  }
 ],
 "metadata": {
  "kernelspec": {
   "display_name": "Python 3",
   "language": "python",
   "name": "python3"
  },
  "language_info": {
   "codemirror_mode": {
    "name": "ipython",
    "version": 2
   },
   "file_extension": ".py",
   "mimetype": "text/x-python",
   "name": "python",
   "nbconvert_exporter": "python",
   "pygments_lexer": "ipython2",
   "version": "2.7.6"
  }
 },
 "nbformat": 4,
 "nbformat_minor": 5
}
