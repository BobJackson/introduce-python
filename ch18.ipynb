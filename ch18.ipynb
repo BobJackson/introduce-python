{
 "cells": [
  {
   "cell_type": "code",
   "execution_count": 1,
   "id": "initial_id",
   "metadata": {
    "collapsed": true,
    "ExecuteTime": {
     "end_time": "2024-03-09T10:42:18.239646Z",
     "start_time": "2024-03-09T10:42:17.753690Z"
    },
    "pycharm": {
     "name": "#%%\n"
    }
   },
   "outputs": [],
   "source": [
    "import urllib.request as ur\n",
    "\n",
    "url = 'https://www.wangyousong.com'\n",
    "conn = ur.urlopen(url)"
   ]
  },
  {
   "cell_type": "code",
   "outputs": [
    {
     "name": "stdout",
     "output_type": "stream",
     "text": [
      "200\n"
     ]
    }
   ],
   "source": [
    "print(conn.status)"
   ],
   "metadata": {
    "collapsed": false,
    "ExecuteTime": {
     "end_time": "2024-03-09T10:42:31.289206Z",
     "start_time": "2024-03-09T10:42:31.283914Z"
    },
    "pycharm": {
     "name": "#%%\n"
    }
   },
   "id": "c75b59d2b7d4c74d",
   "execution_count": 2
  },
  {
   "cell_type": "code",
   "outputs": [
    {
     "name": "stdout",
     "output_type": "stream",
     "text": [
      "b'<!doctype html><html lang=\"en\"><head><meta charset'\n"
     ]
    }
   ],
   "source": [
    "data = conn.read()\n",
    "print(data[:50])"
   ],
   "metadata": {
    "collapsed": false,
    "ExecuteTime": {
     "end_time": "2024-03-09T10:43:04.459520Z",
     "start_time": "2024-03-09T10:43:04.442509Z"
    },
    "pycharm": {
     "name": "#%%\n"
    }
   },
   "id": "d6f869dbf25da759",
   "execution_count": 3
  },
  {
   "cell_type": "code",
   "outputs": [
    {
     "name": "stdout",
     "output_type": "stream",
     "text": [
      "Server nginx/1.19.10\n",
      "Date Sat, 09 Mar 2024 10:42:18 GMT\n",
      "Content-Type text/html\n",
      "Content-Length 644\n",
      "Connection close\n",
      "Last-Modified Thu, 29 Jun 2023 15:14:21 GMT\n",
      "ETag \"649d9fcd-284\"\n",
      "Accept-Ranges bytes\n",
      "Access-Control-Allow-Origin *\n",
      "Access-Control-Allow-Methods GET, POST, OPTIONS\n",
      "Access-Control-Allow-Headers DNT,X-Mx-ReqToken,Keep-Alive,User-Agent,X-Requested-With,If-Modified-Since,Cache-Control,Content-Type,Authorization\n"
     ]
    }
   ],
   "source": [
    "for key, value in conn.getheaders():\n",
    "    print(key, value)"
   ],
   "metadata": {
    "collapsed": false,
    "ExecuteTime": {
     "end_time": "2024-03-09T10:43:44.951972Z",
     "start_time": "2024-03-09T10:43:44.946891Z"
    },
    "pycharm": {
     "name": "#%%\n"
    }
   },
   "id": "91fb6c15604feffc",
   "execution_count": 4
  },
  {
   "cell_type": "code",
   "outputs": [
    {
     "data": {
      "text/plain": "<Response [200]>"
     },
     "execution_count": 5,
     "metadata": {},
     "output_type": "execute_result"
    }
   ],
   "source": [
    "import requests\n",
    "\n",
    "resp = requests.get('https://www.wangyousong.com')\n",
    "resp"
   ],
   "metadata": {
    "collapsed": false,
    "ExecuteTime": {
     "end_time": "2024-03-09T10:45:43.715574Z",
     "start_time": "2024-03-09T10:45:42.990292Z"
    },
    "pycharm": {
     "name": "#%%\n"
    }
   },
   "id": "db87c8f1c7bb3f85",
   "execution_count": 5
  },
  {
   "cell_type": "code",
   "outputs": [
    {
     "data": {
      "text/plain": "200"
     },
     "execution_count": 6,
     "metadata": {},
     "output_type": "execute_result"
    }
   ],
   "source": [
    "resp.status_code"
   ],
   "metadata": {
    "collapsed": false,
    "ExecuteTime": {
     "end_time": "2024-03-09T10:45:55.713688Z",
     "start_time": "2024-03-09T10:45:55.706386Z"
    },
    "pycharm": {
     "name": "#%%\n"
    }
   },
   "id": "70d84c590b9c08c4",
   "execution_count": 6
  },
  {
   "cell_type": "code",
   "outputs": [
    {
     "data": {
      "text/plain": "'<!doctype html><html lang=\"en\"><head><meta charset'"
     },
     "execution_count": 7,
     "metadata": {},
     "output_type": "execute_result"
    }
   ],
   "source": [
    "resp.text[:50]"
   ],
   "metadata": {
    "collapsed": false,
    "ExecuteTime": {
     "end_time": "2024-03-09T10:46:10.348745Z",
     "start_time": "2024-03-09T10:46:10.342807Z"
    },
    "pycharm": {
     "name": "#%%\n"
    }
   },
   "id": "476b5f4c7b208fd9",
   "execution_count": 7
  },
  {
   "cell_type": "code",
   "outputs": [
    {
     "name": "stdout",
     "output_type": "stream",
     "text": [
      "Argh, got this: \n"
     ]
    }
   ],
   "source": [
    "import requests\n",
    "\n",
    "resp = requests.get('http://localhost:9999/echo/Mothra')\n",
    "if resp.status_code == 200 and resp.text == 'Say hello to my little friend: Mothra!':\n",
    "    print('It worked! That almost never happens!')\n",
    "else:\n",
    "    print('Argh, got this:', resp.text)"
   ],
   "metadata": {
    "collapsed": false,
    "ExecuteTime": {
     "end_time": "2024-03-09T11:45:45.061560Z",
     "start_time": "2024-03-09T11:45:44.609031Z"
    },
    "pycharm": {
     "name": "#%%\n"
    }
   },
   "id": "5ef0a54971b9e4f5",
   "execution_count": 12
  },
  {
   "cell_type": "code",
   "outputs": [
    {
     "data": {
      "text/plain": "True"
     },
     "execution_count": 1,
     "metadata": {},
     "output_type": "execute_result"
    }
   ],
   "source": [
    "import antigravity\n",
    "import webbrowser\n",
    "url = 'https://www.python.org'\n",
    "webbrowser.open(url)"
   ],
   "metadata": {
    "collapsed": false,
    "pycharm": {
     "name": "#%%\n"
    }
   },
   "id": "ec335f24b95e8825",
   "execution_count": 1
  },
  {
   "cell_type": "code",
   "execution_count": 2,
   "outputs": [
    {
     "data": {
      "text/plain": "True"
     },
     "execution_count": 2,
     "metadata": {},
     "output_type": "execute_result"
    }
   ],
   "source": [
    "webbrowser.open_new(url)"
   ],
   "metadata": {
    "collapsed": false,
    "pycharm": {
     "name": "#%%\n"
    }
   }
  },
  {
   "cell_type": "code",
   "execution_count": 3,
   "outputs": [
    {
     "data": {
      "text/plain": "True"
     },
     "execution_count": 3,
     "metadata": {},
     "output_type": "execute_result"
    }
   ],
   "source": [
    "webbrowser.open_new_tab('https://www.python.org')"
   ],
   "metadata": {
    "collapsed": false,
    "pycharm": {
     "name": "#%%\n"
    }
   }
  },
  {
   "cell_type": "code",
   "execution_count": 4,
   "outputs": [
    {
     "data": {
      "text/plain": "<webview.window.Window at 0x10797cdc0>"
     },
     "execution_count": 4,
     "metadata": {},
     "output_type": "execute_result"
    }
   ],
   "source": [
    "import webview\n",
    "url = input('URL? ')\n",
    "webview.create_window(f\"webview display of {url}\",url)"
   ],
   "metadata": {
    "collapsed": false,
    "pycharm": {
     "name": "#%%\n"
    }
   }
  },
  {
   "cell_type": "code",
   "execution_count": null,
   "outputs": [],
   "source": [],
   "metadata": {
    "collapsed": false,
    "pycharm": {
     "name": "#%%\n"
    }
   }
  }
 ],
 "metadata": {
  "kernelspec": {
   "display_name": "Python 3",
   "language": "python",
   "name": "python3"
  },
  "language_info": {
   "codemirror_mode": {
    "name": "ipython",
    "version": 2
   },
   "file_extension": ".py",
   "mimetype": "text/x-python",
   "name": "python",
   "nbconvert_exporter": "python",
   "pygments_lexer": "ipython2",
   "version": "2.7.6"
  }
 },
 "nbformat": 4,
 "nbformat_minor": 5
}