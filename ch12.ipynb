{
 "cells": [
  {
   "cell_type": "code",
   "execution_count": 1,
   "id": "initial_id",
   "metadata": {
    "collapsed": true,
    "ExecuteTime": {
     "end_time": "2024-03-05T10:21:56.054030Z",
     "start_time": "2024-03-05T10:21:56.048451Z"
    }
   },
   "outputs": [],
   "source": [
    "def unicode_test(value):\n",
    "    import unicodedata\n",
    "    name = unicodedata.name(value)\n",
    "    value2 = unicodedata.lookup(name)\n",
    "    print('value=\"%s\", name=\"%s\", value2=\"%s\"' % (value, name, value2))"
   ]
  },
  {
   "cell_type": "code",
   "outputs": [
    {
     "name": "stdout",
     "output_type": "stream",
     "text": [
      "value=\"A\", name=\"LATIN CAPITAL LETTER A\", value2=\"A\"\n"
     ]
    }
   ],
   "source": [
    "unicode_test('A')"
   ],
   "metadata": {
    "collapsed": false,
    "ExecuteTime": {
     "end_time": "2024-03-05T10:22:02.714239Z",
     "start_time": "2024-03-05T10:22:02.708829Z"
    }
   },
   "id": "7c06fe8ae91d60df",
   "execution_count": 2
  },
  {
   "cell_type": "code",
   "outputs": [
    {
     "name": "stdout",
     "output_type": "stream",
     "text": [
      "value=\"$\", name=\"DOLLAR SIGN\", value2=\"$\"\n"
     ]
    }
   ],
   "source": [
    "unicode_test('$')"
   ],
   "metadata": {
    "collapsed": false,
    "ExecuteTime": {
     "end_time": "2024-03-05T10:23:42.121944Z",
     "start_time": "2024-03-05T10:23:42.115938Z"
    }
   },
   "id": "123d55b2bb220af7",
   "execution_count": 3
  },
  {
   "cell_type": "code",
   "outputs": [
    {
     "name": "stdout",
     "output_type": "stream",
     "text": [
      "value=\"¢\", name=\"CENT SIGN\", value2=\"¢\"\n"
     ]
    }
   ],
   "source": [
    "unicode_test('\\u00a2')"
   ],
   "metadata": {
    "collapsed": false,
    "ExecuteTime": {
     "end_time": "2024-03-05T10:23:57.011001Z",
     "start_time": "2024-03-05T10:23:57.005040Z"
    }
   },
   "id": "838f2a1a34cc5d63",
   "execution_count": 4
  },
  {
   "cell_type": "code",
   "outputs": [
    {
     "name": "stdout",
     "output_type": "stream",
     "text": [
      "value=\"€\", name=\"EURO SIGN\", value2=\"€\"\n"
     ]
    }
   ],
   "source": [
    "unicode_test('\\u20ac')"
   ],
   "metadata": {
    "collapsed": false,
    "ExecuteTime": {
     "end_time": "2024-03-05T10:23:59.260780Z",
     "start_time": "2024-03-05T10:23:59.255644Z"
    }
   },
   "id": "5f54546127792ed0",
   "execution_count": 5
  },
  {
   "cell_type": "code",
   "outputs": [
    {
     "name": "stdout",
     "output_type": "stream",
     "text": [
      "value=\"☃\", name=\"SNOWMAN\", value2=\"☃\"\n"
     ]
    }
   ],
   "source": [
    "unicode_test('\\u2603')"
   ],
   "metadata": {
    "collapsed": false,
    "ExecuteTime": {
     "end_time": "2024-03-05T10:24:01.653431Z",
     "start_time": "2024-03-05T10:24:01.649068Z"
    }
   },
   "id": "61f4413a3432163",
   "execution_count": 6
  },
  {
   "cell_type": "code",
   "outputs": [
    {
     "name": "stdout",
     "output_type": "stream",
     "text": [
      "value=\"é\", name=\"LATIN SMALL LETTER E WITH ACUTE\", value2=\"é\"\n"
     ]
    }
   ],
   "source": [
    "unicode_test('\\u00e9')"
   ],
   "metadata": {
    "collapsed": false,
    "ExecuteTime": {
     "end_time": "2024-03-05T10:24:05.522081Z",
     "start_time": "2024-03-05T10:24:05.518644Z"
    }
   },
   "id": "cbfbfff5d2aa0fab",
   "execution_count": 7
  },
  {
   "cell_type": "code",
   "outputs": [
    {
     "name": "stdout",
     "output_type": "stream",
     "text": [
      "value=\"ἲ\", name=\"GREEK SMALL LETTER IOTA WITH PSILI AND VARIA\", value2=\"ἲ\"\n"
     ]
    }
   ],
   "source": [
    "unicode_test('\\u1f32')"
   ],
   "metadata": {
    "collapsed": false,
    "ExecuteTime": {
     "end_time": "2024-03-05T10:24:07.242004Z",
     "start_time": "2024-03-05T10:24:07.236217Z"
    }
   },
   "id": "3a050535717638e2",
   "execution_count": 8
  },
  {
   "cell_type": "code",
   "outputs": [
    {
     "name": "stdout",
     "output_type": "stream",
     "text": [
      "value=\"ἲ\", name=\"GREEK SMALL LETTER IOTA WITH PSILI AND VARIA\", value2=\"ἲ\"\n"
     ]
    }
   ],
   "source": [],
   "metadata": {
    "collapsed": false,
    "ExecuteTime": {
     "end_time": "2024-03-05T10:24:11.996763Z",
     "start_time": "2024-03-05T10:24:11.992245Z"
    }
   },
   "id": "87474f058234df9a",
   "execution_count": 9
  },
  {
   "cell_type": "code",
   "outputs": [
    {
     "data": {
      "text/plain": "'café'"
     },
     "execution_count": 10,
     "metadata": {},
     "output_type": "execute_result"
    }
   ],
   "source": [
    "place = 'café'\n",
    "place"
   ],
   "metadata": {
    "collapsed": false,
    "ExecuteTime": {
     "end_time": "2024-03-05T10:25:02.171826Z",
     "start_time": "2024-03-05T10:25:02.154503Z"
    }
   },
   "id": "d3782876811d3799",
   "execution_count": 10
  },
  {
   "cell_type": "code",
   "outputs": [
    {
     "ename": "KeyError",
     "evalue": "\"undefined character name 'E WITH ACUTE, LATIN CAPITAL LETTER'\"",
     "output_type": "error",
     "traceback": [
      "\u001B[0;31m---------------------------------------------------------------------------\u001B[0m",
      "\u001B[0;31mKeyError\u001B[0m                                  Traceback (most recent call last)",
      "Cell \u001B[0;32mIn[11], line 2\u001B[0m\n\u001B[1;32m      1\u001B[0m \u001B[38;5;28;01mimport\u001B[39;00m \u001B[38;5;21;01municodedata\u001B[39;00m\n\u001B[0;32m----> 2\u001B[0m \u001B[43municodedata\u001B[49m\u001B[38;5;241;43m.\u001B[39;49m\u001B[43mlookup\u001B[49m\u001B[43m(\u001B[49m\u001B[38;5;124;43m'\u001B[39;49m\u001B[38;5;124;43mE WITH ACUTE, LATIN CAPITAL LETTER\u001B[39;49m\u001B[38;5;124;43m'\u001B[39;49m\u001B[43m)\u001B[49m\n",
      "\u001B[0;31mKeyError\u001B[0m: \"undefined character name 'E WITH ACUTE, LATIN CAPITAL LETTER'\""
     ]
    }
   ],
   "source": [
    "import unicodedata\n",
    "unicodedata.lookup('E WITH ACUTE, LATIN CAPITAL LETTER')"
   ],
   "metadata": {
    "collapsed": false,
    "ExecuteTime": {
     "end_time": "2024-03-05T10:26:28.613679Z",
     "start_time": "2024-03-05T10:26:28.445295Z"
    }
   },
   "id": "ab7f83a31c087e4b",
   "execution_count": 11
  },
  {
   "cell_type": "code",
   "outputs": [
    {
     "data": {
      "text/plain": "'É'"
     },
     "execution_count": 12,
     "metadata": {},
     "output_type": "execute_result"
    }
   ],
   "source": [
    "import unicodedata\n",
    "unicodedata.lookup('LATIN CAPITAL LETTER E WITH ACUTE')"
   ],
   "metadata": {
    "collapsed": false,
    "ExecuteTime": {
     "end_time": "2024-03-05T10:26:52.454848Z",
     "start_time": "2024-03-05T10:26:52.448978Z"
    }
   },
   "id": "d407c340d47baaa7",
   "execution_count": 12
  },
  {
   "cell_type": "code",
   "outputs": [
    {
     "data": {
      "text/plain": "'café'"
     },
     "execution_count": 13,
     "metadata": {},
     "output_type": "execute_result"
    }
   ],
   "source": [
    "place = 'caf\\u00e9'\n",
    "place"
   ],
   "metadata": {
    "collapsed": false,
    "ExecuteTime": {
     "end_time": "2024-03-05T10:27:17.324496Z",
     "start_time": "2024-03-05T10:27:17.318194Z"
    }
   },
   "id": "941067218c2433d0",
   "execution_count": 13
  },
  {
   "cell_type": "code",
   "outputs": [
    {
     "data": {
      "text/plain": "'café'"
     },
     "execution_count": 14,
     "metadata": {},
     "output_type": "execute_result"
    }
   ],
   "source": [
    "place = 'caf\\N{LATIN SMALL LETTER E WITH ACUTE}'\n",
    "place"
   ],
   "metadata": {
    "collapsed": false,
    "ExecuteTime": {
     "end_time": "2024-03-05T10:27:42.422359Z",
     "start_time": "2024-03-05T10:27:42.418858Z"
    }
   },
   "id": "e459a6f71c417b45",
   "execution_count": 14
  },
  {
   "cell_type": "code",
   "outputs": [
    {
     "data": {
      "text/plain": "'ü'"
     },
     "execution_count": 15,
     "metadata": {},
     "output_type": "execute_result"
    }
   ],
   "source": [
    "u_umlaut = '\\N{LATIN SMALL LETTER U WITH DIAERESIS}'\n",
    "u_umlaut"
   ],
   "metadata": {
    "collapsed": false,
    "ExecuteTime": {
     "end_time": "2024-03-05T10:28:49.819452Z",
     "start_time": "2024-03-05T10:28:49.809378Z"
    }
   },
   "id": "ae29dd98988abae4",
   "execution_count": 15
  },
  {
   "cell_type": "code",
   "outputs": [
    {
     "name": "stdout",
     "output_type": "stream",
     "text": [
      "Now I can finally have my Gewürztraminer in a café\n"
     ]
    }
   ],
   "source": [
    "drink = 'Gew' + u_umlaut + 'rztraminer'\n",
    "print('Now I can finally have my', drink, 'in a', place)"
   ],
   "metadata": {
    "collapsed": false,
    "ExecuteTime": {
     "end_time": "2024-03-05T10:29:36.970479Z",
     "start_time": "2024-03-05T10:29:36.963764Z"
    }
   },
   "id": "dcf09699e3548a7e",
   "execution_count": 16
  },
  {
   "cell_type": "code",
   "outputs": [
    {
     "data": {
      "text/plain": "1"
     },
     "execution_count": 17,
     "metadata": {},
     "output_type": "execute_result"
    }
   ],
   "source": [
    "len('$')"
   ],
   "metadata": {
    "collapsed": false,
    "ExecuteTime": {
     "end_time": "2024-03-05T10:29:56.413950Z",
     "start_time": "2024-03-05T10:29:56.410562Z"
    }
   },
   "id": "359953663a743b67",
   "execution_count": 17
  },
  {
   "cell_type": "code",
   "outputs": [
    {
     "data": {
      "text/plain": "1"
     },
     "execution_count": 18,
     "metadata": {},
     "output_type": "execute_result"
    }
   ],
   "source": [
    "len('\\U0001f47b')"
   ],
   "metadata": {
    "collapsed": false,
    "ExecuteTime": {
     "end_time": "2024-03-05T10:30:11.565464Z",
     "start_time": "2024-03-05T10:30:11.559253Z"
    }
   },
   "id": "9c1272271af30276",
   "execution_count": 18
  },
  {
   "cell_type": "code",
   "outputs": [
    {
     "data": {
      "text/plain": "'é'"
     },
     "execution_count": 19,
     "metadata": {},
     "output_type": "execute_result"
    }
   ],
   "source": [
    "chr(233)"
   ],
   "metadata": {
    "collapsed": false,
    "ExecuteTime": {
     "end_time": "2024-03-05T10:30:20.320316Z",
     "start_time": "2024-03-05T10:30:20.316872Z"
    }
   },
   "id": "f7647d64f884d6a9",
   "execution_count": 19
  },
  {
   "cell_type": "code",
   "outputs": [
    {
     "data": {
      "text/plain": "'é'"
     },
     "execution_count": 20,
     "metadata": {},
     "output_type": "execute_result"
    }
   ],
   "source": [
    "chr(0xe9)"
   ],
   "metadata": {
    "collapsed": false,
    "ExecuteTime": {
     "end_time": "2024-03-05T10:30:28.162262Z",
     "start_time": "2024-03-05T10:30:28.159188Z"
    }
   },
   "id": "5d2f66ab650fc326",
   "execution_count": 20
  },
  {
   "cell_type": "code",
   "outputs": [
    {
     "data": {
      "text/plain": "'ῆ'"
     },
     "execution_count": 21,
     "metadata": {},
     "output_type": "execute_result"
    }
   ],
   "source": [
    "chr(0x1fc6)"
   ],
   "metadata": {
    "collapsed": false,
    "ExecuteTime": {
     "end_time": "2024-03-05T10:30:40.635220Z",
     "start_time": "2024-03-05T10:30:40.631002Z"
    }
   },
   "id": "c11e552e143d601b",
   "execution_count": 21
  },
  {
   "cell_type": "code",
   "outputs": [],
   "source": [
    "snowman = '\\u2603'"
   ],
   "metadata": {
    "collapsed": false,
    "ExecuteTime": {
     "end_time": "2024-03-05T10:31:17.743770Z",
     "start_time": "2024-03-05T10:31:17.741025Z"
    }
   },
   "id": "af1e338b6a887caf",
   "execution_count": 22
  },
  {
   "cell_type": "code",
   "outputs": [
    {
     "data": {
      "text/plain": "'☃'"
     },
     "execution_count": 23,
     "metadata": {},
     "output_type": "execute_result"
    }
   ],
   "source": [
    "snowman"
   ],
   "metadata": {
    "collapsed": false,
    "ExecuteTime": {
     "end_time": "2024-03-05T10:31:20.547079Z",
     "start_time": "2024-03-05T10:31:20.542966Z"
    }
   },
   "id": "fcb455cd3fb52e8c",
   "execution_count": 23
  },
  {
   "cell_type": "code",
   "outputs": [
    {
     "data": {
      "text/plain": "1"
     },
     "execution_count": 24,
     "metadata": {},
     "output_type": "execute_result"
    }
   ],
   "source": [
    "len(snowman)"
   ],
   "metadata": {
    "collapsed": false,
    "ExecuteTime": {
     "end_time": "2024-03-05T10:31:27.397642Z",
     "start_time": "2024-03-05T10:31:27.392835Z"
    }
   },
   "id": "ab5218864892d2f4",
   "execution_count": 24
  },
  {
   "cell_type": "code",
   "outputs": [
    {
     "data": {
      "text/plain": "1"
     },
     "execution_count": 25,
     "metadata": {},
     "output_type": "execute_result"
    }
   ],
   "source": [
    "len('\\u2603')"
   ],
   "metadata": {
    "collapsed": false,
    "ExecuteTime": {
     "end_time": "2024-03-05T10:31:28.720914Z",
     "start_time": "2024-03-05T10:31:28.716177Z"
    }
   },
   "id": "fa7aae3184090208",
   "execution_count": 25
  },
  {
   "cell_type": "code",
   "outputs": [],
   "source": [
    "ds = snowman.encode('utf-8')"
   ],
   "metadata": {
    "collapsed": false,
    "ExecuteTime": {
     "end_time": "2024-03-05T10:31:41.536577Z",
     "start_time": "2024-03-05T10:31:41.527315Z"
    }
   },
   "id": "c26dc80e2dfb1afb",
   "execution_count": 26
  },
  {
   "cell_type": "code",
   "outputs": [
    {
     "data": {
      "text/plain": "b'\\xe2\\x98\\x83'"
     },
     "execution_count": 27,
     "metadata": {},
     "output_type": "execute_result"
    }
   ],
   "source": [
    "ds"
   ],
   "metadata": {
    "collapsed": false,
    "ExecuteTime": {
     "end_time": "2024-03-05T10:31:43.395714Z",
     "start_time": "2024-03-05T10:31:43.391536Z"
    }
   },
   "id": "b04fc950061d563c",
   "execution_count": 27
  },
  {
   "cell_type": "code",
   "outputs": [
    {
     "data": {
      "text/plain": "3"
     },
     "execution_count": 28,
     "metadata": {},
     "output_type": "execute_result"
    }
   ],
   "source": [
    "len(ds)"
   ],
   "metadata": {
    "collapsed": false,
    "ExecuteTime": {
     "end_time": "2024-03-05T10:32:01.318746Z",
     "start_time": "2024-03-05T10:32:01.312928Z"
    }
   },
   "id": "b3581bad2ba18cec",
   "execution_count": 28
  },
  {
   "cell_type": "code",
   "outputs": [
    {
     "ename": "UnicodeEncodeError",
     "evalue": "'ascii' codec can't encode character '\\u2603' in position 0: ordinal not in range(128)",
     "output_type": "error",
     "traceback": [
      "\u001B[0;31m---------------------------------------------------------------------------\u001B[0m",
      "\u001B[0;31mUnicodeEncodeError\u001B[0m                        Traceback (most recent call last)",
      "Cell \u001B[0;32mIn[29], line 1\u001B[0m\n\u001B[0;32m----> 1\u001B[0m ds \u001B[38;5;241m=\u001B[39m \u001B[43msnowman\u001B[49m\u001B[38;5;241;43m.\u001B[39;49m\u001B[43mencode\u001B[49m\u001B[43m(\u001B[49m\u001B[38;5;124;43m'\u001B[39;49m\u001B[38;5;124;43mascii\u001B[39;49m\u001B[38;5;124;43m'\u001B[39;49m\u001B[43m)\u001B[49m\n",
      "\u001B[0;31mUnicodeEncodeError\u001B[0m: 'ascii' codec can't encode character '\\u2603' in position 0: ordinal not in range(128)"
     ]
    }
   ],
   "source": [
    "ds = snowman.encode('ascii')"
   ],
   "metadata": {
    "collapsed": false,
    "ExecuteTime": {
     "end_time": "2024-03-05T10:32:24.983497Z",
     "start_time": "2024-03-05T10:32:24.941555Z"
    }
   },
   "id": "5ad10ad7ea5c1245",
   "execution_count": 29
  },
  {
   "cell_type": "code",
   "outputs": [
    {
     "data": {
      "text/plain": "b''"
     },
     "execution_count": 30,
     "metadata": {},
     "output_type": "execute_result"
    }
   ],
   "source": [
    "snowman.encode('ascii', 'ignore')"
   ],
   "metadata": {
    "collapsed": false,
    "ExecuteTime": {
     "end_time": "2024-03-05T10:32:52.356805Z",
     "start_time": "2024-03-05T10:32:52.350097Z"
    }
   },
   "id": "84775b4a489d260a",
   "execution_count": 30
  },
  {
   "cell_type": "code",
   "outputs": [
    {
     "data": {
      "text/plain": "b'?'"
     },
     "execution_count": 31,
     "metadata": {},
     "output_type": "execute_result"
    }
   ],
   "source": [
    "snowman.encode('ascii','replace')"
   ],
   "metadata": {
    "collapsed": false,
    "ExecuteTime": {
     "end_time": "2024-03-05T10:33:09.122441Z",
     "start_time": "2024-03-05T10:33:09.116678Z"
    }
   },
   "id": "643c7981afdf3f84",
   "execution_count": 31
  },
  {
   "cell_type": "code",
   "outputs": [
    {
     "data": {
      "text/plain": "b'\\\\u2603'"
     },
     "execution_count": 32,
     "metadata": {},
     "output_type": "execute_result"
    }
   ],
   "source": [
    "snowman.encode('ascii', 'backslashreplace')"
   ],
   "metadata": {
    "collapsed": false,
    "ExecuteTime": {
     "end_time": "2024-03-05T10:34:16.210135Z",
     "start_time": "2024-03-05T10:34:16.199444Z"
    }
   },
   "id": "11b12cad3ae070a3",
   "execution_count": 32
  },
  {
   "cell_type": "code",
   "outputs": [
    {
     "data": {
      "text/plain": "b'&#9731;'"
     },
     "execution_count": 33,
     "metadata": {},
     "output_type": "execute_result"
    }
   ],
   "source": [
    "snowman.encode('ascii','xmlcharrefreplace')"
   ],
   "metadata": {
    "collapsed": false,
    "ExecuteTime": {
     "end_time": "2024-03-05T10:34:39.370537Z",
     "start_time": "2024-03-05T10:34:39.366930Z"
    }
   },
   "id": "2a908f19a87b91f5",
   "execution_count": 33
  },
  {
   "cell_type": "code",
   "outputs": [],
   "source": [],
   "metadata": {
    "collapsed": false
   },
   "id": "d3cd6dafb6c3af37"
  }
 ],
 "metadata": {
  "kernelspec": {
   "display_name": "Python 3",
   "language": "python",
   "name": "python3"
  },
  "language_info": {
   "codemirror_mode": {
    "name": "ipython",
    "version": 2
   },
   "file_extension": ".py",
   "mimetype": "text/x-python",
   "name": "python",
   "nbconvert_exporter": "python",
   "pygments_lexer": "ipython2",
   "version": "2.7.6"
  }
 },
 "nbformat": 4,
 "nbformat_minor": 5
}
