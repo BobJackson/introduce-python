{
 "cells": [
  {
   "cell_type": "code",
   "execution_count": 1,
   "id": "initial_id",
   "metadata": {
    "collapsed": true,
    "ExecuteTime": {
     "end_time": "2024-03-04T09:23:24.185146Z",
     "start_time": "2024-03-04T09:22:39.823922Z"
    }
   },
   "outputs": [
    {
     "name": "stdout",
     "output_type": "stream",
     "text": [
      "1 squared is 1\n",
      "3 squared is 9\n",
      "3 squared is 9\n",
      "5 squared is 25\n",
      "5 squared is 25\n",
      "5 squared is 25\n"
     ]
    }
   ],
   "source": [
    "while True:\n",
    "    value = input(\"Integer, please [q to quit]: \")\n",
    "    if value == 'q':\n",
    "        break\n",
    "    number = int(value)\n",
    "    if(number % 2) == 0:\n",
    "        continue\n",
    "    print(number, \"squared is\", number*number)"
   ]
  },
  {
   "cell_type": "code",
   "outputs": [
    {
     "name": "stdout",
     "output_type": "stream",
     "text": [
      "Found even number 6\n"
     ]
    }
   ],
   "source": [
    "numbers = [1,3,5,6]\n",
    "position = 0\n",
    "while position < len(numbers):\n",
    "    number = numbers[position]\n",
    "    if number % 2 == 0:\n",
    "        print('Found even number', number)\n",
    "        break\n",
    "    position += 1\n",
    "else:\n",
    "    print('No even number found')"
   ],
   "metadata": {
    "collapsed": false,
    "ExecuteTime": {
     "end_time": "2024-03-04T09:24:46.402018Z",
     "start_time": "2024-03-04T09:24:46.396886Z"
    }
   },
   "id": "2b6f39b0bdd2a42",
   "execution_count": 3
  },
  {
   "cell_type": "code",
   "outputs": [
    {
     "name": "stdout",
     "output_type": "stream",
     "text": [
      "t\n",
      "h\n",
      "u\n",
      "d\n"
     ]
    }
   ],
   "source": [
    "word = 'thud'\n",
    "for letter in word:\n",
    "    print(letter)"
   ],
   "metadata": {
    "collapsed": false,
    "ExecuteTime": {
     "end_time": "2024-03-04T09:26:07.481815Z",
     "start_time": "2024-03-04T09:26:07.466454Z"
    }
   },
   "id": "8b33748dcf05a6c1",
   "execution_count": 4
  },
  {
   "cell_type": "code",
   "outputs": [
    {
     "name": "stdout",
     "output_type": "stream",
     "text": [
      "t\n",
      "h\n"
     ]
    }
   ],
   "source": [
    "word = 'thud'\n",
    "for letter in word:\n",
    "    if letter == 'u':\n",
    "        break\n",
    "    print(letter)"
   ],
   "metadata": {
    "collapsed": false,
    "ExecuteTime": {
     "end_time": "2024-03-04T09:26:37.393876Z",
     "start_time": "2024-03-04T09:26:37.385670Z"
    }
   },
   "id": "18568b47f1ec2ec7",
   "execution_count": 5
  },
  {
   "cell_type": "code",
   "outputs": [
    {
     "name": "stdout",
     "output_type": "stream",
     "text": [
      "0\n",
      "1\n",
      "2\n"
     ]
    }
   ],
   "source": [
    "for x in range(0,3):\n",
    "    print(x)"
   ],
   "metadata": {
    "collapsed": false,
    "ExecuteTime": {
     "end_time": "2024-03-04T09:27:47.319097Z",
     "start_time": "2024-03-04T09:27:47.313865Z"
    }
   },
   "id": "ada6a8817ee6b848",
   "execution_count": 6
  },
  {
   "cell_type": "code",
   "outputs": [
    {
     "data": {
      "text/plain": "[0, 1, 2]"
     },
     "execution_count": 7,
     "metadata": {},
     "output_type": "execute_result"
    }
   ],
   "source": [
    "list(range(0,3))"
   ],
   "metadata": {
    "collapsed": false,
    "ExecuteTime": {
     "end_time": "2024-03-04T09:27:59.348778Z",
     "start_time": "2024-03-04T09:27:59.340721Z"
    }
   },
   "id": "fcb0216e5a1b597",
   "execution_count": 7
  },
  {
   "cell_type": "code",
   "outputs": [
    {
     "data": {
      "text/plain": "[0, 2, 4, 6, 8, 10]"
     },
     "execution_count": 8,
     "metadata": {},
     "output_type": "execute_result"
    }
   ],
   "source": [
    "list(range(0,11,2))"
   ],
   "metadata": {
    "collapsed": false,
    "ExecuteTime": {
     "end_time": "2024-03-04T09:28:20.678776Z",
     "start_time": "2024-03-04T09:28:20.672483Z"
    }
   },
   "id": "e63f40ee63e132f7",
   "execution_count": 8
  }
 ],
 "metadata": {
  "kernelspec": {
   "display_name": "Python 3",
   "language": "python",
   "name": "python3"
  },
  "language_info": {
   "codemirror_mode": {
    "name": "ipython",
    "version": 2
   },
   "file_extension": ".py",
   "mimetype": "text/x-python",
   "name": "python",
   "nbconvert_exporter": "python",
   "pygments_lexer": "ipython2",
   "version": "2.7.6"
  }
 },
 "nbformat": 4,
 "nbformat_minor": 5
}
