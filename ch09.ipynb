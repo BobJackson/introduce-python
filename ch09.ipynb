{
 "cells": [
  {
   "cell_type": "code",
   "execution_count": 1,
   "id": "initial_id",
   "metadata": {
    "collapsed": true,
    "ExecuteTime": {
     "end_time": "2024-03-05T05:41:05.343448Z",
     "start_time": "2024-03-05T05:41:05.338904Z"
    }
   },
   "outputs": [],
   "source": [
    "def do_nothing():\n",
    "    pass\n",
    "\n",
    "\n",
    "do_nothing()"
   ]
  },
  {
   "cell_type": "code",
   "outputs": [
    {
     "name": "stdout",
     "output_type": "stream",
     "text": [
      "quack\n"
     ]
    }
   ],
   "source": [
    "def make_a_sound():\n",
    "    print('quack')\n",
    "\n",
    "\n",
    "make_a_sound()"
   ],
   "metadata": {
    "collapsed": false,
    "ExecuteTime": {
     "end_time": "2024-03-05T05:41:33.606207Z",
     "start_time": "2024-03-05T05:41:33.603125Z"
    }
   },
   "id": "70f8e2036a23d11d",
   "execution_count": 2
  },
  {
   "cell_type": "code",
   "outputs": [],
   "source": [
    "def agree():\n",
    "    return True"
   ],
   "metadata": {
    "collapsed": false,
    "ExecuteTime": {
     "end_time": "2024-03-05T05:41:56.128995Z",
     "start_time": "2024-03-05T05:41:56.125973Z"
    }
   },
   "id": "d68cb1d225e5b40e",
   "execution_count": 3
  },
  {
   "cell_type": "code",
   "outputs": [
    {
     "name": "stdout",
     "output_type": "stream",
     "text": [
      "Splendid!\n"
     ]
    }
   ],
   "source": [
    "if agree():\n",
    "    print('Splendid!')\n",
    "else:\n",
    "    print('That was unexpected.')"
   ],
   "metadata": {
    "collapsed": false,
    "ExecuteTime": {
     "end_time": "2024-03-05T05:42:08.126450Z",
     "start_time": "2024-03-05T05:42:08.122998Z"
    }
   },
   "id": "6eeda959e505cd64",
   "execution_count": 4
  },
  {
   "cell_type": "code",
   "outputs": [
    {
     "data": {
      "text/plain": "'Rumplestiltskin Rumplestiltskin'"
     },
     "execution_count": 5,
     "metadata": {},
     "output_type": "execute_result"
    }
   ],
   "source": [
    "def echo(anything):\n",
    "    return anything + ' ' + anything\n",
    "\n",
    "\n",
    "echo('Rumplestiltskin')"
   ],
   "metadata": {
    "collapsed": false,
    "ExecuteTime": {
     "end_time": "2024-03-05T05:44:22.596937Z",
     "start_time": "2024-03-05T05:44:22.590002Z"
    }
   },
   "id": "7e537920b0f5ac6c",
   "execution_count": 5
  },
  {
   "cell_type": "code",
   "outputs": [],
   "source": [
    "def commentary(color):\n",
    "    if color == 'red':\n",
    "        return \"It's a tomato\"\n",
    "    elif color == 'green':\n",
    "        return \"It's a green pepper\"\n",
    "    elif color == 'bee purple':\n",
    "        return \"I don't know what it is, but only bees can see it\"\n",
    "    else:\n",
    "        return \"I've never heard of the color {}.\".format(color)\n",
    "\n",
    "\n",
    "comment = commentary('blue')"
   ],
   "metadata": {
    "collapsed": false,
    "ExecuteTime": {
     "end_time": "2024-03-05T05:46:05.770421Z",
     "start_time": "2024-03-05T05:46:05.764122Z"
    }
   },
   "id": "a2dd0159d9eafd3d",
   "execution_count": 6
  },
  {
   "cell_type": "code",
   "outputs": [
    {
     "data": {
      "text/plain": "\"I've never heard of the color blue.\""
     },
     "execution_count": 7,
     "metadata": {},
     "output_type": "execute_result"
    }
   ],
   "source": [
    "comment"
   ],
   "metadata": {
    "collapsed": false,
    "ExecuteTime": {
     "end_time": "2024-03-05T05:46:08.982701Z",
     "start_time": "2024-03-05T05:46:08.978480Z"
    }
   },
   "id": "2f2ab0b702bb1359",
   "execution_count": 7
  },
  {
   "cell_type": "code",
   "outputs": [
    {
     "name": "stdout",
     "output_type": "stream",
     "text": [
      "None\n"
     ]
    }
   ],
   "source": [
    "print(do_nothing())"
   ],
   "metadata": {
    "collapsed": false,
    "ExecuteTime": {
     "end_time": "2024-03-05T05:46:25.671723Z",
     "start_time": "2024-03-05T05:46:25.667892Z"
    }
   },
   "id": "f3a7e49985accc2c",
   "execution_count": 8
  },
  {
   "cell_type": "code",
   "outputs": [
    {
     "name": "stdout",
     "output_type": "stream",
     "text": [
      "It's no thing.\n"
     ]
    }
   ],
   "source": [
    "thing = None\n",
    "if thing:\n",
    "    print(\"It's some thing.\")\n",
    "else:\n",
    "    print(\"It's no thing.\")"
   ],
   "metadata": {
    "collapsed": false,
    "ExecuteTime": {
     "end_time": "2024-03-05T05:47:05.511997Z",
     "start_time": "2024-03-05T05:47:05.508639Z"
    }
   },
   "id": "8f275a17fea08b16",
   "execution_count": 9
  },
  {
   "cell_type": "code",
   "outputs": [
    {
     "name": "stdout",
     "output_type": "stream",
     "text": [
      "It's nothing\n"
     ]
    }
   ],
   "source": [
    "thing = None\n",
    "if thing is None:\n",
    "    print(\"It's nothing\")\n",
    "else:\n",
    "    print(\"It's something\")"
   ],
   "metadata": {
    "collapsed": false,
    "ExecuteTime": {
     "end_time": "2024-03-05T05:47:49.497078Z",
     "start_time": "2024-03-05T05:47:49.493417Z"
    }
   },
   "id": "259d93c2b370965d",
   "execution_count": 10
  },
  {
   "cell_type": "code",
   "outputs": [
    {
     "name": "stdout",
     "output_type": "stream",
     "text": [
      "None is None\n"
     ]
    }
   ],
   "source": [
    "def whatis(thing):\n",
    "    if thing is None:\n",
    "        print(thing, 'is None')\n",
    "    elif thing:\n",
    "        print(thing, 'is True')\n",
    "    else:\n",
    "        print(thing, 'is False')\n",
    "\n",
    "\n",
    "whatis(None)"
   ],
   "metadata": {
    "collapsed": false,
    "ExecuteTime": {
     "end_time": "2024-03-05T05:48:42.228855Z",
     "start_time": "2024-03-05T05:48:42.224592Z"
    }
   },
   "id": "80e12fa1211cf271",
   "execution_count": 11
  },
  {
   "cell_type": "code",
   "outputs": [
    {
     "name": "stdout",
     "output_type": "stream",
     "text": [
      "True is True\n"
     ]
    }
   ],
   "source": [
    "whatis(True)"
   ],
   "metadata": {
    "collapsed": false,
    "ExecuteTime": {
     "end_time": "2024-03-05T05:48:50.665864Z",
     "start_time": "2024-03-05T05:48:50.663731Z"
    }
   },
   "id": "46becaa883ac31b4",
   "execution_count": 12
  },
  {
   "cell_type": "code",
   "outputs": [
    {
     "name": "stdout",
     "output_type": "stream",
     "text": [
      "False is False\n"
     ]
    }
   ],
   "source": [
    "whatis(False)"
   ],
   "metadata": {
    "collapsed": false,
    "ExecuteTime": {
     "end_time": "2024-03-05T05:48:55.162779Z",
     "start_time": "2024-03-05T05:48:55.158259Z"
    }
   },
   "id": "5d34efb4c873fed9",
   "execution_count": 13
  },
  {
   "cell_type": "code",
   "outputs": [
    {
     "name": "stdout",
     "output_type": "stream",
     "text": [
      "0 is False\n"
     ]
    }
   ],
   "source": [
    "whatis(0)"
   ],
   "metadata": {
    "collapsed": false,
    "ExecuteTime": {
     "end_time": "2024-03-05T05:49:09.010066Z",
     "start_time": "2024-03-05T05:49:09.007139Z"
    }
   },
   "id": "e2a26d89d8ebf840",
   "execution_count": 14
  },
  {
   "cell_type": "code",
   "outputs": [
    {
     "name": "stdout",
     "output_type": "stream",
     "text": [
      "0.0 is False\n"
     ]
    }
   ],
   "source": [
    "whatis(0.0)"
   ],
   "metadata": {
    "collapsed": false,
    "ExecuteTime": {
     "end_time": "2024-03-05T05:49:15.306833Z",
     "start_time": "2024-03-05T05:49:15.303784Z"
    }
   },
   "id": "5bb9f032f33a8dbd",
   "execution_count": 15
  },
  {
   "cell_type": "code",
   "outputs": [
    {
     "name": "stdout",
     "output_type": "stream",
     "text": [
      " is False\n"
     ]
    }
   ],
   "source": [
    "whatis(\"\")"
   ],
   "metadata": {
    "collapsed": false,
    "ExecuteTime": {
     "end_time": "2024-03-05T05:49:19.317011Z",
     "start_time": "2024-03-05T05:49:19.314213Z"
    }
   },
   "id": "c34ca2917042d035",
   "execution_count": 16
  },
  {
   "cell_type": "code",
   "outputs": [
    {
     "name": "stdout",
     "output_type": "stream",
     "text": [
      "() is False\n"
     ]
    }
   ],
   "source": [
    "whatis(())"
   ],
   "metadata": {
    "collapsed": false,
    "ExecuteTime": {
     "end_time": "2024-03-05T05:49:22.734941Z",
     "start_time": "2024-03-05T05:49:22.732077Z"
    }
   },
   "id": "9d3c790a4b54af28",
   "execution_count": 17
  },
  {
   "cell_type": "code",
   "outputs": [],
   "source": [
    "whatis([])"
   ],
   "metadata": {
    "collapsed": false
   },
   "id": "b516da1fef998bcb"
  },
  {
   "cell_type": "code",
   "outputs": [
    {
     "name": "stdout",
     "output_type": "stream",
     "text": [
      "{} is False\n"
     ]
    }
   ],
   "source": [
    "whatis({})"
   ],
   "metadata": {
    "collapsed": false,
    "ExecuteTime": {
     "end_time": "2024-03-05T05:49:26.332769Z",
     "start_time": "2024-03-05T05:49:26.329008Z"
    }
   },
   "id": "5ee88907c0148b48",
   "execution_count": 18
  },
  {
   "cell_type": "code",
   "outputs": [
    {
     "name": "stdout",
     "output_type": "stream",
     "text": [
      "set() is False\n"
     ]
    }
   ],
   "source": [
    "whatis(set())"
   ],
   "metadata": {
    "collapsed": false,
    "ExecuteTime": {
     "end_time": "2024-03-05T05:49:37.490099Z",
     "start_time": "2024-03-05T05:49:37.486943Z"
    }
   },
   "id": "a4694fd9ddaefa4",
   "execution_count": 19
  },
  {
   "cell_type": "code",
   "outputs": [
    {
     "name": "stdout",
     "output_type": "stream",
     "text": [
      "1e-05 is True\n"
     ]
    }
   ],
   "source": [
    "whatis(0.00001)"
   ],
   "metadata": {
    "collapsed": false,
    "ExecuteTime": {
     "end_time": "2024-03-05T05:49:51.466758Z",
     "start_time": "2024-03-05T05:49:51.463910Z"
    }
   },
   "id": "9785ae0d3a269b00",
   "execution_count": 20
  },
  {
   "cell_type": "code",
   "outputs": [
    {
     "name": "stdout",
     "output_type": "stream",
     "text": [
      "[0] is True\n"
     ]
    }
   ],
   "source": [
    "whatis([0])"
   ],
   "metadata": {
    "collapsed": false,
    "ExecuteTime": {
     "end_time": "2024-03-05T05:49:59.882057Z",
     "start_time": "2024-03-05T05:49:59.878948Z"
    }
   },
   "id": "e90f9ddfa9f7b70a",
   "execution_count": 21
  },
  {
   "cell_type": "code",
   "outputs": [
    {
     "name": "stdout",
     "output_type": "stream",
     "text": [
      "[''] is True\n"
     ]
    }
   ],
   "source": [
    "whatis([''])"
   ],
   "metadata": {
    "collapsed": false,
    "ExecuteTime": {
     "end_time": "2024-03-05T05:50:06.811670Z",
     "start_time": "2024-03-05T05:50:06.808405Z"
    }
   },
   "id": "472475b5934a2c59",
   "execution_count": 22
  },
  {
   "cell_type": "code",
   "outputs": [
    {
     "name": "stdout",
     "output_type": "stream",
     "text": [
      "  is True\n"
     ]
    }
   ],
   "source": [
    "whatis(' ')"
   ],
   "metadata": {
    "collapsed": false,
    "ExecuteTime": {
     "end_time": "2024-03-05T05:50:17.254380Z",
     "start_time": "2024-03-05T05:50:17.251455Z"
    }
   },
   "id": "3bd01eb5f3fa630b",
   "execution_count": 23
  },
  {
   "cell_type": "code",
   "outputs": [],
   "source": [
    "def menu(wine, entree, dessert):\n",
    "    return {'wine': wine, 'entree': entree, 'dessert': dessert}"
   ],
   "metadata": {
    "collapsed": false,
    "ExecuteTime": {
     "end_time": "2024-03-05T05:50:47.076125Z",
     "start_time": "2024-03-05T05:50:47.072384Z"
    }
   },
   "id": "ef40e91d697d47cf",
   "execution_count": 24
  },
  {
   "cell_type": "code",
   "outputs": [
    {
     "data": {
      "text/plain": "{'wine': 'chardonnay', 'entree': 'chicken', 'dessert': 'cake'}"
     },
     "execution_count": 25,
     "metadata": {},
     "output_type": "execute_result"
    }
   ],
   "source": [
    "menu('chardonnay', 'chicken', 'cake')"
   ],
   "metadata": {
    "collapsed": false,
    "ExecuteTime": {
     "end_time": "2024-03-05T05:50:56.843342Z",
     "start_time": "2024-03-05T05:50:56.839712Z"
    }
   },
   "id": "fbbe0161692df5db",
   "execution_count": 25
  },
  {
   "cell_type": "code",
   "outputs": [
    {
     "data": {
      "text/plain": "{'wine': 'beef', 'entree': 'bagel', 'dessert': 'bordeaux'}"
     },
     "execution_count": 26,
     "metadata": {},
     "output_type": "execute_result"
    }
   ],
   "source": [
    "menu('beef', 'bagel', 'bordeaux')"
   ],
   "metadata": {
    "collapsed": false,
    "ExecuteTime": {
     "end_time": "2024-03-05T05:51:56.906507Z",
     "start_time": "2024-03-05T05:51:56.902282Z"
    }
   },
   "id": "840539d4ad934145",
   "execution_count": 26
  },
  {
   "cell_type": "code",
   "outputs": [
    {
     "data": {
      "text/plain": "{'wine': 'bordeaux', 'entree': 'beef', 'dessert': 'bagel'}"
     },
     "execution_count": 27,
     "metadata": {},
     "output_type": "execute_result"
    }
   ],
   "source": [
    "menu(entree='beef', dessert='bagel', wine='bordeaux')"
   ],
   "metadata": {
    "collapsed": false,
    "ExecuteTime": {
     "end_time": "2024-03-05T05:52:38.163585Z",
     "start_time": "2024-03-05T05:52:38.159862Z"
    }
   },
   "id": "34d7c114a437ba9e",
   "execution_count": 27
  },
  {
   "cell_type": "code",
   "outputs": [
    {
     "data": {
      "text/plain": "{'wine': 'chardonnay', 'entree': 'chicken', 'dessert': 'pudding'}"
     },
     "execution_count": 28,
     "metadata": {},
     "output_type": "execute_result"
    }
   ],
   "source": [
    "menu('frontenac', dessert='flan', entree='fish')\n",
    "\n",
    "\n",
    "def menu(wine, entree, dessert='pudding'):\n",
    "    return {'wine': wine, 'entree': entree, 'dessert': dessert}\n",
    "\n",
    "\n",
    "menu('chardonnay', 'chicken')"
   ],
   "metadata": {
    "collapsed": false,
    "ExecuteTime": {
     "end_time": "2024-03-05T05:53:50.130624Z",
     "start_time": "2024-03-05T05:53:50.125920Z"
    }
   },
   "id": "6378d694f92df540",
   "execution_count": 28
  },
  {
   "cell_type": "code",
   "outputs": [
    {
     "data": {
      "text/plain": "{'wine': 'dunkelfeld', 'entree': 'duck', 'dessert': 'doughnut'}"
     },
     "execution_count": 29,
     "metadata": {},
     "output_type": "execute_result"
    }
   ],
   "source": [
    "menu('dunkelfeld', 'duck', 'doughnut')"
   ],
   "metadata": {
    "collapsed": false,
    "ExecuteTime": {
     "end_time": "2024-03-05T05:54:25.344369Z",
     "start_time": "2024-03-05T05:54:25.340999Z"
    }
   },
   "id": "56edc9a20194cd5d",
   "execution_count": 29
  },
  {
   "cell_type": "code",
   "outputs": [
    {
     "name": "stdout",
     "output_type": "stream",
     "text": [
      "['a']\n"
     ]
    }
   ],
   "source": [
    "def buggy(arg, result=[]):\n",
    "    result.append(arg)\n",
    "    print(result)\n",
    "\n",
    "\n",
    "buggy('a')"
   ],
   "metadata": {
    "collapsed": false,
    "ExecuteTime": {
     "end_time": "2024-03-05T05:54:57.214410Z",
     "start_time": "2024-03-05T05:54:57.211789Z"
    }
   },
   "id": "5eb4e1be5ee62093",
   "execution_count": 30
  },
  {
   "cell_type": "code",
   "outputs": [
    {
     "name": "stdout",
     "output_type": "stream",
     "text": [
      "['a', 'b']\n"
     ]
    }
   ],
   "source": [
    "buggy('b')"
   ],
   "metadata": {
    "collapsed": false,
    "ExecuteTime": {
     "end_time": "2024-03-05T05:55:08.214172Z",
     "start_time": "2024-03-05T05:55:08.211163Z"
    }
   },
   "id": "2b821b57c0a2604",
   "execution_count": 31
  },
  {
   "cell_type": "code",
   "outputs": [
    {
     "data": {
      "text/plain": "['a']"
     },
     "execution_count": 32,
     "metadata": {},
     "output_type": "execute_result"
    }
   ],
   "source": [
    "def works(arg):\n",
    "    result = []\n",
    "    result.append(arg)\n",
    "    return result\n",
    "\n",
    "\n",
    "works('a')"
   ],
   "metadata": {
    "collapsed": false,
    "ExecuteTime": {
     "end_time": "2024-03-05T05:55:46.866920Z",
     "start_time": "2024-03-05T05:55:46.863200Z"
    }
   },
   "id": "56a8e2bbac26ee18",
   "execution_count": 32
  },
  {
   "cell_type": "code",
   "outputs": [
    {
     "data": {
      "text/plain": "['b']"
     },
     "execution_count": 33,
     "metadata": {},
     "output_type": "execute_result"
    }
   ],
   "source": [
    "works('b')"
   ],
   "metadata": {
    "collapsed": false,
    "ExecuteTime": {
     "end_time": "2024-03-05T05:55:51.286838Z",
     "start_time": "2024-03-05T05:55:51.282158Z"
    }
   },
   "id": "14b44a44707162e4",
   "execution_count": 33
  },
  {
   "cell_type": "code",
   "outputs": [],
   "source": [
    "def nonbuggy(arg, result=None):\n",
    "    if result is None:\n",
    "        result = []\n",
    "    result.append(arg)\n",
    "    print(result)"
   ],
   "metadata": {
    "collapsed": false,
    "ExecuteTime": {
     "end_time": "2024-03-05T05:58:17.131693Z",
     "start_time": "2024-03-05T05:58:17.128521Z"
    }
   },
   "id": "9db3614fb266ffca",
   "execution_count": 40
  },
  {
   "cell_type": "code",
   "outputs": [
    {
     "name": "stdout",
     "output_type": "stream",
     "text": [
      "['a']\n"
     ]
    }
   ],
   "source": [
    "nonbuggy('a')"
   ],
   "metadata": {
    "collapsed": false,
    "ExecuteTime": {
     "end_time": "2024-03-05T05:58:18.382843Z",
     "start_time": "2024-03-05T05:58:18.378972Z"
    }
   },
   "id": "8fb78f97815b1b60",
   "execution_count": 41
  },
  {
   "cell_type": "code",
   "outputs": [
    {
     "name": "stdout",
     "output_type": "stream",
     "text": [
      "['b']\n"
     ]
    }
   ],
   "source": [
    "nonbuggy('b')"
   ],
   "metadata": {
    "collapsed": false,
    "ExecuteTime": {
     "end_time": "2024-03-05T05:58:19.620206Z",
     "start_time": "2024-03-05T05:58:19.616319Z"
    }
   },
   "id": "75080a4b8154976b",
   "execution_count": 42
  },
  {
   "cell_type": "code",
   "outputs": [],
   "source": [
    "def print_args(*args):\n",
    "    print('Positional argument tuple:', args)"
   ],
   "metadata": {
    "collapsed": false,
    "ExecuteTime": {
     "end_time": "2024-03-05T05:59:25.499374Z",
     "start_time": "2024-03-05T05:59:25.496166Z"
    }
   },
   "id": "136a9fe85ead4ce7",
   "execution_count": 43
  },
  {
   "cell_type": "code",
   "outputs": [
    {
     "name": "stdout",
     "output_type": "stream",
     "text": [
      "Positional argument tuple: ()\n"
     ]
    }
   ],
   "source": [
    "print_args()"
   ],
   "metadata": {
    "collapsed": false,
    "ExecuteTime": {
     "end_time": "2024-03-05T05:59:31.559511Z",
     "start_time": "2024-03-05T05:59:31.556632Z"
    }
   },
   "id": "40997518a89ee177",
   "execution_count": 44
  },
  {
   "cell_type": "code",
   "outputs": [
    {
     "name": "stdout",
     "output_type": "stream",
     "text": [
      "Positional argument tuple: (3, 2, 1, 'wait', 'uh...')\n"
     ]
    }
   ],
   "source": [
    "print_args(3, 2, 1, 'wait', 'uh...')"
   ],
   "metadata": {
    "collapsed": false,
    "ExecuteTime": {
     "end_time": "2024-03-05T05:59:54.861445Z",
     "start_time": "2024-03-05T05:59:54.858987Z"
    }
   },
   "id": "65c24784649537f1",
   "execution_count": 45
  },
  {
   "cell_type": "code",
   "outputs": [],
   "source": [
    "def print_more(required1, required2, *args):\n",
    "    print('Need this one:', required1)\n",
    "    print('Need this one too:', required2)\n",
    "    print('All the rest:', args)"
   ],
   "metadata": {
    "collapsed": false,
    "ExecuteTime": {
     "end_time": "2024-03-05T06:00:58.341928Z",
     "start_time": "2024-03-05T06:00:58.339431Z"
    }
   },
   "id": "ce436def56ecca8a",
   "execution_count": 46
  },
  {
   "cell_type": "code",
   "outputs": [
    {
     "name": "stdout",
     "output_type": "stream",
     "text": [
      "Need this one: cap\n",
      "Need this one too: gloves\n",
      "All the rest: ('scarf', 'monocle', 'mustache wax')\n"
     ]
    }
   ],
   "source": [
    "print_more('cap', 'gloves', 'scarf', 'monocle', 'mustache wax')"
   ],
   "metadata": {
    "collapsed": false,
    "ExecuteTime": {
     "end_time": "2024-03-05T06:01:28.939297Z",
     "start_time": "2024-03-05T06:01:28.936758Z"
    }
   },
   "id": "e15812481583983a",
   "execution_count": 47
  },
  {
   "cell_type": "code",
   "outputs": [
    {
     "name": "stdout",
     "output_type": "stream",
     "text": [
      "Positional argument tuple: (2, 4, 7, 'x')\n"
     ]
    }
   ],
   "source": [
    "print_args(2, 4, 7, 'x')"
   ],
   "metadata": {
    "collapsed": false,
    "ExecuteTime": {
     "end_time": "2024-03-05T06:02:04.061853Z",
     "start_time": "2024-03-05T06:02:04.058800Z"
    }
   },
   "id": "885bf0920c81278f",
   "execution_count": 48
  },
  {
   "cell_type": "code",
   "outputs": [
    {
     "name": "stdout",
     "output_type": "stream",
     "text": [
      "Positional argument tuple: ((2, 5, 7, 'x'),)\n"
     ]
    }
   ],
   "source": [
    "args = (2, 5, 7, 'x')\n",
    "print_args(args)"
   ],
   "metadata": {
    "collapsed": false,
    "ExecuteTime": {
     "end_time": "2024-03-05T06:02:24.914768Z",
     "start_time": "2024-03-05T06:02:24.911080Z"
    }
   },
   "id": "8d62ef624dd52c6e",
   "execution_count": 49
  },
  {
   "cell_type": "code",
   "outputs": [
    {
     "name": "stdout",
     "output_type": "stream",
     "text": [
      "Positional argument tuple: (2, 5, 7, 'x')\n"
     ]
    }
   ],
   "source": [
    "print_args(*args)"
   ],
   "metadata": {
    "collapsed": false,
    "ExecuteTime": {
     "end_time": "2024-03-05T06:02:39.323365Z",
     "start_time": "2024-03-05T06:02:39.320509Z"
    }
   },
   "id": "9eee931164ff0abc",
   "execution_count": 50
  },
  {
   "cell_type": "code",
   "outputs": [],
   "source": [
    "def print_kwargs(**kwargs):\n",
    "    print('Keyword arguments:', kwargs)"
   ],
   "metadata": {
    "collapsed": false,
    "ExecuteTime": {
     "end_time": "2024-03-05T06:04:32.163995Z",
     "start_time": "2024-03-05T06:04:32.161475Z"
    }
   },
   "id": "ce0f43e1ad3b5e8a",
   "execution_count": 52
  },
  {
   "cell_type": "code",
   "outputs": [
    {
     "name": "stdout",
     "output_type": "stream",
     "text": [
      "Keyword arguments: {'wine': 'merlot', 'entree': 'mutton', 'dessert': 'macadamia'}\n"
     ]
    }
   ],
   "source": [
    "print_kwargs(wine='merlot', entree='mutton', dessert='macadamia')"
   ],
   "metadata": {
    "collapsed": false,
    "ExecuteTime": {
     "end_time": "2024-03-05T06:04:33.313530Z",
     "start_time": "2024-03-05T06:04:33.310994Z"
    }
   },
   "id": "8474184e6d9e43f9",
   "execution_count": 53
  },
  {
   "cell_type": "code",
   "outputs": [
    {
     "name": "stdout",
     "output_type": "stream",
     "text": [
      "a\n",
      "b\n",
      "c\n",
      "d\n",
      "e\n",
      "f\n"
     ]
    }
   ],
   "source": [
    "def print_data(data, *, start=0, end=100):\n",
    "    for value in (data[start:end]):\n",
    "        print(value)\n",
    "\n",
    "\n",
    "data = ['a', 'b', 'c', 'd', 'e', 'f']\n",
    "print_data(data)"
   ],
   "metadata": {
    "collapsed": false,
    "ExecuteTime": {
     "end_time": "2024-03-05T06:06:23.003723Z",
     "start_time": "2024-03-05T06:06:23.000006Z"
    }
   },
   "id": "44f73a11cc43c807",
   "execution_count": 54
  },
  {
   "cell_type": "code",
   "outputs": [
    {
     "name": "stdout",
     "output_type": "stream",
     "text": [
      "e\n",
      "f\n"
     ]
    }
   ],
   "source": [
    "print_data(data, start=4)"
   ],
   "metadata": {
    "collapsed": false,
    "ExecuteTime": {
     "end_time": "2024-03-05T06:06:56.190724Z",
     "start_time": "2024-03-05T06:06:56.187903Z"
    }
   },
   "id": "c4a0887f1b491fe4",
   "execution_count": 55
  },
  {
   "cell_type": "code",
   "outputs": [
    {
     "name": "stdout",
     "output_type": "stream",
     "text": [
      "a\n",
      "b\n"
     ]
    }
   ],
   "source": [
    "print_data(data, end=2)"
   ],
   "metadata": {
    "collapsed": false,
    "ExecuteTime": {
     "end_time": "2024-03-05T06:07:11.745566Z",
     "start_time": "2024-03-05T06:07:11.742902Z"
    }
   },
   "id": "74dc0ec78791f9cf",
   "execution_count": 56
  },
  {
   "cell_type": "code",
   "outputs": [
    {
     "data": {
      "text/plain": "['one', 'fine', 'day']"
     },
     "execution_count": 57,
     "metadata": {},
     "output_type": "execute_result"
    }
   ],
   "source": [
    "outside = ['one', 'fine', 'day']\n",
    "\n",
    "\n",
    "def mangle(arg):\n",
    "    arg[1] = 'terrible!'\n",
    "\n",
    "\n",
    "outside"
   ],
   "metadata": {
    "collapsed": false,
    "ExecuteTime": {
     "end_time": "2024-03-05T06:08:27.163179Z",
     "start_time": "2024-03-05T06:08:27.158968Z"
    }
   },
   "id": "10a7a0a645e87ea1",
   "execution_count": 57
  },
  {
   "cell_type": "code",
   "outputs": [],
   "source": [
    "mangle(outside)"
   ],
   "metadata": {
    "collapsed": false,
    "ExecuteTime": {
     "end_time": "2024-03-05T06:08:37.840857Z",
     "start_time": "2024-03-05T06:08:37.838883Z"
    }
   },
   "id": "2b0f9f34b9f21ef2",
   "execution_count": 58
  },
  {
   "cell_type": "code",
   "outputs": [
    {
     "data": {
      "text/plain": "['one', 'terrible!', 'day']"
     },
     "execution_count": 59,
     "metadata": {},
     "output_type": "execute_result"
    }
   ],
   "source": [
    "outside"
   ],
   "metadata": {
    "collapsed": false,
    "ExecuteTime": {
     "end_time": "2024-03-05T06:08:40.900501Z",
     "start_time": "2024-03-05T06:08:40.897699Z"
    }
   },
   "id": "2ee5df3fdf126b0d",
   "execution_count": 59
  },
  {
   "cell_type": "code",
   "outputs": [],
   "source": [
    "def echo(anything):\n",
    "    'echo returns its input argument'\n",
    "    return anything"
   ],
   "metadata": {
    "collapsed": false,
    "ExecuteTime": {
     "end_time": "2024-03-05T06:16:42.198645Z",
     "start_time": "2024-03-05T06:16:42.194041Z"
    }
   },
   "id": "7975b3db7c553da0",
   "execution_count": 60
  },
  {
   "cell_type": "code",
   "outputs": [
    {
     "name": "stdout",
     "output_type": "stream",
     "text": [
      "Help on function echo in module __main__:\n",
      "\n",
      "echo(anything)\n",
      "    echo returns its input argument\n"
     ]
    }
   ],
   "source": [
    "help(echo)"
   ],
   "metadata": {
    "collapsed": false,
    "ExecuteTime": {
     "end_time": "2024-03-05T06:16:49.643882Z",
     "start_time": "2024-03-05T06:16:49.641086Z"
    }
   },
   "id": "a23863f01feedcc8",
   "execution_count": 61
  },
  {
   "cell_type": "code",
   "outputs": [],
   "source": [
    "def print_if_true(thing, check):\n",
    "    '''\n",
    "    Prints the first argument if a second argument is true.\n",
    "    The operation is:\n",
    "        1. Check whether the *second* argument is true.\n",
    "        2. If it is, print the *first* argument.\n",
    "    '''\n",
    "    if check:\n",
    "        print(thing)"
   ],
   "metadata": {
    "collapsed": false,
    "ExecuteTime": {
     "end_time": "2024-03-05T06:21:36.669161Z",
     "start_time": "2024-03-05T06:21:36.664678Z"
    }
   },
   "id": "5dfc67b6e933193e",
   "execution_count": 62
  },
  {
   "cell_type": "code",
   "outputs": [
    {
     "name": "stdout",
     "output_type": "stream",
     "text": [
      "echo returns its input argument\n"
     ]
    }
   ],
   "source": [
    "print(echo.__doc__)"
   ],
   "metadata": {
    "collapsed": false,
    "ExecuteTime": {
     "end_time": "2024-03-05T06:22:15.983002Z",
     "start_time": "2024-03-05T06:22:15.980330Z"
    }
   },
   "id": "4f517142bf3dba",
   "execution_count": 63
  },
  {
   "cell_type": "code",
   "outputs": [],
   "source": [
    "def answer():\n",
    "    print(42)"
   ],
   "metadata": {
    "collapsed": false,
    "ExecuteTime": {
     "end_time": "2024-03-05T06:23:12.996148Z",
     "start_time": "2024-03-05T06:23:12.993430Z"
    }
   },
   "id": "cc40bd907cd7f29c",
   "execution_count": 64
  },
  {
   "cell_type": "code",
   "outputs": [
    {
     "name": "stdout",
     "output_type": "stream",
     "text": [
      "42\n"
     ]
    }
   ],
   "source": [
    "answer()"
   ],
   "metadata": {
    "collapsed": false,
    "ExecuteTime": {
     "end_time": "2024-03-05T06:23:16.003914Z",
     "start_time": "2024-03-05T06:23:16.001607Z"
    }
   },
   "id": "d41d0dcef202502c",
   "execution_count": 65
  },
  {
   "cell_type": "code",
   "outputs": [],
   "source": [
    "def run_something(func):\n",
    "    func()"
   ],
   "metadata": {
    "collapsed": false,
    "ExecuteTime": {
     "end_time": "2024-03-05T06:23:43.302462Z",
     "start_time": "2024-03-05T06:23:43.299872Z"
    }
   },
   "id": "37be359c15e5d023",
   "execution_count": 66
  },
  {
   "cell_type": "code",
   "outputs": [
    {
     "name": "stdout",
     "output_type": "stream",
     "text": [
      "42\n"
     ]
    }
   ],
   "source": [
    "run_something(answer)"
   ],
   "metadata": {
    "collapsed": false,
    "ExecuteTime": {
     "end_time": "2024-03-05T06:23:53.605979Z",
     "start_time": "2024-03-05T06:23:53.603817Z"
    }
   },
   "id": "cace3dcf635c7629",
   "execution_count": 67
  },
  {
   "cell_type": "code",
   "outputs": [
    {
     "data": {
      "text/plain": "function"
     },
     "execution_count": 68,
     "metadata": {},
     "output_type": "execute_result"
    }
   ],
   "source": [
    "type(run_something)"
   ],
   "metadata": {
    "collapsed": false,
    "ExecuteTime": {
     "end_time": "2024-03-05T06:24:10.761895Z",
     "start_time": "2024-03-05T06:24:10.757645Z"
    }
   },
   "id": "224dcfc1e2317b01",
   "execution_count": 68
  },
  {
   "cell_type": "code",
   "outputs": [],
   "source": [
    "def add_args(arg1, arg2):\n",
    "    print(arg1 + arg2)"
   ],
   "metadata": {
    "collapsed": false,
    "ExecuteTime": {
     "end_time": "2024-03-05T06:24:37.059210Z",
     "start_time": "2024-03-05T06:24:37.056819Z"
    }
   },
   "id": "b7640a9bad9d4196",
   "execution_count": 69
  },
  {
   "cell_type": "code",
   "outputs": [
    {
     "data": {
      "text/plain": "function"
     },
     "execution_count": 70,
     "metadata": {},
     "output_type": "execute_result"
    }
   ],
   "source": [
    "type(add_args)"
   ],
   "metadata": {
    "collapsed": false,
    "ExecuteTime": {
     "end_time": "2024-03-05T06:24:47.835857Z",
     "start_time": "2024-03-05T06:24:47.832794Z"
    }
   },
   "id": "202f73f4fc940b8d",
   "execution_count": 70
  },
  {
   "cell_type": "code",
   "outputs": [],
   "source": [
    "def run_something_with_agrs(func, arg1, arg2):\n",
    "    func(arg1, arg2)"
   ],
   "metadata": {
    "collapsed": false,
    "ExecuteTime": {
     "end_time": "2024-03-05T06:25:46.636398Z",
     "start_time": "2024-03-05T06:25:46.633763Z"
    }
   },
   "id": "2a54eb223623e509",
   "execution_count": 71
  },
  {
   "cell_type": "code",
   "outputs": [
    {
     "name": "stdout",
     "output_type": "stream",
     "text": [
      "14\n"
     ]
    }
   ],
   "source": [
    "run_something_with_agrs(add_args, 5, 9)"
   ],
   "metadata": {
    "collapsed": false,
    "ExecuteTime": {
     "end_time": "2024-03-05T06:26:03.196906Z",
     "start_time": "2024-03-05T06:26:03.194149Z"
    }
   },
   "id": "1fba625c7af36551",
   "execution_count": 72
  },
  {
   "cell_type": "code",
   "outputs": [],
   "source": [
    "def sum_args(*args):\n",
    "    return sum(args)"
   ],
   "metadata": {
    "collapsed": false,
    "ExecuteTime": {
     "end_time": "2024-03-05T06:26:35.536432Z",
     "start_time": "2024-03-05T06:26:35.533979Z"
    }
   },
   "id": "8d3e085783a58697",
   "execution_count": 73
  },
  {
   "cell_type": "code",
   "outputs": [],
   "source": [
    "def run_with_positional_args(func, *args):\n",
    "    return func(*args)"
   ],
   "metadata": {
    "collapsed": false,
    "ExecuteTime": {
     "end_time": "2024-03-05T06:27:08.518253Z",
     "start_time": "2024-03-05T06:27:08.515734Z"
    }
   },
   "id": "b07c3d56fd77e993",
   "execution_count": 74
  },
  {
   "cell_type": "code",
   "outputs": [
    {
     "data": {
      "text/plain": "10"
     },
     "execution_count": 75,
     "metadata": {},
     "output_type": "execute_result"
    }
   ],
   "source": [
    "run_with_positional_args(sum_args, 1, 2, 3, 4)"
   ],
   "metadata": {
    "collapsed": false,
    "ExecuteTime": {
     "end_time": "2024-03-05T06:27:33.019291Z",
     "start_time": "2024-03-05T06:27:33.015549Z"
    }
   },
   "id": "ba6a14c985b2d2ca",
   "execution_count": 75
  },
  {
   "cell_type": "code",
   "outputs": [],
   "source": [
    "def outer(a, b):\n",
    "    def inner(c, d):\n",
    "        return c + d\n",
    "\n",
    "    return inner(a, b)"
   ],
   "metadata": {
    "collapsed": false,
    "ExecuteTime": {
     "end_time": "2024-03-05T06:28:18.728583Z",
     "start_time": "2024-03-05T06:28:18.725592Z"
    }
   },
   "id": "504a0b8910844c8a",
   "execution_count": 76
  },
  {
   "cell_type": "code",
   "outputs": [
    {
     "data": {
      "text/plain": "11"
     },
     "execution_count": 77,
     "metadata": {},
     "output_type": "execute_result"
    }
   ],
   "source": [
    "outer(4, 7)"
   ],
   "metadata": {
    "collapsed": false,
    "ExecuteTime": {
     "end_time": "2024-03-05T06:28:30.461205Z",
     "start_time": "2024-03-05T06:28:30.458326Z"
    }
   },
   "id": "3145bb23340a3a95",
   "execution_count": 77
  },
  {
   "cell_type": "code",
   "outputs": [],
   "source": [
    "def knights(saying):\n",
    "    def inner(quote):\n",
    "        return f\"We are the knights who say: '{quote}'\"\n",
    "\n",
    "    return inner(saying)"
   ],
   "metadata": {
    "collapsed": false,
    "ExecuteTime": {
     "end_time": "2024-03-05T06:29:35.535188Z",
     "start_time": "2024-03-05T06:29:35.532196Z"
    }
   },
   "id": "ed0374c33753a95b",
   "execution_count": 80
  },
  {
   "cell_type": "code",
   "outputs": [
    {
     "data": {
      "text/plain": "\"We are the knights who say: 'Ni!'\""
     },
     "execution_count": 81,
     "metadata": {},
     "output_type": "execute_result"
    }
   ],
   "source": [
    "knights('Ni!')\n"
   ],
   "metadata": {
    "collapsed": false,
    "ExecuteTime": {
     "end_time": "2024-03-05T06:29:37.143195Z",
     "start_time": "2024-03-05T06:29:37.139569Z"
    }
   },
   "id": "6fbbb668d49dce9f",
   "execution_count": 81
  },
  {
   "cell_type": "code",
   "outputs": [],
   "source": [
    "def knights2(saying):\n",
    "    def inner2():\n",
    "        return f\"We are the knights who say: '{saying}'\"\n",
    "\n",
    "    return inner2"
   ],
   "metadata": {
    "collapsed": false,
    "ExecuteTime": {
     "end_time": "2024-03-05T06:30:02.405189Z",
     "start_time": "2024-03-05T06:30:02.401579Z"
    }
   },
   "id": "8388a19efa82de54",
   "execution_count": 82
  },
  {
   "cell_type": "code",
   "outputs": [],
   "source": [
    "a = knights2('Duck')\n",
    "b = knights2('Hasenpfeffer')"
   ],
   "metadata": {
    "collapsed": false,
    "ExecuteTime": {
     "end_time": "2024-03-05T06:30:10.137567Z",
     "start_time": "2024-03-05T06:30:10.135293Z"
    }
   },
   "id": "bcd9ea8d8add0dd5",
   "execution_count": 84
  },
  {
   "cell_type": "code",
   "outputs": [
    {
     "data": {
      "text/plain": "function"
     },
     "execution_count": 85,
     "metadata": {},
     "output_type": "execute_result"
    }
   ],
   "source": [
    "type(a)"
   ],
   "metadata": {
    "collapsed": false,
    "ExecuteTime": {
     "end_time": "2024-03-05T06:30:21.645100Z",
     "start_time": "2024-03-05T06:30:21.642471Z"
    }
   },
   "id": "1e7dbfc17fdcb1fd",
   "execution_count": 85
  },
  {
   "cell_type": "code",
   "outputs": [
    {
     "data": {
      "text/plain": "function"
     },
     "execution_count": 86,
     "metadata": {},
     "output_type": "execute_result"
    }
   ],
   "source": [
    "type(b)"
   ],
   "metadata": {
    "collapsed": false,
    "ExecuteTime": {
     "end_time": "2024-03-05T06:30:31.611875Z",
     "start_time": "2024-03-05T06:30:31.608721Z"
    }
   },
   "id": "763327a93aa8e56",
   "execution_count": 86
  },
  {
   "cell_type": "code",
   "outputs": [
    {
     "data": {
      "text/plain": "<function __main__.knights2.<locals>.inner2()>"
     },
     "execution_count": 87,
     "metadata": {},
     "output_type": "execute_result"
    }
   ],
   "source": [
    "a"
   ],
   "metadata": {
    "collapsed": false,
    "ExecuteTime": {
     "end_time": "2024-03-05T06:30:33.728280Z",
     "start_time": "2024-03-05T06:30:33.724969Z"
    }
   },
   "id": "392cc15fe61e10a9",
   "execution_count": 87
  },
  {
   "cell_type": "code",
   "outputs": [
    {
     "data": {
      "text/plain": "<function __main__.knights2.<locals>.inner2()>"
     },
     "execution_count": 88,
     "metadata": {},
     "output_type": "execute_result"
    }
   ],
   "source": [
    "b"
   ],
   "metadata": {
    "collapsed": false,
    "ExecuteTime": {
     "end_time": "2024-03-05T06:30:37.663572Z",
     "start_time": "2024-03-05T06:30:37.660064Z"
    }
   },
   "id": "e8e1da8bd39c9de0",
   "execution_count": 88
  },
  {
   "cell_type": "code",
   "outputs": [
    {
     "data": {
      "text/plain": "\"We are the knights who say: 'Duck'\""
     },
     "execution_count": 89,
     "metadata": {},
     "output_type": "execute_result"
    }
   ],
   "source": [
    "a()"
   ],
   "metadata": {
    "collapsed": false,
    "ExecuteTime": {
     "end_time": "2024-03-05T06:30:57.913707Z",
     "start_time": "2024-03-05T06:30:57.911208Z"
    }
   },
   "id": "da52a1eb6777c5cc",
   "execution_count": 89
  },
  {
   "cell_type": "code",
   "outputs": [
    {
     "data": {
      "text/plain": "\"We are the knights who say: 'Hasenpfeffer'\""
     },
     "execution_count": 90,
     "metadata": {},
     "output_type": "execute_result"
    }
   ],
   "source": [
    "b()"
   ],
   "metadata": {
    "collapsed": false,
    "ExecuteTime": {
     "end_time": "2024-03-05T06:31:05.492232Z",
     "start_time": "2024-03-05T06:31:05.489207Z"
    }
   },
   "id": "6252c11b8f8af05b",
   "execution_count": 90
  },
  {
   "cell_type": "code",
   "outputs": [],
   "source": [
    "def edit_story(words, func):\n",
    "    for word in words:\n",
    "        print(func(word))"
   ],
   "metadata": {
    "collapsed": false,
    "ExecuteTime": {
     "end_time": "2024-03-05T06:31:34.127772Z",
     "start_time": "2024-03-05T06:31:34.125573Z"
    }
   },
   "id": "48e4a3ee01cc3164",
   "execution_count": 91
  },
  {
   "cell_type": "code",
   "outputs": [],
   "source": [
    "stairs = ['thud', 'meow', 'thud', 'hiss']"
   ],
   "metadata": {
    "collapsed": false,
    "ExecuteTime": {
     "end_time": "2024-03-05T06:32:05.383864Z",
     "start_time": "2024-03-05T06:32:05.381458Z"
    }
   },
   "id": "294c56c0695e7226",
   "execution_count": 92
  },
  {
   "cell_type": "code",
   "outputs": [],
   "source": [
    "def enliven(word):\n",
    "    return word.capitalize() + '!'"
   ],
   "metadata": {
    "collapsed": false,
    "ExecuteTime": {
     "end_time": "2024-03-05T06:32:25.863354Z",
     "start_time": "2024-03-05T06:32:25.861119Z"
    }
   },
   "id": "20c633f66f4a2197",
   "execution_count": 93
  },
  {
   "cell_type": "code",
   "outputs": [
    {
     "name": "stdout",
     "output_type": "stream",
     "text": [
      "Thud!\n",
      "Meow!\n",
      "Thud!\n",
      "Hiss!\n"
     ]
    }
   ],
   "source": [
    "edit_story(stairs, enliven)"
   ],
   "metadata": {
    "collapsed": false,
    "ExecuteTime": {
     "end_time": "2024-03-05T06:32:46.322547Z",
     "start_time": "2024-03-05T06:32:46.319653Z"
    }
   },
   "id": "9e0359a8dc4c695e",
   "execution_count": 95
  },
  {
   "cell_type": "code",
   "outputs": [
    {
     "name": "stdout",
     "output_type": "stream",
     "text": [
      "Thud!\n",
      "Meow!\n",
      "Thud!\n",
      "Hiss!\n"
     ]
    }
   ],
   "source": [
    "edit_story(stairs, lambda word: word.capitalize() + '!')"
   ],
   "metadata": {
    "collapsed": false,
    "ExecuteTime": {
     "end_time": "2024-03-05T06:33:34.449645Z",
     "start_time": "2024-03-05T06:33:34.446598Z"
    }
   },
   "id": "75213b3102df7c56",
   "execution_count": 96
  },
  {
   "cell_type": "code",
   "outputs": [
    {
     "data": {
      "text/plain": "5050"
     },
     "execution_count": 97,
     "metadata": {},
     "output_type": "execute_result"
    }
   ],
   "source": [
    "sum(range(1, 101))"
   ],
   "metadata": {
    "collapsed": false,
    "ExecuteTime": {
     "end_time": "2024-03-05T06:34:02.420371Z",
     "start_time": "2024-03-05T06:34:02.417468Z"
    }
   },
   "id": "74c2674f6d4de43e",
   "execution_count": 97
  },
  {
   "cell_type": "code",
   "outputs": [],
   "source": [
    "def my_range(first=0, last=10, step=1):\n",
    "    number = first\n",
    "    while number < last:\n",
    "        yield number\n",
    "        number += step"
   ],
   "metadata": {
    "collapsed": false,
    "ExecuteTime": {
     "end_time": "2024-03-05T06:36:03.541602Z",
     "start_time": "2024-03-05T06:36:03.538887Z"
    }
   },
   "id": "bc763b0862519f05",
   "execution_count": 98
  },
  {
   "cell_type": "code",
   "outputs": [
    {
     "data": {
      "text/plain": "<function __main__.my_range(first=0, last=10, step=1)>"
     },
     "execution_count": 99,
     "metadata": {},
     "output_type": "execute_result"
    }
   ],
   "source": [
    "my_range"
   ],
   "metadata": {
    "collapsed": false,
    "ExecuteTime": {
     "end_time": "2024-03-05T06:36:08.513510Z",
     "start_time": "2024-03-05T06:36:08.510568Z"
    }
   },
   "id": "fd0583f34118c241",
   "execution_count": 99
  },
  {
   "cell_type": "code",
   "outputs": [
    {
     "data": {
      "text/plain": "<generator object my_range at 0x1072c72e0>"
     },
     "execution_count": 100,
     "metadata": {},
     "output_type": "execute_result"
    }
   ],
   "source": [
    "ranger = my_range(1, 5)\n",
    "ranger"
   ],
   "metadata": {
    "collapsed": false,
    "ExecuteTime": {
     "end_time": "2024-03-05T06:36:40.449554Z",
     "start_time": "2024-03-05T06:36:40.445996Z"
    }
   },
   "id": "e709cb96213d6200",
   "execution_count": 100
  },
  {
   "cell_type": "code",
   "outputs": [
    {
     "name": "stdout",
     "output_type": "stream",
     "text": [
      "1\n",
      "2\n",
      "3\n",
      "4\n"
     ]
    }
   ],
   "source": [
    "for x in ranger:\n",
    "    print(x)"
   ],
   "metadata": {
    "collapsed": false,
    "ExecuteTime": {
     "end_time": "2024-03-05T06:36:55.113544Z",
     "start_time": "2024-03-05T06:36:55.111191Z"
    }
   },
   "id": "8d97a3a8ac93777a",
   "execution_count": 101
  },
  {
   "cell_type": "code",
   "outputs": [],
   "source": [
    "for try_again in ranger:\n",
    "    print(try_again)"
   ],
   "metadata": {
    "collapsed": false,
    "ExecuteTime": {
     "end_time": "2024-03-05T06:37:44.790091Z",
     "start_time": "2024-03-05T06:37:44.787496Z"
    }
   },
   "id": "5c72f0f64aee6d38",
   "execution_count": 103
  },
  {
   "cell_type": "code",
   "outputs": [
    {
     "data": {
      "text/plain": "<generator object <genexpr> at 0x1072c7900>"
     },
     "execution_count": 104,
     "metadata": {},
     "output_type": "execute_result"
    }
   ],
   "source": [
    "genobj = (pair for pair in zip(['a', 'b'], ['1', '2']))\n",
    "genobj"
   ],
   "metadata": {
    "collapsed": false,
    "ExecuteTime": {
     "end_time": "2024-03-05T06:38:28.054192Z",
     "start_time": "2024-03-05T06:38:28.047174Z"
    }
   },
   "id": "1a3fd95e743ad399",
   "execution_count": 104
  },
  {
   "cell_type": "code",
   "outputs": [
    {
     "name": "stdout",
     "output_type": "stream",
     "text": [
      "('a', '1')\n",
      "('b', '2')\n"
     ]
    }
   ],
   "source": [
    "for thing in genobj:\n",
    "    print(thing)"
   ],
   "metadata": {
    "collapsed": false,
    "ExecuteTime": {
     "end_time": "2024-03-05T06:38:52.906143Z",
     "start_time": "2024-03-05T06:38:52.903803Z"
    }
   },
   "id": "dac5e5e5de3675dc",
   "execution_count": 105
  },
  {
   "cell_type": "code",
   "outputs": [],
   "source": [
    "for thing in genobj:\n",
    "    print(thing)"
   ],
   "metadata": {
    "collapsed": false,
    "ExecuteTime": {
     "end_time": "2024-03-05T06:39:00.390507Z",
     "start_time": "2024-03-05T06:39:00.388279Z"
    }
   },
   "id": "b6e1bfac4cfeec27",
   "execution_count": 106
  },
  {
   "cell_type": "code",
   "outputs": [],
   "source": [
    "def document_it(func):\n",
    "    def new_function(*args, **kwargs):\n",
    "        print('Running function:', func.__name__)\n",
    "        print('Positional arguments:', args)\n",
    "        print('Keyword arguments:', kwargs)\n",
    "        result = func(*args, **kwargs)\n",
    "        print('Result:', result)\n",
    "        return result\n",
    "\n",
    "    return new_function"
   ],
   "metadata": {
    "collapsed": false,
    "ExecuteTime": {
     "end_time": "2024-03-05T06:41:29.609631Z",
     "start_time": "2024-03-05T06:41:29.605289Z"
    }
   },
   "id": "b2520cf0691d43b2",
   "execution_count": 107
  },
  {
   "cell_type": "code",
   "outputs": [],
   "source": [
    "def add_ints(a, b):\n",
    "    return a + b"
   ],
   "metadata": {
    "collapsed": false,
    "ExecuteTime": {
     "end_time": "2024-03-05T06:41:38.417001Z",
     "start_time": "2024-03-05T06:41:38.414616Z"
    }
   },
   "id": "584d9d35a24c248a",
   "execution_count": 108
  },
  {
   "cell_type": "code",
   "outputs": [
    {
     "data": {
      "text/plain": "8"
     },
     "execution_count": 109,
     "metadata": {},
     "output_type": "execute_result"
    }
   ],
   "source": [
    "add_ints(3, 5)"
   ],
   "metadata": {
    "collapsed": false,
    "ExecuteTime": {
     "end_time": "2024-03-05T06:41:44.627849Z",
     "start_time": "2024-03-05T06:41:44.624771Z"
    }
   },
   "id": "c847e7edc7ea9111",
   "execution_count": 109
  },
  {
   "cell_type": "code",
   "outputs": [],
   "source": [
    "cooler_add_ints = document_it(add_ints)"
   ],
   "metadata": {
    "collapsed": false,
    "ExecuteTime": {
     "end_time": "2024-03-05T06:42:03.489071Z",
     "start_time": "2024-03-05T06:42:03.486755Z"
    }
   },
   "id": "cee28e157045f6cf",
   "execution_count": 110
  },
  {
   "cell_type": "code",
   "outputs": [
    {
     "name": "stdout",
     "output_type": "stream",
     "text": [
      "Running function: add_ints\n",
      "Positional arguments: (3, 5)\n",
      "Keyword arguments: {}\n",
      "Result: 8\n"
     ]
    },
    {
     "data": {
      "text/plain": "8"
     },
     "execution_count": 111,
     "metadata": {},
     "output_type": "execute_result"
    }
   ],
   "source": [
    "cooler_add_ints(3, 5)"
   ],
   "metadata": {
    "collapsed": false,
    "ExecuteTime": {
     "end_time": "2024-03-05T06:42:12.403504Z",
     "start_time": "2024-03-05T06:42:12.400354Z"
    }
   },
   "id": "89a1ba7b5d010b0d",
   "execution_count": 111
  },
  {
   "cell_type": "code",
   "outputs": [],
   "source": [
    "@document_it\n",
    "def add_ints(a, b):\n",
    "    return a + b"
   ],
   "metadata": {
    "collapsed": false,
    "ExecuteTime": {
     "end_time": "2024-03-05T06:44:13.764787Z",
     "start_time": "2024-03-05T06:44:13.761568Z"
    }
   },
   "id": "bae2e4618547eee7",
   "execution_count": 113
  },
  {
   "cell_type": "code",
   "outputs": [
    {
     "name": "stdout",
     "output_type": "stream",
     "text": [
      "Running function: add_ints\n",
      "Positional arguments: (3, 5)\n",
      "Keyword arguments: {}\n",
      "Result: 8\n"
     ]
    },
    {
     "data": {
      "text/plain": "8"
     },
     "execution_count": 114,
     "metadata": {},
     "output_type": "execute_result"
    }
   ],
   "source": [
    "add_ints(3, 5)"
   ],
   "metadata": {
    "collapsed": false,
    "ExecuteTime": {
     "end_time": "2024-03-05T06:44:17.844401Z",
     "start_time": "2024-03-05T06:44:17.841550Z"
    }
   },
   "id": "3811076ada9b3e38",
   "execution_count": 114
  },
  {
   "cell_type": "code",
   "outputs": [],
   "source": [
    "def square_it(func):\n",
    "    def new_function(*args, **kwargs):\n",
    "        result = func(*args, **kwargs)\n",
    "        return result * result\n",
    "    return new_function"
   ],
   "metadata": {
    "collapsed": false,
    "ExecuteTime": {
     "end_time": "2024-03-05T06:46:42.950787Z",
     "start_time": "2024-03-05T06:46:42.947845Z"
    }
   },
   "id": "e9f9cf0d05b357dd",
   "execution_count": 115
  },
  {
   "cell_type": "code",
   "outputs": [],
   "source": [
    "@document_it\n",
    "@square_it\n",
    "def add_ints(a, b):\n",
    "    return a + b"
   ],
   "metadata": {
    "collapsed": false,
    "ExecuteTime": {
     "end_time": "2024-03-05T06:46:57.791125Z",
     "start_time": "2024-03-05T06:46:57.788323Z"
    }
   },
   "id": "3e7d1f8a7554e72",
   "execution_count": 116
  },
  {
   "cell_type": "code",
   "outputs": [
    {
     "name": "stdout",
     "output_type": "stream",
     "text": [
      "Running function: new_function\n",
      "Positional arguments: (3, 5)\n",
      "Keyword arguments: {}\n",
      "Result: 64\n"
     ]
    },
    {
     "data": {
      "text/plain": "64"
     },
     "execution_count": 117,
     "metadata": {},
     "output_type": "execute_result"
    }
   ],
   "source": [
    "add_ints(3, 5)\n",
    "#"
   ],
   "metadata": {
    "collapsed": false,
    "ExecuteTime": {
     "end_time": "2024-03-05T06:47:00.245331Z",
     "start_time": "2024-03-05T06:47:00.242717Z"
    }
   },
   "id": "292c1aff7ce7b3aa",
   "execution_count": 117
  },
  {
   "cell_type": "code",
   "outputs": [],
   "source": [
    "@square_it\n",
    "@document_it\n",
    "def add_ints(a, b):\n",
    "    return a + b"
   ],
   "metadata": {
    "collapsed": false,
    "ExecuteTime": {
     "end_time": "2024-03-05T06:47:37.020120Z",
     "start_time": "2024-03-05T06:47:37.018214Z"
    }
   },
   "id": "1ee9df5553e1f8f0",
   "execution_count": 118
  },
  {
   "cell_type": "code",
   "outputs": [
    {
     "name": "stdout",
     "output_type": "stream",
     "text": [
      "Running function: add_ints\n",
      "Positional arguments: (3, 5)\n",
      "Keyword arguments: {}\n",
      "Result: 8\n"
     ]
    },
    {
     "data": {
      "text/plain": "64"
     },
     "execution_count": 119,
     "metadata": {},
     "output_type": "execute_result"
    }
   ],
   "source": [
    "add_ints(3, 5)"
   ],
   "metadata": {
    "collapsed": false,
    "ExecuteTime": {
     "end_time": "2024-03-05T06:47:39.991228Z",
     "start_time": "2024-03-05T06:47:39.988057Z"
    }
   },
   "id": "af15326b8744d1d",
   "execution_count": 119
  },
  {
   "cell_type": "code",
   "outputs": [],
   "source": [
    "animal = 'fruitbat'\n",
    "def print_global():\n",
    "    print('inside print_global:', animal)"
   ],
   "metadata": {
    "collapsed": false,
    "ExecuteTime": {
     "end_time": "2024-03-05T06:49:35.161371Z",
     "start_time": "2024-03-05T06:49:35.157895Z"
    }
   },
   "id": "b290303112dded59",
   "execution_count": 120
  },
  {
   "cell_type": "code",
   "outputs": [
    {
     "name": "stdout",
     "output_type": "stream",
     "text": [
      "at the top level: fruitbat\n"
     ]
    }
   ],
   "source": [
    "print('at the top level:', animal)"
   ],
   "metadata": {
    "collapsed": false,
    "ExecuteTime": {
     "end_time": "2024-03-05T06:50:00.543947Z",
     "start_time": "2024-03-05T06:50:00.541603Z"
    }
   },
   "id": "511fa6d3f11a984e",
   "execution_count": 121
  },
  {
   "cell_type": "code",
   "outputs": [
    {
     "name": "stdout",
     "output_type": "stream",
     "text": [
      "inside print_global: fruitbat\n"
     ]
    }
   ],
   "source": [
    "print_global()"
   ],
   "metadata": {
    "collapsed": false,
    "ExecuteTime": {
     "end_time": "2024-03-05T06:50:13.978667Z",
     "start_time": "2024-03-05T06:50:13.976226Z"
    }
   },
   "id": "b3aaeefb60f947dc",
   "execution_count": 122
  },
  {
   "cell_type": "code",
   "outputs": [],
   "source": [
    "def change_and_print_global():\n",
    "    print('inside change_and_print_global:', animal)\n",
    "    animal = 'wombat'\n",
    "    print('after the change:', animal)"
   ],
   "metadata": {
    "collapsed": false,
    "ExecuteTime": {
     "end_time": "2024-03-05T06:51:07.563034Z",
     "start_time": "2024-03-05T06:51:07.560879Z"
    }
   },
   "id": "db006dc3dd6cc699",
   "execution_count": 123
  },
  {
   "cell_type": "code",
   "outputs": [
    {
     "ename": "UnboundLocalError",
     "evalue": "local variable 'animal' referenced before assignment",
     "output_type": "error",
     "traceback": [
      "\u001B[0;31m---------------------------------------------------------------------------\u001B[0m",
      "\u001B[0;31mUnboundLocalError\u001B[0m                         Traceback (most recent call last)",
      "Cell \u001B[0;32mIn[124], line 1\u001B[0m\n\u001B[0;32m----> 1\u001B[0m \u001B[43mchange_and_print_global\u001B[49m\u001B[43m(\u001B[49m\u001B[43m)\u001B[49m\n",
      "Cell \u001B[0;32mIn[123], line 2\u001B[0m, in \u001B[0;36mchange_and_print_global\u001B[0;34m()\u001B[0m\n\u001B[1;32m      1\u001B[0m \u001B[38;5;28;01mdef\u001B[39;00m \u001B[38;5;21mchange_and_print_global\u001B[39m():\n\u001B[0;32m----> 2\u001B[0m     \u001B[38;5;28mprint\u001B[39m(\u001B[38;5;124m'\u001B[39m\u001B[38;5;124minside change_and_print_global:\u001B[39m\u001B[38;5;124m'\u001B[39m, \u001B[43manimal\u001B[49m)\n\u001B[1;32m      3\u001B[0m     animal \u001B[38;5;241m=\u001B[39m \u001B[38;5;124m'\u001B[39m\u001B[38;5;124mwombat\u001B[39m\u001B[38;5;124m'\u001B[39m\n\u001B[1;32m      4\u001B[0m     \u001B[38;5;28mprint\u001B[39m(\u001B[38;5;124m'\u001B[39m\u001B[38;5;124mafter the change:\u001B[39m\u001B[38;5;124m'\u001B[39m, animal)\n",
      "\u001B[0;31mUnboundLocalError\u001B[0m: local variable 'animal' referenced before assignment"
     ]
    }
   ],
   "source": [
    "change_and_print_global()"
   ],
   "metadata": {
    "collapsed": false,
    "ExecuteTime": {
     "end_time": "2024-03-05T06:51:11.473343Z",
     "start_time": "2024-03-05T06:51:11.453354Z"
    }
   },
   "id": "566d2867a953dcd1",
   "execution_count": 124
  },
  {
   "cell_type": "code",
   "outputs": [],
   "source": [
    "def change_local():\n",
    "    animal = 'wombat'\n",
    "    print('inside change_local', animal, id(animal))"
   ],
   "metadata": {
    "collapsed": false,
    "ExecuteTime": {
     "end_time": "2024-03-05T06:52:21.639909Z",
     "start_time": "2024-03-05T06:52:21.636089Z"
    }
   },
   "id": "473f8dcc7cbc796d",
   "execution_count": 125
  },
  {
   "cell_type": "code",
   "outputs": [
    {
     "name": "stdout",
     "output_type": "stream",
     "text": [
      "inside change_local wombat 4415184432\n"
     ]
    }
   ],
   "source": [
    "change_local()"
   ],
   "metadata": {
    "collapsed": false,
    "ExecuteTime": {
     "end_time": "2024-03-05T06:52:24.838758Z",
     "start_time": "2024-03-05T06:52:24.836572Z"
    }
   },
   "id": "f86c2ed3bf984842",
   "execution_count": 126
  },
  {
   "cell_type": "code",
   "outputs": [
    {
     "data": {
      "text/plain": "'fruitbat'"
     },
     "execution_count": 127,
     "metadata": {},
     "output_type": "execute_result"
    }
   ],
   "source": [
    "animal"
   ],
   "metadata": {
    "collapsed": false,
    "ExecuteTime": {
     "end_time": "2024-03-05T06:52:29.346140Z",
     "start_time": "2024-03-05T06:52:29.343482Z"
    }
   },
   "id": "e3f56771f696a87c",
   "execution_count": 127
  },
  {
   "cell_type": "code",
   "outputs": [
    {
     "data": {
      "text/plain": "4414869936"
     },
     "execution_count": 128,
     "metadata": {},
     "output_type": "execute_result"
    }
   ],
   "source": [
    "id(animal)"
   ],
   "metadata": {
    "collapsed": false,
    "ExecuteTime": {
     "end_time": "2024-03-05T06:52:42.883146Z",
     "start_time": "2024-03-05T06:52:42.880466Z"
    }
   },
   "id": "2bf3d5da7ef77462",
   "execution_count": 128
  },
  {
   "cell_type": "code",
   "outputs": [],
   "source": [
    "animal = 'fruitbat'\n",
    "def change_and_print_global():\n",
    "    global animal\n",
    "    animal = 'wombat'\n",
    "    print('inside change_and_print_global:', animal)"
   ],
   "metadata": {
    "collapsed": false,
    "ExecuteTime": {
     "end_time": "2024-03-05T06:54:33.042869Z",
     "start_time": "2024-03-05T06:54:33.039880Z"
    }
   },
   "id": "7b1651ac50b67354",
   "execution_count": 129
  },
  {
   "cell_type": "code",
   "outputs": [
    {
     "data": {
      "text/plain": "'fruitbat'"
     },
     "execution_count": 130,
     "metadata": {},
     "output_type": "execute_result"
    }
   ],
   "source": [
    "animal"
   ],
   "metadata": {
    "collapsed": false,
    "ExecuteTime": {
     "end_time": "2024-03-05T06:54:39.760198Z",
     "start_time": "2024-03-05T06:54:39.756627Z"
    }
   },
   "id": "2ca5feb4572eb468",
   "execution_count": 130
  },
  {
   "cell_type": "code",
   "outputs": [
    {
     "name": "stdout",
     "output_type": "stream",
     "text": [
      "inside change_and_print_global: wombat\n"
     ]
    }
   ],
   "source": [
    "change_and_print_global()"
   ],
   "metadata": {
    "collapsed": false,
    "ExecuteTime": {
     "end_time": "2024-03-05T06:54:46.934281Z",
     "start_time": "2024-03-05T06:54:46.932012Z"
    }
   },
   "id": "2466ae9547f6058c",
   "execution_count": 131
  },
  {
   "cell_type": "code",
   "outputs": [
    {
     "data": {
      "text/plain": "'wombat'"
     },
     "execution_count": 132,
     "metadata": {},
     "output_type": "execute_result"
    }
   ],
   "source": [
    "animal"
   ],
   "metadata": {
    "collapsed": false,
    "ExecuteTime": {
     "end_time": "2024-03-05T06:54:52.556904Z",
     "start_time": "2024-03-05T06:54:52.553726Z"
    }
   },
   "id": "b0f43b4c5c1cb221",
   "execution_count": 132
  },
  {
   "cell_type": "code",
   "outputs": [],
   "source": [
    "animal = 'fruitbat'\n",
    "def change_local():\n",
    "    animal = 'wombat'\n",
    "    print('locals:', locals())"
   ],
   "metadata": {
    "collapsed": false,
    "ExecuteTime": {
     "end_time": "2024-03-05T06:55:56.174224Z",
     "start_time": "2024-03-05T06:55:56.172124Z"
    }
   },
   "id": "7121418ba7ebde7f",
   "execution_count": 133
  },
  {
   "cell_type": "code",
   "outputs": [
    {
     "data": {
      "text/plain": "'fruitbat'"
     },
     "execution_count": 134,
     "metadata": {},
     "output_type": "execute_result"
    }
   ],
   "source": [
    "animal"
   ],
   "metadata": {
    "collapsed": false,
    "ExecuteTime": {
     "end_time": "2024-03-05T06:55:58.906980Z",
     "start_time": "2024-03-05T06:55:58.904458Z"
    }
   },
   "id": "28006af6905325c6",
   "execution_count": 134
  },
  {
   "cell_type": "code",
   "outputs": [
    {
     "name": "stdout",
     "output_type": "stream",
     "text": [
      "locals: {'animal': 'wombat'}\n"
     ]
    }
   ],
   "source": [
    "change_local()"
   ],
   "metadata": {
    "collapsed": false,
    "ExecuteTime": {
     "end_time": "2024-03-05T06:56:05.757831Z",
     "start_time": "2024-03-05T06:56:05.755531Z"
    }
   },
   "id": "d4aec207a451bbec",
   "execution_count": 135
  },
  {
   "cell_type": "code",
   "outputs": [
    {
     "name": "stdout",
     "output_type": "stream",
     "text": [
      "globals: {'__name__': '__main__', '__doc__': 'Automatically created module for IPython interactive environment', '__package__': None, '__loader__': None, '__spec__': None, '__builtin__': <module 'builtins' (built-in)>, '__builtins__': <module 'builtins' (built-in)>, '_ih': ['', 'def do_nothing():\\n    pass\\n\\ndo_nothing()', \"def make_a_sound():\\n    print('quack')\\nmake_a_sound()\", 'def agree():\\n    return True', \"if agree():\\n    print('Splendid!')\\nelse:\\n    print('That was unexpected.')\", \"def echo(anything):\\n    return anything + ' ' + anything\\n\\necho('Rumplestiltskin')\", 'def commentary(color):\\n    if color == \\'red\\':\\n        return \"It\\'s a tomato\"\\n    elif color == \\'green\\':\\n        return \"It\\'s a green pepper\"\\n    elif color == \\'bee purple\\':\\n        return \"I don\\'t know what it is, but only bees can see it\"\\n    else:\\n        return \"I\\'ve never heard of the color {}.\".format(color)\\n\\ncomment = commentary(\\'blue\\')', 'comment', 'print(do_nothing())', 'thing = None\\nif thing:\\n    print(\"It\\'s some thing.\")\\nelse:\\n    print(\"It\\'s no thing.\")', 'thing = None\\nif thing is None:\\n    print(\"It\\'s nothing\")\\nelse:\\n    print(\"It\\'s something\")', \"def whatis(thing):\\n    if thing is None:\\n        print(thing, 'is None')\\n    elif thing:\\n        print(thing, 'is True')\\n    else:\\n        print(thing, 'is False')\\n\\nwhatis(None)\", 'whatis(True)', 'whatis(False)', 'whatis(0)', 'whatis(0.0)', 'whatis(\"\")', 'whatis(())', 'whatis({})', 'whatis(set())', 'whatis(0.00001)', 'whatis([0])', \"whatis([''])\", \"whatis(' ')\", \"def menu(wine, entree, dessert):\\n    return {'wine': wine, 'entree': entree, 'dessert': dessert}\", \"menu('chardonnay', 'chicken', 'cake')\", \"menu('beef', 'bagel', 'bordeaux')\", \"menu(entree='beef', dessert='bagel', wine='bordeaux')\", \"menu('frontenac', dessert='flan', entree='fish')\\n\\ndef menu(wine, entree, dessert='pudding'):\\n    return {'wine': wine, 'entree': entree, 'dessert': dessert}\\nmenu('chardonnay', 'chicken')\", \"menu('dunkelfeld', 'duck', 'doughnut')\", \"def buggy(arg, result=[]):\\n    result.append(arg)\\n    print(result)\\n\\nbuggy('a')    \", \"buggy('b')\", \"def works(arg):\\n    result = []\\n    result.append(arg)\\n    return result\\n\\nworks('a')\", \"works('b')\", \"nonbuggy('a')\", \"nonbuggy('a')\", \"nonbuggy('a')\", 'def non_buggy(arg, result=None):\\n    if result is None:\\n        result = []\\n    result.append(arg)\\n    print(result)', \"non_buggy('a')\", \"non_buggy('b')\", 'def nonbuggy(arg, result=None):\\n    if result is None:\\n        result = []\\n    result.append(arg)\\n    print(result)', \"nonbuggy('a')\", \"nonbuggy('b')\", \"def print_args(*args):\\n    print('Positional argument tuple:', args)\", 'print_args()', \"print_args(3, 2, 1, 'wait', 'uh...')\", \"def print_more(required1, required2, *args):\\n    print('Need this one:', required1)\\n    print('Need this one too:', required2)\\n    print('All the rest:', args)\", \"print_more('cap','gloves','scarf', 'monocle','mustache wax')\", \"print_args(2,4,7,'x')\", \"args = (2,5,7,'x')\\nprint_args(args)\", 'print_args(*args)', \"print_kwargs(wine='merlot', entree='mutton', dessert='macadamia')\", \"def print_kwargs(**kwargs):\\n    print('Keyword arguments:', kwargs)\", \"print_kwargs(wine='merlot', entree='mutton', dessert='macadamia')\", \"def print_data(data,*,start=0,end=100):\\n    for value in (data[start:end]):\\n        print(value)\\n\\ndata = ['a','b','c','d','e','f']\\nprint_data(data)\", 'print_data(data, start=4)', 'print_data(data, end=2)', \"outside = ['one','fine','day']\\ndef mangle(arg):\\n    arg[1] = 'terrible!'\\n\\noutside    \", 'mangle(outside)', 'outside', \"def echo(anything):\\n    'echo returns its input argument'\\n    return anything\", 'help(echo)', \"def print_if_true(thing,check):\\n    '''\\n    Prints the first argument if a second argument is true.\\n    The operation is:\\n        1. Check whether the *second* argument is true.\\n        2. If it is, print the *first* argument.\\n    '''\\n    if check:\\n        print(thing)\", 'print(echo.__doc__)', 'def answer():\\n    print(42)', 'answer()', 'def run_something(func):\\n    func()', 'run_something(answer)', 'type(run_something)', 'def add_args(arg1, arg2):\\n    print(arg1 + arg2)', 'type(add_args)', 'def run_something_with_agrs(func,arg1,arg2):\\n    func(arg1,arg2)', 'run_something_with_agrs(add_args,5,9)', 'def sum_args(*args):\\n    return sum(args)', 'def run_with_positional_args(func, *args):\\n    return func(*args)', 'run_with_positional_args(sum_args, 1,2,3,4)', 'def outer(a,b):\\n    def inner(c,d):\\n        return c + d\\n    return inner(a,b)', 'outer(4,7)', \"knights('Ni!'\", \"knights('Ni!')\", 'def knights(saying):\\n    def inner(quote):\\n        return f\"We are the knights who say: \\'{quote}\\'\"\\n    return inner(saying)', \"knights('Ni!')\", 'def knights2(saying):\\n    def inner2():\\n        return f\"We are the knights who say: \\'{saying}\\'\"\\n    return inner2', \"a = knights2('Duck')\\nb = knights2('Hasenpfeffer')\", \"a = knights2('Duck')\\nb = knights2('Hasenpfeffer')\", 'type(a)', 'type(b)', 'a', 'b', 'a()', 'b()', 'def edit_story(words, func):\\n    for word in words:\\n        print(func(word))', \"stairs = ['thud', 'meow', 'thud','hiss']\", \"def enliven(word):\\n    return word.capitalize() + '!'\", 'edit_story(stairs, enliven())', 'edit_story(stairs, enliven)', \"edit_story(stairs, lambda word: word.capitalize() + '!')\", 'sum(range(1,101))', 'def my_range(first=0,last=10,step=1):\\n    number = first\\n    while number < last:\\n        yield number\\n        number += step', 'my_range', 'ranger = my_range(1,5)\\nranger', 'for x in ranger:\\n    print(x)', 'for try_again in ranger:\\n    print(try_again)', 'for try_again in ranger:\\n    print(try_again)', \"genobj = (pair for pair in zip(['a','b'],['1','2']))\\ngenobj\", 'for thing in genobj:\\n    print(thing)', 'for thing in genobj:\\n    print(thing)', \"def document_it(func):\\n    def new_function(*args, **kwargs):\\n        print('Running function:', func.__name__)\\n        print('Positional arguments:', args)\\n        print('Keyword arguments:', kwargs)\\n        result = func(*args, **kwargs)\\n        print('Result:', result)\\n        return result\\n    return new_function\", 'def add_ints(a, b):\\n    return a + b', 'add_ints(3,5)', 'cooler_add_ints = document_it(add_ints)', 'cooler_add_ints(3,5)', 'add_ints(3,5)', '@document_it\\ndef add_ints(a, b):\\n    return a + b', 'add_ints(3,5)', 'def square_it(func):\\n    def new_function(*args, **kwargs):\\n        result = func(*args, **kwargs)\\n        return result * result\\n    return new_function', '@document_it\\n@square_it\\ndef add_ints(a, b):\\n    return a + b', 'add_ints(3, 5)\\n#', '@square_it\\n@document_it\\ndef add_ints(a, b):\\n    return a + b', 'add_ints(3, 5)', \"animal = 'fruitbat'\\ndef print_global():\\n    print('inside print_global:', animal)\", \"print('at the top level:', animal)\", 'print_global()', \"def change_and_print_global():\\n    print('inside change_and_print_global:', animal)\\n    animal = 'wombat'\\n    print('after the change:', animal)\", 'change_and_print_global()', \"def change_local():\\n    animal = 'wombat'\\n    print('inside change_local', animal, id(animal))\", 'change_local()', 'animal', 'id(animal)', \"animal = 'fruitbat'\\ndef change_and_print_global():\\n    global animal\\n    animal = 'wombat'\\n    print('inside change_and_print_global:', animal)\", 'animal', 'change_and_print_global()', 'animal', \"animal = 'fruitbat'\\ndef change_local():\\n    animal = 'wombat'\\n    print('locals:', locals())\", 'animal', 'change_local()', \"print('globals:', globals())\"], '_oh': {5: 'Rumplestiltskin Rumplestiltskin', 7: \"I've never heard of the color blue.\", 25: {'wine': 'chardonnay', 'entree': 'chicken', 'dessert': 'cake'}, 26: {'wine': 'beef', 'entree': 'bagel', 'dessert': 'bordeaux'}, 27: {'wine': 'bordeaux', 'entree': 'beef', 'dessert': 'bagel'}, 28: {'wine': 'chardonnay', 'entree': 'chicken', 'dessert': 'pudding'}, 29: {'wine': 'dunkelfeld', 'entree': 'duck', 'dessert': 'doughnut'}, 32: ['a'], 33: ['b'], 57: ['one', 'terrible!', 'day'], 59: ['one', 'terrible!', 'day'], 68: <class 'function'>, 70: <class 'function'>, 75: 10, 77: 11, 81: \"We are the knights who say: 'Ni!'\", 85: <class 'function'>, 86: <class 'function'>, 87: <function knights2.<locals>.inner2 at 0x107249ca0>, 88: <function knights2.<locals>.inner2 at 0x107249ee0>, 89: \"We are the knights who say: 'Duck'\", 90: \"We are the knights who say: 'Hasenpfeffer'\", 97: 5050, 99: <function my_range at 0x10728fa60>, 100: <generator object my_range at 0x1072c72e0>, 104: <generator object <genexpr> at 0x1072c7900>, 109: 8, 111: 8, 112: 8, 114: 8, 117: 64, 119: 64, 127: 'fruitbat', 128: 4414869936, 130: 'fruitbat', 132: 'wombat', 134: 'fruitbat'}, '_dh': [PosixPath('/Users/bob/PycharmProjects/introduce-python')], 'In': ['', 'def do_nothing():\\n    pass\\n\\ndo_nothing()', \"def make_a_sound():\\n    print('quack')\\nmake_a_sound()\", 'def agree():\\n    return True', \"if agree():\\n    print('Splendid!')\\nelse:\\n    print('That was unexpected.')\", \"def echo(anything):\\n    return anything + ' ' + anything\\n\\necho('Rumplestiltskin')\", 'def commentary(color):\\n    if color == \\'red\\':\\n        return \"It\\'s a tomato\"\\n    elif color == \\'green\\':\\n        return \"It\\'s a green pepper\"\\n    elif color == \\'bee purple\\':\\n        return \"I don\\'t know what it is, but only bees can see it\"\\n    else:\\n        return \"I\\'ve never heard of the color {}.\".format(color)\\n\\ncomment = commentary(\\'blue\\')', 'comment', 'print(do_nothing())', 'thing = None\\nif thing:\\n    print(\"It\\'s some thing.\")\\nelse:\\n    print(\"It\\'s no thing.\")', 'thing = None\\nif thing is None:\\n    print(\"It\\'s nothing\")\\nelse:\\n    print(\"It\\'s something\")', \"def whatis(thing):\\n    if thing is None:\\n        print(thing, 'is None')\\n    elif thing:\\n        print(thing, 'is True')\\n    else:\\n        print(thing, 'is False')\\n\\nwhatis(None)\", 'whatis(True)', 'whatis(False)', 'whatis(0)', 'whatis(0.0)', 'whatis(\"\")', 'whatis(())', 'whatis({})', 'whatis(set())', 'whatis(0.00001)', 'whatis([0])', \"whatis([''])\", \"whatis(' ')\", \"def menu(wine, entree, dessert):\\n    return {'wine': wine, 'entree': entree, 'dessert': dessert}\", \"menu('chardonnay', 'chicken', 'cake')\", \"menu('beef', 'bagel', 'bordeaux')\", \"menu(entree='beef', dessert='bagel', wine='bordeaux')\", \"menu('frontenac', dessert='flan', entree='fish')\\n\\ndef menu(wine, entree, dessert='pudding'):\\n    return {'wine': wine, 'entree': entree, 'dessert': dessert}\\nmenu('chardonnay', 'chicken')\", \"menu('dunkelfeld', 'duck', 'doughnut')\", \"def buggy(arg, result=[]):\\n    result.append(arg)\\n    print(result)\\n\\nbuggy('a')    \", \"buggy('b')\", \"def works(arg):\\n    result = []\\n    result.append(arg)\\n    return result\\n\\nworks('a')\", \"works('b')\", \"nonbuggy('a')\", \"nonbuggy('a')\", \"nonbuggy('a')\", 'def non_buggy(arg, result=None):\\n    if result is None:\\n        result = []\\n    result.append(arg)\\n    print(result)', \"non_buggy('a')\", \"non_buggy('b')\", 'def nonbuggy(arg, result=None):\\n    if result is None:\\n        result = []\\n    result.append(arg)\\n    print(result)', \"nonbuggy('a')\", \"nonbuggy('b')\", \"def print_args(*args):\\n    print('Positional argument tuple:', args)\", 'print_args()', \"print_args(3, 2, 1, 'wait', 'uh...')\", \"def print_more(required1, required2, *args):\\n    print('Need this one:', required1)\\n    print('Need this one too:', required2)\\n    print('All the rest:', args)\", \"print_more('cap','gloves','scarf', 'monocle','mustache wax')\", \"print_args(2,4,7,'x')\", \"args = (2,5,7,'x')\\nprint_args(args)\", 'print_args(*args)', \"print_kwargs(wine='merlot', entree='mutton', dessert='macadamia')\", \"def print_kwargs(**kwargs):\\n    print('Keyword arguments:', kwargs)\", \"print_kwargs(wine='merlot', entree='mutton', dessert='macadamia')\", \"def print_data(data,*,start=0,end=100):\\n    for value in (data[start:end]):\\n        print(value)\\n\\ndata = ['a','b','c','d','e','f']\\nprint_data(data)\", 'print_data(data, start=4)', 'print_data(data, end=2)', \"outside = ['one','fine','day']\\ndef mangle(arg):\\n    arg[1] = 'terrible!'\\n\\noutside    \", 'mangle(outside)', 'outside', \"def echo(anything):\\n    'echo returns its input argument'\\n    return anything\", 'help(echo)', \"def print_if_true(thing,check):\\n    '''\\n    Prints the first argument if a second argument is true.\\n    The operation is:\\n        1. Check whether the *second* argument is true.\\n        2. If it is, print the *first* argument.\\n    '''\\n    if check:\\n        print(thing)\", 'print(echo.__doc__)', 'def answer():\\n    print(42)', 'answer()', 'def run_something(func):\\n    func()', 'run_something(answer)', 'type(run_something)', 'def add_args(arg1, arg2):\\n    print(arg1 + arg2)', 'type(add_args)', 'def run_something_with_agrs(func,arg1,arg2):\\n    func(arg1,arg2)', 'run_something_with_agrs(add_args,5,9)', 'def sum_args(*args):\\n    return sum(args)', 'def run_with_positional_args(func, *args):\\n    return func(*args)', 'run_with_positional_args(sum_args, 1,2,3,4)', 'def outer(a,b):\\n    def inner(c,d):\\n        return c + d\\n    return inner(a,b)', 'outer(4,7)', \"knights('Ni!'\", \"knights('Ni!')\", 'def knights(saying):\\n    def inner(quote):\\n        return f\"We are the knights who say: \\'{quote}\\'\"\\n    return inner(saying)', \"knights('Ni!')\", 'def knights2(saying):\\n    def inner2():\\n        return f\"We are the knights who say: \\'{saying}\\'\"\\n    return inner2', \"a = knights2('Duck')\\nb = knights2('Hasenpfeffer')\", \"a = knights2('Duck')\\nb = knights2('Hasenpfeffer')\", 'type(a)', 'type(b)', 'a', 'b', 'a()', 'b()', 'def edit_story(words, func):\\n    for word in words:\\n        print(func(word))', \"stairs = ['thud', 'meow', 'thud','hiss']\", \"def enliven(word):\\n    return word.capitalize() + '!'\", 'edit_story(stairs, enliven())', 'edit_story(stairs, enliven)', \"edit_story(stairs, lambda word: word.capitalize() + '!')\", 'sum(range(1,101))', 'def my_range(first=0,last=10,step=1):\\n    number = first\\n    while number < last:\\n        yield number\\n        number += step', 'my_range', 'ranger = my_range(1,5)\\nranger', 'for x in ranger:\\n    print(x)', 'for try_again in ranger:\\n    print(try_again)', 'for try_again in ranger:\\n    print(try_again)', \"genobj = (pair for pair in zip(['a','b'],['1','2']))\\ngenobj\", 'for thing in genobj:\\n    print(thing)', 'for thing in genobj:\\n    print(thing)', \"def document_it(func):\\n    def new_function(*args, **kwargs):\\n        print('Running function:', func.__name__)\\n        print('Positional arguments:', args)\\n        print('Keyword arguments:', kwargs)\\n        result = func(*args, **kwargs)\\n        print('Result:', result)\\n        return result\\n    return new_function\", 'def add_ints(a, b):\\n    return a + b', 'add_ints(3,5)', 'cooler_add_ints = document_it(add_ints)', 'cooler_add_ints(3,5)', 'add_ints(3,5)', '@document_it\\ndef add_ints(a, b):\\n    return a + b', 'add_ints(3,5)', 'def square_it(func):\\n    def new_function(*args, **kwargs):\\n        result = func(*args, **kwargs)\\n        return result * result\\n    return new_function', '@document_it\\n@square_it\\ndef add_ints(a, b):\\n    return a + b', 'add_ints(3, 5)\\n#', '@square_it\\n@document_it\\ndef add_ints(a, b):\\n    return a + b', 'add_ints(3, 5)', \"animal = 'fruitbat'\\ndef print_global():\\n    print('inside print_global:', animal)\", \"print('at the top level:', animal)\", 'print_global()', \"def change_and_print_global():\\n    print('inside change_and_print_global:', animal)\\n    animal = 'wombat'\\n    print('after the change:', animal)\", 'change_and_print_global()', \"def change_local():\\n    animal = 'wombat'\\n    print('inside change_local', animal, id(animal))\", 'change_local()', 'animal', 'id(animal)', \"animal = 'fruitbat'\\ndef change_and_print_global():\\n    global animal\\n    animal = 'wombat'\\n    print('inside change_and_print_global:', animal)\", 'animal', 'change_and_print_global()', 'animal', \"animal = 'fruitbat'\\ndef change_local():\\n    animal = 'wombat'\\n    print('locals:', locals())\", 'animal', 'change_local()', \"print('globals:', globals())\"], 'Out': {5: 'Rumplestiltskin Rumplestiltskin', 7: \"I've never heard of the color blue.\", 25: {'wine': 'chardonnay', 'entree': 'chicken', 'dessert': 'cake'}, 26: {'wine': 'beef', 'entree': 'bagel', 'dessert': 'bordeaux'}, 27: {'wine': 'bordeaux', 'entree': 'beef', 'dessert': 'bagel'}, 28: {'wine': 'chardonnay', 'entree': 'chicken', 'dessert': 'pudding'}, 29: {'wine': 'dunkelfeld', 'entree': 'duck', 'dessert': 'doughnut'}, 32: ['a'], 33: ['b'], 57: ['one', 'terrible!', 'day'], 59: ['one', 'terrible!', 'day'], 68: <class 'function'>, 70: <class 'function'>, 75: 10, 77: 11, 81: \"We are the knights who say: 'Ni!'\", 85: <class 'function'>, 86: <class 'function'>, 87: <function knights2.<locals>.inner2 at 0x107249ca0>, 88: <function knights2.<locals>.inner2 at 0x107249ee0>, 89: \"We are the knights who say: 'Duck'\", 90: \"We are the knights who say: 'Hasenpfeffer'\", 97: 5050, 99: <function my_range at 0x10728fa60>, 100: <generator object my_range at 0x1072c72e0>, 104: <generator object <genexpr> at 0x1072c7900>, 109: 8, 111: 8, 112: 8, 114: 8, 117: 64, 119: 64, 127: 'fruitbat', 128: 4414869936, 130: 'fruitbat', 132: 'wombat', 134: 'fruitbat'}, 'get_ipython': <bound method InteractiveShell.get_ipython of <ipykernel.zmqshell.ZMQInteractiveShell object at 0x106b92730>>, 'exit': <IPython.core.autocall.ZMQExitAutocall object at 0x106ba5520>, 'quit': <IPython.core.autocall.ZMQExitAutocall object at 0x106ba5520>, 'open': <function open at 0x105b63c10>, '_': 'fruitbat', '__': 'wombat', '___': 'fruitbat', '__session__': 'ch09.ipynb', '_i': 'change_local()', '_ii': 'animal', '_iii': \"animal = 'fruitbat'\\ndef change_local():\\n    animal = 'wombat'\\n    print('locals:', locals())\", '_i1': 'def do_nothing():\\n    pass\\n\\ndo_nothing()', 'do_nothing': <function do_nothing at 0x106c3a820>, 'sys': <module 'sys' (built-in)>, 'remove_imported_pydev_package': <function remove_imported_pydev_package at 0x106c3a940>, '_pydevd_bundle': <module '_pydevd_bundle' from '/Applications/PyCharm.app/Contents/plugins/python/helpers/pydev/_pydevd_bundle/__init__.py'>, 'pydev_jupyter_vars': <module 'pydev_jupyter_vars' from '/Applications/PyCharm.app/Contents/plugins/python/helpers-pro/jupyter_debug/pydev_jupyter_vars.py'>, '_i2': \"def make_a_sound():\\n    print('quack')\\nmake_a_sound()\", 'make_a_sound': <function make_a_sound at 0x106de1670>, '_i3': 'def agree():\\n    return True', 'agree': <function agree at 0x106de1550>, '_i4': \"if agree():\\n    print('Splendid!')\\nelse:\\n    print('That was unexpected.')\", '_i5': \"def echo(anything):\\n    return anything + ' ' + anything\\n\\necho('Rumplestiltskin')\", 'echo': <function echo at 0x10720eb80>, '_5': 'Rumplestiltskin Rumplestiltskin', '_i6': 'def commentary(color):\\n    if color == \\'red\\':\\n        return \"It\\'s a tomato\"\\n    elif color == \\'green\\':\\n        return \"It\\'s a green pepper\"\\n    elif color == \\'bee purple\\':\\n        return \"I don\\'t know what it is, but only bees can see it\"\\n    else:\\n        return \"I\\'ve never heard of the color {}.\".format(color)\\n\\ncomment = commentary(\\'blue\\')', 'commentary': <function commentary at 0x106de13a0>, 'comment': \"I've never heard of the color blue.\", '_i7': 'comment', '_7': \"I've never heard of the color blue.\", '_i8': 'print(do_nothing())', '_i9': 'thing = None\\nif thing:\\n    print(\"It\\'s some thing.\")\\nelse:\\n    print(\"It\\'s no thing.\")', 'thing': ('b', '2'), '_i10': 'thing = None\\nif thing is None:\\n    print(\"It\\'s nothing\")\\nelse:\\n    print(\"It\\'s something\")', '_i11': \"def whatis(thing):\\n    if thing is None:\\n        print(thing, 'is None')\\n    elif thing:\\n        print(thing, 'is True')\\n    else:\\n        print(thing, 'is False')\\n\\nwhatis(None)\", 'whatis': <function whatis at 0x106de1a60>, '_i12': 'whatis(True)', '_i13': 'whatis(False)', '_i14': 'whatis(0)', '_i15': 'whatis(0.0)', '_i16': 'whatis(\"\")', '_i17': 'whatis(())', '_i18': 'whatis({})', '_i19': 'whatis(set())', '_i20': 'whatis(0.00001)', '_i21': 'whatis([0])', '_i22': \"whatis([''])\", '_i23': \"whatis(' ')\", '_i24': \"def menu(wine, entree, dessert):\\n    return {'wine': wine, 'entree': entree, 'dessert': dessert}\", 'menu': <function menu at 0x106e36b80>, '_i25': \"menu('chardonnay', 'chicken', 'cake')\", '_25': {'wine': 'chardonnay', 'entree': 'chicken', 'dessert': 'cake'}, '_i26': \"menu('beef', 'bagel', 'bordeaux')\", '_26': {'wine': 'beef', 'entree': 'bagel', 'dessert': 'bordeaux'}, '_i27': \"menu(entree='beef', dessert='bagel', wine='bordeaux')\", '_27': {'wine': 'bordeaux', 'entree': 'beef', 'dessert': 'bagel'}, '_i28': \"menu('frontenac', dessert='flan', entree='fish')\\n\\ndef menu(wine, entree, dessert='pudding'):\\n    return {'wine': wine, 'entree': entree, 'dessert': dessert}\\nmenu('chardonnay', 'chicken')\", '_28': {'wine': 'chardonnay', 'entree': 'chicken', 'dessert': 'pudding'}, '_i29': \"menu('dunkelfeld', 'duck', 'doughnut')\", '_29': {'wine': 'dunkelfeld', 'entree': 'duck', 'dessert': 'doughnut'}, '_i30': \"def buggy(arg, result=[]):\\n    result.append(arg)\\n    print(result)\\n\\nbuggy('a')    \", 'buggy': <function buggy at 0x106e36ca0>, '_i31': \"buggy('b')\", '_i32': \"def works(arg):\\n    result = []\\n    result.append(arg)\\n    return result\\n\\nworks('a')\", 'works': <function works at 0x106e36ee0>, '_32': ['a'], '_i33': \"works('b')\", '_33': ['b'], '_i34': \"nonbuggy('a')\", '_i35': \"nonbuggy('a')\", '_i36': \"nonbuggy('a')\", '_i37': 'def non_buggy(arg, result=None):\\n    if result is None:\\n        result = []\\n    result.append(arg)\\n    print(result)', 'non_buggy': <function non_buggy at 0x106f2b700>, '_i38': \"non_buggy('a')\", '_i39': \"non_buggy('b')\", '_i40': 'def nonbuggy(arg, result=None):\\n    if result is None:\\n        result = []\\n    result.append(arg)\\n    print(result)', 'nonbuggy': <function nonbuggy at 0x106f2be50>, '_i41': \"nonbuggy('a')\", '_i42': \"nonbuggy('b')\", '_i43': \"def print_args(*args):\\n    print('Positional argument tuple:', args)\", 'print_args': <function print_args at 0x106f2bd30>, '_i44': 'print_args()', '_i45': \"print_args(3, 2, 1, 'wait', 'uh...')\", '_i46': \"def print_more(required1, required2, *args):\\n    print('Need this one:', required1)\\n    print('Need this one too:', required2)\\n    print('All the rest:', args)\", 'print_more': <function print_more at 0x106c3aca0>, '_i47': \"print_more('cap','gloves','scarf', 'monocle','mustache wax')\", '_i48': \"print_args(2,4,7,'x')\", '_i49': \"args = (2,5,7,'x')\\nprint_args(args)\", 'args': (2, 5, 7, 'x'), '_i50': 'print_args(*args)', '_i51': \"print_kwargs(wine='merlot', entree='mutton', dessert='macadamia')\", '_i52': \"def print_kwargs(**kwargs):\\n    print('Keyword arguments:', kwargs)\", 'print_kwargs': <function print_kwargs at 0x10720e1f0>, '_i53': \"print_kwargs(wine='merlot', entree='mutton', dessert='macadamia')\", '_i54': \"def print_data(data,*,start=0,end=100):\\n    for value in (data[start:end]):\\n        print(value)\\n\\ndata = ['a','b','c','d','e','f']\\nprint_data(data)\", 'print_data': <function print_data at 0x10720e040>, 'data': ['a', 'b', 'c', 'd', 'e', 'f'], '_i55': 'print_data(data, start=4)', '_i56': 'print_data(data, end=2)', '_i57': \"outside = ['one','fine','day']\\ndef mangle(arg):\\n    arg[1] = 'terrible!'\\n\\noutside    \", 'outside': ['one', 'terrible!', 'day'], 'mangle': <function mangle at 0x10720ef70>, '_57': ['one', 'terrible!', 'day'], '_i58': 'mangle(outside)', '_i59': 'outside', '_59': ['one', 'terrible!', 'day'], '_i60': \"def echo(anything):\\n    'echo returns its input argument'\\n    return anything\", '_i61': 'help(echo)', '_i62': \"def print_if_true(thing,check):\\n    '''\\n    Prints the first argument if a second argument is true.\\n    The operation is:\\n        1. Check whether the *second* argument is true.\\n        2. If it is, print the *first* argument.\\n    '''\\n    if check:\\n        print(thing)\", 'print_if_true': <function print_if_true at 0x106f2bca0>, '_i63': 'print(echo.__doc__)', '_i64': 'def answer():\\n    print(42)', 'answer': <function answer at 0x106f2bb80>, '_i65': 'answer()', '_i66': 'def run_something(func):\\n    func()', 'run_something': <function run_something at 0x10571f310>, '_i67': 'run_something(answer)', '_i68': 'type(run_something)', '_68': <class 'function'>, '_i69': 'def add_args(arg1, arg2):\\n    print(arg1 + arg2)', 'add_args': <function add_args at 0x106f2bf70>, '_i70': 'type(add_args)', '_70': <class 'function'>, '_i71': 'def run_something_with_agrs(func,arg1,arg2):\\n    func(arg1,arg2)', 'run_something_with_agrs': <function run_something_with_agrs at 0x1072491f0>, '_i72': 'run_something_with_agrs(add_args,5,9)', '_i73': 'def sum_args(*args):\\n    return sum(args)', 'sum_args': <function sum_args at 0x10720e790>, '_i74': 'def run_with_positional_args(func, *args):\\n    return func(*args)', 'run_with_positional_args': <function run_with_positional_args at 0x107249310>, '_i75': 'run_with_positional_args(sum_args, 1,2,3,4)', '_75': 10, '_i76': 'def outer(a,b):\\n    def inner(c,d):\\n        return c + d\\n    return inner(a,b)', 'outer': <function outer at 0x10720e940>, '_i77': 'outer(4,7)', '_77': 11, '_i78': \"knights('Ni!'\", '_i79': \"knights('Ni!')\", '_i80': 'def knights(saying):\\n    def inner(quote):\\n        return f\"We are the knights who say: \\'{quote}\\'\"\\n    return inner(saying)', 'knights': <function knights at 0x1072494c0>, '_i81': \"knights('Ni!')\", '_81': \"We are the knights who say: 'Ni!'\", '_i82': 'def knights2(saying):\\n    def inner2():\\n        return f\"We are the knights who say: \\'{saying}\\'\"\\n    return inner2', 'knights2': <function knights2 at 0x1072490d0>, '_i83': \"a = knights2('Duck')\\nb = knights2('Hasenpfeffer')\", 'a': <function knights2.<locals>.inner2 at 0x107249ca0>, 'b': <function knights2.<locals>.inner2 at 0x107249ee0>, '_i84': \"a = knights2('Duck')\\nb = knights2('Hasenpfeffer')\", '_i85': 'type(a)', '_85': <class 'function'>, '_i86': 'type(b)', '_86': <class 'function'>, '_i87': 'a', '_87': <function knights2.<locals>.inner2 at 0x107249ca0>, '_i88': 'b', '_88': <function knights2.<locals>.inner2 at 0x107249ee0>, '_i89': 'a()', '_89': \"We are the knights who say: 'Duck'\", '_i90': 'b()', '_90': \"We are the knights who say: 'Hasenpfeffer'\", '_i91': 'def edit_story(words, func):\\n    for word in words:\\n        print(func(word))', 'edit_story': <function edit_story at 0x107249820>, '_i92': \"stairs = ['thud', 'meow', 'thud','hiss']\", 'stairs': ['thud', 'meow', 'thud', 'hiss'], '_i93': \"def enliven(word):\\n    return word.capitalize() + '!'\", 'enliven': <function enliven at 0x107249700>, '_i94': 'edit_story(stairs, enliven())', '_i95': 'edit_story(stairs, enliven)', '_i96': \"edit_story(stairs, lambda word: word.capitalize() + '!')\", '_i97': 'sum(range(1,101))', '_97': 5050, '_i98': 'def my_range(first=0,last=10,step=1):\\n    number = first\\n    while number < last:\\n        yield number\\n        number += step', 'my_range': <function my_range at 0x10728fa60>, '_i99': 'my_range', '_99': <function my_range at 0x10728fa60>, '_i100': 'ranger = my_range(1,5)\\nranger', 'ranger': <generator object my_range at 0x1072c72e0>, '_100': <generator object my_range at 0x1072c72e0>, '_i101': 'for x in ranger:\\n    print(x)', 'x': 4, '_i102': 'for try_again in ranger:\\n    print(try_again)', '_i103': 'for try_again in ranger:\\n    print(try_again)', '_i104': \"genobj = (pair for pair in zip(['a','b'],['1','2']))\\ngenobj\", 'genobj': <generator object <genexpr> at 0x1072c7900>, '_104': <generator object <genexpr> at 0x1072c7900>, '_i105': 'for thing in genobj:\\n    print(thing)', '_i106': 'for thing in genobj:\\n    print(thing)', '_i107': \"def document_it(func):\\n    def new_function(*args, **kwargs):\\n        print('Running function:', func.__name__)\\n        print('Positional arguments:', args)\\n        print('Keyword arguments:', kwargs)\\n        result = func(*args, **kwargs)\\n        print('Result:', result)\\n        return result\\n    return new_function\", 'document_it': <function document_it at 0x10728fb80>, '_i108': 'def add_ints(a, b):\\n    return a + b', 'add_ints': <function square_it.<locals>.new_function at 0x1072c54c0>, '_i109': 'add_ints(3,5)', '_109': 8, '_i110': 'cooler_add_ints = document_it(add_ints)', 'cooler_add_ints': <function document_it.<locals>.new_function at 0x10728ff70>, '_i111': 'cooler_add_ints(3,5)', '_111': 8, '_i112': 'add_ints(3,5)', '_112': 8, '_i113': '@document_it\\ndef add_ints(a, b):\\n    return a + b', '_i114': 'add_ints(3,5)', '_114': 8, '_i115': 'def square_it(func):\\n    def new_function(*args, **kwargs):\\n        result = func(*args, **kwargs)\\n        return result * result\\n    return new_function', 'square_it': <function square_it at 0x10728f9d0>, '_i116': '@document_it\\n@square_it\\ndef add_ints(a, b):\\n    return a + b', '_i117': 'add_ints(3, 5)\\n#', '_117': 64, '_i118': '@square_it\\n@document_it\\ndef add_ints(a, b):\\n    return a + b', '_i119': 'add_ints(3, 5)', '_119': 64, '_i120': \"animal = 'fruitbat'\\ndef print_global():\\n    print('inside print_global:', animal)\", 'animal': 'fruitbat', 'print_global': <function print_global at 0x1072c5550>, '_i121': \"print('at the top level:', animal)\", '_i122': 'print_global()', '_i123': \"def change_and_print_global():\\n    print('inside change_and_print_global:', animal)\\n    animal = 'wombat'\\n    print('after the change:', animal)\", 'change_and_print_global': <function change_and_print_global at 0x1072c55e0>, '_i124': 'change_and_print_global()', '_i125': \"def change_local():\\n    animal = 'wombat'\\n    print('inside change_local', animal, id(animal))\", 'change_local': <function change_local at 0x1072fbb80>, '_i126': 'change_local()', '_i127': 'animal', '_127': 'fruitbat', '_i128': 'id(animal)', '_128': 4414869936, '_i129': \"animal = 'fruitbat'\\ndef change_and_print_global():\\n    global animal\\n    animal = 'wombat'\\n    print('inside change_and_print_global:', animal)\", '_i130': 'animal', '_130': 'fruitbat', '_i131': 'change_and_print_global()', '_i132': 'animal', '_132': 'wombat', '_i133': \"animal = 'fruitbat'\\ndef change_local():\\n    animal = 'wombat'\\n    print('locals:', locals())\", '_i134': 'animal', '_134': 'fruitbat', '_i135': 'change_local()', '_i136': \"print('globals:', globals())\"}\n"
     ]
    }
   ],
   "source": [
    "print('globals:', globals())"
   ],
   "metadata": {
    "collapsed": false,
    "ExecuteTime": {
     "end_time": "2024-03-05T06:56:44.811291Z",
     "start_time": "2024-03-05T06:56:44.808072Z"
    }
   },
   "id": "2b86643271d4699c",
   "execution_count": 136
  },
  {
   "cell_type": "code",
   "outputs": [
    {
     "data": {
      "text/plain": "'fruitbat'"
     },
     "execution_count": 137,
     "metadata": {},
     "output_type": "execute_result"
    }
   ],
   "source": [
    "animal"
   ],
   "metadata": {
    "collapsed": false,
    "ExecuteTime": {
     "end_time": "2024-03-05T06:57:33.399337Z",
     "start_time": "2024-03-05T06:57:33.396551Z"
    }
   },
   "id": "5942825e382d5d40",
   "execution_count": 137
  },
  {
   "cell_type": "code",
   "outputs": [],
   "source": [
    "def amazing():\n",
    "    '''\n",
    "    This is the amazing function.\n",
    "    Want to see it again?\n",
    "    '''\n",
    "    print('This function is named:', amazing.__name__)\n",
    "    print('And its docstring is:', amazing.__doc__)"
   ],
   "metadata": {
    "collapsed": false,
    "ExecuteTime": {
     "end_time": "2024-03-05T06:59:03.086485Z",
     "start_time": "2024-03-05T06:59:03.084342Z"
    }
   },
   "id": "6f87c03400fd287f",
   "execution_count": 138
  },
  {
   "cell_type": "code",
   "outputs": [
    {
     "name": "stdout",
     "output_type": "stream",
     "text": [
      "This function is named: amazing\n",
      "And its docstring is: \n",
      "    This is the amazing function.\n",
      "    Want to see it again?\n",
      "    \n"
     ]
    }
   ],
   "source": [
    "amazing()"
   ],
   "metadata": {
    "collapsed": false,
    "ExecuteTime": {
     "end_time": "2024-03-05T06:59:11.929417Z",
     "start_time": "2024-03-05T06:59:11.927184Z"
    }
   },
   "id": "e58f1933391ec1cb",
   "execution_count": 139
  },
  {
   "cell_type": "code",
   "outputs": [],
   "source": [
    "def dive():\n",
    "    return dive()"
   ],
   "metadata": {
    "collapsed": false,
    "ExecuteTime": {
     "end_time": "2024-03-05T07:00:00.648478Z",
     "start_time": "2024-03-05T07:00:00.645038Z"
    }
   },
   "id": "7becd125e43e5b2d",
   "execution_count": 140
  },
  {
   "cell_type": "code",
   "outputs": [
    {
     "ename": "RecursionError",
     "evalue": "maximum recursion depth exceeded",
     "output_type": "error",
     "traceback": [
      "\u001B[0;31m---------------------------------------------------------------------------\u001B[0m",
      "\u001B[0;31mRecursionError\u001B[0m                            Traceback (most recent call last)",
      "Cell \u001B[0;32mIn[141], line 1\u001B[0m\n\u001B[0;32m----> 1\u001B[0m \u001B[43mdive\u001B[49m\u001B[43m(\u001B[49m\u001B[43m)\u001B[49m\n",
      "Cell \u001B[0;32mIn[140], line 2\u001B[0m, in \u001B[0;36mdive\u001B[0;34m()\u001B[0m\n\u001B[1;32m      1\u001B[0m \u001B[38;5;28;01mdef\u001B[39;00m \u001B[38;5;21mdive\u001B[39m():\n\u001B[0;32m----> 2\u001B[0m     \u001B[38;5;28;01mreturn\u001B[39;00m \u001B[43mdive\u001B[49m\u001B[43m(\u001B[49m\u001B[43m)\u001B[49m\n",
      "Cell \u001B[0;32mIn[140], line 2\u001B[0m, in \u001B[0;36mdive\u001B[0;34m()\u001B[0m\n\u001B[1;32m      1\u001B[0m \u001B[38;5;28;01mdef\u001B[39;00m \u001B[38;5;21mdive\u001B[39m():\n\u001B[0;32m----> 2\u001B[0m     \u001B[38;5;28;01mreturn\u001B[39;00m \u001B[43mdive\u001B[49m\u001B[43m(\u001B[49m\u001B[43m)\u001B[49m\n",
      "    \u001B[0;31m[... skipping similar frames: dive at line 2 (2969 times)]\u001B[0m\n",
      "Cell \u001B[0;32mIn[140], line 2\u001B[0m, in \u001B[0;36mdive\u001B[0;34m()\u001B[0m\n\u001B[1;32m      1\u001B[0m \u001B[38;5;28;01mdef\u001B[39;00m \u001B[38;5;21mdive\u001B[39m():\n\u001B[0;32m----> 2\u001B[0m     \u001B[38;5;28;01mreturn\u001B[39;00m \u001B[43mdive\u001B[49m\u001B[43m(\u001B[49m\u001B[43m)\u001B[49m\n",
      "\u001B[0;31mRecursionError\u001B[0m: maximum recursion depth exceeded"
     ]
    }
   ],
   "source": [
    "dive()"
   ],
   "metadata": {
    "collapsed": false,
    "ExecuteTime": {
     "end_time": "2024-03-05T07:00:05.924065Z",
     "start_time": "2024-03-05T07:00:04.637201Z"
    }
   },
   "id": "5ddba474af5a7d1b",
   "execution_count": 141
  },
  {
   "cell_type": "code",
   "outputs": [],
   "source": [
    "def flatten(lol):\n",
    "    for item in lol:\n",
    "        if isinstance(item, list):\n",
    "            for subitem in flatten(item):\n",
    "                yield subitem\n",
    "        else:\n",
    "            yield item"
   ],
   "metadata": {
    "collapsed": false,
    "ExecuteTime": {
     "end_time": "2024-03-05T07:01:51.378841Z",
     "start_time": "2024-03-05T07:01:51.376477Z"
    }
   },
   "id": "ec2370d1042fc2f4",
   "execution_count": 142
  },
  {
   "cell_type": "code",
   "outputs": [
    {
     "data": {
      "text/plain": "<generator object flatten at 0x10731d2e0>"
     },
     "execution_count": 143,
     "metadata": {},
     "output_type": "execute_result"
    }
   ],
   "source": [
    "lol = [1,2,[3,4,5],[6,[7,8,9],[]]]\n",
    "flatten(lol)"
   ],
   "metadata": {
    "collapsed": false,
    "ExecuteTime": {
     "end_time": "2024-03-05T07:04:14.647814Z",
     "start_time": "2024-03-05T07:04:14.643005Z"
    }
   },
   "id": "5346e485318514c6",
   "execution_count": 143
  },
  {
   "cell_type": "code",
   "outputs": [
    {
     "data": {
      "text/plain": "[1, 2, 3, 4, 5, 6, 7, 8, 9]"
     },
     "execution_count": 144,
     "metadata": {},
     "output_type": "execute_result"
    }
   ],
   "source": [
    "list(flatten(lol))"
   ],
   "metadata": {
    "collapsed": false,
    "ExecuteTime": {
     "end_time": "2024-03-05T07:04:23.599873Z",
     "start_time": "2024-03-05T07:04:23.597018Z"
    }
   },
   "id": "58e5f0d444a40016",
   "execution_count": 144
  },
  {
   "cell_type": "code",
   "outputs": [],
   "source": [
    "def flatten(lol):\n",
    "    for item in lol:\n",
    "        if isinstance(item, list):\n",
    "            yield from flatten(item)\n",
    "        else:\n",
    "            yield item"
   ],
   "metadata": {
    "collapsed": false,
    "ExecuteTime": {
     "end_time": "2024-03-05T07:08:44.210014Z",
     "start_time": "2024-03-05T07:08:44.205848Z"
    }
   },
   "id": "d70908450f6d9f6d",
   "execution_count": 145
  },
  {
   "cell_type": "code",
   "outputs": [
    {
     "data": {
      "text/plain": "[1, 2, 3, 4, 5, 6, 7, 8, 9]"
     },
     "execution_count": 146,
     "metadata": {},
     "output_type": "execute_result"
    }
   ],
   "source": [
    "lol = [1,2,[3,4,5],[6,[7,8,9],[]]]\n",
    "list(flatten(lol))"
   ],
   "metadata": {
    "collapsed": false,
    "ExecuteTime": {
     "end_time": "2024-03-05T07:09:02.786353Z",
     "start_time": "2024-03-05T07:09:02.782416Z"
    }
   },
   "id": "9c365ff7ff2df81a",
   "execution_count": 146
  },
  {
   "cell_type": "code",
   "outputs": [
    {
     "ename": "IndexError",
     "evalue": "list index out of range",
     "output_type": "error",
     "traceback": [
      "\u001B[0;31m---------------------------------------------------------------------------\u001B[0m",
      "\u001B[0;31mIndexError\u001B[0m                                Traceback (most recent call last)",
      "Cell \u001B[0;32mIn[147], line 3\u001B[0m\n\u001B[1;32m      1\u001B[0m short_list\u001B[38;5;241m=\u001B[39m[\u001B[38;5;241m1\u001B[39m,\u001B[38;5;241m2\u001B[39m,\u001B[38;5;241m3\u001B[39m]\n\u001B[1;32m      2\u001B[0m position \u001B[38;5;241m=\u001B[39m \u001B[38;5;241m5\u001B[39m\n\u001B[0;32m----> 3\u001B[0m \u001B[43mshort_list\u001B[49m\u001B[43m[\u001B[49m\u001B[43mposition\u001B[49m\u001B[43m]\u001B[49m\n",
      "\u001B[0;31mIndexError\u001B[0m: list index out of range"
     ]
    }
   ],
   "source": [
    "short_list=[1,2,3]\n",
    "position = 5\n",
    "short_list[position]"
   ],
   "metadata": {
    "collapsed": false,
    "ExecuteTime": {
     "end_time": "2024-03-05T07:18:09.089492Z",
     "start_time": "2024-03-05T07:18:09.072939Z"
    }
   },
   "id": "bc0d36dd0c4552a7",
   "execution_count": 147
  },
  {
   "cell_type": "code",
   "outputs": [
    {
     "name": "stdout",
     "output_type": "stream",
     "text": [
      "Need a postion between 0 and  2  but got 5\n"
     ]
    }
   ],
   "source": [
    "short_list = [1,2,3]\n",
    "position = 5\n",
    "try:\n",
    "    short_list[position]\n",
    "except:\n",
    "    print('Need a postion between 0 and ', len(short_list) - 1, ' but got', position)"
   ],
   "metadata": {
    "collapsed": false,
    "ExecuteTime": {
     "end_time": "2024-03-05T07:19:39.098509Z",
     "start_time": "2024-03-05T07:19:39.095825Z"
    }
   },
   "id": "7e89a5f372dfa10b",
   "execution_count": 148
  },
  {
   "cell_type": "code",
   "outputs": [
    {
     "name": "stdout",
     "output_type": "stream",
     "text": [
      "2\n",
      "1\n",
      "3\n",
      "Bad index: 3\n",
      "Bad index: 3\n",
      "3\n",
      "3\n",
      "Something else broke: invalid literal for int() with base 10: 'two'\n",
      "Something else broke: invalid literal for int() with base 10: 'two'\n",
      "Something else broke: invalid literal for int() with base 10: 'one'\n"
     ]
    }
   ],
   "source": [
    "short_list = [1,2,3]\n",
    "while True:\n",
    "    value = input('Postion [q to quit]? ')\n",
    "    if value == 'q':\n",
    "        break\n",
    "    try:\n",
    "        position = int(value)\n",
    "        print(short_list[position])\n",
    "    except IndexError as err:\n",
    "        print('Bad index:', position)\n",
    "    except Exception as other:\n",
    "        print('Something else broke:', other)"
   ],
   "metadata": {
    "collapsed": false,
    "ExecuteTime": {
     "end_time": "2024-03-05T07:23:02.318711Z",
     "start_time": "2024-03-05T07:21:56.644208Z"
    }
   },
   "id": "4165809f4218e7d7",
   "execution_count": 149
  },
  {
   "cell_type": "code",
   "outputs": [],
   "source": [
    "class UppercaseException(Exception):\n",
    "    pass"
   ],
   "metadata": {
    "collapsed": false,
    "ExecuteTime": {
     "end_time": "2024-03-05T07:23:41.990427Z",
     "start_time": "2024-03-05T07:23:41.988005Z"
    }
   },
   "id": "534d7311049678a4",
   "execution_count": 150
  },
  {
   "cell_type": "code",
   "outputs": [
    {
     "ename": "UppercaseException",
     "evalue": "MO",
     "output_type": "error",
     "traceback": [
      "\u001B[0;31m---------------------------------------------------------------------------\u001B[0m",
      "\u001B[0;31mUppercaseException\u001B[0m                        Traceback (most recent call last)",
      "Cell \u001B[0;32mIn[152], line 4\u001B[0m\n\u001B[1;32m      2\u001B[0m \u001B[38;5;28;01mfor\u001B[39;00m word \u001B[38;5;129;01min\u001B[39;00m words:\n\u001B[1;32m      3\u001B[0m     \u001B[38;5;28;01mif\u001B[39;00m word\u001B[38;5;241m.\u001B[39misupper():\n\u001B[0;32m----> 4\u001B[0m         \u001B[38;5;28;01mraise\u001B[39;00m UppercaseException(word)\n",
      "\u001B[0;31mUppercaseException\u001B[0m: MO"
     ]
    }
   ],
   "source": [
    "words = ['eenie','meenie','miny','MO']\n",
    "for word in words:\n",
    "    if word.isupper():\n",
    "        raise UppercaseException(word)"
   ],
   "metadata": {
    "collapsed": false,
    "ExecuteTime": {
     "end_time": "2024-03-05T07:25:00.721173Z",
     "start_time": "2024-03-05T07:25:00.709452Z"
    }
   },
   "id": "29784e91a16dbebb",
   "execution_count": 152
  },
  {
   "cell_type": "code",
   "outputs": [],
   "source": [
    "class OopsException(Exception):\n",
    "    pass"
   ],
   "metadata": {
    "collapsed": false,
    "ExecuteTime": {
     "end_time": "2024-03-05T07:27:45.737487Z",
     "start_time": "2024-03-05T07:27:45.735067Z"
    }
   },
   "id": "dacbf9bf055528ad",
   "execution_count": 156
  },
  {
   "cell_type": "code",
   "outputs": [
    {
     "name": "stdout",
     "output_type": "stream",
     "text": [
      "panic\n"
     ]
    }
   ],
   "source": [
    "try:\n",
    "    raise OopsException('panic')\n",
    "except OopsException as exc:\n",
    "    print(exc)"
   ],
   "metadata": {
    "collapsed": false,
    "ExecuteTime": {
     "end_time": "2024-03-05T07:27:50.233297Z",
     "start_time": "2024-03-05T07:27:50.230726Z"
    }
   },
   "id": "899d5caf25efb55d",
   "execution_count": 157
  },
  {
   "cell_type": "code",
   "outputs": [],
   "source": [],
   "metadata": {
    "collapsed": false
   },
   "id": "8f7cd11c9802db97"
  }
 ],
 "metadata": {
  "kernelspec": {
   "display_name": "Python 3",
   "language": "python",
   "name": "python3"
  },
  "language_info": {
   "codemirror_mode": {
    "name": "ipython",
    "version": 2
   },
   "file_extension": ".py",
   "mimetype": "text/x-python",
   "name": "python",
   "nbconvert_exporter": "python",
   "pygments_lexer": "ipython2",
   "version": "2.7.6"
  }
 },
 "nbformat": 4,
 "nbformat_minor": 5
}
