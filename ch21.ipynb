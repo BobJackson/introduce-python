{
 "cells": [
  {
   "cell_type": "code",
   "execution_count": 1,
   "metadata": {
    "collapsed": true,
    "pycharm": {
     "name": "#%%\n"
    }
   },
   "outputs": [
    {
     "name": "stdout",
     "output_type": "stream",
     "text": [
      "      bear        800\n",
      "  marmoset        250\n",
      "       elk        100\n",
      "    weasel         50\n",
      "      duck         10\n"
     ]
    }
   ],
   "source": [
    "import csv\n",
    "from collections import Counter\n",
    "\n",
    "counts = Counter()\n",
    "with open('zoo.csv', 'rt') as fin:\n",
    "    cin = csv.reader(fin)\n",
    "    for num, row in enumerate(cin):\n",
    "        if num > 0:\n",
    "            counts[row[0]] += int(row[-1])\n",
    "for animal, hush in counts.items():\n",
    "    print(\"%10s %10s\" % (animal, hush))"
   ]
  },
  {
   "cell_type": "code",
   "execution_count": 2,
   "outputs": [
    {
     "ename": "AttributeError",
     "evalue": "module 'sqlalchemy.types' has no attribute 'Binary'",
     "output_type": "error",
     "traceback": [
      "\u001B[0;31m---------------------------------------------------------------------------\u001B[0m",
      "\u001B[0;31mAttributeError\u001B[0m                            Traceback (most recent call last)",
      "Cell \u001B[0;32mIn[2], line 1\u001B[0m\n\u001B[0;32m----> 1\u001B[0m \u001B[38;5;28;01mimport\u001B[39;00m \u001B[38;5;21;01mbubbles\u001B[39;00m\n\u001B[1;32m      2\u001B[0m p \u001B[38;5;241m=\u001B[39m bubbles\u001B[38;5;241m.\u001B[39mPipeline()\n\u001B[1;32m      3\u001B[0m p\u001B[38;5;241m.\u001B[39msource(bubbles\u001B[38;5;241m.\u001B[39mdata_object(\u001B[38;5;124m'\u001B[39m\u001B[38;5;124mcsv_source\u001B[39m\u001B[38;5;124m'\u001B[39m,\u001B[38;5;124m'\u001B[39m\u001B[38;5;124mzoo.csv\u001B[39m\u001B[38;5;124m'\u001B[39m,infer_fields\u001B[38;5;241m=\u001B[39m\u001B[38;5;28;01mTrue\u001B[39;00m))\n",
      "File \u001B[0;32m~/Library/Python/3.9/lib/python/site-packages/bubbles/__init__.py:8\u001B[0m\n\u001B[1;32m      6\u001B[0m \u001B[38;5;28;01mfrom\u001B[39;00m \u001B[38;5;21;01m.\u001B[39;00m\u001B[38;5;21;01mstores\u001B[39;00m \u001B[38;5;28;01mimport\u001B[39;00m \u001B[38;5;241m*\u001B[39m\n\u001B[1;32m      7\u001B[0m \u001B[38;5;28;01mfrom\u001B[39;00m \u001B[38;5;21;01m.\u001B[39;00m\u001B[38;5;21;01miterator\u001B[39;00m \u001B[38;5;28;01mimport\u001B[39;00m \u001B[38;5;241m*\u001B[39m\n\u001B[0;32m----> 8\u001B[0m \u001B[38;5;28;01mfrom\u001B[39;00m \u001B[38;5;21;01m.\u001B[39;00m\u001B[38;5;21;01mbackends\u001B[39;00m \u001B[38;5;28;01mimport\u001B[39;00m \u001B[38;5;241m*\u001B[39m\n\u001B[1;32m      9\u001B[0m \u001B[38;5;28;01mfrom\u001B[39;00m \u001B[38;5;21;01m.\u001B[39;00m\u001B[38;5;21;01mpipeline\u001B[39;00m \u001B[38;5;28;01mimport\u001B[39;00m \u001B[38;5;241m*\u001B[39m\n\u001B[1;32m     10\u001B[0m \u001B[38;5;28;01mfrom\u001B[39;00m \u001B[38;5;21;01m.\u001B[39;00m\u001B[38;5;21;01mdatautil\u001B[39;00m \u001B[38;5;28;01mimport\u001B[39;00m \u001B[38;5;241m*\u001B[39m\n",
      "File \u001B[0;32m~/Library/Python/3.9/lib/python/site-packages/bubbles/backends/__init__.py:1\u001B[0m\n\u001B[0;32m----> 1\u001B[0m \u001B[38;5;28;01mfrom\u001B[39;00m \u001B[38;5;21;01m.\u001B[39;00m\u001B[38;5;21;01msql\u001B[39;00m \u001B[38;5;28;01mimport\u001B[39;00m \u001B[38;5;241m*\u001B[39m\n\u001B[1;32m      2\u001B[0m \u001B[38;5;28;01mfrom\u001B[39;00m \u001B[38;5;21;01m.\u001B[39;00m\u001B[38;5;21;01mtext\u001B[39;00m \u001B[38;5;28;01mimport\u001B[39;00m \u001B[38;5;241m*\u001B[39m\n",
      "File \u001B[0;32m~/Library/Python/3.9/lib/python/site-packages/bubbles/backends/sql/__init__.py:1\u001B[0m\n\u001B[0;32m----> 1\u001B[0m \u001B[38;5;28;01mfrom\u001B[39;00m \u001B[38;5;21;01m.\u001B[39;00m\u001B[38;5;21;01mobjects\u001B[39;00m \u001B[38;5;28;01mimport\u001B[39;00m \u001B[38;5;241m*\u001B[39m\n",
      "File \u001B[0;32m~/Library/Python/3.9/lib/python/site-packages/bubbles/backends/sql/objects.py:31\u001B[0m\n\u001B[1;32m     17\u001B[0m \u001B[38;5;28;01mimport\u001B[39;00m \u001B[38;5;21;01msqlalchemy\u001B[39;00m\u001B[38;5;21;01m.\u001B[39;00m\u001B[38;5;21;01msql\u001B[39;00m \u001B[38;5;28;01mas\u001B[39;00m \u001B[38;5;21;01msql\u001B[39;00m\n\u001B[1;32m     18\u001B[0m \u001B[38;5;66;03m# (sql type, storage type, analytical type)\u001B[39;00m\n\u001B[1;32m     19\u001B[0m _sql_to_bubbles_types \u001B[38;5;241m=\u001B[39m (\n\u001B[1;32m     20\u001B[0m     (sqlalchemy\u001B[38;5;241m.\u001B[39mtypes\u001B[38;5;241m.\u001B[39mUnicodeText, \u001B[38;5;124m\"\u001B[39m\u001B[38;5;124mtext\u001B[39m\u001B[38;5;124m\"\u001B[39m, \u001B[38;5;124m\"\u001B[39m\u001B[38;5;124mtypeless\u001B[39m\u001B[38;5;124m\"\u001B[39m),\n\u001B[1;32m     21\u001B[0m     (sqlalchemy\u001B[38;5;241m.\u001B[39mtypes\u001B[38;5;241m.\u001B[39mText, \u001B[38;5;124m\"\u001B[39m\u001B[38;5;124mtext\u001B[39m\u001B[38;5;124m\"\u001B[39m, \u001B[38;5;124m\"\u001B[39m\u001B[38;5;124mtypeless\u001B[39m\u001B[38;5;124m\"\u001B[39m),\n\u001B[1;32m     22\u001B[0m     (sqlalchemy\u001B[38;5;241m.\u001B[39mtypes\u001B[38;5;241m.\u001B[39mUnicode, \u001B[38;5;124m\"\u001B[39m\u001B[38;5;124mstring\u001B[39m\u001B[38;5;124m\"\u001B[39m, \u001B[38;5;124m\"\u001B[39m\u001B[38;5;124mset\u001B[39m\u001B[38;5;124m\"\u001B[39m),\n\u001B[1;32m     23\u001B[0m     (sqlalchemy\u001B[38;5;241m.\u001B[39mtypes\u001B[38;5;241m.\u001B[39mString, \u001B[38;5;124m\"\u001B[39m\u001B[38;5;124mstring\u001B[39m\u001B[38;5;124m\"\u001B[39m, \u001B[38;5;124m\"\u001B[39m\u001B[38;5;124mset\u001B[39m\u001B[38;5;124m\"\u001B[39m),\n\u001B[1;32m     24\u001B[0m     (sqlalchemy\u001B[38;5;241m.\u001B[39mtypes\u001B[38;5;241m.\u001B[39mInteger, \u001B[38;5;124m\"\u001B[39m\u001B[38;5;124minteger\u001B[39m\u001B[38;5;124m\"\u001B[39m, \u001B[38;5;124m\"\u001B[39m\u001B[38;5;124mdiscrete\u001B[39m\u001B[38;5;124m\"\u001B[39m),\n\u001B[1;32m     25\u001B[0m     (sqlalchemy\u001B[38;5;241m.\u001B[39mtypes\u001B[38;5;241m.\u001B[39mNumeric, \u001B[38;5;124m\"\u001B[39m\u001B[38;5;124mfloat\u001B[39m\u001B[38;5;124m\"\u001B[39m, \u001B[38;5;124m\"\u001B[39m\u001B[38;5;124mrange\u001B[39m\u001B[38;5;124m\"\u001B[39m),\n\u001B[1;32m     26\u001B[0m     (sqlalchemy\u001B[38;5;241m.\u001B[39mtypes\u001B[38;5;241m.\u001B[39mDateTime, \u001B[38;5;124m\"\u001B[39m\u001B[38;5;124mdate\u001B[39m\u001B[38;5;124m\"\u001B[39m, \u001B[38;5;124m\"\u001B[39m\u001B[38;5;124mtypeless\u001B[39m\u001B[38;5;124m\"\u001B[39m),\n\u001B[1;32m     27\u001B[0m     (sqlalchemy\u001B[38;5;241m.\u001B[39mtypes\u001B[38;5;241m.\u001B[39mDate, \u001B[38;5;124m\"\u001B[39m\u001B[38;5;124mdate\u001B[39m\u001B[38;5;124m\"\u001B[39m, \u001B[38;5;124m\"\u001B[39m\u001B[38;5;124mtypeless\u001B[39m\u001B[38;5;124m\"\u001B[39m),\n\u001B[1;32m     28\u001B[0m     (sqlalchemy\u001B[38;5;241m.\u001B[39mtypes\u001B[38;5;241m.\u001B[39mTime, \u001B[38;5;124m\"\u001B[39m\u001B[38;5;124munknown\u001B[39m\u001B[38;5;124m\"\u001B[39m, \u001B[38;5;124m\"\u001B[39m\u001B[38;5;124mtypeless\u001B[39m\u001B[38;5;124m\"\u001B[39m),\n\u001B[1;32m     29\u001B[0m     (sqlalchemy\u001B[38;5;241m.\u001B[39mtypes\u001B[38;5;241m.\u001B[39mInterval, \u001B[38;5;124m\"\u001B[39m\u001B[38;5;124munknown\u001B[39m\u001B[38;5;124m\"\u001B[39m, \u001B[38;5;124m\"\u001B[39m\u001B[38;5;124mtypeless\u001B[39m\u001B[38;5;124m\"\u001B[39m),\n\u001B[1;32m     30\u001B[0m     (sqlalchemy\u001B[38;5;241m.\u001B[39mtypes\u001B[38;5;241m.\u001B[39mBoolean, \u001B[38;5;124m\"\u001B[39m\u001B[38;5;124mboolean\u001B[39m\u001B[38;5;124m\"\u001B[39m, \u001B[38;5;124m\"\u001B[39m\u001B[38;5;124mflag\u001B[39m\u001B[38;5;124m\"\u001B[39m),\n\u001B[0;32m---> 31\u001B[0m     (\u001B[43msqlalchemy\u001B[49m\u001B[38;5;241;43m.\u001B[39;49m\u001B[43mtypes\u001B[49m\u001B[38;5;241;43m.\u001B[39;49m\u001B[43mBinary\u001B[49m, \u001B[38;5;124m\"\u001B[39m\u001B[38;5;124munknown\u001B[39m\u001B[38;5;124m\"\u001B[39m, \u001B[38;5;124m\"\u001B[39m\u001B[38;5;124mtypeless\u001B[39m\u001B[38;5;124m\"\u001B[39m)\n\u001B[1;32m     32\u001B[0m )\n\u001B[1;32m     34\u001B[0m concrete_sql_type_map \u001B[38;5;241m=\u001B[39m {\n\u001B[1;32m     35\u001B[0m     \u001B[38;5;124m\"\u001B[39m\u001B[38;5;124mstring\u001B[39m\u001B[38;5;124m\"\u001B[39m: sqlalchemy\u001B[38;5;241m.\u001B[39mtypes\u001B[38;5;241m.\u001B[39mUnicode,\n\u001B[1;32m     36\u001B[0m     \u001B[38;5;124m\"\u001B[39m\u001B[38;5;124mtext\u001B[39m\u001B[38;5;124m\"\u001B[39m: sqlalchemy\u001B[38;5;241m.\u001B[39mtypes\u001B[38;5;241m.\u001B[39mUnicodeText,\n\u001B[0;32m   (...)\u001B[0m\n\u001B[1;32m     41\u001B[0m     \u001B[38;5;124m\"\u001B[39m\u001B[38;5;124mboolean\u001B[39m\u001B[38;5;124m\"\u001B[39m: sqlalchemy\u001B[38;5;241m.\u001B[39mtypes\u001B[38;5;241m.\u001B[39mSmallInteger\n\u001B[1;32m     42\u001B[0m }\n\u001B[1;32m     44\u001B[0m \u001B[38;5;28;01mfrom\u001B[39;00m \u001B[38;5;21;01msqlalchemy\u001B[39;00m\u001B[38;5;21;01m.\u001B[39;00m\u001B[38;5;21;01msql\u001B[39;00m\u001B[38;5;21;01m.\u001B[39;00m\u001B[38;5;21;01mexpression\u001B[39;00m \u001B[38;5;28;01mimport\u001B[39;00m Executable, ClauseElement\n",
      "\u001B[0;31mAttributeError\u001B[0m: module 'sqlalchemy.types' has no attribute 'Binary'"
     ]
    }
   ],
   "source": [
    "import bubbles\n",
    "p = bubbles.Pipeline()\n",
    "p.source(bubbles.data_object('csv_source','zoo.csv',infer_fields=True))\n",
    "p.aggregate('animal','hush')\n",
    "p.pretty_print()"
   ],
   "metadata": {
    "collapsed": false,
    "pycharm": {
     "name": "#%%\n"
    }
   }
  },
  {
   "cell_type": "code",
   "execution_count": 3,
   "outputs": [
    {
     "name": "stdout",
     "output_type": "stream",
     "text": [
      "2.0.27\n"
     ]
    }
   ],
   "source": [
    "import sqlalchemy\n",
    "print(sqlalchemy.__version__)\n",
    "# 2.0.27, it removed the att types"
   ],
   "metadata": {
    "collapsed": false,
    "pycharm": {
     "name": "#%%\n"
    }
   }
  },
  {
   "cell_type": "code",
   "execution_count": null,
   "outputs": [],
   "source": [],
   "metadata": {
    "collapsed": false,
    "pycharm": {
     "name": "#%%\n"
    }
   }
  }
 ],
 "metadata": {
  "kernelspec": {
   "display_name": "Python 3",
   "language": "python",
   "name": "python3"
  },
  "language_info": {
   "codemirror_mode": {
    "name": "ipython",
    "version": 2
   },
   "file_extension": ".py",
   "mimetype": "text/x-python",
   "name": "python",
   "nbconvert_exporter": "python",
   "pygments_lexer": "ipython2",
   "version": "2.7.6"
  }
 },
 "nbformat": 4,
 "nbformat_minor": 0
}