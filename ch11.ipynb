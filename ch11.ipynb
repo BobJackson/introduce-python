{
 "cells": [
  {
   "cell_type": "code",
   "execution_count": 1,
   "id": "initial_id",
   "metadata": {
    "collapsed": true,
    "ExecuteTime": {
     "end_time": "2024-03-05T09:14:37.260095Z",
     "start_time": "2024-03-05T09:14:37.254492Z"
    }
   },
   "outputs": [],
   "source": [
    "from random import choice\n",
    "\n",
    "places = ['McDonalds', \"KFC\", \"Burger King\", \"Taco Bell\", \"Wendys\", \"Arbys\", \"Pizza Hut\"]\n",
    "\n",
    "def pick():\n",
    "    \"\"\"Return random fast food place\"\"\"\n",
    "    return choice(places)"
   ]
  },
  {
   "cell_type": "code",
   "outputs": [
    {
     "data": {
      "text/plain": "'Wendys'"
     },
     "execution_count": 3,
     "metadata": {},
     "output_type": "execute_result"
    }
   ],
   "source": [
    "pick()"
   ],
   "metadata": {
    "collapsed": false,
    "ExecuteTime": {
     "end_time": "2024-03-05T09:14:45.179718Z",
     "start_time": "2024-03-05T09:14:45.175240Z"
    }
   },
   "id": "2953d1bb92cab3e7",
   "execution_count": 3
  },
  {
   "cell_type": "code",
   "outputs": [
    {
     "name": "stdout",
     "output_type": "stream",
     "text": [
      "Let's go to Wendys\n"
     ]
    }
   ],
   "source": [
    "import fast\n",
    "place = fast.pick()\n",
    "\n",
    "print(\"Let's go to\", place)\n"
   ],
   "metadata": {
    "collapsed": false,
    "ExecuteTime": {
     "end_time": "2024-03-05T09:18:38.439222Z",
     "start_time": "2024-03-05T09:18:38.434701Z"
    }
   },
   "id": "85427b2685aaf55a",
   "execution_count": 7
  },
  {
   "cell_type": "code",
   "outputs": [
    {
     "name": "stdout",
     "output_type": "stream",
     "text": [
      "Let's go to Burger King\n"
     ]
    }
   ],
   "source": [
    "import fast as f\n",
    "place = f.pick()\n",
    "print(\"Let's go to\", place)"
   ],
   "metadata": {
    "collapsed": false,
    "ExecuteTime": {
     "end_time": "2024-03-05T09:19:44.486818Z",
     "start_time": "2024-03-05T09:19:44.481164Z"
    }
   },
   "id": "e530b334c6d3dd72",
   "execution_count": 8
  },
  {
   "cell_type": "code",
   "outputs": [
    {
     "name": "stdout",
     "output_type": "stream",
     "text": [
      "Let's go to Taco Bell\n"
     ]
    }
   ],
   "source": [
    "from fast import pick\n",
    "place = pick()\n",
    "print(\"Let's go to\", place)"
   ],
   "metadata": {
    "collapsed": false,
    "ExecuteTime": {
     "end_time": "2024-03-05T09:20:04.176447Z",
     "start_time": "2024-03-05T09:20:04.170291Z"
    }
   },
   "id": "4b6781cf484d695b",
   "execution_count": 9
  },
  {
   "cell_type": "code",
   "outputs": [
    {
     "name": "stdout",
     "output_type": "stream",
     "text": [
      "Let's go to McDonalds\n"
     ]
    }
   ],
   "source": [
    "from fast import  pick as who_cares\n",
    "place = who_cares()\n",
    "print(\"Let's go to\", place)"
   ],
   "metadata": {
    "collapsed": false,
    "ExecuteTime": {
     "end_time": "2024-03-05T09:20:44.861909Z",
     "start_time": "2024-03-05T09:20:44.856864Z"
    }
   },
   "id": "a2f853b048ab69a8",
   "execution_count": 10
  },
  {
   "cell_type": "code",
   "outputs": [
    {
     "name": "stdout",
     "output_type": "stream",
     "text": [
      "/Applications/PyCharm.app/Contents/plugins/python/helpers-pro/jupyter_debug\n",
      "/Applications/PyCharm.app/Contents/plugins/python/helpers/pydev\n",
      "/Users/bob/PycharmProjects/introduce-python\n",
      "/Library/Developer/CommandLineTools/Library/Frameworks/Python3.framework/Versions/3.9/lib/python39.zip\n",
      "/Library/Developer/CommandLineTools/Library/Frameworks/Python3.framework/Versions/3.9/lib/python3.9\n",
      "/Library/Developer/CommandLineTools/Library/Frameworks/Python3.framework/Versions/3.9/lib/python3.9/lib-dynload\n",
      "\n",
      "/Users/bob/PycharmProjects/introduce-python/.venv/lib/python3.9/site-packages\n"
     ]
    }
   ],
   "source": [
    "import  sys\n",
    "for place in sys.path:\n",
    "    print(place)"
   ],
   "metadata": {
    "collapsed": false,
    "ExecuteTime": {
     "end_time": "2024-03-05T09:23:26.744562Z",
     "start_time": "2024-03-05T09:23:26.738083Z"
    }
   },
   "id": "7b6a20b7711b2cfe",
   "execution_count": 11
  },
  {
   "cell_type": "code",
   "outputs": [
    {
     "data": {
      "text/plain": "3.141592653589793"
     },
     "execution_count": 12,
     "metadata": {},
     "output_type": "execute_result"
    }
   ],
   "source": [
    "import math\n",
    "math.pi"
   ],
   "metadata": {
    "collapsed": false,
    "ExecuteTime": {
     "end_time": "2024-03-05T09:25:45.175608Z",
     "start_time": "2024-03-05T09:25:45.169134Z"
    }
   },
   "id": "1cff9cda70b5caee",
   "execution_count": 12
  },
  {
   "cell_type": "code",
   "outputs": [
    {
     "data": {
      "text/plain": "3.0"
     },
     "execution_count": 13,
     "metadata": {},
     "output_type": "execute_result"
    }
   ],
   "source": [
    "math.pi = 3.0\n",
    "math.pi"
   ],
   "metadata": {
    "collapsed": false,
    "ExecuteTime": {
     "end_time": "2024-03-05T09:25:56.649517Z",
     "start_time": "2024-03-05T09:25:56.645457Z"
    }
   },
   "id": "e225d4067976714f",
   "execution_count": 13
  },
  {
   "cell_type": "code",
   "outputs": [
    {
     "data": {
      "text/plain": "{'Hydrogen': 1, 'Helium': 2}"
     },
     "execution_count": 14,
     "metadata": {},
     "output_type": "execute_result"
    }
   ],
   "source": [
    "periodic_table= {'Hydrogen': 1, 'Helium': 2}\n",
    "periodic_table"
   ],
   "metadata": {
    "collapsed": false,
    "ExecuteTime": {
     "end_time": "2024-03-05T09:28:46.545625Z",
     "start_time": "2024-03-05T09:28:46.535606Z"
    }
   },
   "id": "af14dddb7b64091d",
   "execution_count": 14
  },
  {
   "cell_type": "code",
   "outputs": [
    {
     "data": {
      "text/plain": "12"
     },
     "execution_count": 15,
     "metadata": {},
     "output_type": "execute_result"
    }
   ],
   "source": [
    "carbon = periodic_table.setdefault('Carbon', 12)\n",
    "carbon"
   ],
   "metadata": {
    "collapsed": false,
    "ExecuteTime": {
     "end_time": "2024-03-05T09:29:13.340288Z",
     "start_time": "2024-03-05T09:29:13.333462Z"
    }
   },
   "id": "539bd3c25316e4d5",
   "execution_count": 15
  },
  {
   "cell_type": "code",
   "outputs": [
    {
     "data": {
      "text/plain": "{'Hydrogen': 1, 'Helium': 2, 'Carbon': 12}"
     },
     "execution_count": 16,
     "metadata": {},
     "output_type": "execute_result"
    }
   ],
   "source": [
    "periodic_table"
   ],
   "metadata": {
    "collapsed": false,
    "ExecuteTime": {
     "end_time": "2024-03-05T09:29:20.041464Z",
     "start_time": "2024-03-05T09:29:20.037179Z"
    }
   },
   "id": "d58e15b19a78622",
   "execution_count": 16
  },
  {
   "cell_type": "code",
   "outputs": [
    {
     "data": {
      "text/plain": "2"
     },
     "execution_count": 17,
     "metadata": {},
     "output_type": "execute_result"
    }
   ],
   "source": [
    "helium = periodic_table.setdefault('Helium', 947)\n",
    "helium"
   ],
   "metadata": {
    "collapsed": false,
    "ExecuteTime": {
     "end_time": "2024-03-05T09:29:55.047324Z",
     "start_time": "2024-03-05T09:29:55.035012Z"
    }
   },
   "id": "77f7906f8040237d",
   "execution_count": 17
  },
  {
   "cell_type": "code",
   "outputs": [
    {
     "data": {
      "text/plain": "{'Hydrogen': 1, 'Helium': 2, 'Carbon': 12}"
     },
     "execution_count": 18,
     "metadata": {},
     "output_type": "execute_result"
    }
   ],
   "source": [
    "periodic_table"
   ],
   "metadata": {
    "collapsed": false,
    "ExecuteTime": {
     "end_time": "2024-03-05T09:30:06.568003Z",
     "start_time": "2024-03-05T09:30:06.563864Z"
    }
   },
   "id": "33a7cb71e6234b68",
   "execution_count": 18
  },
  {
   "cell_type": "code",
   "outputs": [],
   "source": [
    "from _collections import  defaultdict\n",
    "periodic_table = defaultdict(int)"
   ],
   "metadata": {
    "collapsed": false,
    "ExecuteTime": {
     "end_time": "2024-03-05T09:30:57.137799Z",
     "start_time": "2024-03-05T09:30:57.131249Z"
    }
   },
   "id": "a2bf493f780e6e8c",
   "execution_count": 19
  },
  {
   "cell_type": "code",
   "outputs": [],
   "source": [
    "periodic_table['Hydrogen'] = 1"
   ],
   "metadata": {
    "collapsed": false,
    "ExecuteTime": {
     "end_time": "2024-03-05T09:31:08.886854Z",
     "start_time": "2024-03-05T09:31:08.883806Z"
    }
   },
   "id": "40c34b745e1497dc",
   "execution_count": 20
  },
  {
   "cell_type": "code",
   "outputs": [
    {
     "data": {
      "text/plain": "0"
     },
     "execution_count": 21,
     "metadata": {},
     "output_type": "execute_result"
    }
   ],
   "source": [
    "periodic_table['Lead']"
   ],
   "metadata": {
    "collapsed": false,
    "ExecuteTime": {
     "end_time": "2024-03-05T09:31:15.429609Z",
     "start_time": "2024-03-05T09:31:15.426167Z"
    }
   },
   "id": "cd4cb862cc8f7578",
   "execution_count": 21
  },
  {
   "cell_type": "code",
   "outputs": [
    {
     "data": {
      "text/plain": "defaultdict(int, {'Hydrogen': 1, 'Lead': 0})"
     },
     "execution_count": 22,
     "metadata": {},
     "output_type": "execute_result"
    }
   ],
   "source": [
    "periodic_table"
   ],
   "metadata": {
    "collapsed": false,
    "ExecuteTime": {
     "end_time": "2024-03-05T09:31:17.856710Z",
     "start_time": "2024-03-05T09:31:17.852930Z"
    }
   },
   "id": "501894cdf1b6e799",
   "execution_count": 22
  },
  {
   "cell_type": "code",
   "outputs": [],
   "source": [
    "from _collections import defaultdict\n",
    "\n",
    "def no_idea():\n",
    "    return 'Hub?'\n",
    "\n",
    "bestiary =defaultdict(no_idea)"
   ],
   "metadata": {
    "collapsed": false,
    "ExecuteTime": {
     "end_time": "2024-03-05T09:32:32.232032Z",
     "start_time": "2024-03-05T09:32:32.224722Z"
    }
   },
   "id": "29b64f83acd747b",
   "execution_count": 23
  },
  {
   "cell_type": "code",
   "outputs": [
    {
     "data": {
      "text/plain": "'Abominable Snowman'"
     },
     "execution_count": 24,
     "metadata": {},
     "output_type": "execute_result"
    }
   ],
   "source": [
    "bestiary['A'] = 'Abominable Snowman'\n",
    "bestiary['B'] = 'Bigfoot'\n",
    "\n",
    "bestiary['A']"
   ],
   "metadata": {
    "collapsed": false,
    "ExecuteTime": {
     "end_time": "2024-03-05T09:39:42.144123Z",
     "start_time": "2024-03-05T09:39:42.123682Z"
    }
   },
   "id": "f59388b41c0a6268",
   "execution_count": 24
  },
  {
   "cell_type": "code",
   "outputs": [
    {
     "data": {
      "text/plain": "'Bigfoot'"
     },
     "execution_count": 25,
     "metadata": {},
     "output_type": "execute_result"
    }
   ],
   "source": [
    "bestiary['B']"
   ],
   "metadata": {
    "collapsed": false,
    "ExecuteTime": {
     "end_time": "2024-03-05T09:39:49.472282Z",
     "start_time": "2024-03-05T09:39:49.467257Z"
    }
   },
   "id": "d46c84d5168bf535",
   "execution_count": 25
  },
  {
   "cell_type": "code",
   "outputs": [
    {
     "data": {
      "text/plain": "'Hub?'"
     },
     "execution_count": 26,
     "metadata": {},
     "output_type": "execute_result"
    }
   ],
   "source": [
    "bestiary['C']"
   ],
   "metadata": {
    "collapsed": false,
    "ExecuteTime": {
     "end_time": "2024-03-05T09:40:01.343999Z",
     "start_time": "2024-03-05T09:40:01.335962Z"
    }
   },
   "id": "4b5839f9b026a5e0",
   "execution_count": 26
  },
  {
   "cell_type": "code",
   "outputs": [],
   "source": [
    "bestiary = defaultdict(lambda : 'Hub?')"
   ],
   "metadata": {
    "collapsed": false,
    "ExecuteTime": {
     "end_time": "2024-03-05T09:40:35.290981Z",
     "start_time": "2024-03-05T09:40:35.285649Z"
    }
   },
   "id": "f979b1bf8948d2b1",
   "execution_count": 27
  },
  {
   "cell_type": "code",
   "outputs": [
    {
     "data": {
      "text/plain": "'Hub?'"
     },
     "execution_count": 28,
     "metadata": {},
     "output_type": "execute_result"
    }
   ],
   "source": [
    "bestiary['E']"
   ],
   "metadata": {
    "collapsed": false,
    "ExecuteTime": {
     "end_time": "2024-03-05T09:40:40.293633Z",
     "start_time": "2024-03-05T09:40:40.290195Z"
    }
   },
   "id": "6f952e7ef866f52c",
   "execution_count": 28
  },
  {
   "cell_type": "code",
   "outputs": [
    {
     "name": "stdout",
     "output_type": "stream",
     "text": [
      "spam 3\n",
      "eggs 1\n"
     ]
    }
   ],
   "source": [
    "from _collections import defaultdict\n",
    "food_counter = defaultdict(int)\n",
    "for food in ['spam', 'spam', 'eggs', 'spam']:\n",
    "    food_counter[food] += 1\n",
    "    \n",
    "for food, count in food_counter.items():\n",
    "    print(food, count)\n"
   ],
   "metadata": {
    "collapsed": false,
    "ExecuteTime": {
     "end_time": "2024-03-05T09:42:18.239756Z",
     "start_time": "2024-03-05T09:42:18.233867Z"
    }
   },
   "id": "7346a4d8c47fcd8",
   "execution_count": 29
  },
  {
   "cell_type": "code",
   "outputs": [
    {
     "name": "stdout",
     "output_type": "stream",
     "text": [
      "spam 3\n",
      "eggs 1\n"
     ]
    }
   ],
   "source": [
    "dict_counter = {}\n",
    "for food in ['spam', 'spam', 'eggs', 'spam']:\n",
    "    if not food in dict_counter:\n",
    "        dict_counter[food] = 0\n",
    "    dict_counter[food] += 1\n",
    "    \n",
    "for food, count in dict_counter.items():\n",
    "    print(food, count)"
   ],
   "metadata": {
    "collapsed": false,
    "ExecuteTime": {
     "end_time": "2024-03-05T09:43:36.406628Z",
     "start_time": "2024-03-05T09:43:36.400528Z"
    }
   },
   "id": "c69fb1ae02f8e59f",
   "execution_count": 30
  },
  {
   "cell_type": "code",
   "outputs": [
    {
     "data": {
      "text/plain": "Counter({'spam': 3, 'eggs': 1})"
     },
     "execution_count": 32,
     "metadata": {},
     "output_type": "execute_result"
    }
   ],
   "source": [
    "from collections import Counter\n",
    "breakfast = ['spam', 'spam', 'eggs', 'spam']\n",
    "breakfast_counter = Counter(breakfast)\n",
    "breakfast_counter"
   ],
   "metadata": {
    "collapsed": false,
    "ExecuteTime": {
     "end_time": "2024-03-05T09:45:44.497191Z",
     "start_time": "2024-03-05T09:45:44.492415Z"
    }
   },
   "id": "c5f0a0561381aac4",
   "execution_count": 32
  },
  {
   "cell_type": "code",
   "outputs": [
    {
     "data": {
      "text/plain": "[('spam', 3), ('eggs', 1)]"
     },
     "execution_count": 33,
     "metadata": {},
     "output_type": "execute_result"
    }
   ],
   "source": [
    "breakfast_counter.most_common()"
   ],
   "metadata": {
    "collapsed": false,
    "ExecuteTime": {
     "end_time": "2024-03-05T09:46:13.847625Z",
     "start_time": "2024-03-05T09:46:13.843564Z"
    }
   },
   "id": "2667d3b6ad1deb7e",
   "execution_count": 33
  },
  {
   "cell_type": "code",
   "outputs": [
    {
     "data": {
      "text/plain": "[('spam', 3)]"
     },
     "execution_count": 34,
     "metadata": {},
     "output_type": "execute_result"
    }
   ],
   "source": [
    "breakfast_counter.most_common(1)"
   ],
   "metadata": {
    "collapsed": false,
    "ExecuteTime": {
     "end_time": "2024-03-05T09:46:20.596173Z",
     "start_time": "2024-03-05T09:46:20.592661Z"
    }
   },
   "id": "61e9f4eeb4227102",
   "execution_count": 34
  },
  {
   "cell_type": "code",
   "outputs": [
    {
     "data": {
      "text/plain": "Counter({'spam': 3, 'eggs': 1})"
     },
     "execution_count": 35,
     "metadata": {},
     "output_type": "execute_result"
    }
   ],
   "source": [
    "breakfast_counter"
   ],
   "metadata": {
    "collapsed": false,
    "ExecuteTime": {
     "end_time": "2024-03-05T09:46:30.169175Z",
     "start_time": "2024-03-05T09:46:30.165138Z"
    }
   },
   "id": "9868d5fbcbf0df14",
   "execution_count": 35
  },
  {
   "cell_type": "code",
   "outputs": [
    {
     "data": {
      "text/plain": "Counter({'spam': 3, 'eggs': 1})"
     },
     "execution_count": 36,
     "metadata": {},
     "output_type": "execute_result"
    }
   ],
   "source": [
    "Counter({'spam': 3, 'eggs': 1})"
   ],
   "metadata": {
    "collapsed": false,
    "ExecuteTime": {
     "end_time": "2024-03-05T09:46:49.003161Z",
     "start_time": "2024-03-05T09:46:48.999788Z"
    }
   },
   "id": "d9ce8f3cf0b5339c",
   "execution_count": 36
  },
  {
   "cell_type": "code",
   "outputs": [
    {
     "data": {
      "text/plain": "Counter({'eggs': 2, 'bacon': 1})"
     },
     "execution_count": 39,
     "metadata": {},
     "output_type": "execute_result"
    }
   ],
   "source": [
    "lunch = ['eggs', 'eggs', 'bacon']\n",
    "lunch_counter = Counter(lunch)\n",
    "lunch_counter"
   ],
   "metadata": {
    "collapsed": false,
    "ExecuteTime": {
     "end_time": "2024-03-05T09:48:45.424186Z",
     "start_time": "2024-03-05T09:48:45.419771Z"
    }
   },
   "id": "ac138dd2342db2b7",
   "execution_count": 39
  },
  {
   "cell_type": "code",
   "outputs": [
    {
     "data": {
      "text/plain": "Counter({'spam': 3, 'eggs': 3, 'bacon': 1})"
     },
     "execution_count": 40,
     "metadata": {},
     "output_type": "execute_result"
    }
   ],
   "source": [
    "breakfast_counter + lunch_counter"
   ],
   "metadata": {
    "collapsed": false,
    "ExecuteTime": {
     "end_time": "2024-03-05T09:48:47.477356Z",
     "start_time": "2024-03-05T09:48:47.472126Z"
    }
   },
   "id": "e45492bf8e446407",
   "execution_count": 40
  },
  {
   "cell_type": "code",
   "outputs": [
    {
     "data": {
      "text/plain": "Counter({'spam': 3})"
     },
     "execution_count": 41,
     "metadata": {},
     "output_type": "execute_result"
    }
   ],
   "source": [
    "breakfast_counter - lunch_counter"
   ],
   "metadata": {
    "collapsed": false,
    "ExecuteTime": {
     "end_time": "2024-03-05T09:49:03.658280Z",
     "start_time": "2024-03-05T09:49:03.652927Z"
    }
   },
   "id": "b3361b816106ebe8",
   "execution_count": 41
  },
  {
   "cell_type": "code",
   "outputs": [
    {
     "data": {
      "text/plain": "Counter({'eggs': 1, 'bacon': 1})"
     },
     "execution_count": 42,
     "metadata": {},
     "output_type": "execute_result"
    }
   ],
   "source": [
    "lunch_counter - breakfast_counter"
   ],
   "metadata": {
    "collapsed": false,
    "ExecuteTime": {
     "end_time": "2024-03-05T09:49:18.070733Z",
     "start_time": "2024-03-05T09:49:18.064598Z"
    }
   },
   "id": "e1c2743f8ec75860",
   "execution_count": 42
  },
  {
   "cell_type": "code",
   "outputs": [
    {
     "data": {
      "text/plain": "Counter({'eggs': 1})"
     },
     "execution_count": 43,
     "metadata": {},
     "output_type": "execute_result"
    }
   ],
   "source": [
    "breakfast_counter & lunch_counter"
   ],
   "metadata": {
    "collapsed": false,
    "ExecuteTime": {
     "end_time": "2024-03-05T09:49:34.781845Z",
     "start_time": "2024-03-05T09:49:34.778191Z"
    }
   },
   "id": "bdcf7bf15ca4e953",
   "execution_count": 43
  },
  {
   "cell_type": "code",
   "outputs": [
    {
     "data": {
      "text/plain": "Counter({'spam': 3, 'eggs': 2, 'bacon': 1})"
     },
     "execution_count": 44,
     "metadata": {},
     "output_type": "execute_result"
    }
   ],
   "source": [
    "breakfast_counter | lunch_counter"
   ],
   "metadata": {
    "collapsed": false,
    "ExecuteTime": {
     "end_time": "2024-03-05T09:49:40.350500Z",
     "start_time": "2024-03-05T09:49:40.347180Z"
    }
   },
   "id": "c550114196a9296",
   "execution_count": 44
  },
  {
   "cell_type": "code",
   "outputs": [
    {
     "name": "stdout",
     "output_type": "stream",
     "text": [
      "Moe\n",
      "Larry\n",
      "Curly\n"
     ]
    }
   ],
   "source": [
    "quotes = {\n",
    "    'Moe': 'A wise guy, huh?',\n",
    "    'Larry': 'Ow!',\n",
    "    'Curly': 'Nyuk nyuk!'\n",
    "}\n",
    "for stooge in quotes:\n",
    "    print(stooge)"
   ],
   "metadata": {
    "collapsed": false,
    "ExecuteTime": {
     "end_time": "2024-03-05T09:50:40.608636Z",
     "start_time": "2024-03-05T09:50:40.605310Z"
    }
   },
   "id": "c1c01407887a8bb4",
   "execution_count": 47
  },
  {
   "cell_type": "code",
   "outputs": [
    {
     "name": "stdout",
     "output_type": "stream",
     "text": [
      "Moe\n",
      "Larry\n",
      "Curly\n"
     ]
    }
   ],
   "source": [
    "from collections import OrderedDict\n",
    "quotes = OrderedDict([\n",
    "    ('Moe', 'A wise guy, huh?'),\n",
    "    ('Larry', 'Ow!'),\n",
    "    ('Curly', 'Nyuk nyuk!'),\n",
    "])\n",
    "for stooge in quotes:\n",
    "    print(stooge)"
   ],
   "metadata": {
    "collapsed": false,
    "ExecuteTime": {
     "end_time": "2024-03-05T09:51:50.861413Z",
     "start_time": "2024-03-05T09:51:50.855812Z"
    }
   },
   "id": "f4a3337d1505474f",
   "execution_count": 48
  },
  {
   "cell_type": "code",
   "outputs": [],
   "source": [
    "def palindrome(word):\n",
    "    from collections import deque\n",
    "    dq = deque(word)\n",
    "    while len(dq) > 1:\n",
    "        if dq.popleft() != dq.pop():\n",
    "            return False\n",
    "    return True"
   ],
   "metadata": {
    "collapsed": false,
    "ExecuteTime": {
     "end_time": "2024-03-05T09:53:11.547985Z",
     "start_time": "2024-03-05T09:53:11.542872Z"
    }
   },
   "id": "9d076d0e9e608ebf",
   "execution_count": 49
  },
  {
   "cell_type": "code",
   "outputs": [
    {
     "data": {
      "text/plain": "True"
     },
     "execution_count": 50,
     "metadata": {},
     "output_type": "execute_result"
    }
   ],
   "source": [
    "palindrome('a')"
   ],
   "metadata": {
    "collapsed": false,
    "ExecuteTime": {
     "end_time": "2024-03-05T09:53:20.940031Z",
     "start_time": "2024-03-05T09:53:20.936445Z"
    }
   },
   "id": "7963542985150ca9",
   "execution_count": 50
  },
  {
   "cell_type": "code",
   "outputs": [
    {
     "data": {
      "text/plain": "True"
     },
     "execution_count": 51,
     "metadata": {},
     "output_type": "execute_result"
    }
   ],
   "source": [
    "palindrome('racecar')"
   ],
   "metadata": {
    "collapsed": false,
    "ExecuteTime": {
     "end_time": "2024-03-05T09:53:52.649461Z",
     "start_time": "2024-03-05T09:53:52.644360Z"
    }
   },
   "id": "b696e09c2c21fda",
   "execution_count": 51
  },
  {
   "cell_type": "code",
   "outputs": [
    {
     "data": {
      "text/plain": "True"
     },
     "execution_count": 52,
     "metadata": {},
     "output_type": "execute_result"
    }
   ],
   "source": [
    "palindrome('')"
   ],
   "metadata": {
    "collapsed": false,
    "ExecuteTime": {
     "end_time": "2024-03-05T09:54:12.251317Z",
     "start_time": "2024-03-05T09:54:12.247426Z"
    }
   },
   "id": "a8c4395a0a9b9f5d",
   "execution_count": 52
  },
  {
   "cell_type": "code",
   "outputs": [
    {
     "data": {
      "text/plain": "True"
     },
     "execution_count": 53,
     "metadata": {},
     "output_type": "execute_result"
    }
   ],
   "source": [
    "palindrome('radar')"
   ],
   "metadata": {
    "collapsed": false,
    "ExecuteTime": {
     "end_time": "2024-03-05T09:54:19.867258Z",
     "start_time": "2024-03-05T09:54:19.863532Z"
    }
   },
   "id": "8cd5768c89efb7c6",
   "execution_count": 53
  },
  {
   "cell_type": "code",
   "outputs": [
    {
     "data": {
      "text/plain": "False"
     },
     "execution_count": 54,
     "metadata": {},
     "output_type": "execute_result"
    }
   ],
   "source": [
    "palindrome('halibut')"
   ],
   "metadata": {
    "collapsed": false,
    "ExecuteTime": {
     "end_time": "2024-03-05T09:54:31.722187Z",
     "start_time": "2024-03-05T09:54:31.718922Z"
    }
   },
   "id": "7eefc5da46c526ad",
   "execution_count": 54
  },
  {
   "cell_type": "code",
   "outputs": [],
   "source": [
    "def another_palindrome(word):\n",
    "    return word == word[::-1]"
   ],
   "metadata": {
    "collapsed": false,
    "ExecuteTime": {
     "end_time": "2024-03-05T09:56:29.212959Z",
     "start_time": "2024-03-05T09:56:29.208706Z"
    }
   },
   "id": "16a5e96840e38892",
   "execution_count": 55
  },
  {
   "cell_type": "code",
   "outputs": [
    {
     "data": {
      "text/plain": "True"
     },
     "execution_count": 56,
     "metadata": {},
     "output_type": "execute_result"
    }
   ],
   "source": [
    "another_palindrome('radar')"
   ],
   "metadata": {
    "collapsed": false,
    "ExecuteTime": {
     "end_time": "2024-03-05T09:56:44.695466Z",
     "start_time": "2024-03-05T09:56:44.691905Z"
    }
   },
   "id": "b2d42d22e37a2f6d",
   "execution_count": 56
  },
  {
   "cell_type": "code",
   "outputs": [
    {
     "data": {
      "text/plain": "True"
     },
     "execution_count": 57,
     "metadata": {},
     "output_type": "execute_result"
    }
   ],
   "source": [
    "another_palindrome('')"
   ],
   "metadata": {
    "collapsed": false,
    "ExecuteTime": {
     "end_time": "2024-03-05T09:56:50.138896Z",
     "start_time": "2024-03-05T09:56:50.135645Z"
    }
   },
   "id": "6071af619d08be9a",
   "execution_count": 57
  },
  {
   "cell_type": "code",
   "outputs": [
    {
     "data": {
      "text/plain": "False"
     },
     "execution_count": 58,
     "metadata": {},
     "output_type": "execute_result"
    }
   ],
   "source": [
    "another_palindrome('halibut')"
   ],
   "metadata": {
    "collapsed": false,
    "ExecuteTime": {
     "end_time": "2024-03-05T09:59:35.286343Z",
     "start_time": "2024-03-05T09:59:35.280716Z"
    }
   },
   "id": "6be57a224f36d890",
   "execution_count": 58
  },
  {
   "cell_type": "code",
   "outputs": [
    {
     "name": "stdout",
     "output_type": "stream",
     "text": [
      "1\n",
      "2\n",
      "a\n",
      "b\n"
     ]
    }
   ],
   "source": [
    "import itertools \n",
    "for item in itertools.chain([1,2], ['a', 'b']):\n",
    "    print(item)"
   ],
   "metadata": {
    "collapsed": false,
    "ExecuteTime": {
     "end_time": "2024-03-05T10:00:20.714276Z",
     "start_time": "2024-03-05T10:00:20.708984Z"
    }
   },
   "id": "8e2a57a042975034",
   "execution_count": 59
  },
  {
   "cell_type": "code",
   "outputs": [],
   "source": [
    "import itertools\n",
    "for item in itertools.cycle([1, 2]):\n",
    "    print(item)"
   ],
   "metadata": {
    "collapsed": false
   },
   "id": "348db9c53a90a456"
  },
  {
   "cell_type": "code",
   "outputs": [
    {
     "name": "stdout",
     "output_type": "stream",
     "text": [
      "1\n",
      "3\n",
      "6\n",
      "10\n"
     ]
    }
   ],
   "source": [
    "import  itertools\n",
    "for item in itertools.accumulate([1,2,3,4]):\n",
    "    print(item)"
   ],
   "metadata": {
    "collapsed": false,
    "ExecuteTime": {
     "end_time": "2024-03-05T10:03:17.425390Z",
     "start_time": "2024-03-05T10:03:17.419728Z"
    }
   },
   "id": "250a9b179dee058e",
   "execution_count": 1
  },
  {
   "cell_type": "code",
   "outputs": [
    {
     "name": "stdout",
     "output_type": "stream",
     "text": [
      "1\n",
      "2\n",
      "6\n",
      "24\n"
     ]
    }
   ],
   "source": [
    "import  itertools\n",
    "def multiply(a,b):\n",
    "    return a * b\n",
    "\n",
    "for item in itertools.accumulate([1,2,3,4], multiply):\n",
    "    print(item)"
   ],
   "metadata": {
    "collapsed": false,
    "ExecuteTime": {
     "end_time": "2024-03-05T10:04:32.236145Z",
     "start_time": "2024-03-05T10:04:32.231261Z"
    }
   },
   "id": "99bd4102fd546df3",
   "execution_count": 2
  },
  {
   "cell_type": "code",
   "outputs": [
    {
     "name": "stdout",
     "output_type": "stream",
     "text": [
      "OrderedDict([('Moe', 'A wise guy, huh?'), ('Larry', 'Ow!'), ('Curly', 'Nyuk nyuk!')])\n",
      "OrderedDict([('Moe', 'A wise guy, huh?'),\n",
      "             ('Larry', 'Ow!'),\n",
      "             ('Curly', 'Nyuk nyuk!')])\n"
     ]
    }
   ],
   "source": [
    "from pprint import pprint\n",
    "from collections import OrderedDict\n",
    "quotes = OrderedDict([\n",
    "    ('Moe', 'A wise guy, huh?'),\n",
    "    ('Larry', 'Ow!'),\n",
    "    ('Curly', 'Nyuk nyuk!'),\n",
    "])\n",
    "\n",
    "print(quotes)\n",
    "pprint(quotes)"
   ],
   "metadata": {
    "collapsed": false,
    "ExecuteTime": {
     "end_time": "2024-03-05T10:06:25.998146Z",
     "start_time": "2024-03-05T10:06:25.994368Z"
    }
   },
   "id": "1ecee0390f0eef53",
   "execution_count": 5
  },
  {
   "cell_type": "code",
   "outputs": [
    {
     "data": {
      "text/plain": "46"
     },
     "execution_count": 6,
     "metadata": {},
     "output_type": "execute_result"
    }
   ],
   "source": [
    "from random import choice\n",
    "choice([23,9,46, 'bacon',0x123abc])"
   ],
   "metadata": {
    "collapsed": false,
    "ExecuteTime": {
     "end_time": "2024-03-05T10:07:27.699809Z",
     "start_time": "2024-03-05T10:07:27.692099Z"
    }
   },
   "id": "41bc7f1eaf7b2cf6",
   "execution_count": 6
  },
  {
   "cell_type": "code",
   "outputs": [
    {
     "data": {
      "text/plain": "'a'"
     },
     "execution_count": 7,
     "metadata": {},
     "output_type": "execute_result"
    }
   ],
   "source": [
    "choice(('a', 'one', 'and-a', 'two'))"
   ],
   "metadata": {
    "collapsed": false,
    "ExecuteTime": {
     "end_time": "2024-03-05T10:07:50.014490Z",
     "start_time": "2024-03-05T10:07:50.011007Z"
    }
   },
   "id": "39b5c6c30fc0ce39",
   "execution_count": 7
  },
  {
   "cell_type": "code",
   "outputs": [
    {
     "data": {
      "text/plain": "0"
     },
     "execution_count": 8,
     "metadata": {},
     "output_type": "execute_result"
    }
   ],
   "source": [
    "choice(range(100))"
   ],
   "metadata": {
    "collapsed": false,
    "ExecuteTime": {
     "end_time": "2024-03-05T10:07:57.742156Z",
     "start_time": "2024-03-05T10:07:57.738398Z"
    }
   },
   "id": "548b1b2056a7ac43",
   "execution_count": 8
  },
  {
   "cell_type": "code",
   "outputs": [
    {
     "data": {
      "text/plain": "26"
     },
     "execution_count": 9,
     "metadata": {},
     "output_type": "execute_result"
    }
   ],
   "source": [
    "choice(range(100))"
   ],
   "metadata": {
    "collapsed": false,
    "ExecuteTime": {
     "end_time": "2024-03-05T10:08:04.335463Z",
     "start_time": "2024-03-05T10:08:04.331398Z"
    }
   },
   "id": "d339278a1a3e7254",
   "execution_count": 9
  },
  {
   "cell_type": "code",
   "outputs": [
    {
     "data": {
      "text/plain": "'p'"
     },
     "execution_count": 10,
     "metadata": {},
     "output_type": "execute_result"
    }
   ],
   "source": [
    "choice('alphabet')"
   ],
   "metadata": {
    "collapsed": false,
    "ExecuteTime": {
     "end_time": "2024-03-05T10:08:14.495453Z",
     "start_time": "2024-03-05T10:08:14.490381Z"
    }
   },
   "id": "7d43d7e4d8d8065e",
   "execution_count": 10
  },
  {
   "cell_type": "code",
   "outputs": [
    {
     "data": {
      "text/plain": "[46, 9, 23]"
     },
     "execution_count": 11,
     "metadata": {},
     "output_type": "execute_result"
    }
   ],
   "source": [
    "from random import sample\n",
    "\n",
    "sample([23,9,46, 'bacon',0x123abc], 3)"
   ],
   "metadata": {
    "collapsed": false,
    "ExecuteTime": {
     "end_time": "2024-03-05T10:09:11.198036Z",
     "start_time": "2024-03-05T10:09:11.193300Z"
    }
   },
   "id": "f22309cfb7129742",
   "execution_count": 11
  },
  {
   "cell_type": "code",
   "outputs": [
    {
     "data": {
      "text/plain": "['two', 'one', 'a']"
     },
     "execution_count": 12,
     "metadata": {},
     "output_type": "execute_result"
    }
   ],
   "source": [
    "sample(('a', 'one', 'and-a', 'two'), 3)"
   ],
   "metadata": {
    "collapsed": false,
    "ExecuteTime": {
     "end_time": "2024-03-05T10:09:22.037856Z",
     "start_time": "2024-03-05T10:09:22.033145Z"
    }
   },
   "id": "99649a5f7e4828d0",
   "execution_count": 12
  },
  {
   "cell_type": "code",
   "outputs": [
    {
     "data": {
      "text/plain": "[42, 95, 13, 5]"
     },
     "execution_count": 13,
     "metadata": {},
     "output_type": "execute_result"
    }
   ],
   "source": [
    "sample(range(100), 4)"
   ],
   "metadata": {
    "collapsed": false,
    "ExecuteTime": {
     "end_time": "2024-03-05T10:09:31.384649Z",
     "start_time": "2024-03-05T10:09:31.381071Z"
    }
   },
   "id": "8ce13f1dca352cd4",
   "execution_count": 13
  },
  {
   "cell_type": "code",
   "outputs": [
    {
     "data": {
      "text/plain": "[89, 5, 69, 88]"
     },
     "execution_count": 15,
     "metadata": {},
     "output_type": "execute_result"
    }
   ],
   "source": [
    "sample(range(100), 4)"
   ],
   "metadata": {
    "collapsed": false,
    "ExecuteTime": {
     "end_time": "2024-03-05T10:09:52.838947Z",
     "start_time": "2024-03-05T10:09:52.834827Z"
    }
   },
   "id": "ee6ee37329aa4fed",
   "execution_count": 15
  },
  {
   "cell_type": "code",
   "outputs": [
    {
     "data": {
      "text/plain": "['e', 'a', 't', 'p', 'l', 'h', 'a']"
     },
     "execution_count": 17,
     "metadata": {},
     "output_type": "execute_result"
    }
   ],
   "source": [
    "sample('alphabet', 7)"
   ],
   "metadata": {
    "collapsed": false,
    "ExecuteTime": {
     "end_time": "2024-03-05T10:10:03.715366Z",
     "start_time": "2024-03-05T10:10:03.711870Z"
    }
   },
   "id": "967d233062f48e1c",
   "execution_count": 17
  },
  {
   "cell_type": "code",
   "outputs": [
    {
     "data": {
      "text/plain": "58"
     },
     "execution_count": 18,
     "metadata": {},
     "output_type": "execute_result"
    }
   ],
   "source": [
    "from random import randint\n",
    "randint(38, 74)"
   ],
   "metadata": {
    "collapsed": false,
    "ExecuteTime": {
     "end_time": "2024-03-05T10:10:35.859094Z",
     "start_time": "2024-03-05T10:10:35.854122Z"
    }
   },
   "id": "ee5eba8d891bace4",
   "execution_count": 18
  },
  {
   "cell_type": "code",
   "outputs": [
    {
     "data": {
      "text/plain": "46"
     },
     "execution_count": 19,
     "metadata": {},
     "output_type": "execute_result"
    }
   ],
   "source": [
    "randint(38, 74)"
   ],
   "metadata": {
    "collapsed": false,
    "ExecuteTime": {
     "end_time": "2024-03-05T10:10:43.908411Z",
     "start_time": "2024-03-05T10:10:43.904955Z"
    }
   },
   "id": "1f923e3eeabd8aaf",
   "execution_count": 19
  },
  {
   "cell_type": "code",
   "outputs": [
    {
     "data": {
      "text/plain": "71"
     },
     "execution_count": 20,
     "metadata": {},
     "output_type": "execute_result"
    }
   ],
   "source": [
    "randint(38, 74)"
   ],
   "metadata": {
    "collapsed": false,
    "ExecuteTime": {
     "end_time": "2024-03-05T10:10:46.076305Z",
     "start_time": "2024-03-05T10:10:46.072533Z"
    }
   },
   "id": "def1029938b4156d",
   "execution_count": 20
  },
  {
   "cell_type": "code",
   "outputs": [
    {
     "data": {
      "text/plain": "0.20043185925673979"
     },
     "execution_count": 21,
     "metadata": {},
     "output_type": "execute_result"
    }
   ],
   "source": [
    "from random import  random\n",
    "random()"
   ],
   "metadata": {
    "collapsed": false,
    "ExecuteTime": {
     "end_time": "2024-03-05T10:11:17.947007Z",
     "start_time": "2024-03-05T10:11:17.941911Z"
    }
   },
   "id": "ce28a0cb2baf5ac3",
   "execution_count": 21
  },
  {
   "cell_type": "code",
   "outputs": [
    {
     "data": {
      "text/plain": "0.08775671776111138"
     },
     "execution_count": 22,
     "metadata": {},
     "output_type": "execute_result"
    }
   ],
   "source": [
    "random()"
   ],
   "metadata": {
    "collapsed": false,
    "ExecuteTime": {
     "end_time": "2024-03-05T10:11:23.055462Z",
     "start_time": "2024-03-05T10:11:23.052547Z"
    }
   },
   "id": "4c488aed69ab34ec",
   "execution_count": 22
  },
  {
   "cell_type": "code",
   "outputs": [
    {
     "data": {
      "text/plain": "0.6024065100607989"
     },
     "execution_count": 23,
     "metadata": {},
     "output_type": "execute_result"
    }
   ],
   "source": [
    "random()"
   ],
   "metadata": {
    "collapsed": false,
    "ExecuteTime": {
     "end_time": "2024-03-05T10:11:27.381027Z",
     "start_time": "2024-03-05T10:11:27.378225Z"
    }
   },
   "id": "d0b209a090683922",
   "execution_count": 23
  },
  {
   "cell_type": "code",
   "outputs": [],
   "source": [],
   "metadata": {
    "collapsed": false
   },
   "id": "fc3795573923d6f1"
  }
 ],
 "metadata": {
  "kernelspec": {
   "display_name": "Python 3",
   "language": "python",
   "name": "python3"
  },
  "language_info": {
   "codemirror_mode": {
    "name": "ipython",
    "version": 2
   },
   "file_extension": ".py",
   "mimetype": "text/x-python",
   "name": "python",
   "nbconvert_exporter": "python",
   "pygments_lexer": "ipython2",
   "version": "2.7.6"
  }
 },
 "nbformat": 4,
 "nbformat_minor": 5
}
