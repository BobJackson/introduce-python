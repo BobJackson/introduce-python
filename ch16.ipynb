{
 "cells": [
  {
   "cell_type": "code",
   "execution_count": 1,
   "id": "initial_id",
   "metadata": {
    "collapsed": true,
    "ExecuteTime": {
     "end_time": "2024-03-06T09:40:19.302517Z",
     "start_time": "2024-03-06T09:40:19.296161Z"
    }
   },
   "outputs": [],
   "source": [
    "import csv\n",
    "\n",
    "villains = [\n",
    "    ['Doctor', 'No'],\n",
    "    ['Rosa', 'Klebb'],\n",
    "    ['Mister', 'Big'],\n",
    "    ['Auric', 'Goldfinger'],\n",
    "    ['Ernst', 'Blofeld']\n",
    "]\n",
    "with open('villains.csv', 'wt') as fout:\n",
    "    csvout = csv.writer(fout)\n",
    "    csvout.writerows(villains)"
   ]
  },
  {
   "cell_type": "code",
   "outputs": [
    {
     "name": "stdout",
     "output_type": "stream",
     "text": [
      "[['Doctor', 'No'], ['Rosa', 'Klebb'], ['Mister', 'Big'], ['Auric', 'Goldfinger'], ['Ernst', 'Blofeld']]\n"
     ]
    }
   ],
   "source": [
    "import csv\n",
    "\n",
    "with open('villains.csv', 'rt') as fin:\n",
    "    cin = csv.reader(fin)\n",
    "    villains = [row for row in cin]\n",
    "print(villains)"
   ],
   "metadata": {
    "collapsed": false,
    "ExecuteTime": {
     "end_time": "2024-03-06T09:41:47.320085Z",
     "start_time": "2024-03-06T09:41:47.312844Z"
    }
   },
   "id": "96478d35c620ff47",
   "execution_count": 2
  },
  {
   "cell_type": "code",
   "outputs": [
    {
     "name": "stdout",
     "output_type": "stream",
     "text": [
      "[{'first': 'Doctor', 'last': 'No'}, {'first': 'Rosa', 'last': 'Klebb'}, {'first': 'Mister', 'last': 'Big'}, {'first': 'Auric', 'last': 'Goldfinger'}, {'first': 'Ernst', 'last': 'Blofeld'}]\n"
     ]
    }
   ],
   "source": [
    "import csv\n",
    "\n",
    "with open('villains.csv', 'rt') as fin:\n",
    "    cin = csv.DictReader(fin, fieldnames=['first', 'last'])\n",
    "    villains = [row for row in cin]\n",
    "print(villains)"
   ],
   "metadata": {
    "collapsed": false,
    "ExecuteTime": {
     "end_time": "2024-03-06T09:43:20.426685Z",
     "start_time": "2024-03-06T09:43:20.423646Z"
    }
   },
   "id": "e4fcc6dc0705f14b",
   "execution_count": 4
  },
  {
   "cell_type": "code",
   "outputs": [],
   "source": [
    "import csv\n",
    "\n",
    "vallains = [\n",
    "    {'first': 'Doctor', 'last': 'No'},\n",
    "    {'first': 'Rosa', 'last': 'Klebb'},\n",
    "    {'first': 'Mister', 'last': 'Big'},\n",
    "    {'first': 'Auric', 'last': 'Goldfinger'},\n",
    "    {'first': 'Ernst', 'last': 'Blofeld'}\n",
    "]\n",
    "with open('villains.csv', 'wt') as fout:\n",
    "    cout = csv.DictWriter(fout, ['first', 'last'])\n",
    "    cout.writeheader()\n",
    "    cout.writerows(vallains)"
   ],
   "metadata": {
    "collapsed": false,
    "ExecuteTime": {
     "end_time": "2024-03-06T09:45:53.316202Z",
     "start_time": "2024-03-06T09:45:53.308034Z"
    }
   },
   "id": "7b4d4e0dd13bafe4",
   "execution_count": 5
  },
  {
   "cell_type": "code",
   "outputs": [
    {
     "name": "stdout",
     "output_type": "stream",
     "text": [
      "[{'first': 'Doctor', 'last': 'No'}, {'first': 'Rosa', 'last': 'Klebb'}, {'first': 'Mister', 'last': 'Big'}, {'first': 'Auric', 'last': 'Goldfinger'}, {'first': 'Ernst', 'last': 'Blofeld'}]\n"
     ]
    }
   ],
   "source": [
    "import csv\n",
    "\n",
    "with open('villains.csv', 'rt') as fin:\n",
    "    cin = csv.DictReader(fin)\n",
    "    villains = [row for row in cin]\n",
    "print(villains)"
   ],
   "metadata": {
    "collapsed": false,
    "ExecuteTime": {
     "end_time": "2024-03-06T09:46:50.212007Z",
     "start_time": "2024-03-06T09:46:50.197643Z"
    }
   },
   "id": "943a264b0aadb8cf",
   "execution_count": 6
  },
  {
   "cell_type": "code",
   "outputs": [
    {
     "data": {
      "text/plain": "'menu'"
     },
     "execution_count": 7,
     "metadata": {},
     "output_type": "execute_result"
    }
   ],
   "source": [
    "import xml.etree.ElementTree as et\n",
    "\n",
    "tree = et.ElementTree(file='menu.xml')\n",
    "root = tree.getroot()\n",
    "root.tag"
   ],
   "metadata": {
    "collapsed": false,
    "ExecuteTime": {
     "end_time": "2024-03-06T09:48:56.312296Z",
     "start_time": "2024-03-06T09:48:56.299221Z"
    }
   },
   "id": "1b4bc894224dac0b",
   "execution_count": 7
  },
  {
   "cell_type": "code",
   "outputs": [
    {
     "name": "stdout",
     "output_type": "stream",
     "text": [
      "tag: breakfast attributes: {'hours': '7-11'}\n",
      "\ttag: item attributes: {'price': '$6.00'}\n",
      "\ttag: item attributes: {'price': '$4.00'}\n",
      "tag: lunch attributes: {'hours': '11-3'}\n",
      "\ttag: item attributes: {'price': '$5.00'}\n",
      "tag: dinner attributes: {'hours': '3-10'}\n",
      "\ttag: item attributes: {'price': '8.00'}\n"
     ]
    }
   ],
   "source": [
    "for child in root:\n",
    "    print('tag:', child.tag, 'attributes:', child.attrib)\n",
    "    for grandchild in child:\n",
    "        print('\\ttag:', grandchild.tag, 'attributes:', grandchild.attrib)"
   ],
   "metadata": {
    "collapsed": false,
    "ExecuteTime": {
     "end_time": "2024-03-06T09:49:59.473659Z",
     "start_time": "2024-03-06T09:49:59.452730Z"
    }
   },
   "id": "497123f6fd96d796",
   "execution_count": 8
  },
  {
   "cell_type": "code",
   "outputs": [
    {
     "data": {
      "text/plain": "3"
     },
     "execution_count": 9,
     "metadata": {},
     "output_type": "execute_result"
    }
   ],
   "source": [
    "len(root)"
   ],
   "metadata": {
    "collapsed": false,
    "ExecuteTime": {
     "end_time": "2024-03-06T09:50:32.756210Z",
     "start_time": "2024-03-06T09:50:32.746396Z"
    }
   },
   "id": "473fe1e5c87881c5",
   "execution_count": 9
  },
  {
   "cell_type": "code",
   "outputs": [
    {
     "data": {
      "text/plain": "2"
     },
     "execution_count": 10,
     "metadata": {},
     "output_type": "execute_result"
    }
   ],
   "source": [
    "len(root[0])"
   ],
   "metadata": {
    "collapsed": false,
    "ExecuteTime": {
     "end_time": "2024-03-06T09:50:40.837829Z",
     "start_time": "2024-03-06T09:50:40.833847Z"
    }
   },
   "id": "ca73e2c00a5ade88",
   "execution_count": 10
  },
  {
   "cell_type": "code",
   "outputs": [
    {
     "data": {
      "text/plain": "'{\"breakfast\": {\"hours\": \"7-11\", \"items\": {\"breakfast burritos\": \"$6.00\", \"pancakes\": \"$4.00\"}}, \"lunch\": {\"hours\": \"11-3\", \"items\": {\"hamburger\": \"$5.00\"}}, \"dinner\": {\"hours\": \"3-10\", \"items\": {\"spaghetti\": \"$8.00\"}}}'"
     },
     "execution_count": 11,
     "metadata": {},
     "output_type": "execute_result"
    }
   ],
   "source": [
    "menu = \\\n",
    "    {\n",
    "        'breakfast': {'hours': '7-11', 'items': {'breakfast burritos': '$6.00', 'pancakes': '$4.00'}},\n",
    "        'lunch': {'hours': '11-3', 'items': {'hamburger': '$5.00'}},\n",
    "        'dinner': {'hours': '3-10', 'items': {'spaghetti': '$8.00'}}\n",
    "    }\n",
    "import json\n",
    "menu_json = json.dumps(menu)\n",
    "menu_json"
   ],
   "metadata": {
    "collapsed": false,
    "ExecuteTime": {
     "end_time": "2024-03-06T09:57:24.379744Z",
     "start_time": "2024-03-06T09:57:24.373523Z"
    }
   },
   "id": "64f935ac8ac62797",
   "execution_count": 11
  },
  {
   "cell_type": "code",
   "outputs": [
    {
     "data": {
      "text/plain": "{'breakfast': {'hours': '7-11',\n  'items': {'breakfast burritos': '$6.00', 'pancakes': '$4.00'}},\n 'lunch': {'hours': '11-3', 'items': {'hamburger': '$5.00'}},\n 'dinner': {'hours': '3-10', 'items': {'spaghetti': '$8.00'}}}"
     },
     "execution_count": 12,
     "metadata": {},
     "output_type": "execute_result"
    }
   ],
   "source": [
    "menu2 = json.loads(menu_json)\n",
    "menu2"
   ],
   "metadata": {
    "collapsed": false,
    "ExecuteTime": {
     "end_time": "2024-03-06T09:57:55.676584Z",
     "start_time": "2024-03-06T09:57:55.671483Z"
    }
   },
   "id": "e334a62815c2dac2",
   "execution_count": 12
  },
  {
   "cell_type": "code",
   "outputs": [
    {
     "data": {
      "text/plain": "datetime.datetime(2024, 3, 6, 9, 58, 52, 271456)"
     },
     "execution_count": 13,
     "metadata": {},
     "output_type": "execute_result"
    }
   ],
   "source": [
    "import datetime\n",
    "import json\n",
    "now = datetime.datetime.utcnow()\n",
    "now"
   ],
   "metadata": {
    "collapsed": false,
    "ExecuteTime": {
     "end_time": "2024-03-06T09:58:52.276160Z",
     "start_time": "2024-03-06T09:58:52.268417Z"
    }
   },
   "id": "1ba56c76447db089",
   "execution_count": 13
  },
  {
   "cell_type": "code",
   "outputs": [
    {
     "ename": "TypeError",
     "evalue": "Object of type datetime is not JSON serializable",
     "output_type": "error",
     "traceback": [
      "\u001B[0;31m---------------------------------------------------------------------------\u001B[0m",
      "\u001B[0;31mTypeError\u001B[0m                                 Traceback (most recent call last)",
      "Cell \u001B[0;32mIn[14], line 1\u001B[0m\n\u001B[0;32m----> 1\u001B[0m \u001B[43mjson\u001B[49m\u001B[38;5;241;43m.\u001B[39;49m\u001B[43mdumps\u001B[49m\u001B[43m(\u001B[49m\u001B[43mnow\u001B[49m\u001B[43m)\u001B[49m\n",
      "File \u001B[0;32m/Library/Developer/CommandLineTools/Library/Frameworks/Python3.framework/Versions/3.9/lib/python3.9/json/__init__.py:231\u001B[0m, in \u001B[0;36mdumps\u001B[0;34m(obj, skipkeys, ensure_ascii, check_circular, allow_nan, cls, indent, separators, default, sort_keys, **kw)\u001B[0m\n\u001B[1;32m    226\u001B[0m \u001B[38;5;66;03m# cached encoder\u001B[39;00m\n\u001B[1;32m    227\u001B[0m \u001B[38;5;28;01mif\u001B[39;00m (\u001B[38;5;129;01mnot\u001B[39;00m skipkeys \u001B[38;5;129;01mand\u001B[39;00m ensure_ascii \u001B[38;5;129;01mand\u001B[39;00m\n\u001B[1;32m    228\u001B[0m     check_circular \u001B[38;5;129;01mand\u001B[39;00m allow_nan \u001B[38;5;129;01mand\u001B[39;00m\n\u001B[1;32m    229\u001B[0m     \u001B[38;5;28mcls\u001B[39m \u001B[38;5;129;01mis\u001B[39;00m \u001B[38;5;28;01mNone\u001B[39;00m \u001B[38;5;129;01mand\u001B[39;00m indent \u001B[38;5;129;01mis\u001B[39;00m \u001B[38;5;28;01mNone\u001B[39;00m \u001B[38;5;129;01mand\u001B[39;00m separators \u001B[38;5;129;01mis\u001B[39;00m \u001B[38;5;28;01mNone\u001B[39;00m \u001B[38;5;129;01mand\u001B[39;00m\n\u001B[1;32m    230\u001B[0m     default \u001B[38;5;129;01mis\u001B[39;00m \u001B[38;5;28;01mNone\u001B[39;00m \u001B[38;5;129;01mand\u001B[39;00m \u001B[38;5;129;01mnot\u001B[39;00m sort_keys \u001B[38;5;129;01mand\u001B[39;00m \u001B[38;5;129;01mnot\u001B[39;00m kw):\n\u001B[0;32m--> 231\u001B[0m     \u001B[38;5;28;01mreturn\u001B[39;00m \u001B[43m_default_encoder\u001B[49m\u001B[38;5;241;43m.\u001B[39;49m\u001B[43mencode\u001B[49m\u001B[43m(\u001B[49m\u001B[43mobj\u001B[49m\u001B[43m)\u001B[49m\n\u001B[1;32m    232\u001B[0m \u001B[38;5;28;01mif\u001B[39;00m \u001B[38;5;28mcls\u001B[39m \u001B[38;5;129;01mis\u001B[39;00m \u001B[38;5;28;01mNone\u001B[39;00m:\n\u001B[1;32m    233\u001B[0m     \u001B[38;5;28mcls\u001B[39m \u001B[38;5;241m=\u001B[39m JSONEncoder\n",
      "File \u001B[0;32m/Library/Developer/CommandLineTools/Library/Frameworks/Python3.framework/Versions/3.9/lib/python3.9/json/encoder.py:199\u001B[0m, in \u001B[0;36mJSONEncoder.encode\u001B[0;34m(self, o)\u001B[0m\n\u001B[1;32m    195\u001B[0m         \u001B[38;5;28;01mreturn\u001B[39;00m encode_basestring(o)\n\u001B[1;32m    196\u001B[0m \u001B[38;5;66;03m# This doesn't pass the iterator directly to ''.join() because the\u001B[39;00m\n\u001B[1;32m    197\u001B[0m \u001B[38;5;66;03m# exceptions aren't as detailed.  The list call should be roughly\u001B[39;00m\n\u001B[1;32m    198\u001B[0m \u001B[38;5;66;03m# equivalent to the PySequence_Fast that ''.join() would do.\u001B[39;00m\n\u001B[0;32m--> 199\u001B[0m chunks \u001B[38;5;241m=\u001B[39m \u001B[38;5;28;43mself\u001B[39;49m\u001B[38;5;241;43m.\u001B[39;49m\u001B[43miterencode\u001B[49m\u001B[43m(\u001B[49m\u001B[43mo\u001B[49m\u001B[43m,\u001B[49m\u001B[43m \u001B[49m\u001B[43m_one_shot\u001B[49m\u001B[38;5;241;43m=\u001B[39;49m\u001B[38;5;28;43;01mTrue\u001B[39;49;00m\u001B[43m)\u001B[49m\n\u001B[1;32m    200\u001B[0m \u001B[38;5;28;01mif\u001B[39;00m \u001B[38;5;129;01mnot\u001B[39;00m \u001B[38;5;28misinstance\u001B[39m(chunks, (\u001B[38;5;28mlist\u001B[39m, \u001B[38;5;28mtuple\u001B[39m)):\n\u001B[1;32m    201\u001B[0m     chunks \u001B[38;5;241m=\u001B[39m \u001B[38;5;28mlist\u001B[39m(chunks)\n",
      "File \u001B[0;32m/Library/Developer/CommandLineTools/Library/Frameworks/Python3.framework/Versions/3.9/lib/python3.9/json/encoder.py:257\u001B[0m, in \u001B[0;36mJSONEncoder.iterencode\u001B[0;34m(self, o, _one_shot)\u001B[0m\n\u001B[1;32m    252\u001B[0m \u001B[38;5;28;01melse\u001B[39;00m:\n\u001B[1;32m    253\u001B[0m     _iterencode \u001B[38;5;241m=\u001B[39m _make_iterencode(\n\u001B[1;32m    254\u001B[0m         markers, \u001B[38;5;28mself\u001B[39m\u001B[38;5;241m.\u001B[39mdefault, _encoder, \u001B[38;5;28mself\u001B[39m\u001B[38;5;241m.\u001B[39mindent, floatstr,\n\u001B[1;32m    255\u001B[0m         \u001B[38;5;28mself\u001B[39m\u001B[38;5;241m.\u001B[39mkey_separator, \u001B[38;5;28mself\u001B[39m\u001B[38;5;241m.\u001B[39mitem_separator, \u001B[38;5;28mself\u001B[39m\u001B[38;5;241m.\u001B[39msort_keys,\n\u001B[1;32m    256\u001B[0m         \u001B[38;5;28mself\u001B[39m\u001B[38;5;241m.\u001B[39mskipkeys, _one_shot)\n\u001B[0;32m--> 257\u001B[0m \u001B[38;5;28;01mreturn\u001B[39;00m \u001B[43m_iterencode\u001B[49m\u001B[43m(\u001B[49m\u001B[43mo\u001B[49m\u001B[43m,\u001B[49m\u001B[43m \u001B[49m\u001B[38;5;241;43m0\u001B[39;49m\u001B[43m)\u001B[49m\n",
      "File \u001B[0;32m/Library/Developer/CommandLineTools/Library/Frameworks/Python3.framework/Versions/3.9/lib/python3.9/json/encoder.py:179\u001B[0m, in \u001B[0;36mJSONEncoder.default\u001B[0;34m(self, o)\u001B[0m\n\u001B[1;32m    160\u001B[0m \u001B[38;5;28;01mdef\u001B[39;00m \u001B[38;5;21mdefault\u001B[39m(\u001B[38;5;28mself\u001B[39m, o):\n\u001B[1;32m    161\u001B[0m \u001B[38;5;250m    \u001B[39m\u001B[38;5;124;03m\"\"\"Implement this method in a subclass such that it returns\u001B[39;00m\n\u001B[1;32m    162\u001B[0m \u001B[38;5;124;03m    a serializable object for ``o``, or calls the base implementation\u001B[39;00m\n\u001B[1;32m    163\u001B[0m \u001B[38;5;124;03m    (to raise a ``TypeError``).\u001B[39;00m\n\u001B[0;32m   (...)\u001B[0m\n\u001B[1;32m    177\u001B[0m \n\u001B[1;32m    178\u001B[0m \u001B[38;5;124;03m    \"\"\"\u001B[39;00m\n\u001B[0;32m--> 179\u001B[0m     \u001B[38;5;28;01mraise\u001B[39;00m \u001B[38;5;167;01mTypeError\u001B[39;00m(\u001B[38;5;124mf\u001B[39m\u001B[38;5;124m'\u001B[39m\u001B[38;5;124mObject of type \u001B[39m\u001B[38;5;132;01m{\u001B[39;00mo\u001B[38;5;241m.\u001B[39m\u001B[38;5;18m__class__\u001B[39m\u001B[38;5;241m.\u001B[39m\u001B[38;5;18m__name__\u001B[39m\u001B[38;5;132;01m}\u001B[39;00m\u001B[38;5;124m \u001B[39m\u001B[38;5;124m'\u001B[39m\n\u001B[1;32m    180\u001B[0m                     \u001B[38;5;124mf\u001B[39m\u001B[38;5;124m'\u001B[39m\u001B[38;5;124mis not JSON serializable\u001B[39m\u001B[38;5;124m'\u001B[39m)\n",
      "\u001B[0;31mTypeError\u001B[0m: Object of type datetime is not JSON serializable"
     ]
    }
   ],
   "source": [
    "json.dumps(now)"
   ],
   "metadata": {
    "collapsed": false,
    "ExecuteTime": {
     "end_time": "2024-03-06T09:59:05.849931Z",
     "start_time": "2024-03-06T09:59:05.616829Z"
    }
   },
   "id": "eb1fb5b70dec61de",
   "execution_count": 14
  },
  {
   "cell_type": "code",
   "outputs": [
    {
     "data": {
      "text/plain": "'\"2024-03-06 09:58:52.271456\"'"
     },
     "execution_count": 15,
     "metadata": {},
     "output_type": "execute_result"
    }
   ],
   "source": [
    "now_str=str(now)\n",
    "json.dumps(now_str)"
   ],
   "metadata": {
    "collapsed": false,
    "ExecuteTime": {
     "end_time": "2024-03-06T09:59:42.503031Z",
     "start_time": "2024-03-06T09:59:42.494875Z"
    }
   },
   "id": "fb820b6be127b795",
   "execution_count": 15
  },
  {
   "cell_type": "code",
   "outputs": [
    {
     "data": {
      "text/plain": "'1709690332'"
     },
     "execution_count": 16,
     "metadata": {},
     "output_type": "execute_result"
    }
   ],
   "source": [
    "from time import mktime\n",
    "now_epoch = int(mktime(now.timetuple()))\n",
    "json.dumps(now_epoch)"
   ],
   "metadata": {
    "collapsed": false,
    "ExecuteTime": {
     "end_time": "2024-03-06T10:00:27.714075Z",
     "start_time": "2024-03-06T10:00:27.706720Z"
    }
   },
   "id": "44dbdeedd335683a",
   "execution_count": 16
  },
  {
   "cell_type": "code",
   "outputs": [
    {
     "data": {
      "text/plain": "time.struct_time(tm_year=2024, tm_mon=3, tm_mday=6, tm_hour=9, tm_min=58, tm_sec=52, tm_wday=2, tm_yday=66, tm_isdst=-1)"
     },
     "execution_count": 17,
     "metadata": {},
     "output_type": "execute_result"
    }
   ],
   "source": [
    "now.timetuple()"
   ],
   "metadata": {
    "collapsed": false,
    "ExecuteTime": {
     "end_time": "2024-03-06T10:00:46.834457Z",
     "start_time": "2024-03-06T10:00:46.828834Z"
    }
   },
   "id": "75afca724ff38cd1",
   "execution_count": 17
  },
  {
   "cell_type": "code",
   "outputs": [],
   "source": [
    "import datetime\n",
    "now = datetime.datetime.utcnow()\n",
    "class DTEncoder(json.JSONEncoder):\n",
    "    def default(self, obj):\n",
    "        if isinstance(obj, datetime.datetime):\n",
    "            return int(mktime(obj.timetuple()))\n",
    "        return json.JSONEncoder.default(self, obj)"
   ],
   "metadata": {
    "collapsed": false,
    "ExecuteTime": {
     "end_time": "2024-03-06T10:02:15.152672Z",
     "start_time": "2024-03-06T10:02:15.146879Z"
    }
   },
   "id": "8c34b099811d0c1a",
   "execution_count": 18
  },
  {
   "cell_type": "code",
   "outputs": [
    {
     "data": {
      "text/plain": "'1709690535'"
     },
     "execution_count": 19,
     "metadata": {},
     "output_type": "execute_result"
    }
   ],
   "source": [
    "json.dumps(now, cls=DTEncoder)"
   ],
   "metadata": {
    "collapsed": false,
    "ExecuteTime": {
     "end_time": "2024-03-06T10:02:30.174216Z",
     "start_time": "2024-03-06T10:02:30.169620Z"
    }
   },
   "id": "f859aa7711dbf6b4",
   "execution_count": 19
  },
  {
   "cell_type": "code",
   "outputs": [
    {
     "data": {
      "text/plain": "datetime.datetime"
     },
     "execution_count": 20,
     "metadata": {},
     "output_type": "execute_result"
    }
   ],
   "source": [
    "import datetime\n",
    "now = datetime.datetime.utcnow()\n",
    "type(now)"
   ],
   "metadata": {
    "collapsed": false,
    "ExecuteTime": {
     "end_time": "2024-03-06T10:03:32.930429Z",
     "start_time": "2024-03-06T10:03:32.923794Z"
    }
   },
   "id": "6a76e4007de0325e",
   "execution_count": 20
  },
  {
   "cell_type": "code",
   "outputs": [
    {
     "data": {
      "text/plain": "True"
     },
     "execution_count": 21,
     "metadata": {},
     "output_type": "execute_result"
    }
   ],
   "source": [
    "isinstance(now, datetime.datetime)"
   ],
   "metadata": {
    "collapsed": false,
    "ExecuteTime": {
     "end_time": "2024-03-06T10:03:43.020162Z",
     "start_time": "2024-03-06T10:03:43.017196Z"
    }
   },
   "id": "aff9823158da257",
   "execution_count": 21
  },
  {
   "cell_type": "code",
   "outputs": [
    {
     "data": {
      "text/plain": "int"
     },
     "execution_count": 22,
     "metadata": {},
     "output_type": "execute_result"
    }
   ],
   "source": [
    "type(234)"
   ],
   "metadata": {
    "collapsed": false,
    "ExecuteTime": {
     "end_time": "2024-03-06T10:03:47.803899Z",
     "start_time": "2024-03-06T10:03:47.799851Z"
    }
   },
   "id": "1b43670a79d8ee19",
   "execution_count": 22
  },
  {
   "cell_type": "code",
   "outputs": [
    {
     "data": {
      "text/plain": "True"
     },
     "execution_count": 23,
     "metadata": {},
     "output_type": "execute_result"
    }
   ],
   "source": [
    "isinstance(234, int)"
   ],
   "metadata": {
    "collapsed": false,
    "ExecuteTime": {
     "end_time": "2024-03-06T10:04:00.400768Z",
     "start_time": "2024-03-06T10:04:00.397005Z"
    }
   },
   "id": "453c89f7496653f9",
   "execution_count": 23
  },
  {
   "cell_type": "code",
   "outputs": [
    {
     "data": {
      "text/plain": "str"
     },
     "execution_count": 24,
     "metadata": {},
     "output_type": "execute_result"
    }
   ],
   "source": [
    "type('hey')"
   ],
   "metadata": {
    "collapsed": false,
    "ExecuteTime": {
     "end_time": "2024-03-06T10:04:07.208086Z",
     "start_time": "2024-03-06T10:04:07.201317Z"
    }
   },
   "id": "e735f4b6df3b5602",
   "execution_count": 24
  },
  {
   "cell_type": "code",
   "outputs": [
    {
     "data": {
      "text/plain": "True"
     },
     "execution_count": 25,
     "metadata": {},
     "output_type": "execute_result"
    }
   ],
   "source": [
    "isinstance('hey', str)"
   ],
   "metadata": {
    "collapsed": false,
    "ExecuteTime": {
     "end_time": "2024-03-06T10:04:57.397232Z",
     "start_time": "2024-03-06T10:04:57.391156Z"
    }
   },
   "id": "4b657cde5d9bee28",
   "execution_count": 25
  },
  {
   "cell_type": "code",
   "outputs": [
    {
     "data": {
      "text/plain": "'\"2024-03-06 10:05:55.514554\"'"
     },
     "execution_count": 26,
     "metadata": {},
     "output_type": "execute_result"
    }
   ],
   "source": [
    "import datetime\n",
    "import json\n",
    "now = datetime.datetime.utcnow()\n",
    "json.dumps(now, default=str)"
   ],
   "metadata": {
    "collapsed": false,
    "ExecuteTime": {
     "end_time": "2024-03-06T10:05:55.518333Z",
     "start_time": "2024-03-06T10:05:55.510684Z"
    }
   },
   "id": "2b2f6e98846c0656",
   "execution_count": 26
  },
  {
   "cell_type": "code",
   "outputs": [
    {
     "data": {
      "text/plain": "{'bearded': True, 'themes': ['cheese', 'Canada']}"
     },
     "execution_count": 28,
     "metadata": {},
     "output_type": "execute_result"
    }
   ],
   "source": [
    "import yaml\n",
    "with open('mcintyre.yaml', 'rt') as fin:\n",
    "    text = fin.read()\n",
    "data = yaml.load(text,Loader=yaml.FullLoader)\n",
    "data['details']"
   ],
   "metadata": {
    "collapsed": false,
    "ExecuteTime": {
     "end_time": "2024-03-06T10:15:51.109588Z",
     "start_time": "2024-03-06T10:15:51.100178Z"
    }
   },
   "id": "4aa34aeda73e47b",
   "execution_count": 28
  },
  {
   "cell_type": "code",
   "outputs": [
    {
     "data": {
      "text/plain": "2"
     },
     "execution_count": 29,
     "metadata": {},
     "output_type": "execute_result"
    }
   ],
   "source": [
    "len(data['poems'])"
   ],
   "metadata": {
    "collapsed": false,
    "ExecuteTime": {
     "end_time": "2024-03-06T10:16:56.397464Z",
     "start_time": "2024-03-06T10:16:56.389865Z"
    }
   },
   "id": "79a3b9079092f8fb",
   "execution_count": 29
  },
  {
   "cell_type": "code",
   "outputs": [
    {
     "data": {
      "text/plain": "'Canadian Charms'"
     },
     "execution_count": 30,
     "metadata": {},
     "output_type": "execute_result"
    }
   ],
   "source": [
    "data['poems'][1]['title']"
   ],
   "metadata": {
    "collapsed": false,
    "ExecuteTime": {
     "end_time": "2024-03-06T10:17:13.345527Z",
     "start_time": "2024-03-06T10:17:13.340021Z"
    }
   },
   "id": "d4be741bdde40941",
   "execution_count": 30
  },
  {
   "cell_type": "code",
   "outputs": [
    {
     "name": "stdout",
     "output_type": "stream",
     "text": [
      "    first        last\n",
      "0  Doctor          No\n",
      "1    Rosa       Klebb\n",
      "2  Mister         Big\n",
      "3   Auric  Goldfinger\n",
      "4   Ernst     Blofeld\n"
     ]
    }
   ],
   "source": [
    "import pandas\n",
    "\n",
    "data = pandas.read_csv('villains.csv')\n",
    "print(data)"
   ],
   "metadata": {
    "collapsed": false,
    "ExecuteTime": {
     "end_time": "2024-03-06T10:36:53.880041Z",
     "start_time": "2024-03-06T10:36:53.525838Z"
    }
   },
   "id": "9d999f6ab6aed996",
   "execution_count": 31
  },
  {
   "cell_type": "code",
   "outputs": [
    {
     "data": {
      "text/plain": "DatetimeIndex(['2019-01-01', '2019-02-01', '2019-03-01'], dtype='datetime64[ns]', freq='MS')"
     },
     "execution_count": 32,
     "metadata": {},
     "output_type": "execute_result"
    }
   ],
   "source": [
    "import pandas\n",
    "dates = pandas.date_range('2019-01-01', periods=3, freq='MS')\n",
    "dates"
   ],
   "metadata": {
    "collapsed": false,
    "ExecuteTime": {
     "end_time": "2024-03-06T10:38:06.580677Z",
     "start_time": "2024-03-06T10:38:06.572991Z"
    }
   },
   "id": "76ff2c3c9c9c462",
   "execution_count": 32
  },
  {
   "cell_type": "code",
   "outputs": [
    {
     "data": {
      "text/plain": "['setting.cfg']"
     },
     "execution_count": 33,
     "metadata": {},
     "output_type": "execute_result"
    }
   ],
   "source": [
    "import configparser\n",
    "\n",
    "cfg = configparser.ConfigParser()\n",
    "cfg.read('setting.cfg')"
   ],
   "metadata": {
    "collapsed": false,
    "ExecuteTime": {
     "end_time": "2024-03-06T10:41:55.777238Z",
     "start_time": "2024-03-06T10:41:55.766376Z"
    }
   },
   "id": "28a05e0e47dcc896",
   "execution_count": 33
  },
  {
   "cell_type": "code",
   "outputs": [
    {
     "data": {
      "text/plain": "<configparser.ConfigParser at 0x110154a90>"
     },
     "execution_count": 34,
     "metadata": {},
     "output_type": "execute_result"
    }
   ],
   "source": [
    "cfg"
   ],
   "metadata": {
    "collapsed": false,
    "ExecuteTime": {
     "end_time": "2024-03-06T10:42:03.580450Z",
     "start_time": "2024-03-06T10:42:03.569504Z"
    }
   },
   "id": "524a5c18216cb627",
   "execution_count": 34
  },
  {
   "cell_type": "code",
   "outputs": [
    {
     "data": {
      "text/plain": "<Section: french>"
     },
     "execution_count": 35,
     "metadata": {},
     "output_type": "execute_result"
    }
   ],
   "source": [
    "cfg['french']"
   ],
   "metadata": {
    "collapsed": false,
    "ExecuteTime": {
     "end_time": "2024-03-06T10:42:19.046665Z",
     "start_time": "2024-03-06T10:42:19.042730Z"
    }
   },
   "id": "a04446186819043e",
   "execution_count": 35
  },
  {
   "cell_type": "code",
   "outputs": [
    {
     "data": {
      "text/plain": "'Bonjour'"
     },
     "execution_count": 36,
     "metadata": {},
     "output_type": "execute_result"
    }
   ],
   "source": [
    "cfg['french']['greeting']"
   ],
   "metadata": {
    "collapsed": false,
    "ExecuteTime": {
     "end_time": "2024-03-06T10:42:31.021839Z",
     "start_time": "2024-03-06T10:42:31.016898Z"
    }
   },
   "id": "2ae990844d6fe385",
   "execution_count": 36
  },
  {
   "cell_type": "code",
   "outputs": [
    {
     "data": {
      "text/plain": "'/usr/local/bin'"
     },
     "execution_count": 39,
     "metadata": {},
     "output_type": "execute_result"
    }
   ],
   "source": [
    "cfg['files']['bin']"
   ],
   "metadata": {
    "collapsed": false,
    "ExecuteTime": {
     "end_time": "2024-03-06T10:43:16.181460Z",
     "start_time": "2024-03-06T10:43:16.175209Z"
    }
   },
   "id": "12b17954389a3d27",
   "execution_count": 39
  },
  {
   "cell_type": "code",
   "outputs": [],
   "source": [],
   "metadata": {
    "collapsed": false
   },
   "id": "a9aa44397e2346a3"
  }
 ],
 "metadata": {
  "kernelspec": {
   "display_name": "Python 3",
   "language": "python",
   "name": "python3"
  },
  "language_info": {
   "codemirror_mode": {
    "name": "ipython",
    "version": 2
   },
   "file_extension": ".py",
   "mimetype": "text/x-python",
   "name": "python",
   "nbconvert_exporter": "python",
   "pygments_lexer": "ipython2",
   "version": "2.7.6"
  }
 },
 "nbformat": 4,
 "nbformat_minor": 5
}
