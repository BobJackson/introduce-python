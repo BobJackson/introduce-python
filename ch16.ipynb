{
 "cells": [
  {
   "cell_type": "code",
   "execution_count": 1,
   "id": "initial_id",
   "metadata": {
    "collapsed": true,
    "ExecuteTime": {
     "end_time": "2024-03-06T09:40:19.302517Z",
     "start_time": "2024-03-06T09:40:19.296161Z"
    }
   },
   "outputs": [],
   "source": [
    "import csv\n",
    "\n",
    "villains = [\n",
    "    ['Doctor', 'No'],\n",
    "    ['Rosa', 'Klebb'],\n",
    "    ['Mister', 'Big'],\n",
    "    ['Auric', 'Goldfinger'],\n",
    "    ['Ernst', 'Blofeld']\n",
    "]\n",
    "with open('villains.csv', 'wt') as fout:\n",
    "    csvout = csv.writer(fout)\n",
    "    csvout.writerows(villains)"
   ]
  },
  {
   "cell_type": "code",
   "outputs": [
    {
     "name": "stdout",
     "output_type": "stream",
     "text": [
      "[['Doctor', 'No'], ['Rosa', 'Klebb'], ['Mister', 'Big'], ['Auric', 'Goldfinger'], ['Ernst', 'Blofeld']]\n"
     ]
    }
   ],
   "source": [
    "import csv\n",
    "\n",
    "with open('villains.csv', 'rt') as fin:\n",
    "    cin = csv.reader(fin)\n",
    "    villains = [row for row in cin]\n",
    "print(villains)"
   ],
   "metadata": {
    "collapsed": false,
    "ExecuteTime": {
     "end_time": "2024-03-06T09:41:47.320085Z",
     "start_time": "2024-03-06T09:41:47.312844Z"
    }
   },
   "id": "96478d35c620ff47",
   "execution_count": 2
  },
  {
   "cell_type": "code",
   "outputs": [
    {
     "name": "stdout",
     "output_type": "stream",
     "text": [
      "[{'first': 'Doctor', 'last': 'No'}, {'first': 'Rosa', 'last': 'Klebb'}, {'first': 'Mister', 'last': 'Big'}, {'first': 'Auric', 'last': 'Goldfinger'}, {'first': 'Ernst', 'last': 'Blofeld'}]\n"
     ]
    }
   ],
   "source": [
    "import csv\n",
    "\n",
    "with open('villains.csv', 'rt') as fin:\n",
    "    cin = csv.DictReader(fin, fieldnames=['first', 'last'])\n",
    "    villains = [row for row in cin]\n",
    "print(villains)"
   ],
   "metadata": {
    "collapsed": false,
    "ExecuteTime": {
     "end_time": "2024-03-06T09:43:20.426685Z",
     "start_time": "2024-03-06T09:43:20.423646Z"
    }
   },
   "id": "e4fcc6dc0705f14b",
   "execution_count": 4
  },
  {
   "cell_type": "code",
   "outputs": [],
   "source": [
    "import csv\n",
    "\n",
    "vallains = [\n",
    "    {'first': 'Doctor', 'last': 'No'},\n",
    "    {'first': 'Rosa', 'last': 'Klebb'},\n",
    "    {'first': 'Mister', 'last': 'Big'},\n",
    "    {'first': 'Auric', 'last': 'Goldfinger'},\n",
    "    {'first': 'Ernst', 'last': 'Blofeld'}\n",
    "]\n",
    "with open('villains.csv', 'wt') as fout:\n",
    "    cout = csv.DictWriter(fout, ['first', 'last'])\n",
    "    cout.writeheader()\n",
    "    cout.writerows(vallains)"
   ],
   "metadata": {
    "collapsed": false,
    "ExecuteTime": {
     "end_time": "2024-03-06T09:45:53.316202Z",
     "start_time": "2024-03-06T09:45:53.308034Z"
    }
   },
   "id": "7b4d4e0dd13bafe4",
   "execution_count": 5
  },
  {
   "cell_type": "code",
   "outputs": [
    {
     "name": "stdout",
     "output_type": "stream",
     "text": [
      "[{'first': 'Doctor', 'last': 'No'}, {'first': 'Rosa', 'last': 'Klebb'}, {'first': 'Mister', 'last': 'Big'}, {'first': 'Auric', 'last': 'Goldfinger'}, {'first': 'Ernst', 'last': 'Blofeld'}]\n"
     ]
    }
   ],
   "source": [
    "import csv\n",
    "\n",
    "with open('villains.csv', 'rt') as fin:\n",
    "    cin = csv.DictReader(fin)\n",
    "    villains = [row for row in cin]\n",
    "print(villains)"
   ],
   "metadata": {
    "collapsed": false,
    "ExecuteTime": {
     "end_time": "2024-03-06T09:46:50.212007Z",
     "start_time": "2024-03-06T09:46:50.197643Z"
    }
   },
   "id": "943a264b0aadb8cf",
   "execution_count": 6
  },
  {
   "cell_type": "code",
   "outputs": [
    {
     "data": {
      "text/plain": "'menu'"
     },
     "execution_count": 7,
     "metadata": {},
     "output_type": "execute_result"
    }
   ],
   "source": [
    "import xml.etree.ElementTree as et\n",
    "\n",
    "tree = et.ElementTree(file='menu.xml')\n",
    "root = tree.getroot()\n",
    "root.tag"
   ],
   "metadata": {
    "collapsed": false,
    "ExecuteTime": {
     "end_time": "2024-03-06T09:48:56.312296Z",
     "start_time": "2024-03-06T09:48:56.299221Z"
    }
   },
   "id": "1b4bc894224dac0b",
   "execution_count": 7
  },
  {
   "cell_type": "code",
   "outputs": [
    {
     "name": "stdout",
     "output_type": "stream",
     "text": [
      "tag: breakfast attributes: {'hours': '7-11'}\n",
      "\ttag: item attributes: {'price': '$6.00'}\n",
      "\ttag: item attributes: {'price': '$4.00'}\n",
      "tag: lunch attributes: {'hours': '11-3'}\n",
      "\ttag: item attributes: {'price': '$5.00'}\n",
      "tag: dinner attributes: {'hours': '3-10'}\n",
      "\ttag: item attributes: {'price': '8.00'}\n"
     ]
    }
   ],
   "source": [
    "for child in root:\n",
    "    print('tag:', child.tag, 'attributes:', child.attrib)\n",
    "    for grandchild in child:\n",
    "        print('\\ttag:', grandchild.tag, 'attributes:', grandchild.attrib)"
   ],
   "metadata": {
    "collapsed": false,
    "ExecuteTime": {
     "end_time": "2024-03-06T09:49:59.473659Z",
     "start_time": "2024-03-06T09:49:59.452730Z"
    }
   },
   "id": "497123f6fd96d796",
   "execution_count": 8
  },
  {
   "cell_type": "code",
   "outputs": [
    {
     "data": {
      "text/plain": "3"
     },
     "execution_count": 9,
     "metadata": {},
     "output_type": "execute_result"
    }
   ],
   "source": [
    "len(root)"
   ],
   "metadata": {
    "collapsed": false,
    "ExecuteTime": {
     "end_time": "2024-03-06T09:50:32.756210Z",
     "start_time": "2024-03-06T09:50:32.746396Z"
    }
   },
   "id": "473fe1e5c87881c5",
   "execution_count": 9
  },
  {
   "cell_type": "code",
   "outputs": [
    {
     "data": {
      "text/plain": "2"
     },
     "execution_count": 10,
     "metadata": {},
     "output_type": "execute_result"
    }
   ],
   "source": [
    "len(root[0])"
   ],
   "metadata": {
    "collapsed": false,
    "ExecuteTime": {
     "end_time": "2024-03-06T09:50:40.837829Z",
     "start_time": "2024-03-06T09:50:40.833847Z"
    }
   },
   "id": "ca73e2c00a5ade88",
   "execution_count": 10
  },
  {
   "cell_type": "code",
   "outputs": [
    {
     "data": {
      "text/plain": "'{\"breakfast\": {\"hours\": \"7-11\", \"items\": {\"breakfast burritos\": \"$6.00\", \"pancakes\": \"$4.00\"}}, \"lunch\": {\"hours\": \"11-3\", \"items\": {\"hamburger\": \"$5.00\"}}, \"dinner\": {\"hours\": \"3-10\", \"items\": {\"spaghetti\": \"$8.00\"}}}'"
     },
     "execution_count": 11,
     "metadata": {},
     "output_type": "execute_result"
    }
   ],
   "source": [
    "menu = \\\n",
    "    {\n",
    "        'breakfast': {'hours': '7-11', 'items': {'breakfast burritos': '$6.00', 'pancakes': '$4.00'}},\n",
    "        'lunch': {'hours': '11-3', 'items': {'hamburger': '$5.00'}},\n",
    "        'dinner': {'hours': '3-10', 'items': {'spaghetti': '$8.00'}}\n",
    "    }\n",
    "import json\n",
    "menu_json = json.dumps(menu)\n",
    "menu_json"
   ],
   "metadata": {
    "collapsed": false,
    "ExecuteTime": {
     "end_time": "2024-03-06T09:57:24.379744Z",
     "start_time": "2024-03-06T09:57:24.373523Z"
    }
   },
   "id": "64f935ac8ac62797",
   "execution_count": 11
  },
  {
   "cell_type": "code",
   "outputs": [
    {
     "data": {
      "text/plain": "{'breakfast': {'hours': '7-11',\n  'items': {'breakfast burritos': '$6.00', 'pancakes': '$4.00'}},\n 'lunch': {'hours': '11-3', 'items': {'hamburger': '$5.00'}},\n 'dinner': {'hours': '3-10', 'items': {'spaghetti': '$8.00'}}}"
     },
     "execution_count": 12,
     "metadata": {},
     "output_type": "execute_result"
    }
   ],
   "source": [
    "menu2 = json.loads(menu_json)\n",
    "menu2"
   ],
   "metadata": {
    "collapsed": false,
    "ExecuteTime": {
     "end_time": "2024-03-06T09:57:55.676584Z",
     "start_time": "2024-03-06T09:57:55.671483Z"
    }
   },
   "id": "e334a62815c2dac2",
   "execution_count": 12
  },
  {
   "cell_type": "code",
   "outputs": [
    {
     "data": {
      "text/plain": "datetime.datetime(2024, 3, 6, 9, 58, 52, 271456)"
     },
     "execution_count": 13,
     "metadata": {},
     "output_type": "execute_result"
    }
   ],
   "source": [
    "import datetime\n",
    "import json\n",
    "now = datetime.datetime.utcnow()\n",
    "now"
   ],
   "metadata": {
    "collapsed": false,
    "ExecuteTime": {
     "end_time": "2024-03-06T09:58:52.276160Z",
     "start_time": "2024-03-06T09:58:52.268417Z"
    }
   },
   "id": "1ba56c76447db089",
   "execution_count": 13
  },
  {
   "cell_type": "code",
   "outputs": [
    {
     "ename": "TypeError",
     "evalue": "Object of type datetime is not JSON serializable",
     "output_type": "error",
     "traceback": [
      "\u001B[0;31m---------------------------------------------------------------------------\u001B[0m",
      "\u001B[0;31mTypeError\u001B[0m                                 Traceback (most recent call last)",
      "Cell \u001B[0;32mIn[14], line 1\u001B[0m\n\u001B[0;32m----> 1\u001B[0m \u001B[43mjson\u001B[49m\u001B[38;5;241;43m.\u001B[39;49m\u001B[43mdumps\u001B[49m\u001B[43m(\u001B[49m\u001B[43mnow\u001B[49m\u001B[43m)\u001B[49m\n",
      "File \u001B[0;32m/Library/Developer/CommandLineTools/Library/Frameworks/Python3.framework/Versions/3.9/lib/python3.9/json/__init__.py:231\u001B[0m, in \u001B[0;36mdumps\u001B[0;34m(obj, skipkeys, ensure_ascii, check_circular, allow_nan, cls, indent, separators, default, sort_keys, **kw)\u001B[0m\n\u001B[1;32m    226\u001B[0m \u001B[38;5;66;03m# cached encoder\u001B[39;00m\n\u001B[1;32m    227\u001B[0m \u001B[38;5;28;01mif\u001B[39;00m (\u001B[38;5;129;01mnot\u001B[39;00m skipkeys \u001B[38;5;129;01mand\u001B[39;00m ensure_ascii \u001B[38;5;129;01mand\u001B[39;00m\n\u001B[1;32m    228\u001B[0m     check_circular \u001B[38;5;129;01mand\u001B[39;00m allow_nan \u001B[38;5;129;01mand\u001B[39;00m\n\u001B[1;32m    229\u001B[0m     \u001B[38;5;28mcls\u001B[39m \u001B[38;5;129;01mis\u001B[39;00m \u001B[38;5;28;01mNone\u001B[39;00m \u001B[38;5;129;01mand\u001B[39;00m indent \u001B[38;5;129;01mis\u001B[39;00m \u001B[38;5;28;01mNone\u001B[39;00m \u001B[38;5;129;01mand\u001B[39;00m separators \u001B[38;5;129;01mis\u001B[39;00m \u001B[38;5;28;01mNone\u001B[39;00m \u001B[38;5;129;01mand\u001B[39;00m\n\u001B[1;32m    230\u001B[0m     default \u001B[38;5;129;01mis\u001B[39;00m \u001B[38;5;28;01mNone\u001B[39;00m \u001B[38;5;129;01mand\u001B[39;00m \u001B[38;5;129;01mnot\u001B[39;00m sort_keys \u001B[38;5;129;01mand\u001B[39;00m \u001B[38;5;129;01mnot\u001B[39;00m kw):\n\u001B[0;32m--> 231\u001B[0m     \u001B[38;5;28;01mreturn\u001B[39;00m \u001B[43m_default_encoder\u001B[49m\u001B[38;5;241;43m.\u001B[39;49m\u001B[43mencode\u001B[49m\u001B[43m(\u001B[49m\u001B[43mobj\u001B[49m\u001B[43m)\u001B[49m\n\u001B[1;32m    232\u001B[0m \u001B[38;5;28;01mif\u001B[39;00m \u001B[38;5;28mcls\u001B[39m \u001B[38;5;129;01mis\u001B[39;00m \u001B[38;5;28;01mNone\u001B[39;00m:\n\u001B[1;32m    233\u001B[0m     \u001B[38;5;28mcls\u001B[39m \u001B[38;5;241m=\u001B[39m JSONEncoder\n",
      "File \u001B[0;32m/Library/Developer/CommandLineTools/Library/Frameworks/Python3.framework/Versions/3.9/lib/python3.9/json/encoder.py:199\u001B[0m, in \u001B[0;36mJSONEncoder.encode\u001B[0;34m(self, o)\u001B[0m\n\u001B[1;32m    195\u001B[0m         \u001B[38;5;28;01mreturn\u001B[39;00m encode_basestring(o)\n\u001B[1;32m    196\u001B[0m \u001B[38;5;66;03m# This doesn't pass the iterator directly to ''.join() because the\u001B[39;00m\n\u001B[1;32m    197\u001B[0m \u001B[38;5;66;03m# exceptions aren't as detailed.  The list call should be roughly\u001B[39;00m\n\u001B[1;32m    198\u001B[0m \u001B[38;5;66;03m# equivalent to the PySequence_Fast that ''.join() would do.\u001B[39;00m\n\u001B[0;32m--> 199\u001B[0m chunks \u001B[38;5;241m=\u001B[39m \u001B[38;5;28;43mself\u001B[39;49m\u001B[38;5;241;43m.\u001B[39;49m\u001B[43miterencode\u001B[49m\u001B[43m(\u001B[49m\u001B[43mo\u001B[49m\u001B[43m,\u001B[49m\u001B[43m \u001B[49m\u001B[43m_one_shot\u001B[49m\u001B[38;5;241;43m=\u001B[39;49m\u001B[38;5;28;43;01mTrue\u001B[39;49;00m\u001B[43m)\u001B[49m\n\u001B[1;32m    200\u001B[0m \u001B[38;5;28;01mif\u001B[39;00m \u001B[38;5;129;01mnot\u001B[39;00m \u001B[38;5;28misinstance\u001B[39m(chunks, (\u001B[38;5;28mlist\u001B[39m, \u001B[38;5;28mtuple\u001B[39m)):\n\u001B[1;32m    201\u001B[0m     chunks \u001B[38;5;241m=\u001B[39m \u001B[38;5;28mlist\u001B[39m(chunks)\n",
      "File \u001B[0;32m/Library/Developer/CommandLineTools/Library/Frameworks/Python3.framework/Versions/3.9/lib/python3.9/json/encoder.py:257\u001B[0m, in \u001B[0;36mJSONEncoder.iterencode\u001B[0;34m(self, o, _one_shot)\u001B[0m\n\u001B[1;32m    252\u001B[0m \u001B[38;5;28;01melse\u001B[39;00m:\n\u001B[1;32m    253\u001B[0m     _iterencode \u001B[38;5;241m=\u001B[39m _make_iterencode(\n\u001B[1;32m    254\u001B[0m         markers, \u001B[38;5;28mself\u001B[39m\u001B[38;5;241m.\u001B[39mdefault, _encoder, \u001B[38;5;28mself\u001B[39m\u001B[38;5;241m.\u001B[39mindent, floatstr,\n\u001B[1;32m    255\u001B[0m         \u001B[38;5;28mself\u001B[39m\u001B[38;5;241m.\u001B[39mkey_separator, \u001B[38;5;28mself\u001B[39m\u001B[38;5;241m.\u001B[39mitem_separator, \u001B[38;5;28mself\u001B[39m\u001B[38;5;241m.\u001B[39msort_keys,\n\u001B[1;32m    256\u001B[0m         \u001B[38;5;28mself\u001B[39m\u001B[38;5;241m.\u001B[39mskipkeys, _one_shot)\n\u001B[0;32m--> 257\u001B[0m \u001B[38;5;28;01mreturn\u001B[39;00m \u001B[43m_iterencode\u001B[49m\u001B[43m(\u001B[49m\u001B[43mo\u001B[49m\u001B[43m,\u001B[49m\u001B[43m \u001B[49m\u001B[38;5;241;43m0\u001B[39;49m\u001B[43m)\u001B[49m\n",
      "File \u001B[0;32m/Library/Developer/CommandLineTools/Library/Frameworks/Python3.framework/Versions/3.9/lib/python3.9/json/encoder.py:179\u001B[0m, in \u001B[0;36mJSONEncoder.default\u001B[0;34m(self, o)\u001B[0m\n\u001B[1;32m    160\u001B[0m \u001B[38;5;28;01mdef\u001B[39;00m \u001B[38;5;21mdefault\u001B[39m(\u001B[38;5;28mself\u001B[39m, o):\n\u001B[1;32m    161\u001B[0m \u001B[38;5;250m    \u001B[39m\u001B[38;5;124;03m\"\"\"Implement this method in a subclass such that it returns\u001B[39;00m\n\u001B[1;32m    162\u001B[0m \u001B[38;5;124;03m    a serializable object for ``o``, or calls the base implementation\u001B[39;00m\n\u001B[1;32m    163\u001B[0m \u001B[38;5;124;03m    (to raise a ``TypeError``).\u001B[39;00m\n\u001B[0;32m   (...)\u001B[0m\n\u001B[1;32m    177\u001B[0m \n\u001B[1;32m    178\u001B[0m \u001B[38;5;124;03m    \"\"\"\u001B[39;00m\n\u001B[0;32m--> 179\u001B[0m     \u001B[38;5;28;01mraise\u001B[39;00m \u001B[38;5;167;01mTypeError\u001B[39;00m(\u001B[38;5;124mf\u001B[39m\u001B[38;5;124m'\u001B[39m\u001B[38;5;124mObject of type \u001B[39m\u001B[38;5;132;01m{\u001B[39;00mo\u001B[38;5;241m.\u001B[39m\u001B[38;5;18m__class__\u001B[39m\u001B[38;5;241m.\u001B[39m\u001B[38;5;18m__name__\u001B[39m\u001B[38;5;132;01m}\u001B[39;00m\u001B[38;5;124m \u001B[39m\u001B[38;5;124m'\u001B[39m\n\u001B[1;32m    180\u001B[0m                     \u001B[38;5;124mf\u001B[39m\u001B[38;5;124m'\u001B[39m\u001B[38;5;124mis not JSON serializable\u001B[39m\u001B[38;5;124m'\u001B[39m)\n",
      "\u001B[0;31mTypeError\u001B[0m: Object of type datetime is not JSON serializable"
     ]
    }
   ],
   "source": [
    "json.dumps(now)"
   ],
   "metadata": {
    "collapsed": false,
    "ExecuteTime": {
     "end_time": "2024-03-06T09:59:05.849931Z",
     "start_time": "2024-03-06T09:59:05.616829Z"
    }
   },
   "id": "eb1fb5b70dec61de",
   "execution_count": 14
  },
  {
   "cell_type": "code",
   "outputs": [
    {
     "data": {
      "text/plain": "'\"2024-03-06 09:58:52.271456\"'"
     },
     "execution_count": 15,
     "metadata": {},
     "output_type": "execute_result"
    }
   ],
   "source": [
    "now_str=str(now)\n",
    "json.dumps(now_str)"
   ],
   "metadata": {
    "collapsed": false,
    "ExecuteTime": {
     "end_time": "2024-03-06T09:59:42.503031Z",
     "start_time": "2024-03-06T09:59:42.494875Z"
    }
   },
   "id": "fb820b6be127b795",
   "execution_count": 15
  },
  {
   "cell_type": "code",
   "outputs": [
    {
     "data": {
      "text/plain": "'1709690332'"
     },
     "execution_count": 16,
     "metadata": {},
     "output_type": "execute_result"
    }
   ],
   "source": [
    "from time import mktime\n",
    "now_epoch = int(mktime(now.timetuple()))\n",
    "json.dumps(now_epoch)"
   ],
   "metadata": {
    "collapsed": false,
    "ExecuteTime": {
     "end_time": "2024-03-06T10:00:27.714075Z",
     "start_time": "2024-03-06T10:00:27.706720Z"
    }
   },
   "id": "44dbdeedd335683a",
   "execution_count": 16
  },
  {
   "cell_type": "code",
   "outputs": [
    {
     "data": {
      "text/plain": "time.struct_time(tm_year=2024, tm_mon=3, tm_mday=6, tm_hour=9, tm_min=58, tm_sec=52, tm_wday=2, tm_yday=66, tm_isdst=-1)"
     },
     "execution_count": 17,
     "metadata": {},
     "output_type": "execute_result"
    }
   ],
   "source": [
    "now.timetuple()"
   ],
   "metadata": {
    "collapsed": false,
    "ExecuteTime": {
     "end_time": "2024-03-06T10:00:46.834457Z",
     "start_time": "2024-03-06T10:00:46.828834Z"
    }
   },
   "id": "75afca724ff38cd1",
   "execution_count": 17
  },
  {
   "cell_type": "code",
   "outputs": [],
   "source": [
    "import datetime\n",
    "now = datetime.datetime.utcnow()\n",
    "class DTEncoder(json.JSONEncoder):\n",
    "    def default(self, obj):\n",
    "        if isinstance(obj, datetime.datetime):\n",
    "            return int(mktime(obj.timetuple()))\n",
    "        return json.JSONEncoder.default(self, obj)"
   ],
   "metadata": {
    "collapsed": false,
    "ExecuteTime": {
     "end_time": "2024-03-06T10:02:15.152672Z",
     "start_time": "2024-03-06T10:02:15.146879Z"
    }
   },
   "id": "8c34b099811d0c1a",
   "execution_count": 18
  },
  {
   "cell_type": "code",
   "outputs": [
    {
     "data": {
      "text/plain": "'1709690535'"
     },
     "execution_count": 19,
     "metadata": {},
     "output_type": "execute_result"
    }
   ],
   "source": [
    "json.dumps(now, cls=DTEncoder)"
   ],
   "metadata": {
    "collapsed": false,
    "ExecuteTime": {
     "end_time": "2024-03-06T10:02:30.174216Z",
     "start_time": "2024-03-06T10:02:30.169620Z"
    }
   },
   "id": "f859aa7711dbf6b4",
   "execution_count": 19
  },
  {
   "cell_type": "code",
   "outputs": [
    {
     "data": {
      "text/plain": "datetime.datetime"
     },
     "execution_count": 20,
     "metadata": {},
     "output_type": "execute_result"
    }
   ],
   "source": [
    "import datetime\n",
    "now = datetime.datetime.utcnow()\n",
    "type(now)"
   ],
   "metadata": {
    "collapsed": false,
    "ExecuteTime": {
     "end_time": "2024-03-06T10:03:32.930429Z",
     "start_time": "2024-03-06T10:03:32.923794Z"
    }
   },
   "id": "6a76e4007de0325e",
   "execution_count": 20
  },
  {
   "cell_type": "code",
   "outputs": [
    {
     "data": {
      "text/plain": "True"
     },
     "execution_count": 21,
     "metadata": {},
     "output_type": "execute_result"
    }
   ],
   "source": [
    "isinstance(now, datetime.datetime)"
   ],
   "metadata": {
    "collapsed": false,
    "ExecuteTime": {
     "end_time": "2024-03-06T10:03:43.020162Z",
     "start_time": "2024-03-06T10:03:43.017196Z"
    }
   },
   "id": "aff9823158da257",
   "execution_count": 21
  },
  {
   "cell_type": "code",
   "outputs": [
    {
     "data": {
      "text/plain": "int"
     },
     "execution_count": 22,
     "metadata": {},
     "output_type": "execute_result"
    }
   ],
   "source": [
    "type(234)"
   ],
   "metadata": {
    "collapsed": false,
    "ExecuteTime": {
     "end_time": "2024-03-06T10:03:47.803899Z",
     "start_time": "2024-03-06T10:03:47.799851Z"
    }
   },
   "id": "1b43670a79d8ee19",
   "execution_count": 22
  },
  {
   "cell_type": "code",
   "outputs": [
    {
     "data": {
      "text/plain": "True"
     },
     "execution_count": 23,
     "metadata": {},
     "output_type": "execute_result"
    }
   ],
   "source": [
    "isinstance(234, int)"
   ],
   "metadata": {
    "collapsed": false,
    "ExecuteTime": {
     "end_time": "2024-03-06T10:04:00.400768Z",
     "start_time": "2024-03-06T10:04:00.397005Z"
    }
   },
   "id": "453c89f7496653f9",
   "execution_count": 23
  },
  {
   "cell_type": "code",
   "outputs": [
    {
     "data": {
      "text/plain": "str"
     },
     "execution_count": 24,
     "metadata": {},
     "output_type": "execute_result"
    }
   ],
   "source": [
    "type('hey')"
   ],
   "metadata": {
    "collapsed": false,
    "ExecuteTime": {
     "end_time": "2024-03-06T10:04:07.208086Z",
     "start_time": "2024-03-06T10:04:07.201317Z"
    }
   },
   "id": "e735f4b6df3b5602",
   "execution_count": 24
  },
  {
   "cell_type": "code",
   "outputs": [
    {
     "data": {
      "text/plain": "True"
     },
     "execution_count": 25,
     "metadata": {},
     "output_type": "execute_result"
    }
   ],
   "source": [
    "isinstance('hey', str)"
   ],
   "metadata": {
    "collapsed": false,
    "ExecuteTime": {
     "end_time": "2024-03-06T10:04:57.397232Z",
     "start_time": "2024-03-06T10:04:57.391156Z"
    }
   },
   "id": "4b657cde5d9bee28",
   "execution_count": 25
  },
  {
   "cell_type": "code",
   "outputs": [
    {
     "data": {
      "text/plain": "'\"2024-03-06 10:05:55.514554\"'"
     },
     "execution_count": 26,
     "metadata": {},
     "output_type": "execute_result"
    }
   ],
   "source": [
    "import datetime\n",
    "import json\n",
    "now = datetime.datetime.utcnow()\n",
    "json.dumps(now, default=str)"
   ],
   "metadata": {
    "collapsed": false,
    "ExecuteTime": {
     "end_time": "2024-03-06T10:05:55.518333Z",
     "start_time": "2024-03-06T10:05:55.510684Z"
    }
   },
   "id": "2b2f6e98846c0656",
   "execution_count": 26
  },
  {
   "cell_type": "code",
   "outputs": [
    {
     "data": {
      "text/plain": "{'bearded': True, 'themes': ['cheese', 'Canada']}"
     },
     "execution_count": 28,
     "metadata": {},
     "output_type": "execute_result"
    }
   ],
   "source": [
    "import yaml\n",
    "with open('mcintyre.yaml', 'rt') as fin:\n",
    "    text = fin.read()\n",
    "data = yaml.load(text,Loader=yaml.FullLoader)\n",
    "data['details']"
   ],
   "metadata": {
    "collapsed": false,
    "ExecuteTime": {
     "end_time": "2024-03-06T10:15:51.109588Z",
     "start_time": "2024-03-06T10:15:51.100178Z"
    }
   },
   "id": "4aa34aeda73e47b",
   "execution_count": 28
  },
  {
   "cell_type": "code",
   "outputs": [
    {
     "data": {
      "text/plain": "2"
     },
     "execution_count": 29,
     "metadata": {},
     "output_type": "execute_result"
    }
   ],
   "source": [
    "len(data['poems'])"
   ],
   "metadata": {
    "collapsed": false,
    "ExecuteTime": {
     "end_time": "2024-03-06T10:16:56.397464Z",
     "start_time": "2024-03-06T10:16:56.389865Z"
    }
   },
   "id": "79a3b9079092f8fb",
   "execution_count": 29
  },
  {
   "cell_type": "code",
   "outputs": [
    {
     "data": {
      "text/plain": "'Canadian Charms'"
     },
     "execution_count": 30,
     "metadata": {},
     "output_type": "execute_result"
    }
   ],
   "source": [
    "data['poems'][1]['title']"
   ],
   "metadata": {
    "collapsed": false,
    "ExecuteTime": {
     "end_time": "2024-03-06T10:17:13.345527Z",
     "start_time": "2024-03-06T10:17:13.340021Z"
    }
   },
   "id": "d4be741bdde40941",
   "execution_count": 30
  },
  {
   "cell_type": "code",
   "outputs": [
    {
     "name": "stdout",
     "output_type": "stream",
     "text": [
      "    first        last\n",
      "0  Doctor          No\n",
      "1    Rosa       Klebb\n",
      "2  Mister         Big\n",
      "3   Auric  Goldfinger\n",
      "4   Ernst     Blofeld\n"
     ]
    }
   ],
   "source": [
    "import pandas\n",
    "\n",
    "data = pandas.read_csv('villains.csv')\n",
    "print(data)"
   ],
   "metadata": {
    "collapsed": false,
    "ExecuteTime": {
     "end_time": "2024-03-06T10:36:53.880041Z",
     "start_time": "2024-03-06T10:36:53.525838Z"
    }
   },
   "id": "9d999f6ab6aed996",
   "execution_count": 31
  },
  {
   "cell_type": "code",
   "outputs": [
    {
     "data": {
      "text/plain": "DatetimeIndex(['2019-01-01', '2019-02-01', '2019-03-01'], dtype='datetime64[ns]', freq='MS')"
     },
     "execution_count": 32,
     "metadata": {},
     "output_type": "execute_result"
    }
   ],
   "source": [
    "import pandas\n",
    "dates = pandas.date_range('2019-01-01', periods=3, freq='MS')\n",
    "dates"
   ],
   "metadata": {
    "collapsed": false,
    "ExecuteTime": {
     "end_time": "2024-03-06T10:38:06.580677Z",
     "start_time": "2024-03-06T10:38:06.572991Z"
    }
   },
   "id": "76ff2c3c9c9c462",
   "execution_count": 32
  },
  {
   "cell_type": "code",
   "outputs": [
    {
     "data": {
      "text/plain": "['setting.cfg']"
     },
     "execution_count": 33,
     "metadata": {},
     "output_type": "execute_result"
    }
   ],
   "source": [
    "import configparser\n",
    "\n",
    "cfg = configparser.ConfigParser()\n",
    "cfg.read('setting.cfg')"
   ],
   "metadata": {
    "collapsed": false,
    "ExecuteTime": {
     "end_time": "2024-03-06T10:41:55.777238Z",
     "start_time": "2024-03-06T10:41:55.766376Z"
    }
   },
   "id": "28a05e0e47dcc896",
   "execution_count": 33
  },
  {
   "cell_type": "code",
   "outputs": [
    {
     "data": {
      "text/plain": "<configparser.ConfigParser at 0x110154a90>"
     },
     "execution_count": 34,
     "metadata": {},
     "output_type": "execute_result"
    }
   ],
   "source": [
    "cfg"
   ],
   "metadata": {
    "collapsed": false,
    "ExecuteTime": {
     "end_time": "2024-03-06T10:42:03.580450Z",
     "start_time": "2024-03-06T10:42:03.569504Z"
    }
   },
   "id": "524a5c18216cb627",
   "execution_count": 34
  },
  {
   "cell_type": "code",
   "outputs": [
    {
     "data": {
      "text/plain": "<Section: french>"
     },
     "execution_count": 35,
     "metadata": {},
     "output_type": "execute_result"
    }
   ],
   "source": [
    "cfg['french']"
   ],
   "metadata": {
    "collapsed": false,
    "ExecuteTime": {
     "end_time": "2024-03-06T10:42:19.046665Z",
     "start_time": "2024-03-06T10:42:19.042730Z"
    }
   },
   "id": "a04446186819043e",
   "execution_count": 35
  },
  {
   "cell_type": "code",
   "outputs": [
    {
     "data": {
      "text/plain": "'Bonjour'"
     },
     "execution_count": 36,
     "metadata": {},
     "output_type": "execute_result"
    }
   ],
   "source": [
    "cfg['french']['greeting']"
   ],
   "metadata": {
    "collapsed": false,
    "ExecuteTime": {
     "end_time": "2024-03-06T10:42:31.021839Z",
     "start_time": "2024-03-06T10:42:31.016898Z"
    }
   },
   "id": "2ae990844d6fe385",
   "execution_count": 36
  },
  {
   "cell_type": "code",
   "outputs": [
    {
     "data": {
      "text/plain": "'/usr/local/bin'"
     },
     "execution_count": 39,
     "metadata": {},
     "output_type": "execute_result"
    }
   ],
   "source": [
    "cfg['files']['bin']"
   ],
   "metadata": {
    "collapsed": false,
    "ExecuteTime": {
     "end_time": "2024-03-06T10:43:16.181460Z",
     "start_time": "2024-03-06T10:43:16.175209Z"
    }
   },
   "id": "12b17954389a3d27",
   "execution_count": 39
  },
  {
   "cell_type": "code",
   "outputs": [
    {
     "data": {
      "text/plain": "<sqlite3.Cursor at 0x181aa371240>"
     },
     "execution_count": 1,
     "metadata": {},
     "output_type": "execute_result"
    }
   ],
   "source": [
    "import sqlite3\n",
    "conn = sqlite3.connect('enterprise.db')\n",
    "curs = conn.cursor()\n",
    "curs.execute('''CREATE TABLE zoo\n",
    "(critter VARCHAR(20) PRIMARY KEY ,\n",
    "count INT,\n",
    "damages FLOAT)''')"
   ],
   "metadata": {
    "collapsed": false,
    "ExecuteTime": {
     "end_time": "2024-03-07T13:37:59.118254Z",
     "start_time": "2024-03-07T13:37:59.094106Z"
    }
   },
   "id": "a9aa44397e2346a3",
   "execution_count": 1
  },
  {
   "cell_type": "code",
   "outputs": [
    {
     "data": {
      "text/plain": "<sqlite3.Cursor at 0x181aa371240>"
     },
     "execution_count": 3,
     "metadata": {},
     "output_type": "execute_result"
    }
   ],
   "source": [
    "curs.execute('INSERT INTO zoo VALUES (\"duck\",5,0.0)')"
   ],
   "metadata": {
    "collapsed": false,
    "ExecuteTime": {
     "end_time": "2024-03-07T13:47:34.898560Z",
     "start_time": "2024-03-07T13:47:34.890914Z"
    }
   },
   "id": "56ad2aa0f7e9a8ba",
   "execution_count": 3
  },
  {
   "cell_type": "code",
   "outputs": [
    {
     "data": {
      "text/plain": "<sqlite3.Cursor at 0x181aa371240>"
     },
     "execution_count": 4,
     "metadata": {},
     "output_type": "execute_result"
    }
   ],
   "source": [
    "curs.execute('INSERT INTO zoo VALUES (\"bear\",2,1000.0)')"
   ],
   "metadata": {
    "collapsed": false,
    "ExecuteTime": {
     "end_time": "2024-03-07T13:48:20.547795Z",
     "start_time": "2024-03-07T13:48:20.541812Z"
    }
   },
   "id": "2023cdeafbcea2bc",
   "execution_count": 4
  },
  {
   "cell_type": "code",
   "outputs": [
    {
     "data": {
      "text/plain": "<sqlite3.Cursor at 0x181aa371240>"
     },
     "execution_count": 5,
     "metadata": {},
     "output_type": "execute_result"
    }
   ],
   "source": [
    "ins = 'INSERT INTO zoo(critter,count, damages) VALUES (?,?,?)'\n",
    "curs.execute(ins, ('weasel', 1, 2000.0))"
   ],
   "metadata": {
    "collapsed": false,
    "ExecuteTime": {
     "end_time": "2024-03-07T13:50:35.767214Z",
     "start_time": "2024-03-07T13:50:35.760790Z"
    }
   },
   "id": "1923704c6ab53ebc",
   "execution_count": 5
  },
  {
   "cell_type": "code",
   "outputs": [
    {
     "data": {
      "text/plain": "<sqlite3.Cursor at 0x181aa371240>"
     },
     "execution_count": 6,
     "metadata": {},
     "output_type": "execute_result"
    }
   ],
   "source": [
    "curs.execute('SELECT * FROM zoo')"
   ],
   "metadata": {
    "collapsed": false,
    "ExecuteTime": {
     "end_time": "2024-03-07T13:51:11.021362Z",
     "start_time": "2024-03-07T13:51:11.015152Z"
    }
   },
   "id": "d18dbb83fbee76bc",
   "execution_count": 6
  },
  {
   "cell_type": "code",
   "outputs": [
    {
     "data": {
      "text/plain": "[('duck', 5, 0.0), ('bear', 2, 1000.0), ('weasel', 1, 2000.0)]"
     },
     "execution_count": 7,
     "metadata": {},
     "output_type": "execute_result"
    }
   ],
   "source": [
    "rows = curs.fetchall()\n",
    "rows"
   ],
   "metadata": {
    "collapsed": false,
    "ExecuteTime": {
     "end_time": "2024-03-07T13:51:28.163524Z",
     "start_time": "2024-03-07T13:51:28.156443Z"
    }
   },
   "id": "602e2adea4ca90f5",
   "execution_count": 7
  },
  {
   "cell_type": "code",
   "outputs": [
    {
     "data": {
      "text/plain": "<sqlite3.Cursor at 0x181aa371240>"
     },
     "execution_count": 8,
     "metadata": {},
     "output_type": "execute_result"
    }
   ],
   "source": [
    "curs.execute('SELECT * FROM zoo ORDER BY count')"
   ],
   "metadata": {
    "collapsed": false,
    "ExecuteTime": {
     "end_time": "2024-03-07T13:52:41.956844Z",
     "start_time": "2024-03-07T13:52:41.950707Z"
    }
   },
   "id": "964f9b51bf868cca",
   "execution_count": 8
  },
  {
   "cell_type": "code",
   "outputs": [
    {
     "data": {
      "text/plain": "[('weasel', 1, 2000.0), ('bear', 2, 1000.0), ('duck', 5, 0.0)]"
     },
     "execution_count": 9,
     "metadata": {},
     "output_type": "execute_result"
    }
   ],
   "source": [
    "curs.fetchall()"
   ],
   "metadata": {
    "collapsed": false,
    "ExecuteTime": {
     "end_time": "2024-03-07T13:52:51.383394Z",
     "start_time": "2024-03-07T13:52:51.377552Z"
    }
   },
   "id": "3092126843a48f82",
   "execution_count": 9
  },
  {
   "cell_type": "code",
   "outputs": [
    {
     "data": {
      "text/plain": "[('duck', 5, 0.0), ('bear', 2, 1000.0), ('weasel', 1, 2000.0)]"
     },
     "execution_count": 10,
     "metadata": {},
     "output_type": "execute_result"
    }
   ],
   "source": [
    "curs.execute('SELECT * FROM zoo ORDER BY count DESC ')\n",
    "curs.fetchall()"
   ],
   "metadata": {
    "collapsed": false,
    "ExecuteTime": {
     "end_time": "2024-03-07T13:53:32.366610Z",
     "start_time": "2024-03-07T13:53:32.360021Z"
    }
   },
   "id": "5266e224674346b9",
   "execution_count": 10
  },
  {
   "cell_type": "code",
   "outputs": [
    {
     "data": {
      "text/plain": "[('weasel', 1, 2000.0)]"
     },
     "execution_count": 11,
     "metadata": {},
     "output_type": "execute_result"
    }
   ],
   "source": [
    "curs.execute('''SELECT * FROM zoo WHERE damages = (SELECT MAX(damages) FROM zoo)''')\n",
    "curs.fetchall()"
   ],
   "metadata": {
    "collapsed": false,
    "ExecuteTime": {
     "end_time": "2024-03-07T13:55:03.109950Z",
     "start_time": "2024-03-07T13:55:03.104516Z"
    }
   },
   "id": "8d1504861c543caa",
   "execution_count": 11
  },
  {
   "cell_type": "code",
   "outputs": [],
   "source": [
    "curs.close()\n",
    "conn.close()"
   ],
   "metadata": {
    "collapsed": false,
    "ExecuteTime": {
     "end_time": "2024-03-07T13:55:34.476984Z",
     "start_time": "2024-03-07T13:55:34.472078Z"
    }
   },
   "id": "9eb50f1ea33f27c",
   "execution_count": 12
  },
  {
   "cell_type": "code",
   "outputs": [],
   "source": [
    "import sqlalchemy as sa\n",
    "conn = sa.create_engine('sqlite://')\n",
    "meta = sa.MetaData()\n",
    "zoo = sa.Table('zoo', meta,\n",
    "               sa.Column('critter', sa.String, primary_key=True),\n",
    "               sa.Column('count',sa.Integer),\n",
    "               sa.Column('damages',sa.Float))\n",
    "meta.create_all(conn)\n"
   ],
   "metadata": {
    "collapsed": false,
    "ExecuteTime": {
     "end_time": "2024-03-07T14:56:53.517928Z",
     "start_time": "2024-03-07T14:56:53.510660Z"
    }
   },
   "id": "f43fb929790f3865",
   "execution_count": 25
  },
  {
   "cell_type": "code",
   "outputs": [
    {
     "data": {
      "text/plain": "[]"
     },
     "execution_count": 29,
     "metadata": {},
     "output_type": "execute_result"
    }
   ],
   "source": [
    "# conn.connect().execute(zoo.insert(('bear',2,1000.0)))\n",
    "result = conn.connect().execute(zoo.select())\n",
    "rows = result.fetchall()\n",
    "rows"
   ],
   "metadata": {
    "collapsed": false,
    "ExecuteTime": {
     "end_time": "2024-03-07T15:01:10.936722Z",
     "start_time": "2024-03-07T15:01:10.927528Z"
    }
   },
   "id": "f84e536b7f41d3d0",
   "execution_count": 29
  },
  {
   "cell_type": "code",
   "outputs": [],
   "source": [
    "conn.connect().close()"
   ],
   "metadata": {
    "collapsed": false,
    "ExecuteTime": {
     "end_time": "2024-03-07T15:03:35.312495Z",
     "start_time": "2024-03-07T15:03:35.308318Z"
    }
   },
   "id": "103080cbda18b36e",
   "execution_count": 30
  },
  {
   "cell_type": "code",
   "outputs": [],
   "source": [
    "import sqlalchemy as sa\n",
    "from sqlalchemy.orm import declarative_base\n",
    "\n",
    "conn = sa.create_engine('sqlite:///zoo.db')\n",
    "Base = declarative_base()\n",
    "\n",
    "class Zoo(Base):\n",
    "    __tablename__ = 'zoo'\n",
    "    critter = sa.Column('critter',sa.String, primary_key=True)\n",
    "    count = sa.Column('count',sa.Integer)\n",
    "    damages = sa.Column('damages',sa.Float)\n",
    "    def __init__(self,critter,count,damages):\n",
    "        self.critter = critter\n",
    "        self.count = count\n",
    "        self.damages = damages\n",
    "    def __repr__(self):\n",
    "        return \"<Zoo({},{},{})>\".format(self.critter,self.count,self.damages)\n",
    "\n",
    "Base.metadata.create_all(conn)    "
   ],
   "metadata": {
    "collapsed": false,
    "ExecuteTime": {
     "end_time": "2024-03-07T15:10:21.901464Z",
     "start_time": "2024-03-07T15:10:21.892221Z"
    }
   },
   "id": "11b5c80ba706a79a",
   "execution_count": 32
  },
  {
   "cell_type": "code",
   "outputs": [],
   "source": [
    "first = Zoo('duck',10,0.0)\n",
    "second = Zoo('bear', 2, 1000.0)\n",
    "third = Zoo('weasel', 1, 2000.0)"
   ],
   "metadata": {
    "collapsed": false,
    "ExecuteTime": {
     "end_time": "2024-03-07T15:11:20.716472Z",
     "start_time": "2024-03-07T15:11:20.711180Z"
    }
   },
   "id": "804aecaaf751235a",
   "execution_count": 33
  },
  {
   "cell_type": "code",
   "outputs": [
    {
     "data": {
      "text/plain": "<Zoo(duck,10,0.0)>"
     },
     "execution_count": 34,
     "metadata": {},
     "output_type": "execute_result"
    }
   ],
   "source": [
    "first"
   ],
   "metadata": {
    "collapsed": false,
    "ExecuteTime": {
     "end_time": "2024-03-07T15:11:24.103398Z",
     "start_time": "2024-03-07T15:11:24.097963Z"
    }
   },
   "id": "614135f4cfe344a6",
   "execution_count": 34
  },
  {
   "cell_type": "code",
   "outputs": [],
   "source": [
    "from sqlalchemy.orm import sessionmaker\n",
    "Session = sessionmaker(bind=conn)\n",
    "session = Session()"
   ],
   "metadata": {
    "collapsed": false,
    "ExecuteTime": {
     "end_time": "2024-03-07T15:12:31.466177Z",
     "start_time": "2024-03-07T15:12:31.461680Z"
    }
   },
   "id": "e8e28779c1606b75",
   "execution_count": 35
  },
  {
   "cell_type": "code",
   "outputs": [],
   "source": [
    "session.add(first)\n",
    "session.add_all([second,third])"
   ],
   "metadata": {
    "collapsed": false,
    "ExecuteTime": {
     "end_time": "2024-03-07T15:12:58.662817Z",
     "start_time": "2024-03-07T15:12:58.658613Z"
    }
   },
   "id": "8f8cceb025b2b70f",
   "execution_count": 36
  },
  {
   "cell_type": "code",
   "outputs": [],
   "source": [
    "session.commit()"
   ],
   "metadata": {
    "collapsed": false,
    "ExecuteTime": {
     "end_time": "2024-03-07T15:13:05.970769Z",
     "start_time": "2024-03-07T15:13:05.950998Z"
    }
   },
   "id": "e988707779a91df2",
   "execution_count": 37
  },
  {
   "cell_type": "code",
   "outputs": [],
   "source": [
    "session.close()"
   ],
   "metadata": {
    "collapsed": false,
    "ExecuteTime": {
     "end_time": "2024-03-07T15:16:50.138973Z",
     "start_time": "2024-03-07T15:16:50.134643Z"
    }
   },
   "id": "bfae427ea7cc31ef",
   "execution_count": 38
  },
  {
   "cell_type": "code",
   "outputs": [
    {
     "data": {
      "text/plain": "3"
     },
     "execution_count": 39,
     "metadata": {},
     "output_type": "execute_result"
    }
   ],
   "source": [
    "import dbm\n",
    "db = dbm.open('definitions','c')\n",
    "db['mustard'] = 'yellow'\n",
    "db['ketchup'] = 'red'\n",
    "db['pesto'] = 'green'\n",
    "\n",
    "len(db)"
   ],
   "metadata": {
    "collapsed": false,
    "ExecuteTime": {
     "end_time": "2024-03-07T15:24:25.680548Z",
     "start_time": "2024-03-07T15:24:25.599937Z"
    }
   },
   "id": "3a131d866fe84e92",
   "execution_count": 39
  },
  {
   "cell_type": "code",
   "outputs": [
    {
     "ename": "KeyError",
     "evalue": "b'hello'",
     "output_type": "error",
     "traceback": [
      "\u001B[1;31m---------------------------------------------------------------------------\u001B[0m",
      "\u001B[1;31mKeyError\u001B[0m                                  Traceback (most recent call last)",
      "Cell \u001B[1;32mIn[40], line 1\u001B[0m\n\u001B[1;32m----> 1\u001B[0m \u001B[43mdb\u001B[49m\u001B[43m[\u001B[49m\u001B[38;5;124;43m'\u001B[39;49m\u001B[38;5;124;43mhello\u001B[39;49m\u001B[38;5;124;43m'\u001B[39;49m\u001B[43m]\u001B[49m\n",
      "File \u001B[1;32mD:\\develop\\python\\Lib\\dbm\\dumb.py:148\u001B[0m, in \u001B[0;36m_Database.__getitem__\u001B[1;34m(self, key)\u001B[0m\n\u001B[0;32m    146\u001B[0m     key \u001B[38;5;241m=\u001B[39m key\u001B[38;5;241m.\u001B[39mencode(\u001B[38;5;124m'\u001B[39m\u001B[38;5;124mutf-8\u001B[39m\u001B[38;5;124m'\u001B[39m)\n\u001B[0;32m    147\u001B[0m \u001B[38;5;28mself\u001B[39m\u001B[38;5;241m.\u001B[39m_verify_open()\n\u001B[1;32m--> 148\u001B[0m pos, siz \u001B[38;5;241m=\u001B[39m \u001B[38;5;28;43mself\u001B[39;49m\u001B[38;5;241;43m.\u001B[39;49m\u001B[43m_index\u001B[49m\u001B[43m[\u001B[49m\u001B[43mkey\u001B[49m\u001B[43m]\u001B[49m     \u001B[38;5;66;03m# may raise KeyError\u001B[39;00m\n\u001B[0;32m    149\u001B[0m \u001B[38;5;28;01mwith\u001B[39;00m _io\u001B[38;5;241m.\u001B[39mopen(\u001B[38;5;28mself\u001B[39m\u001B[38;5;241m.\u001B[39m_datfile, \u001B[38;5;124m'\u001B[39m\u001B[38;5;124mrb\u001B[39m\u001B[38;5;124m'\u001B[39m) \u001B[38;5;28;01mas\u001B[39;00m f:\n\u001B[0;32m    150\u001B[0m     f\u001B[38;5;241m.\u001B[39mseek(pos)\n",
      "\u001B[1;31mKeyError\u001B[0m: b'hello'"
     ]
    }
   ],
   "source": [
    "db['hello']"
   ],
   "metadata": {
    "collapsed": false,
    "ExecuteTime": {
     "end_time": "2024-03-07T15:24:37.860807Z",
     "start_time": "2024-03-07T15:24:37.792229Z"
    }
   },
   "id": "d5a308347e35458d",
   "execution_count": 40
  },
  {
   "cell_type": "code",
   "outputs": [
    {
     "data": {
      "text/plain": "b'green'"
     },
     "execution_count": 41,
     "metadata": {},
     "output_type": "execute_result"
    }
   ],
   "source": [
    "db['pesto']"
   ],
   "metadata": {
    "collapsed": false,
    "ExecuteTime": {
     "end_time": "2024-03-07T15:24:48.847173Z",
     "start_time": "2024-03-07T15:24:48.840432Z"
    }
   },
   "id": "f34572614d8dcdc0",
   "execution_count": 41
  },
  {
   "cell_type": "code",
   "outputs": [
    {
     "data": {
      "text/plain": "b'yellow'"
     },
     "execution_count": 42,
     "metadata": {},
     "output_type": "execute_result"
    }
   ],
   "source": [
    "db.close()\n",
    "db = dbm.open('definitions','r')\n",
    "db['mustard']"
   ],
   "metadata": {
    "collapsed": false,
    "ExecuteTime": {
     "end_time": "2024-03-07T15:25:20.697325Z",
     "start_time": "2024-03-07T15:25:20.687601Z"
    }
   },
   "id": "ce801d045a6cfcbc",
   "execution_count": 42
  },
  {
   "cell_type": "code",
   "outputs": [],
   "source": [
    "db.close()"
   ],
   "metadata": {
    "collapsed": false,
    "ExecuteTime": {
     "end_time": "2024-03-07T15:46:49.643368Z",
     "start_time": "2024-03-07T15:46:49.639003Z"
    }
   },
   "id": "34303dc0fb58d783",
   "execution_count": 43
  },
  {
   "cell_type": "code",
   "outputs": [
    {
     "data": {
      "text/plain": "True"
     },
     "execution_count": 44,
     "metadata": {},
     "output_type": "execute_result"
    }
   ],
   "source": [
    "import memcache\n",
    "db = memcache.Client(['127.0.0.1:11211'])\n",
    "db.set('marco','polo')"
   ],
   "metadata": {
    "collapsed": false,
    "ExecuteTime": {
     "end_time": "2024-03-07T15:47:39.998869Z",
     "start_time": "2024-03-07T15:47:39.979870Z"
    }
   },
   "id": "aaa3b0669ad9e1d0",
   "execution_count": 44
  },
  {
   "cell_type": "code",
   "outputs": [
    {
     "data": {
      "text/plain": "'polo'"
     },
     "execution_count": 45,
     "metadata": {},
     "output_type": "execute_result"
    }
   ],
   "source": [
    "db.get('marco')"
   ],
   "metadata": {
    "collapsed": false,
    "ExecuteTime": {
     "end_time": "2024-03-07T15:47:49.717093Z",
     "start_time": "2024-03-07T15:47:49.710243Z"
    }
   },
   "id": "35d2188fb673a1a7",
   "execution_count": 45
  },
  {
   "cell_type": "code",
   "outputs": [],
   "source": [
    "db.get('hi')"
   ],
   "metadata": {
    "collapsed": false,
    "ExecuteTime": {
     "end_time": "2024-03-07T15:47:56.855288Z",
     "start_time": "2024-03-07T15:47:56.848944Z"
    }
   },
   "id": "c03d06b412cda8d9",
   "execution_count": 46
  },
  {
   "cell_type": "code",
   "outputs": [
    {
     "data": {
      "text/plain": "True"
     },
     "execution_count": 47,
     "metadata": {},
     "output_type": "execute_result"
    }
   ],
   "source": [
    "db.set('ducks',0)"
   ],
   "metadata": {
    "collapsed": false,
    "ExecuteTime": {
     "end_time": "2024-03-07T15:48:19.719275Z",
     "start_time": "2024-03-07T15:48:19.711249Z"
    }
   },
   "id": "c46511f15e26052b",
   "execution_count": 47
  },
  {
   "cell_type": "code",
   "outputs": [
    {
     "data": {
      "text/plain": "0"
     },
     "execution_count": 48,
     "metadata": {},
     "output_type": "execute_result"
    }
   ],
   "source": [
    "db.get('ducks')"
   ],
   "metadata": {
    "collapsed": false,
    "ExecuteTime": {
     "end_time": "2024-03-07T15:48:27.156568Z",
     "start_time": "2024-03-07T15:48:27.148975Z"
    }
   },
   "id": "8decc6ac57fb599d",
   "execution_count": 48
  },
  {
   "cell_type": "code",
   "outputs": [
    {
     "data": {
      "text/plain": "2"
     },
     "execution_count": 49,
     "metadata": {},
     "output_type": "execute_result"
    }
   ],
   "source": [
    "db.incr('ducks',2)"
   ],
   "metadata": {
    "collapsed": false,
    "ExecuteTime": {
     "end_time": "2024-03-07T15:48:40.089816Z",
     "start_time": "2024-03-07T15:48:40.082669Z"
    }
   },
   "id": "90361c96d66bf0ed",
   "execution_count": 49
  },
  {
   "cell_type": "code",
   "outputs": [
    {
     "data": {
      "text/plain": "2"
     },
     "execution_count": 50,
     "metadata": {},
     "output_type": "execute_result"
    }
   ],
   "source": [
    "db.get('ducks')"
   ],
   "metadata": {
    "collapsed": false,
    "ExecuteTime": {
     "end_time": "2024-03-07T15:48:53.265719Z",
     "start_time": "2024-03-07T15:48:53.259382Z"
    }
   },
   "id": "c2b2d5a0597a0231",
   "execution_count": 50
  },
  {
   "cell_type": "code",
   "outputs": [],
   "source": [
    "db.flush_all()"
   ],
   "metadata": {
    "collapsed": false,
    "ExecuteTime": {
     "end_time": "2024-03-07T15:49:28.369097Z",
     "start_time": "2024-03-07T15:49:28.363016Z"
    }
   },
   "id": "e45e96ec8b209f72",
   "execution_count": 51
  },
  {
   "cell_type": "code",
   "outputs": [],
   "source": [
    "db.quit_all()"
   ],
   "metadata": {
    "collapsed": false,
    "ExecuteTime": {
     "end_time": "2024-03-07T15:49:49.718292Z",
     "start_time": "2024-03-07T15:49:49.712445Z"
    }
   },
   "id": "29005192f4904a37",
   "execution_count": 52
  },
  {
   "cell_type": "code",
   "outputs": [
    {
     "data": {
      "text/plain": "<memcache.Client at 0x181ad2d7a10>"
     },
     "execution_count": 53,
     "metadata": {},
     "output_type": "execute_result"
    }
   ],
   "source": [
    "db"
   ],
   "metadata": {
    "collapsed": false,
    "ExecuteTime": {
     "end_time": "2024-03-07T15:50:02.121843Z",
     "start_time": "2024-03-07T15:50:02.116909Z"
    }
   },
   "id": "2d4e7960e8a65948",
   "execution_count": 53
  },
  {
   "cell_type": "code",
   "outputs": [
    {
     "data": {
      "text/plain": "[b'vocabularies:english:Menu',\n b'Session:0a0919c7-c52b-42ec-a738-2516fcb7a023',\n b'vocabularies:chinese:\\xe8\\xa7\\x92\\xe8\\x89\\xb2',\n b'vocabularies:english:Role',\n b'vocabularies:english:Button',\n b'vocabularies:X020FX:idx',\n b'vocabularies:84OXGK:idx',\n b'vocabularies:X020FX',\n b'vocabularies:RYRYJ7',\n b'vocabularies:84OXGK',\n b'vocabularies',\n b'vocabularies:RYRYJ7:idx',\n b'vocabularies:chinese:\\xe8\\x8f\\x9c\\xe5\\x8d\\x95',\n b'vocabularies:chinese:\\xe6\\x8c\\x89\\xe9\\x92\\xae']"
     },
     "execution_count": 54,
     "metadata": {},
     "output_type": "execute_result"
    }
   ],
   "source": [
    "import redis\n",
    "conn = redis.Redis()\n",
    "conn.keys('*')"
   ],
   "metadata": {
    "collapsed": false,
    "ExecuteTime": {
     "end_time": "2024-03-07T15:51:24.808798Z",
     "start_time": "2024-03-07T15:51:24.699619Z"
    }
   },
   "id": "e36d2ff49244f47d",
   "execution_count": 54
  },
  {
   "cell_type": "code",
   "outputs": [
    {
     "data": {
      "text/plain": "True"
     },
     "execution_count": 55,
     "metadata": {},
     "output_type": "execute_result"
    }
   ],
   "source": [
    "conn.set('secret','ni!')"
   ],
   "metadata": {
    "collapsed": false,
    "ExecuteTime": {
     "end_time": "2024-03-07T15:52:04.502322Z",
     "start_time": "2024-03-07T15:52:04.493739Z"
    }
   },
   "id": "d088b2a1e63df2b6",
   "execution_count": 55
  },
  {
   "cell_type": "code",
   "outputs": [
    {
     "data": {
      "text/plain": "True"
     },
     "execution_count": 56,
     "metadata": {},
     "output_type": "execute_result"
    }
   ],
   "source": [
    "conn.set('carats',24)"
   ],
   "metadata": {
    "collapsed": false,
    "ExecuteTime": {
     "end_time": "2024-03-07T15:52:17.251939Z",
     "start_time": "2024-03-07T15:52:17.243257Z"
    }
   },
   "id": "723e738097acc359",
   "execution_count": 56
  },
  {
   "cell_type": "code",
   "outputs": [
    {
     "data": {
      "text/plain": "True"
     },
     "execution_count": 57,
     "metadata": {},
     "output_type": "execute_result"
    }
   ],
   "source": [
    "conn.set('fever','101.5')"
   ],
   "metadata": {
    "collapsed": false,
    "ExecuteTime": {
     "end_time": "2024-03-07T15:52:30.522568Z",
     "start_time": "2024-03-07T15:52:30.514780Z"
    }
   },
   "id": "fd23e1cdd4572c1",
   "execution_count": 57
  },
  {
   "cell_type": "code",
   "outputs": [
    {
     "data": {
      "text/plain": "b'ni!'"
     },
     "execution_count": 58,
     "metadata": {},
     "output_type": "execute_result"
    }
   ],
   "source": [
    "conn.get('secret')"
   ],
   "metadata": {
    "collapsed": false,
    "ExecuteTime": {
     "end_time": "2024-03-07T15:52:43.751080Z",
     "start_time": "2024-03-07T15:52:43.742552Z"
    }
   },
   "id": "f9b220a2b093ac",
   "execution_count": 58
  },
  {
   "cell_type": "code",
   "outputs": [
    {
     "data": {
      "text/plain": "b'24'"
     },
     "execution_count": 59,
     "metadata": {},
     "output_type": "execute_result"
    }
   ],
   "source": [
    "conn.get('carats')"
   ],
   "metadata": {
    "collapsed": false,
    "ExecuteTime": {
     "end_time": "2024-03-07T15:52:53.385587Z",
     "start_time": "2024-03-07T15:52:53.377758Z"
    }
   },
   "id": "654e9703c7737d66",
   "execution_count": 59
  },
  {
   "cell_type": "code",
   "outputs": [
    {
     "data": {
      "text/plain": "b'101.5'"
     },
     "execution_count": 60,
     "metadata": {},
     "output_type": "execute_result"
    }
   ],
   "source": [
    "conn.get('fever')"
   ],
   "metadata": {
    "collapsed": false,
    "ExecuteTime": {
     "end_time": "2024-03-07T15:53:04.517532Z",
     "start_time": "2024-03-07T15:53:04.510090Z"
    }
   },
   "id": "fb9ec7eb4f462310",
   "execution_count": 60
  },
  {
   "cell_type": "code",
   "outputs": [
    {
     "data": {
      "text/plain": "False"
     },
     "execution_count": 61,
     "metadata": {},
     "output_type": "execute_result"
    }
   ],
   "source": [
    "conn.setnx('secret','icky-icky-icky-ptang-zoop-boing!')"
   ],
   "metadata": {
    "collapsed": false,
    "ExecuteTime": {
     "end_time": "2024-03-07T15:53:38.329077Z",
     "start_time": "2024-03-07T15:53:38.322029Z"
    }
   },
   "id": "fb6e377b6f685cee",
   "execution_count": 61
  },
  {
   "cell_type": "code",
   "outputs": [
    {
     "data": {
      "text/plain": "b'ni!'"
     },
     "execution_count": 62,
     "metadata": {},
     "output_type": "execute_result"
    }
   ],
   "source": [
    "conn.get('secret')"
   ],
   "metadata": {
    "collapsed": false,
    "ExecuteTime": {
     "end_time": "2024-03-07T15:53:50.039465Z",
     "start_time": "2024-03-07T15:53:50.031698Z"
    }
   },
   "id": "3fcb03424c7ccbaf",
   "execution_count": 62
  },
  {
   "cell_type": "code",
   "outputs": [
    {
     "data": {
      "text/plain": "b'ni!'"
     },
     "execution_count": 63,
     "metadata": {},
     "output_type": "execute_result"
    }
   ],
   "source": [
    "conn.getset('secret','icky-icky-icky-ptang-zoop-boing!')"
   ],
   "metadata": {
    "collapsed": false,
    "ExecuteTime": {
     "end_time": "2024-03-07T15:54:29.137777Z",
     "start_time": "2024-03-07T15:54:29.129964Z"
    }
   },
   "id": "6f0d868dce190df1",
   "execution_count": 63
  },
  {
   "cell_type": "code",
   "outputs": [
    {
     "data": {
      "text/plain": "b'icky-icky-icky-ptang-zoop-boing!'"
     },
     "execution_count": 64,
     "metadata": {},
     "output_type": "execute_result"
    }
   ],
   "source": [
    "conn.get('secret')"
   ],
   "metadata": {
    "collapsed": false,
    "ExecuteTime": {
     "end_time": "2024-03-07T15:54:40.321849Z",
     "start_time": "2024-03-07T15:54:40.313841Z"
    }
   },
   "id": "137c23958df79bee",
   "execution_count": 64
  },
  {
   "cell_type": "code",
   "outputs": [
    {
     "data": {
      "text/plain": "b'boing!'"
     },
     "execution_count": 65,
     "metadata": {},
     "output_type": "execute_result"
    }
   ],
   "source": [
    "conn.getrange('secret',-6,-1)"
   ],
   "metadata": {
    "collapsed": false,
    "ExecuteTime": {
     "end_time": "2024-03-07T15:55:09.205799Z",
     "start_time": "2024-03-07T15:55:09.197982Z"
    }
   },
   "id": "250c7fa43dbf3076",
   "execution_count": 65
  },
  {
   "cell_type": "code",
   "outputs": [
    {
     "data": {
      "text/plain": "32"
     },
     "execution_count": 66,
     "metadata": {},
     "output_type": "execute_result"
    }
   ],
   "source": [
    "conn.setrange('secret',0,'ICKY')"
   ],
   "metadata": {
    "collapsed": false,
    "ExecuteTime": {
     "end_time": "2024-03-07T15:55:32.317473Z",
     "start_time": "2024-03-07T15:55:32.309583Z"
    }
   },
   "id": "cc94d48e1c570651",
   "execution_count": 66
  },
  {
   "cell_type": "code",
   "outputs": [
    {
     "data": {
      "text/plain": "b'ICKY-icky-icky-ptang-zoop-boing!'"
     },
     "execution_count": 67,
     "metadata": {},
     "output_type": "execute_result"
    }
   ],
   "source": [
    "conn.get('secret')"
   ],
   "metadata": {
    "collapsed": false,
    "ExecuteTime": {
     "end_time": "2024-03-07T15:55:45.857779Z",
     "start_time": "2024-03-07T15:55:45.850833Z"
    }
   },
   "id": "223265e89f8801a4",
   "execution_count": 67
  },
  {
   "cell_type": "code",
   "outputs": [
    {
     "data": {
      "text/plain": "True"
     },
     "execution_count": 68,
     "metadata": {},
     "output_type": "execute_result"
    }
   ],
   "source": [
    "conn.mset({'pie':'cherry','cordial': 'sherry'})"
   ],
   "metadata": {
    "collapsed": false,
    "ExecuteTime": {
     "end_time": "2024-03-07T15:56:35.117827Z",
     "start_time": "2024-03-07T15:56:35.110269Z"
    }
   },
   "id": "d02ee69112e7a99a",
   "execution_count": 68
  },
  {
   "cell_type": "code",
   "outputs": [
    {
     "data": {
      "text/plain": "[b'101.5', b'24']"
     },
     "execution_count": 69,
     "metadata": {},
     "output_type": "execute_result"
    }
   ],
   "source": [
    "conn.mget(['fever','carats'])"
   ],
   "metadata": {
    "collapsed": false,
    "ExecuteTime": {
     "end_time": "2024-03-07T15:56:57.585907Z",
     "start_time": "2024-03-07T15:56:57.577178Z"
    }
   },
   "id": "f779f43b3df8a2a8",
   "execution_count": 69
  },
  {
   "cell_type": "code",
   "outputs": [
    {
     "data": {
      "text/plain": "1"
     },
     "execution_count": 70,
     "metadata": {},
     "output_type": "execute_result"
    }
   ],
   "source": [
    "conn.delete('fever')"
   ],
   "metadata": {
    "collapsed": false,
    "ExecuteTime": {
     "end_time": "2024-03-07T15:57:16.523627Z",
     "start_time": "2024-03-07T15:57:16.514754Z"
    }
   },
   "id": "653742c7991dc020",
   "execution_count": 70
  },
  {
   "cell_type": "code",
   "outputs": [
    {
     "data": {
      "text/plain": "25"
     },
     "execution_count": 71,
     "metadata": {},
     "output_type": "execute_result"
    }
   ],
   "source": [
    "conn.incr('carats')"
   ],
   "metadata": {
    "collapsed": false,
    "ExecuteTime": {
     "end_time": "2024-03-07T15:57:40.430734Z",
     "start_time": "2024-03-07T15:57:40.422634Z"
    }
   },
   "id": "b9202ae66858c2a4",
   "execution_count": 71
  },
  {
   "cell_type": "code",
   "outputs": [
    {
     "data": {
      "text/plain": "35"
     },
     "execution_count": 72,
     "metadata": {},
     "output_type": "execute_result"
    }
   ],
   "source": [
    "conn.incr('carats',10)"
   ],
   "metadata": {
    "collapsed": false,
    "ExecuteTime": {
     "end_time": "2024-03-07T15:57:53.095709Z",
     "start_time": "2024-03-07T15:57:53.087487Z"
    }
   },
   "id": "ac6944dfee3909e6",
   "execution_count": 72
  },
  {
   "cell_type": "code",
   "outputs": [
    {
     "data": {
      "text/plain": "34"
     },
     "execution_count": 73,
     "metadata": {},
     "output_type": "execute_result"
    }
   ],
   "source": [
    "conn.decr('carats')"
   ],
   "metadata": {
    "collapsed": false,
    "ExecuteTime": {
     "end_time": "2024-03-07T15:58:10.201385Z",
     "start_time": "2024-03-07T15:58:10.191653Z"
    }
   },
   "id": "ff5a77ff5cb4b677",
   "execution_count": 73
  },
  {
   "cell_type": "code",
   "outputs": [
    {
     "data": {
      "text/plain": "19"
     },
     "execution_count": 74,
     "metadata": {},
     "output_type": "execute_result"
    }
   ],
   "source": [
    "conn.decr('carats',15)"
   ],
   "metadata": {
    "collapsed": false,
    "ExecuteTime": {
     "end_time": "2024-03-07T15:58:27.338148Z",
     "start_time": "2024-03-07T15:58:27.331285Z"
    }
   },
   "id": "67e0c375d50cab9a",
   "execution_count": 74
  },
  {
   "cell_type": "code",
   "outputs": [
    {
     "data": {
      "text/plain": "True"
     },
     "execution_count": 75,
     "metadata": {},
     "output_type": "execute_result"
    }
   ],
   "source": [
    "conn.set('fever','101.5')"
   ],
   "metadata": {
    "collapsed": false,
    "ExecuteTime": {
     "end_time": "2024-03-07T15:58:41.789835Z",
     "start_time": "2024-03-07T15:58:41.781934Z"
    }
   },
   "id": "307ce7a30646504e",
   "execution_count": 75
  },
  {
   "cell_type": "code",
   "outputs": [
    {
     "data": {
      "text/plain": "102.5"
     },
     "execution_count": 76,
     "metadata": {},
     "output_type": "execute_result"
    }
   ],
   "source": [
    "conn.incrbyfloat('fever')"
   ],
   "metadata": {
    "collapsed": false,
    "ExecuteTime": {
     "end_time": "2024-03-07T15:59:02.762921Z",
     "start_time": "2024-03-07T15:59:02.754855Z"
    }
   },
   "id": "10f968492d8555da",
   "execution_count": 76
  },
  {
   "cell_type": "code",
   "outputs": [
    {
     "data": {
      "text/plain": "103.0"
     },
     "execution_count": 77,
     "metadata": {},
     "output_type": "execute_result"
    }
   ],
   "source": [
    "conn.incrbyfloat('fever',0.5)"
   ],
   "metadata": {
    "collapsed": false,
    "ExecuteTime": {
     "end_time": "2024-03-07T15:59:24.325386Z",
     "start_time": "2024-03-07T15:59:24.318291Z"
    }
   },
   "id": "1c1b1ff1a01cd578",
   "execution_count": 77
  },
  {
   "cell_type": "code",
   "outputs": [
    {
     "data": {
      "text/plain": "101.0"
     },
     "execution_count": 78,
     "metadata": {},
     "output_type": "execute_result"
    }
   ],
   "source": [
    "conn.incrbyfloat('fever',-2.0)"
   ],
   "metadata": {
    "collapsed": false,
    "ExecuteTime": {
     "end_time": "2024-03-07T15:59:45.497471Z",
     "start_time": "2024-03-07T15:59:45.489534Z"
    }
   },
   "id": "6c090f9e5158be76",
   "execution_count": 78
  },
  {
   "cell_type": "code",
   "outputs": [
    {
     "data": {
      "text/plain": "1"
     },
     "execution_count": 79,
     "metadata": {},
     "output_type": "execute_result"
    }
   ],
   "source": [
    "conn.lpush('zoo','bear')"
   ],
   "metadata": {
    "collapsed": false,
    "ExecuteTime": {
     "end_time": "2024-03-07T16:01:17.762030Z",
     "start_time": "2024-03-07T16:01:17.753456Z"
    }
   },
   "id": "21aaf3c0ba6579de",
   "execution_count": 79
  },
  {
   "cell_type": "code",
   "outputs": [
    {
     "data": {
      "text/plain": "3"
     },
     "execution_count": 80,
     "metadata": {},
     "output_type": "execute_result"
    }
   ],
   "source": [
    "conn.lpush('zoo','alligator','duck')"
   ],
   "metadata": {
    "collapsed": false,
    "ExecuteTime": {
     "end_time": "2024-03-07T16:01:45.626092Z",
     "start_time": "2024-03-07T16:01:45.617654Z"
    }
   },
   "id": "a1bd240df9433ded",
   "execution_count": 80
  },
  {
   "cell_type": "code",
   "outputs": [
    {
     "data": {
      "text/plain": "4"
     },
     "execution_count": 81,
     "metadata": {},
     "output_type": "execute_result"
    }
   ],
   "source": [
    "conn.linsert('zoo','before','bear','beaver')"
   ],
   "metadata": {
    "collapsed": false,
    "ExecuteTime": {
     "end_time": "2024-03-07T16:02:15.401046Z",
     "start_time": "2024-03-07T16:02:15.393218Z"
    }
   },
   "id": "403fbd71a4e42538",
   "execution_count": 81
  },
  {
   "cell_type": "code",
   "outputs": [
    {
     "data": {
      "text/plain": "5"
     },
     "execution_count": 82,
     "metadata": {},
     "output_type": "execute_result"
    }
   ],
   "source": [
    "conn.linsert('zoo','after','bear','cassowary')"
   ],
   "metadata": {
    "collapsed": false,
    "ExecuteTime": {
     "end_time": "2024-03-07T16:02:42.959729Z",
     "start_time": "2024-03-07T16:02:42.951474Z"
    }
   },
   "id": "2beaf15c9fdbd1e2",
   "execution_count": 82
  },
  {
   "cell_type": "code",
   "outputs": [
    {
     "ename": "ResponseError",
     "evalue": "WRONGTYPE Operation against a key holding the wrong kind of value",
     "output_type": "error",
     "traceback": [
      "\u001B[1;31m---------------------------------------------------------------------------\u001B[0m",
      "\u001B[1;31mResponseError\u001B[0m                             Traceback (most recent call last)",
      "Cell \u001B[1;32mIn[83], line 1\u001B[0m\n\u001B[1;32m----> 1\u001B[0m \u001B[43mconn\u001B[49m\u001B[38;5;241;43m.\u001B[39;49m\u001B[43mget\u001B[49m\u001B[43m(\u001B[49m\u001B[38;5;124;43m'\u001B[39;49m\u001B[38;5;124;43mzoo\u001B[39;49m\u001B[38;5;124;43m'\u001B[39;49m\u001B[43m)\u001B[49m\n",
      "File \u001B[1;32m~\\PycharmProjects\\langchain-demo\\venv\\Lib\\site-packages\\redis\\commands\\core.py:1830\u001B[0m, in \u001B[0;36mBasicKeyCommands.get\u001B[1;34m(self, name)\u001B[0m\n\u001B[0;32m   1824\u001B[0m \u001B[38;5;28;01mdef\u001B[39;00m \u001B[38;5;21mget\u001B[39m(\u001B[38;5;28mself\u001B[39m, name: KeyT) \u001B[38;5;241m-\u001B[39m\u001B[38;5;241m>\u001B[39m ResponseT:\n\u001B[0;32m   1825\u001B[0m \u001B[38;5;250m    \u001B[39m\u001B[38;5;124;03m\"\"\"\u001B[39;00m\n\u001B[0;32m   1826\u001B[0m \u001B[38;5;124;03m    Return the value at key ``name``, or None if the key doesn't exist\u001B[39;00m\n\u001B[0;32m   1827\u001B[0m \n\u001B[0;32m   1828\u001B[0m \u001B[38;5;124;03m    For more information see https://redis.io/commands/get\u001B[39;00m\n\u001B[0;32m   1829\u001B[0m \u001B[38;5;124;03m    \"\"\"\u001B[39;00m\n\u001B[1;32m-> 1830\u001B[0m     \u001B[38;5;28;01mreturn\u001B[39;00m \u001B[38;5;28;43mself\u001B[39;49m\u001B[38;5;241;43m.\u001B[39;49m\u001B[43mexecute_command\u001B[49m\u001B[43m(\u001B[49m\u001B[38;5;124;43m\"\u001B[39;49m\u001B[38;5;124;43mGET\u001B[39;49m\u001B[38;5;124;43m\"\u001B[39;49m\u001B[43m,\u001B[49m\u001B[43m \u001B[49m\u001B[43mname\u001B[49m\u001B[43m)\u001B[49m\n",
      "File \u001B[1;32m~\\PycharmProjects\\langchain-demo\\venv\\Lib\\site-packages\\redis\\client.py:543\u001B[0m, in \u001B[0;36mRedis.execute_command\u001B[1;34m(self, *args, **options)\u001B[0m\n\u001B[0;32m    540\u001B[0m conn \u001B[38;5;241m=\u001B[39m \u001B[38;5;28mself\u001B[39m\u001B[38;5;241m.\u001B[39mconnection \u001B[38;5;129;01mor\u001B[39;00m pool\u001B[38;5;241m.\u001B[39mget_connection(command_name, \u001B[38;5;241m*\u001B[39m\u001B[38;5;241m*\u001B[39moptions)\n\u001B[0;32m    542\u001B[0m \u001B[38;5;28;01mtry\u001B[39;00m:\n\u001B[1;32m--> 543\u001B[0m     \u001B[38;5;28;01mreturn\u001B[39;00m \u001B[43mconn\u001B[49m\u001B[38;5;241;43m.\u001B[39;49m\u001B[43mretry\u001B[49m\u001B[38;5;241;43m.\u001B[39;49m\u001B[43mcall_with_retry\u001B[49m\u001B[43m(\u001B[49m\n\u001B[0;32m    544\u001B[0m \u001B[43m        \u001B[49m\u001B[38;5;28;43;01mlambda\u001B[39;49;00m\u001B[43m:\u001B[49m\u001B[43m \u001B[49m\u001B[38;5;28;43mself\u001B[39;49m\u001B[38;5;241;43m.\u001B[39;49m\u001B[43m_send_command_parse_response\u001B[49m\u001B[43m(\u001B[49m\n\u001B[0;32m    545\u001B[0m \u001B[43m            \u001B[49m\u001B[43mconn\u001B[49m\u001B[43m,\u001B[49m\u001B[43m \u001B[49m\u001B[43mcommand_name\u001B[49m\u001B[43m,\u001B[49m\u001B[43m \u001B[49m\u001B[38;5;241;43m*\u001B[39;49m\u001B[43margs\u001B[49m\u001B[43m,\u001B[49m\u001B[43m \u001B[49m\u001B[38;5;241;43m*\u001B[39;49m\u001B[38;5;241;43m*\u001B[39;49m\u001B[43moptions\u001B[49m\n\u001B[0;32m    546\u001B[0m \u001B[43m        \u001B[49m\u001B[43m)\u001B[49m\u001B[43m,\u001B[49m\n\u001B[0;32m    547\u001B[0m \u001B[43m        \u001B[49m\u001B[38;5;28;43;01mlambda\u001B[39;49;00m\u001B[43m \u001B[49m\u001B[43merror\u001B[49m\u001B[43m:\u001B[49m\u001B[43m \u001B[49m\u001B[38;5;28;43mself\u001B[39;49m\u001B[38;5;241;43m.\u001B[39;49m\u001B[43m_disconnect_raise\u001B[49m\u001B[43m(\u001B[49m\u001B[43mconn\u001B[49m\u001B[43m,\u001B[49m\u001B[43m \u001B[49m\u001B[43merror\u001B[49m\u001B[43m)\u001B[49m\u001B[43m,\u001B[49m\n\u001B[0;32m    548\u001B[0m \u001B[43m    \u001B[49m\u001B[43m)\u001B[49m\n\u001B[0;32m    549\u001B[0m \u001B[38;5;28;01mfinally\u001B[39;00m:\n\u001B[0;32m    550\u001B[0m     \u001B[38;5;28;01mif\u001B[39;00m \u001B[38;5;129;01mnot\u001B[39;00m \u001B[38;5;28mself\u001B[39m\u001B[38;5;241m.\u001B[39mconnection:\n",
      "File \u001B[1;32m~\\PycharmProjects\\langchain-demo\\venv\\Lib\\site-packages\\redis\\retry.py:46\u001B[0m, in \u001B[0;36mRetry.call_with_retry\u001B[1;34m(self, do, fail)\u001B[0m\n\u001B[0;32m     44\u001B[0m \u001B[38;5;28;01mwhile\u001B[39;00m \u001B[38;5;28;01mTrue\u001B[39;00m:\n\u001B[0;32m     45\u001B[0m     \u001B[38;5;28;01mtry\u001B[39;00m:\n\u001B[1;32m---> 46\u001B[0m         \u001B[38;5;28;01mreturn\u001B[39;00m \u001B[43mdo\u001B[49m\u001B[43m(\u001B[49m\u001B[43m)\u001B[49m\n\u001B[0;32m     47\u001B[0m     \u001B[38;5;28;01mexcept\u001B[39;00m \u001B[38;5;28mself\u001B[39m\u001B[38;5;241m.\u001B[39m_supported_errors \u001B[38;5;28;01mas\u001B[39;00m error:\n\u001B[0;32m     48\u001B[0m         failures \u001B[38;5;241m+\u001B[39m\u001B[38;5;241m=\u001B[39m \u001B[38;5;241m1\u001B[39m\n",
      "File \u001B[1;32m~\\PycharmProjects\\langchain-demo\\venv\\Lib\\site-packages\\redis\\client.py:544\u001B[0m, in \u001B[0;36mRedis.execute_command.<locals>.<lambda>\u001B[1;34m()\u001B[0m\n\u001B[0;32m    540\u001B[0m conn \u001B[38;5;241m=\u001B[39m \u001B[38;5;28mself\u001B[39m\u001B[38;5;241m.\u001B[39mconnection \u001B[38;5;129;01mor\u001B[39;00m pool\u001B[38;5;241m.\u001B[39mget_connection(command_name, \u001B[38;5;241m*\u001B[39m\u001B[38;5;241m*\u001B[39moptions)\n\u001B[0;32m    542\u001B[0m \u001B[38;5;28;01mtry\u001B[39;00m:\n\u001B[0;32m    543\u001B[0m     \u001B[38;5;28;01mreturn\u001B[39;00m conn\u001B[38;5;241m.\u001B[39mretry\u001B[38;5;241m.\u001B[39mcall_with_retry(\n\u001B[1;32m--> 544\u001B[0m         \u001B[38;5;28;01mlambda\u001B[39;00m: \u001B[38;5;28;43mself\u001B[39;49m\u001B[38;5;241;43m.\u001B[39;49m\u001B[43m_send_command_parse_response\u001B[49m\u001B[43m(\u001B[49m\n\u001B[0;32m    545\u001B[0m \u001B[43m            \u001B[49m\u001B[43mconn\u001B[49m\u001B[43m,\u001B[49m\u001B[43m \u001B[49m\u001B[43mcommand_name\u001B[49m\u001B[43m,\u001B[49m\u001B[43m \u001B[49m\u001B[38;5;241;43m*\u001B[39;49m\u001B[43margs\u001B[49m\u001B[43m,\u001B[49m\u001B[43m \u001B[49m\u001B[38;5;241;43m*\u001B[39;49m\u001B[38;5;241;43m*\u001B[39;49m\u001B[43moptions\u001B[49m\n\u001B[0;32m    546\u001B[0m \u001B[43m        \u001B[49m\u001B[43m)\u001B[49m,\n\u001B[0;32m    547\u001B[0m         \u001B[38;5;28;01mlambda\u001B[39;00m error: \u001B[38;5;28mself\u001B[39m\u001B[38;5;241m.\u001B[39m_disconnect_raise(conn, error),\n\u001B[0;32m    548\u001B[0m     )\n\u001B[0;32m    549\u001B[0m \u001B[38;5;28;01mfinally\u001B[39;00m:\n\u001B[0;32m    550\u001B[0m     \u001B[38;5;28;01mif\u001B[39;00m \u001B[38;5;129;01mnot\u001B[39;00m \u001B[38;5;28mself\u001B[39m\u001B[38;5;241m.\u001B[39mconnection:\n",
      "File \u001B[1;32m~\\PycharmProjects\\langchain-demo\\venv\\Lib\\site-packages\\redis\\client.py:520\u001B[0m, in \u001B[0;36mRedis._send_command_parse_response\u001B[1;34m(self, conn, command_name, *args, **options)\u001B[0m\n\u001B[0;32m    516\u001B[0m \u001B[38;5;250m\u001B[39m\u001B[38;5;124;03m\"\"\"\u001B[39;00m\n\u001B[0;32m    517\u001B[0m \u001B[38;5;124;03mSend a command and parse the response\u001B[39;00m\n\u001B[0;32m    518\u001B[0m \u001B[38;5;124;03m\"\"\"\u001B[39;00m\n\u001B[0;32m    519\u001B[0m conn\u001B[38;5;241m.\u001B[39msend_command(\u001B[38;5;241m*\u001B[39margs)\n\u001B[1;32m--> 520\u001B[0m \u001B[38;5;28;01mreturn\u001B[39;00m \u001B[38;5;28;43mself\u001B[39;49m\u001B[38;5;241;43m.\u001B[39;49m\u001B[43mparse_response\u001B[49m\u001B[43m(\u001B[49m\u001B[43mconn\u001B[49m\u001B[43m,\u001B[49m\u001B[43m \u001B[49m\u001B[43mcommand_name\u001B[49m\u001B[43m,\u001B[49m\u001B[43m \u001B[49m\u001B[38;5;241;43m*\u001B[39;49m\u001B[38;5;241;43m*\u001B[39;49m\u001B[43moptions\u001B[49m\u001B[43m)\u001B[49m\n",
      "File \u001B[1;32m~\\PycharmProjects\\langchain-demo\\venv\\Lib\\site-packages\\redis\\client.py:560\u001B[0m, in \u001B[0;36mRedis.parse_response\u001B[1;34m(self, connection, command_name, **options)\u001B[0m\n\u001B[0;32m    558\u001B[0m         options\u001B[38;5;241m.\u001B[39mpop(NEVER_DECODE)\n\u001B[0;32m    559\u001B[0m     \u001B[38;5;28;01melse\u001B[39;00m:\n\u001B[1;32m--> 560\u001B[0m         response \u001B[38;5;241m=\u001B[39m \u001B[43mconnection\u001B[49m\u001B[38;5;241;43m.\u001B[39;49m\u001B[43mread_response\u001B[49m\u001B[43m(\u001B[49m\u001B[43m)\u001B[49m\n\u001B[0;32m    561\u001B[0m \u001B[38;5;28;01mexcept\u001B[39;00m ResponseError:\n\u001B[0;32m    562\u001B[0m     \u001B[38;5;28;01mif\u001B[39;00m EMPTY_RESPONSE \u001B[38;5;129;01min\u001B[39;00m options:\n",
      "File \u001B[1;32m~\\PycharmProjects\\langchain-demo\\venv\\Lib\\site-packages\\redis\\connection.py:536\u001B[0m, in \u001B[0;36mAbstractConnection.read_response\u001B[1;34m(self, disable_decoding, disconnect_on_error, push_request)\u001B[0m\n\u001B[0;32m    534\u001B[0m \u001B[38;5;28;01mif\u001B[39;00m \u001B[38;5;28misinstance\u001B[39m(response, ResponseError):\n\u001B[0;32m    535\u001B[0m     \u001B[38;5;28;01mtry\u001B[39;00m:\n\u001B[1;32m--> 536\u001B[0m         \u001B[38;5;28;01mraise\u001B[39;00m response\n\u001B[0;32m    537\u001B[0m     \u001B[38;5;28;01mfinally\u001B[39;00m:\n\u001B[0;32m    538\u001B[0m         \u001B[38;5;28;01mdel\u001B[39;00m response  \u001B[38;5;66;03m# avoid creating ref cycles\u001B[39;00m\n",
      "\u001B[1;31mResponseError\u001B[0m: WRONGTYPE Operation against a key holding the wrong kind of value"
     ]
    }
   ],
   "source": [
    "conn.get('zoo')"
   ],
   "metadata": {
    "collapsed": false,
    "ExecuteTime": {
     "end_time": "2024-03-07T16:03:12.572151Z",
     "start_time": "2024-03-07T16:03:11.930077Z"
    }
   },
   "id": "a804a420060e629b",
   "execution_count": 83
  },
  {
   "cell_type": "code",
   "outputs": [
    {
     "data": {
      "text/plain": "True"
     },
     "execution_count": 84,
     "metadata": {},
     "output_type": "execute_result"
    }
   ],
   "source": [
    "conn.lset('zoo',2,'marmoset')"
   ],
   "metadata": {
    "collapsed": false,
    "ExecuteTime": {
     "end_time": "2024-03-07T16:03:39.564106Z",
     "start_time": "2024-03-07T16:03:39.554578Z"
    }
   },
   "id": "977cef6d5d49f5af",
   "execution_count": 84
  },
  {
   "cell_type": "code",
   "outputs": [
    {
     "data": {
      "text/plain": "6"
     },
     "execution_count": 85,
     "metadata": {},
     "output_type": "execute_result"
    }
   ],
   "source": [
    "conn.rpush('zoo','yak')"
   ],
   "metadata": {
    "collapsed": false,
    "ExecuteTime": {
     "end_time": "2024-03-07T16:04:18.932760Z",
     "start_time": "2024-03-07T16:04:18.923352Z"
    }
   },
   "id": "b2ae12b2bee2b451",
   "execution_count": 85
  },
  {
   "cell_type": "code",
   "outputs": [
    {
     "data": {
      "text/plain": "b'bear'"
     },
     "execution_count": 86,
     "metadata": {},
     "output_type": "execute_result"
    }
   ],
   "source": [
    "conn.lindex('zoo',3)"
   ],
   "metadata": {
    "collapsed": false,
    "ExecuteTime": {
     "end_time": "2024-03-07T16:04:30.867819Z",
     "start_time": "2024-03-07T16:04:30.860185Z"
    }
   },
   "id": "2082fcdd86fcb280",
   "execution_count": 86
  },
  {
   "cell_type": "code",
   "outputs": [
    {
     "data": {
      "text/plain": "[b'duck', b'alligator', b'marmoset']"
     },
     "execution_count": 87,
     "metadata": {},
     "output_type": "execute_result"
    }
   ],
   "source": [
    "conn.lrange('zoo',0,2)"
   ],
   "metadata": {
    "collapsed": false,
    "ExecuteTime": {
     "end_time": "2024-03-07T16:04:46.572791Z",
     "start_time": "2024-03-07T16:04:46.564729Z"
    }
   },
   "id": "dc26b8370fd08e20",
   "execution_count": 87
  },
  {
   "cell_type": "code",
   "outputs": [
    {
     "data": {
      "text/plain": "True"
     },
     "execution_count": 88,
     "metadata": {},
     "output_type": "execute_result"
    }
   ],
   "source": [
    "conn.ltrim('zoo',1,4)"
   ],
   "metadata": {
    "collapsed": false,
    "ExecuteTime": {
     "end_time": "2024-03-07T16:05:04.576865Z",
     "start_time": "2024-03-07T16:05:04.567536Z"
    }
   },
   "id": "f62509351be60193",
   "execution_count": 88
  },
  {
   "cell_type": "code",
   "outputs": [
    {
     "data": {
      "text/plain": "[b'alligator', b'marmoset', b'bear', b'cassowary']"
     },
     "execution_count": 89,
     "metadata": {},
     "output_type": "execute_result"
    }
   ],
   "source": [
    "conn.lrange('zoo',0,-1)"
   ],
   "metadata": {
    "collapsed": false,
    "ExecuteTime": {
     "end_time": "2024-03-07T16:05:30.870616Z",
     "start_time": "2024-03-07T16:05:30.863172Z"
    }
   },
   "id": "155f02eeebc9001c",
   "execution_count": 89
  },
  {
   "cell_type": "code",
   "outputs": [
    {
     "name": "stderr",
     "output_type": "stream",
     "text": [
      "C:\\Users\\Administrator\\AppData\\Local\\Temp\\ipykernel_8808\\2075611920.py:1: DeprecationWarning: Redis.hmset() is deprecated. Use Redis.hset() instead.\n",
      "  conn.hmset('song',{'do': 'a deer', 're': 'about a deer'})\n"
     ]
    },
    {
     "data": {
      "text/plain": "True"
     },
     "execution_count": 92,
     "metadata": {},
     "output_type": "execute_result"
    }
   ],
   "source": [
    "conn.hmset('song',{'do': 'a deer', 're': 'about a deer'})"
   ],
   "metadata": {
    "collapsed": false,
    "ExecuteTime": {
     "end_time": "2024-03-07T16:07:21.233046Z",
     "start_time": "2024-03-07T16:07:21.224081Z"
    }
   },
   "id": "46c62696ea315f36",
   "execution_count": 92
  },
  {
   "cell_type": "code",
   "outputs": [
    {
     "data": {
      "text/plain": "1"
     },
     "execution_count": 93,
     "metadata": {},
     "output_type": "execute_result"
    }
   ],
   "source": [
    "conn.hset('song', 'mi', 'a note to follow re')"
   ],
   "metadata": {
    "collapsed": false,
    "ExecuteTime": {
     "end_time": "2024-03-07T16:07:44.675925Z",
     "start_time": "2024-03-07T16:07:44.667308Z"
    }
   },
   "id": "d6004a6b3601c770",
   "execution_count": 93
  },
  {
   "cell_type": "code",
   "outputs": [
    {
     "data": {
      "text/plain": "b'a note to follow re'"
     },
     "execution_count": 94,
     "metadata": {},
     "output_type": "execute_result"
    }
   ],
   "source": [
    "conn.hget('song', 'mi')"
   ],
   "metadata": {
    "collapsed": false,
    "ExecuteTime": {
     "end_time": "2024-03-07T16:07:59.069044Z",
     "start_time": "2024-03-07T16:07:59.061860Z"
    }
   },
   "id": "50a8735ab61f555c",
   "execution_count": 94
  },
  {
   "cell_type": "code",
   "outputs": [
    {
     "data": {
      "text/plain": "[b'about a deer', b'a deer']"
     },
     "execution_count": 95,
     "metadata": {},
     "output_type": "execute_result"
    }
   ],
   "source": [
    "conn.hmget('song', 're', 'do')"
   ],
   "metadata": {
    "collapsed": false,
    "ExecuteTime": {
     "end_time": "2024-03-07T16:08:27.183687Z",
     "start_time": "2024-03-07T16:08:27.175509Z"
    }
   },
   "id": "5d16343a7b9276ac",
   "execution_count": 95
  },
  {
   "cell_type": "code",
   "outputs": [
    {
     "data": {
      "text/plain": "[b'do', b're', b'mi']"
     },
     "execution_count": 96,
     "metadata": {},
     "output_type": "execute_result"
    }
   ],
   "source": [
    "conn.hkeys('song')"
   ],
   "metadata": {
    "collapsed": false,
    "ExecuteTime": {
     "end_time": "2024-03-07T16:09:13.237075Z",
     "start_time": "2024-03-07T16:09:13.230044Z"
    }
   },
   "id": "b7eeb325ba47fa67",
   "execution_count": 96
  },
  {
   "cell_type": "code",
   "outputs": [
    {
     "data": {
      "text/plain": "[b'a deer', b'about a deer', b'a note to follow re']"
     },
     "execution_count": 97,
     "metadata": {},
     "output_type": "execute_result"
    }
   ],
   "source": [
    "conn.hvals('song')"
   ],
   "metadata": {
    "collapsed": false,
    "ExecuteTime": {
     "end_time": "2024-03-07T16:09:31.961460Z",
     "start_time": "2024-03-07T16:09:31.953850Z"
    }
   },
   "id": "d07b49214a8d365c",
   "execution_count": 97
  },
  {
   "cell_type": "code",
   "outputs": [
    {
     "data": {
      "text/plain": "3"
     },
     "execution_count": 98,
     "metadata": {},
     "output_type": "execute_result"
    }
   ],
   "source": [
    "conn.hlen('song')"
   ],
   "metadata": {
    "collapsed": false,
    "ExecuteTime": {
     "end_time": "2024-03-07T16:09:43.089368Z",
     "start_time": "2024-03-07T16:09:43.081564Z"
    }
   },
   "id": "94eb4c2b76375655",
   "execution_count": 98
  },
  {
   "cell_type": "code",
   "outputs": [
    {
     "data": {
      "text/plain": "{b'do': b'a deer', b're': b'about a deer', b'mi': b'a note to follow re'}"
     },
     "execution_count": 99,
     "metadata": {},
     "output_type": "execute_result"
    }
   ],
   "source": [
    "conn.hgetall('song')"
   ],
   "metadata": {
    "collapsed": false,
    "ExecuteTime": {
     "end_time": "2024-03-07T16:09:57.621307Z",
     "start_time": "2024-03-07T16:09:57.612447Z"
    }
   },
   "id": "7b547b74f36e829e",
   "execution_count": 99
  },
  {
   "cell_type": "code",
   "outputs": [
    {
     "data": {
      "text/plain": "1"
     },
     "execution_count": 100,
     "metadata": {},
     "output_type": "execute_result"
    }
   ],
   "source": [
    "conn.hsetnx('song','fa','a note that rhymes with la')"
   ],
   "metadata": {
    "collapsed": false,
    "ExecuteTime": {
     "end_time": "2024-03-07T16:10:36.046757Z",
     "start_time": "2024-03-07T16:10:36.038318Z"
    }
   },
   "id": "6179c6e13a98fa41",
   "execution_count": 100
  },
  {
   "cell_type": "code",
   "outputs": [
    {
     "data": {
      "text/plain": "[]"
     },
     "execution_count": 111,
     "metadata": {},
     "output_type": "execute_result"
    }
   ],
   "source": [
    "conn.lrange('zoo',0,-1)\n",
    "conn.lrem('zoo', 0, 'alligator')\n",
    "conn.lrange('zoo',0,-1)\n",
    "conn.lrem('zoo', 0, 'marmoset')\n",
    "conn.lrem('zoo', 0, 'bear')\n",
    "conn.lrem('zoo', 0, 'cassowary')\n",
    "conn.lrange('zoo',0,-1)\n",
    "\n"
   ],
   "metadata": {
    "collapsed": false,
    "ExecuteTime": {
     "end_time": "2024-03-07T16:19:43.175843Z",
     "start_time": "2024-03-07T16:19:43.161347Z"
    }
   },
   "id": "42f0036282b7fc1d",
   "execution_count": 111
  },
  {
   "cell_type": "code",
   "outputs": [
    {
     "data": {
      "text/plain": "3"
     },
     "execution_count": 112,
     "metadata": {},
     "output_type": "execute_result"
    }
   ],
   "source": [
    "conn.sadd('zoo', 'duck', 'goat', 'turkey')"
   ],
   "metadata": {
    "collapsed": false,
    "ExecuteTime": {
     "end_time": "2024-03-07T16:20:18.090129Z",
     "start_time": "2024-03-07T16:20:18.081845Z"
    }
   },
   "id": "9d47658212110e08",
   "execution_count": 112
  },
  {
   "cell_type": "code",
   "outputs": [
    {
     "data": {
      "text/plain": "3"
     },
     "execution_count": 113,
     "metadata": {},
     "output_type": "execute_result"
    }
   ],
   "source": [
    "conn.scard('zoo')"
   ],
   "metadata": {
    "collapsed": false,
    "ExecuteTime": {
     "end_time": "2024-03-07T16:20:22.385843Z",
     "start_time": "2024-03-07T16:20:22.378571Z"
    }
   },
   "id": "b1fe41902d02f918",
   "execution_count": 113
  },
  {
   "cell_type": "code",
   "outputs": [
    {
     "data": {
      "text/plain": "{b'duck', b'goat', b'turkey'}"
     },
     "execution_count": 114,
     "metadata": {},
     "output_type": "execute_result"
    }
   ],
   "source": [
    "conn.smembers('zoo')"
   ],
   "metadata": {
    "collapsed": false,
    "ExecuteTime": {
     "end_time": "2024-03-07T16:20:31.427155Z",
     "start_time": "2024-03-07T16:20:31.419400Z"
    }
   },
   "id": "3d0846c415ff29f",
   "execution_count": 114
  },
  {
   "cell_type": "code",
   "outputs": [
    {
     "data": {
      "text/plain": "1"
     },
     "execution_count": 115,
     "metadata": {},
     "output_type": "execute_result"
    }
   ],
   "source": [
    "conn.srem('zoo', 'turkey')"
   ],
   "metadata": {
    "collapsed": false,
    "ExecuteTime": {
     "end_time": "2024-03-07T16:20:38.645098Z",
     "start_time": "2024-03-07T16:20:38.635794Z"
    }
   },
   "id": "c10a9cf88cfa80d",
   "execution_count": 115
  },
  {
   "cell_type": "code",
   "outputs": [
    {
     "data": {
      "text/plain": "0"
     },
     "execution_count": 116,
     "metadata": {},
     "output_type": "execute_result"
    }
   ],
   "source": [
    "conn.sadd('better_zoo','tiger','wolf', 'duck')"
   ],
   "metadata": {
    "collapsed": false,
    "ExecuteTime": {
     "end_time": "2024-03-07T16:20:41.721870Z",
     "start_time": "2024-03-07T16:20:41.713998Z"
    }
   },
   "id": "ca3dc1055a51b664",
   "execution_count": 116
  },
  {
   "cell_type": "code",
   "outputs": [
    {
     "data": {
      "text/plain": "{b'duck'}"
     },
     "execution_count": 117,
     "metadata": {},
     "output_type": "execute_result"
    }
   ],
   "source": [
    "conn.sinter('zoo','better_zoo')"
   ],
   "metadata": {
    "collapsed": false,
    "ExecuteTime": {
     "end_time": "2024-03-07T16:21:10.633386Z",
     "start_time": "2024-03-07T16:21:10.623206Z"
    }
   },
   "id": "528ed9606e59361",
   "execution_count": 117
  },
  {
   "cell_type": "code",
   "outputs": [
    {
     "data": {
      "text/plain": "1"
     },
     "execution_count": 118,
     "metadata": {},
     "output_type": "execute_result"
    }
   ],
   "source": [
    "conn.sinterstore('fowl_zoo','zoo','better_zoo')"
   ],
   "metadata": {
    "collapsed": false,
    "ExecuteTime": {
     "end_time": "2024-03-07T16:21:37.467649Z",
     "start_time": "2024-03-07T16:21:37.460033Z"
    }
   },
   "id": "249271041f38cde9",
   "execution_count": 118
  },
  {
   "cell_type": "code",
   "outputs": [
    {
     "data": {
      "text/plain": "{b'duck'}"
     },
     "execution_count": 119,
     "metadata": {},
     "output_type": "execute_result"
    }
   ],
   "source": [
    "conn.smembers('fowl_zoo')"
   ],
   "metadata": {
    "collapsed": false,
    "ExecuteTime": {
     "end_time": "2024-03-07T16:21:52.082009Z",
     "start_time": "2024-03-07T16:21:52.074328Z"
    }
   },
   "id": "672814b01ff0502a",
   "execution_count": 119
  },
  {
   "cell_type": "code",
   "outputs": [
    {
     "data": {
      "text/plain": "{b'duck', b'goat', b'tiger', b'wolf'}"
     },
     "execution_count": 120,
     "metadata": {},
     "output_type": "execute_result"
    }
   ],
   "source": [
    "conn.sunion('zoo','better_zoo')"
   ],
   "metadata": {
    "collapsed": false,
    "ExecuteTime": {
     "end_time": "2024-03-07T16:22:11.815611Z",
     "start_time": "2024-03-07T16:22:11.806602Z"
    }
   },
   "id": "6f825855d2a5872d",
   "execution_count": 120
  },
  {
   "cell_type": "code",
   "outputs": [
    {
     "data": {
      "text/plain": "4"
     },
     "execution_count": 121,
     "metadata": {},
     "output_type": "execute_result"
    }
   ],
   "source": [
    "conn.sunionstore('fabulous_zoo','zoo','better_zoo')"
   ],
   "metadata": {
    "collapsed": false,
    "ExecuteTime": {
     "end_time": "2024-03-07T16:22:41.489932Z",
     "start_time": "2024-03-07T16:22:41.481712Z"
    }
   },
   "id": "c68a8242d977f53a",
   "execution_count": 121
  },
  {
   "cell_type": "code",
   "outputs": [
    {
     "data": {
      "text/plain": "{b'duck', b'goat', b'tiger', b'wolf'}"
     },
     "execution_count": 122,
     "metadata": {},
     "output_type": "execute_result"
    }
   ],
   "source": [
    "conn.smembers('fabulous_zoo')"
   ],
   "metadata": {
    "collapsed": false,
    "ExecuteTime": {
     "end_time": "2024-03-07T16:22:55.956231Z",
     "start_time": "2024-03-07T16:22:55.947836Z"
    }
   },
   "id": "4aba77ff3af35cbd",
   "execution_count": 122
  },
  {
   "cell_type": "code",
   "outputs": [
    {
     "data": {
      "text/plain": "{b'goat'}"
     },
     "execution_count": 123,
     "metadata": {},
     "output_type": "execute_result"
    }
   ],
   "source": [
    "conn.sdiff('zoo','better_zoo')"
   ],
   "metadata": {
    "collapsed": false,
    "ExecuteTime": {
     "end_time": "2024-03-07T16:23:16.611922Z",
     "start_time": "2024-03-07T16:23:16.603755Z"
    }
   },
   "id": "1f3e377cd3bbc763",
   "execution_count": 123
  },
  {
   "cell_type": "code",
   "outputs": [
    {
     "data": {
      "text/plain": "1"
     },
     "execution_count": 124,
     "metadata": {},
     "output_type": "execute_result"
    }
   ],
   "source": [
    "conn.sdiffstore('zoo_sale', 'zoo','better_zoo')"
   ],
   "metadata": {
    "collapsed": false,
    "ExecuteTime": {
     "end_time": "2024-03-07T16:23:47.043186Z",
     "start_time": "2024-03-07T16:23:47.035354Z"
    }
   },
   "id": "469df7b5606e1064",
   "execution_count": 124
  },
  {
   "cell_type": "code",
   "outputs": [
    {
     "data": {
      "text/plain": "{b'goat'}"
     },
     "execution_count": 125,
     "metadata": {},
     "output_type": "execute_result"
    }
   ],
   "source": [
    "conn.smembers('zoo_sale')"
   ],
   "metadata": {
    "collapsed": false,
    "ExecuteTime": {
     "end_time": "2024-03-07T16:23:57.934078Z",
     "start_time": "2024-03-07T16:23:57.925991Z"
    }
   },
   "id": "fdea9bec054c29eb",
   "execution_count": 125
  },
  {
   "cell_type": "code",
   "outputs": [
    {
     "data": {
      "text/plain": "{b'duck', b'goat'}"
     },
     "execution_count": 126,
     "metadata": {},
     "output_type": "execute_result"
    }
   ],
   "source": [
    "conn.smembers('zoo')"
   ],
   "metadata": {
    "collapsed": false,
    "ExecuteTime": {
     "end_time": "2024-03-07T16:24:21.887844Z",
     "start_time": "2024-03-07T16:24:21.879137Z"
    }
   },
   "id": "94530280df0061b8",
   "execution_count": 126
  },
  {
   "cell_type": "code",
   "outputs": [
    {
     "data": {
      "text/plain": "{b'duck', b'tiger', b'wolf'}"
     },
     "execution_count": 127,
     "metadata": {},
     "output_type": "execute_result"
    }
   ],
   "source": [
    "conn.smembers('better_zoo')"
   ],
   "metadata": {
    "collapsed": false,
    "ExecuteTime": {
     "end_time": "2024-03-07T16:24:33.506023Z",
     "start_time": "2024-03-07T16:24:33.498248Z"
    }
   },
   "id": "168501f8df376898",
   "execution_count": 127
  },
  {
   "cell_type": "code",
   "outputs": [
    {
     "data": {
      "text/plain": "1709828695.8605895"
     },
     "execution_count": 128,
     "metadata": {},
     "output_type": "execute_result"
    }
   ],
   "source": [
    "import time\n",
    "now = time.time()\n",
    "now"
   ],
   "metadata": {
    "collapsed": false,
    "ExecuteTime": {
     "end_time": "2024-03-07T16:24:55.864383Z",
     "start_time": "2024-03-07T16:24:55.858445Z"
    }
   },
   "id": "40713e39ddf65daa",
   "execution_count": 128
  },
  {
   "cell_type": "code",
   "outputs": [
    {
     "ename": "AttributeError",
     "evalue": "'str' object has no attribute 'items'",
     "output_type": "error",
     "traceback": [
      "\u001B[1;31m---------------------------------------------------------------------------\u001B[0m",
      "\u001B[1;31mAttributeError\u001B[0m                            Traceback (most recent call last)",
      "Cell \u001B[1;32mIn[134], line 1\u001B[0m\n\u001B[1;32m----> 1\u001B[0m \u001B[43mconn\u001B[49m\u001B[38;5;241;43m.\u001B[39;49m\u001B[43mzadd\u001B[49m\u001B[43m(\u001B[49m\u001B[38;5;124;43m'\u001B[39;49m\u001B[38;5;124;43mlogins\u001B[39;49m\u001B[38;5;124;43m'\u001B[39;49m\u001B[43m,\u001B[49m\u001B[43m \u001B[49m\u001B[38;5;124;43m'\u001B[39;49m\u001B[38;5;124;43msmeagol\u001B[39;49m\u001B[38;5;124;43m'\u001B[39;49m\u001B[43m,\u001B[49m\u001B[43m \u001B[49m\u001B[38;5;241;43m1709828695\u001B[39;49m\u001B[43m)\u001B[49m\n\u001B[0;32m      2\u001B[0m \u001B[38;5;66;03m# AttributeError: 'str' object has no attribute 'items'\u001B[39;00m\n",
      "File \u001B[1;32m~\\PycharmProjects\\langchain-demo\\venv\\Lib\\site-packages\\redis\\commands\\core.py:4168\u001B[0m, in \u001B[0;36mSortedSetCommands.zadd\u001B[1;34m(self, name, mapping, nx, xx, ch, incr, gt, lt)\u001B[0m\n\u001B[0;32m   4166\u001B[0m \u001B[38;5;28;01mif\u001B[39;00m lt:\n\u001B[0;32m   4167\u001B[0m     pieces\u001B[38;5;241m.\u001B[39mappend(\u001B[38;5;124mb\u001B[39m\u001B[38;5;124m\"\u001B[39m\u001B[38;5;124mLT\u001B[39m\u001B[38;5;124m\"\u001B[39m)\n\u001B[1;32m-> 4168\u001B[0m \u001B[38;5;28;01mfor\u001B[39;00m pair \u001B[38;5;129;01min\u001B[39;00m \u001B[43mmapping\u001B[49m\u001B[38;5;241;43m.\u001B[39;49m\u001B[43mitems\u001B[49m():\n\u001B[0;32m   4169\u001B[0m     pieces\u001B[38;5;241m.\u001B[39mappend(pair[\u001B[38;5;241m1\u001B[39m])\n\u001B[0;32m   4170\u001B[0m     pieces\u001B[38;5;241m.\u001B[39mappend(pair[\u001B[38;5;241m0\u001B[39m])\n",
      "\u001B[1;31mAttributeError\u001B[0m: 'str' object has no attribute 'items'"
     ]
    }
   ],
   "source": [
    "# conn.zadd('logins', 'smeagol', now)\n",
    "# AttributeError: 'str' object has no attribute 'items'"
   ],
   "metadata": {
    "collapsed": false,
    "ExecuteTime": {
     "end_time": "2024-03-07T16:33:08.784248Z",
     "start_time": "2024-03-07T16:33:08.755206Z"
    }
   },
   "id": "e2f3c583ed343049",
   "execution_count": 134
  },
  {
   "cell_type": "code",
   "outputs": [
    {
     "ename": "AttributeError",
     "evalue": "'str' object has no attribute 'items'",
     "output_type": "error",
     "traceback": [
      "\u001B[1;31m---------------------------------------------------------------------------\u001B[0m",
      "\u001B[1;31mAttributeError\u001B[0m                            Traceback (most recent call last)",
      "Cell \u001B[1;32mIn[130], line 1\u001B[0m\n\u001B[1;32m----> 1\u001B[0m \u001B[43mconn\u001B[49m\u001B[38;5;241;43m.\u001B[39;49m\u001B[43mzadd\u001B[49m\u001B[43m(\u001B[49m\u001B[38;5;124;43m'\u001B[39;49m\u001B[38;5;124;43mlogins\u001B[39;49m\u001B[38;5;124;43m'\u001B[39;49m\u001B[43m,\u001B[49m\u001B[43m \u001B[49m\u001B[38;5;124;43m'\u001B[39;49m\u001B[38;5;124;43msauron\u001B[39;49m\u001B[38;5;124;43m'\u001B[39;49m\u001B[43m,\u001B[49m\u001B[43m \u001B[49m\u001B[43mnow\u001B[49m\u001B[43m \u001B[49m\u001B[38;5;241;43m+\u001B[39;49m\u001B[43m \u001B[49m\u001B[43m(\u001B[49m\u001B[38;5;241;43m5\u001B[39;49m\u001B[38;5;241;43m*\u001B[39;49m\u001B[38;5;241;43m60\u001B[39;49m\u001B[43m)\u001B[49m\u001B[43m)\u001B[49m\n",
      "File \u001B[1;32m~\\PycharmProjects\\langchain-demo\\venv\\Lib\\site-packages\\redis\\commands\\core.py:4168\u001B[0m, in \u001B[0;36mSortedSetCommands.zadd\u001B[1;34m(self, name, mapping, nx, xx, ch, incr, gt, lt)\u001B[0m\n\u001B[0;32m   4166\u001B[0m \u001B[38;5;28;01mif\u001B[39;00m lt:\n\u001B[0;32m   4167\u001B[0m     pieces\u001B[38;5;241m.\u001B[39mappend(\u001B[38;5;124mb\u001B[39m\u001B[38;5;124m\"\u001B[39m\u001B[38;5;124mLT\u001B[39m\u001B[38;5;124m\"\u001B[39m)\n\u001B[1;32m-> 4168\u001B[0m \u001B[38;5;28;01mfor\u001B[39;00m pair \u001B[38;5;129;01min\u001B[39;00m \u001B[43mmapping\u001B[49m\u001B[38;5;241;43m.\u001B[39;49m\u001B[43mitems\u001B[49m():\n\u001B[0;32m   4169\u001B[0m     pieces\u001B[38;5;241m.\u001B[39mappend(pair[\u001B[38;5;241m1\u001B[39m])\n\u001B[0;32m   4170\u001B[0m     pieces\u001B[38;5;241m.\u001B[39mappend(pair[\u001B[38;5;241m0\u001B[39m])\n",
      "\u001B[1;31mAttributeError\u001B[0m: 'str' object has no attribute 'items'"
     ]
    }
   ],
   "source": [
    "# conn.zadd('logins', 'sauron', now + (5*60))\n",
    "# AttributeError: 'str' object has no attribute 'items'"
   ],
   "metadata": {
    "collapsed": false,
    "ExecuteTime": {
     "end_time": "2024-03-07T16:27:18.030010Z",
     "start_time": "2024-03-07T16:27:18.005345Z"
    }
   },
   "id": "a7f71b57dd374eb2",
   "execution_count": 130
  },
  {
   "cell_type": "code",
   "outputs": [
    {
     "ename": "AttributeError",
     "evalue": "'str' object has no attribute 'items'",
     "output_type": "error",
     "traceback": [
      "\u001B[1;31m---------------------------------------------------------------------------\u001B[0m",
      "\u001B[1;31mAttributeError\u001B[0m                            Traceback (most recent call last)",
      "Cell \u001B[1;32mIn[135], line 1\u001B[0m\n\u001B[1;32m----> 1\u001B[0m \u001B[43mconn\u001B[49m\u001B[38;5;241;43m.\u001B[39;49m\u001B[43mzadd\u001B[49m\u001B[43m(\u001B[49m\u001B[38;5;124;43m'\u001B[39;49m\u001B[38;5;124;43mlogins\u001B[39;49m\u001B[38;5;124;43m'\u001B[39;49m\u001B[43m,\u001B[49m\u001B[43m \u001B[49m\u001B[38;5;124;43m'\u001B[39;49m\u001B[38;5;124;43mbilbo\u001B[39;49m\u001B[38;5;124;43m'\u001B[39;49m\u001B[43m,\u001B[49m\u001B[43m \u001B[49m\u001B[43mnow\u001B[49m\u001B[43m \u001B[49m\u001B[38;5;241;43m+\u001B[39;49m\u001B[43m \u001B[49m\u001B[43m(\u001B[49m\u001B[38;5;241;43m2\u001B[39;49m\u001B[43m \u001B[49m\u001B[38;5;241;43m*\u001B[39;49m\u001B[43m \u001B[49m\u001B[38;5;241;43m60\u001B[39;49m\u001B[43m \u001B[49m\u001B[38;5;241;43m*\u001B[39;49m\u001B[43m \u001B[49m\u001B[38;5;241;43m60\u001B[39;49m\u001B[43m)\u001B[49m\u001B[43m)\u001B[49m\n",
      "File \u001B[1;32m~\\PycharmProjects\\langchain-demo\\venv\\Lib\\site-packages\\redis\\commands\\core.py:4168\u001B[0m, in \u001B[0;36mSortedSetCommands.zadd\u001B[1;34m(self, name, mapping, nx, xx, ch, incr, gt, lt)\u001B[0m\n\u001B[0;32m   4166\u001B[0m \u001B[38;5;28;01mif\u001B[39;00m lt:\n\u001B[0;32m   4167\u001B[0m     pieces\u001B[38;5;241m.\u001B[39mappend(\u001B[38;5;124mb\u001B[39m\u001B[38;5;124m\"\u001B[39m\u001B[38;5;124mLT\u001B[39m\u001B[38;5;124m\"\u001B[39m)\n\u001B[1;32m-> 4168\u001B[0m \u001B[38;5;28;01mfor\u001B[39;00m pair \u001B[38;5;129;01min\u001B[39;00m \u001B[43mmapping\u001B[49m\u001B[38;5;241;43m.\u001B[39;49m\u001B[43mitems\u001B[49m():\n\u001B[0;32m   4169\u001B[0m     pieces\u001B[38;5;241m.\u001B[39mappend(pair[\u001B[38;5;241m1\u001B[39m])\n\u001B[0;32m   4170\u001B[0m     pieces\u001B[38;5;241m.\u001B[39mappend(pair[\u001B[38;5;241m0\u001B[39m])\n",
      "\u001B[1;31mAttributeError\u001B[0m: 'str' object has no attribute 'items'"
     ]
    }
   ],
   "source": [
    "conn.zadd('logins', 'bilbo', now + (2 * 60 * 60))"
   ],
   "metadata": {
    "collapsed": false,
    "ExecuteTime": {
     "end_time": "2024-03-07T16:33:55.308746Z",
     "start_time": "2024-03-07T16:33:55.283606Z"
    }
   },
   "id": "d056fe7511ea7731",
   "execution_count": 135
  },
  {
   "cell_type": "code",
   "outputs": [
    {
     "ename": "AttributeError",
     "evalue": "'str' object has no attribute 'items'",
     "output_type": "error",
     "traceback": [
      "\u001B[1;31m---------------------------------------------------------------------------\u001B[0m",
      "\u001B[1;31mAttributeError\u001B[0m                            Traceback (most recent call last)",
      "Cell \u001B[1;32mIn[136], line 1\u001B[0m\n\u001B[1;32m----> 1\u001B[0m \u001B[43mconn\u001B[49m\u001B[38;5;241;43m.\u001B[39;49m\u001B[43mzadd\u001B[49m\u001B[43m(\u001B[49m\u001B[38;5;124;43m'\u001B[39;49m\u001B[38;5;124;43mlogins\u001B[39;49m\u001B[38;5;124;43m'\u001B[39;49m\u001B[43m,\u001B[49m\u001B[43m \u001B[49m\u001B[38;5;124;43m'\u001B[39;49m\u001B[38;5;124;43mtreebeard\u001B[39;49m\u001B[38;5;124;43m'\u001B[39;49m\u001B[43m,\u001B[49m\u001B[43m \u001B[49m\u001B[43mnow\u001B[49m\u001B[43m \u001B[49m\u001B[38;5;241;43m+\u001B[39;49m\u001B[43m \u001B[49m\u001B[43m(\u001B[49m\u001B[38;5;241;43m24\u001B[39;49m\u001B[43m \u001B[49m\u001B[38;5;241;43m*\u001B[39;49m\u001B[43m \u001B[49m\u001B[38;5;241;43m60\u001B[39;49m\u001B[43m \u001B[49m\u001B[38;5;241;43m*\u001B[39;49m\u001B[43m \u001B[49m\u001B[38;5;241;43m60\u001B[39;49m\u001B[43m)\u001B[49m\u001B[43m)\u001B[49m\n",
      "File \u001B[1;32m~\\PycharmProjects\\langchain-demo\\venv\\Lib\\site-packages\\redis\\commands\\core.py:4168\u001B[0m, in \u001B[0;36mSortedSetCommands.zadd\u001B[1;34m(self, name, mapping, nx, xx, ch, incr, gt, lt)\u001B[0m\n\u001B[0;32m   4166\u001B[0m \u001B[38;5;28;01mif\u001B[39;00m lt:\n\u001B[0;32m   4167\u001B[0m     pieces\u001B[38;5;241m.\u001B[39mappend(\u001B[38;5;124mb\u001B[39m\u001B[38;5;124m\"\u001B[39m\u001B[38;5;124mLT\u001B[39m\u001B[38;5;124m\"\u001B[39m)\n\u001B[1;32m-> 4168\u001B[0m \u001B[38;5;28;01mfor\u001B[39;00m pair \u001B[38;5;129;01min\u001B[39;00m \u001B[43mmapping\u001B[49m\u001B[38;5;241;43m.\u001B[39;49m\u001B[43mitems\u001B[49m():\n\u001B[0;32m   4169\u001B[0m     pieces\u001B[38;5;241m.\u001B[39mappend(pair[\u001B[38;5;241m1\u001B[39m])\n\u001B[0;32m   4170\u001B[0m     pieces\u001B[38;5;241m.\u001B[39mappend(pair[\u001B[38;5;241m0\u001B[39m])\n",
      "\u001B[1;31mAttributeError\u001B[0m: 'str' object has no attribute 'items'"
     ]
    }
   ],
   "source": [
    "conn.zadd('logins', 'treebeard', now + (24 * 60 * 60))"
   ],
   "metadata": {
    "collapsed": false,
    "ExecuteTime": {
     "end_time": "2024-03-07T16:34:36.836686Z",
     "start_time": "2024-03-07T16:34:36.805727Z"
    }
   },
   "id": "e38f933e2d3a9d12",
   "execution_count": 136
  },
  {
   "cell_type": "code",
   "outputs": [],
   "source": [
    "conn.zrank('logins','bilbo')"
   ],
   "metadata": {
    "collapsed": false,
    "ExecuteTime": {
     "end_time": "2024-03-07T16:34:55.172997Z",
     "start_time": "2024-03-07T16:34:55.166882Z"
    }
   },
   "id": "2049a102cf21b11a",
   "execution_count": 137
  },
  {
   "cell_type": "code",
   "outputs": [],
   "source": [
    "conn.zscore('logins','bilbo')"
   ],
   "metadata": {
    "collapsed": false,
    "ExecuteTime": {
     "end_time": "2024-03-07T16:35:11.454076Z",
     "start_time": "2024-03-07T16:35:11.448050Z"
    }
   },
   "id": "c18840f6cebcfd6e",
   "execution_count": 138
  },
  {
   "cell_type": "code",
   "outputs": [
    {
     "data": {
      "text/plain": "[]"
     },
     "execution_count": 139,
     "metadata": {},
     "output_type": "execute_result"
    }
   ],
   "source": [
    "conn.zrange('logins', 0, -1)"
   ],
   "metadata": {
    "collapsed": false,
    "ExecuteTime": {
     "end_time": "2024-03-07T16:35:32.917572Z",
     "start_time": "2024-03-07T16:35:32.909681Z"
    }
   },
   "id": "2e9a954b8198f858",
   "execution_count": 139
  },
  {
   "cell_type": "code",
   "outputs": [
    {
     "data": {
      "text/plain": "[]"
     },
     "execution_count": 140,
     "metadata": {},
     "output_type": "execute_result"
    }
   ],
   "source": [
    "conn.zrange('logins',0, -1, withscores=True)"
   ],
   "metadata": {
    "collapsed": false,
    "ExecuteTime": {
     "end_time": "2024-03-07T16:36:05.719056Z",
     "start_time": "2024-03-07T16:36:05.710632Z"
    }
   },
   "id": "ef0783747e7052e9",
   "execution_count": 140
  },
  {
   "cell_type": "code",
   "outputs": [
    {
     "data": {
      "text/plain": "True"
     },
     "execution_count": 141,
     "metadata": {},
     "output_type": "execute_result"
    }
   ],
   "source": [
    "import time\n",
    "key = 'now you see it'\n",
    "conn.set(key, 'but not for long')"
   ],
   "metadata": {
    "collapsed": false,
    "ExecuteTime": {
     "end_time": "2024-03-07T16:36:40.476118Z",
     "start_time": "2024-03-07T16:36:40.468996Z"
    }
   },
   "id": "45dc7f50d558e4ad",
   "execution_count": 141
  },
  {
   "cell_type": "code",
   "outputs": [
    {
     "data": {
      "text/plain": "True"
     },
     "execution_count": 142,
     "metadata": {},
     "output_type": "execute_result"
    }
   ],
   "source": [
    "conn.expire(key, 5)"
   ],
   "metadata": {
    "collapsed": false,
    "ExecuteTime": {
     "end_time": "2024-03-07T16:36:50.216936Z",
     "start_time": "2024-03-07T16:36:50.208446Z"
    }
   },
   "id": "d5a628f401bb38c0",
   "execution_count": 142
  },
  {
   "cell_type": "code",
   "outputs": [
    {
     "data": {
      "text/plain": "-2"
     },
     "execution_count": 143,
     "metadata": {},
     "output_type": "execute_result"
    }
   ],
   "source": [
    "conn.ttl(key)"
   ],
   "metadata": {
    "collapsed": false,
    "ExecuteTime": {
     "end_time": "2024-03-07T16:36:57.648222Z",
     "start_time": "2024-03-07T16:36:57.640650Z"
    }
   },
   "id": "babd5bb59622ddc2",
   "execution_count": 143
  },
  {
   "cell_type": "code",
   "outputs": [],
   "source": [
    "conn.get(key)"
   ],
   "metadata": {
    "collapsed": false,
    "ExecuteTime": {
     "end_time": "2024-03-07T16:37:07.995041Z",
     "start_time": "2024-03-07T16:37:07.989289Z"
    }
   },
   "id": "1d3108b37d0fd317",
   "execution_count": 144
  },
  {
   "cell_type": "code",
   "outputs": [],
   "source": [
    "time.sleep(6)"
   ],
   "metadata": {
    "collapsed": false,
    "ExecuteTime": {
     "end_time": "2024-03-07T16:37:27.490927Z",
     "start_time": "2024-03-07T16:37:21.486567Z"
    }
   },
   "id": "59118b0b2c52c9b6",
   "execution_count": 145
  },
  {
   "cell_type": "code",
   "outputs": [],
   "source": [
    "conn.get(key)"
   ],
   "metadata": {
    "collapsed": false,
    "ExecuteTime": {
     "end_time": "2024-03-07T16:37:34.602800Z",
     "start_time": "2024-03-07T16:37:34.597636Z"
    }
   },
   "id": "5b06801187518916",
   "execution_count": 146
  },
  {
   "cell_type": "code",
   "outputs": [],
   "source": [],
   "metadata": {
    "collapsed": false
   },
   "id": "75a8a4f27a49204e"
  }
 ],
 "metadata": {
  "kernelspec": {
   "display_name": "Python 3",
   "language": "python",
   "name": "python3"
  },
  "language_info": {
   "codemirror_mode": {
    "name": "ipython",
    "version": 2
   },
   "file_extension": ".py",
   "mimetype": "text/x-python",
   "name": "python",
   "nbconvert_exporter": "python",
   "pygments_lexer": "ipython2",
   "version": "2.7.6"
  }
 },
 "nbformat": 4,
 "nbformat_minor": 5
}
