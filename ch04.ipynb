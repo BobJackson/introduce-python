{
 "cells": [
  {
   "cell_type": "code",
   "execution_count": null,
   "id": "initial_id",
   "metadata": {
    "collapsed": true
   },
   "outputs": [],
   "source": [
    "# 60 sec/min * 60 min/hr * 24 hr/day\n",
    "seconds_per_day = 86400"
   ]
  },
  {
   "cell_type": "code",
   "outputs": [
    {
     "data": {
      "text/plain": "86400"
     },
     "execution_count": 1,
     "metadata": {},
     "output_type": "execute_result"
    }
   ],
   "source": [
    "seconds_per_day = 86400 # 60 sec/min * 60 min/hr * 24 hr/day\n",
    "seconds_per_day"
   ],
   "metadata": {
    "collapsed": false,
    "ExecuteTime": {
     "end_time": "2024-03-04T06:05:47.660459Z",
     "start_time": "2024-03-04T06:05:47.654526Z"
    }
   },
   "id": "d0234f759b11c6d4",
   "execution_count": 1
  },
  {
   "cell_type": "code",
   "outputs": [
    {
     "name": "stdout",
     "output_type": "stream",
     "text": [
      "No comment: quotes make the # harmless.\n"
     ]
    }
   ],
   "source": [
    "# I can say anything here, even if Python doesn't like it,\n",
    "# because I'm protected by the awesome\n",
    "# octothorpe.\n",
    "\n",
    "print(\"No comment: quotes make the # harmless.\")"
   ],
   "metadata": {
    "collapsed": false,
    "ExecuteTime": {
     "end_time": "2024-03-04T06:07:34.524304Z",
     "start_time": "2024-03-04T06:07:34.519042Z"
    }
   },
   "id": "29136b9feb5fd5c5",
   "execution_count": 2
  },
  {
   "cell_type": "code",
   "outputs": [
    {
     "data": {
      "text/plain": "10"
     },
     "execution_count": 3,
     "metadata": {},
     "output_type": "execute_result"
    }
   ],
   "source": [
    "sum = 0\n",
    "sum += 1\n",
    "sum += 2\n",
    "sum += 3\n",
    "sum += 4\n",
    "sum"
   ],
   "metadata": {
    "collapsed": false,
    "ExecuteTime": {
     "end_time": "2024-03-04T06:08:26.818874Z",
     "start_time": "2024-03-04T06:08:26.811925Z"
    }
   },
   "id": "cf8d76dde21083b6",
   "execution_count": 3
  },
  {
   "cell_type": "code",
   "outputs": [
    {
     "data": {
      "text/plain": "10"
     },
     "execution_count": 4,
     "metadata": {},
     "output_type": "execute_result"
    }
   ],
   "source": [
    "sum = 1 + \\\n",
    "    2 + \\\n",
    "    3 + \\\n",
    "    4\n",
    "sum"
   ],
   "metadata": {
    "collapsed": false,
    "ExecuteTime": {
     "end_time": "2024-03-04T06:08:49.401882Z",
     "start_time": "2024-03-04T06:08:49.394217Z"
    }
   },
   "id": "ccc24431b20166ae",
   "execution_count": 4
  },
  {
   "cell_type": "code",
   "outputs": [
    {
     "data": {
      "text/plain": "10"
     },
     "execution_count": 5,
     "metadata": {},
     "output_type": "execute_result"
    }
   ],
   "source": [
    "sum = (\n",
    "    1 +\n",
    "    2 +\n",
    "    3 +\n",
    "    4\n",
    ")\n",
    "sum"
   ],
   "metadata": {
    "collapsed": false,
    "ExecuteTime": {
     "end_time": "2024-03-04T06:09:29.008553Z",
     "start_time": "2024-03-04T06:09:29.001496Z"
    }
   },
   "id": "c3ad805ab389b527",
   "execution_count": 5
  },
  {
   "cell_type": "code",
   "outputs": [
    {
     "name": "stdout",
     "output_type": "stream",
     "text": [
      "Woe!\n"
     ]
    }
   ],
   "source": [
    "disaster = True\n",
    "if disaster:\n",
    "    print(\"Woe!\")\n",
    "else:\n",
    "    print(\"Whee!\")    "
   ],
   "metadata": {
    "collapsed": false,
    "ExecuteTime": {
     "end_time": "2024-03-04T06:29:24.123651Z",
     "start_time": "2024-03-04T06:29:24.114414Z"
    }
   },
   "id": "8e7fe0c8ed4787d2",
   "execution_count": 6
  },
  {
   "cell_type": "code",
   "outputs": [
    {
     "name": "stdout",
     "output_type": "stream",
     "text": [
      "It's a yeti.\n"
     ]
    }
   ],
   "source": [
    "furry = True\n",
    "large = True\n",
    "if furry:\n",
    "    if large:\n",
    "        print(\"It's a yeti.\")\n",
    "    else:\n",
    "        print(\"It's a cat!\")\n",
    "else:\n",
    "    if large:\n",
    "        print(\"It's a whale!\")\n",
    "    else:\n",
    "        print(\"It's a human! Or a hairless cat.\")"
   ],
   "metadata": {
    "collapsed": false,
    "ExecuteTime": {
     "end_time": "2024-03-04T06:38:41.450731Z",
     "start_time": "2024-03-04T06:38:41.433812Z"
    }
   },
   "id": "bd3365fb76c1722c",
   "execution_count": 7
  },
  {
   "cell_type": "code",
   "outputs": [
    {
     "name": "stdout",
     "output_type": "stream",
     "text": [
      "I've never heard of the color mauve\n"
     ]
    }
   ],
   "source": [
    "color = \"mauve\"\n",
    "if color == \"red\":\n",
    "    print(\"It's a tomato!\")\n",
    "elif color == \"green\":\n",
    "    print(\"It's a green pepper!\")\n",
    "elif color == \"bee purple\":\n",
    "    print(\"I don't know what it is, but only bees can see it.\")\n",
    "else:\n",
    "    print(\"I've never heard of the color\", color)"
   ],
   "metadata": {
    "collapsed": false,
    "ExecuteTime": {
     "end_time": "2024-03-04T06:39:49.557047Z",
     "start_time": "2024-03-04T06:39:49.549861Z"
    }
   },
   "id": "c1e154aecc5fe9e",
   "execution_count": 8
  },
  {
   "cell_type": "code",
   "outputs": [
    {
     "data": {
      "text/plain": "False"
     },
     "execution_count": 9,
     "metadata": {},
     "output_type": "execute_result"
    }
   ],
   "source": [
    "x = 7\n",
    "x == 5"
   ],
   "metadata": {
    "collapsed": false,
    "ExecuteTime": {
     "end_time": "2024-03-04T06:40:11.615258Z",
     "start_time": "2024-03-04T06:40:11.609124Z"
    }
   },
   "id": "205c687ce22aee8",
   "execution_count": 9
  },
  {
   "cell_type": "code",
   "outputs": [
    {
     "data": {
      "text/plain": "True"
     },
     "execution_count": 10,
     "metadata": {},
     "output_type": "execute_result"
    }
   ],
   "source": [
    "5 < x"
   ],
   "metadata": {
    "collapsed": false,
    "ExecuteTime": {
     "end_time": "2024-03-04T06:40:17.476456Z",
     "start_time": "2024-03-04T06:40:17.472360Z"
    }
   },
   "id": "4e7e5048e30e7b6c",
   "execution_count": 10
  },
  {
   "cell_type": "code",
   "outputs": [
    {
     "data": {
      "text/plain": "True"
     },
     "execution_count": 11,
     "metadata": {},
     "output_type": "execute_result"
    }
   ],
   "source": [
    "x < 10"
   ],
   "metadata": {
    "collapsed": false,
    "ExecuteTime": {
     "end_time": "2024-03-04T06:40:22.142885Z",
     "start_time": "2024-03-04T06:40:22.138329Z"
    }
   },
   "id": "3c04cdbe1400ec8f",
   "execution_count": 11
  },
  {
   "cell_type": "code",
   "outputs": [
    {
     "data": {
      "text/plain": "True"
     },
     "execution_count": 12,
     "metadata": {},
     "output_type": "execute_result"
    }
   ],
   "source": [
    "5 < x < 10"
   ],
   "metadata": {
    "collapsed": false,
    "ExecuteTime": {
     "end_time": "2024-03-04T06:40:42.958385Z",
     "start_time": "2024-03-04T06:40:42.950133Z"
    }
   },
   "id": "bafc1e0b9d34100a",
   "execution_count": 12
  },
  {
   "cell_type": "code",
   "outputs": [
    {
     "data": {
      "text/plain": "True"
     },
     "execution_count": 13,
     "metadata": {},
     "output_type": "execute_result"
    }
   ],
   "source": [
    "5 < x and x < 10"
   ],
   "metadata": {
    "collapsed": false,
    "ExecuteTime": {
     "end_time": "2024-03-04T06:40:46.455268Z",
     "start_time": "2024-03-04T06:40:46.451597Z"
    }
   },
   "id": "8f4a1297e99c16e4",
   "execution_count": 13
  },
  {
   "cell_type": "code",
   "outputs": [
    {
     "data": {
      "text/plain": "True"
     },
     "execution_count": 14,
     "metadata": {},
     "output_type": "execute_result"
    }
   ],
   "source": [
    "(5 < x) and (x < 10)"
   ],
   "metadata": {
    "collapsed": false,
    "ExecuteTime": {
     "end_time": "2024-03-04T06:41:07.581515Z",
     "start_time": "2024-03-04T06:41:07.575209Z"
    }
   },
   "id": "26cb1f8510a99298",
   "execution_count": 14
  },
  {
   "cell_type": "code",
   "outputs": [
    {
     "data": {
      "text/plain": "True"
     },
     "execution_count": 15,
     "metadata": {},
     "output_type": "execute_result"
    }
   ],
   "source": [
    "5 < x or x < 10"
   ],
   "metadata": {
    "collapsed": false,
    "ExecuteTime": {
     "end_time": "2024-03-04T06:41:35.335473Z",
     "start_time": "2024-03-04T06:41:35.328429Z"
    }
   },
   "id": "9376c86315321705",
   "execution_count": 15
  },
  {
   "cell_type": "code",
   "outputs": [
    {
     "data": {
      "text/plain": "False"
     },
     "execution_count": 16,
     "metadata": {},
     "output_type": "execute_result"
    }
   ],
   "source": [
    "5 < x and x > 10"
   ],
   "metadata": {
    "collapsed": false,
    "ExecuteTime": {
     "end_time": "2024-03-04T06:41:47.385661Z",
     "start_time": "2024-03-04T06:41:47.380859Z"
    }
   },
   "id": "45004a86311d1a02",
   "execution_count": 16
  },
  {
   "cell_type": "code",
   "outputs": [
    {
     "data": {
      "text/plain": "True"
     },
     "execution_count": 17,
     "metadata": {},
     "output_type": "execute_result"
    }
   ],
   "source": [
    "5 < x and not x > 10"
   ],
   "metadata": {
    "collapsed": false,
    "ExecuteTime": {
     "end_time": "2024-03-04T06:42:02.061344Z",
     "start_time": "2024-03-04T06:42:02.054690Z"
    }
   },
   "id": "e919b509fa625399",
   "execution_count": 17
  },
  {
   "cell_type": "code",
   "outputs": [
    {
     "data": {
      "text/plain": "True"
     },
     "execution_count": 18,
     "metadata": {},
     "output_type": "execute_result"
    }
   ],
   "source": [
    "5 < x < 10 < 999"
   ],
   "metadata": {
    "collapsed": false,
    "ExecuteTime": {
     "end_time": "2024-03-04T06:42:34.323865Z",
     "start_time": "2024-03-04T06:42:34.317773Z"
    }
   },
   "id": "de9d993ea28e9538",
   "execution_count": 18
  },
  {
   "cell_type": "code",
   "outputs": [
    {
     "name": "stdout",
     "output_type": "stream",
     "text": [
      "Hey, it's empty!\n"
     ]
    }
   ],
   "source": [
    "some_list = []\n",
    "if some_list:\n",
    "    print(\"There's something in here!\")\n",
    "else:\n",
    "    print(\"Hey, it's empty!\")"
   ],
   "metadata": {
    "collapsed": false,
    "ExecuteTime": {
     "end_time": "2024-03-04T06:44:19.164503Z",
     "start_time": "2024-03-04T06:44:19.158259Z"
    }
   },
   "id": "12169c6506aff2e8",
   "execution_count": 19
  },
  {
   "cell_type": "code",
   "outputs": [
    {
     "name": "stdout",
     "output_type": "stream",
     "text": [
      "o is a vowel.\n"
     ]
    }
   ],
   "source": [
    "letter = 'o'\n",
    "if letter == 'a' or letter == 'e' or letter == 'i' or letter == 'o' or letter == 'u':\n",
    "    print(letter, \"is a vowel.\")\n",
    "else:\n",
    "    print(letter, \"is not a vowel.\")"
   ],
   "metadata": {
    "collapsed": false,
    "ExecuteTime": {
     "end_time": "2024-03-04T06:45:36.856549Z",
     "start_time": "2024-03-04T06:45:36.849622Z"
    }
   },
   "id": "d9d9f0467f5b764a",
   "execution_count": 20
  },
  {
   "cell_type": "code",
   "outputs": [
    {
     "data": {
      "text/plain": "True"
     },
     "execution_count": 21,
     "metadata": {},
     "output_type": "execute_result"
    }
   ],
   "source": [
    "vowels = 'aeiou'\n",
    "letter = 'o'\n",
    "letter in vowels"
   ],
   "metadata": {
    "collapsed": false,
    "ExecuteTime": {
     "end_time": "2024-03-04T06:46:08.695187Z",
     "start_time": "2024-03-04T06:46:08.689393Z"
    }
   },
   "id": "baec25c6cc572ee1",
   "execution_count": 21
  },
  {
   "cell_type": "code",
   "outputs": [
    {
     "name": "stdout",
     "output_type": "stream",
     "text": [
      "o is a vowel.\n"
     ]
    }
   ],
   "source": [
    "if letter in vowels:\n",
    "    print(letter, \"is a vowel.\")"
   ],
   "metadata": {
    "collapsed": false,
    "ExecuteTime": {
     "end_time": "2024-03-04T06:46:25.767826Z",
     "start_time": "2024-03-04T06:46:25.761779Z"
    }
   },
   "id": "26e57b8751865ddc",
   "execution_count": 22
  },
  {
   "cell_type": "code",
   "outputs": [
    {
     "data": {
      "text/plain": "True"
     },
     "execution_count": 23,
     "metadata": {},
     "output_type": "execute_result"
    }
   ],
   "source": [
    "letter = 'o'\n",
    "vowel_set = {'a', 'e', 'i', 'o', 'u'}\n",
    "letter in vowel_set"
   ],
   "metadata": {
    "collapsed": false,
    "ExecuteTime": {
     "end_time": "2024-03-04T06:47:01.479242Z",
     "start_time": "2024-03-04T06:47:01.473154Z"
    }
   },
   "id": "9d7266322e0dd47a",
   "execution_count": 23
  },
  {
   "cell_type": "code",
   "outputs": [
    {
     "data": {
      "text/plain": "True"
     },
     "execution_count": 24,
     "metadata": {},
     "output_type": "execute_result"
    }
   ],
   "source": [
    "vowel_list = ['a', 'e', 'i', 'o', 'u']\n",
    "letter in vowel_list"
   ],
   "metadata": {
    "collapsed": false,
    "ExecuteTime": {
     "end_time": "2024-03-04T06:47:25.258138Z",
     "start_time": "2024-03-04T06:47:25.246916Z"
    }
   },
   "id": "53c79663dbd9b0e3",
   "execution_count": 24
  },
  {
   "cell_type": "code",
   "outputs": [
    {
     "data": {
      "text/plain": "True"
     },
     "execution_count": 25,
     "metadata": {},
     "output_type": "execute_result"
    }
   ],
   "source": [
    "vowel_tuple = ('a', 'e', 'i', 'o', 'u')\n",
    "letter in vowel_tuple"
   ],
   "metadata": {
    "collapsed": false,
    "ExecuteTime": {
     "end_time": "2024-03-04T06:47:49.363442Z",
     "start_time": "2024-03-04T06:47:49.356919Z"
    }
   },
   "id": "d765d5624213c840",
   "execution_count": 25
  },
  {
   "cell_type": "code",
   "outputs": [
    {
     "data": {
      "text/plain": "True"
     },
     "execution_count": 26,
     "metadata": {},
     "output_type": "execute_result"
    }
   ],
   "source": [
    "vowel_dict = {'a': 'apple', 'e': 'elephant', 'i': 'impala', 'o': 'ocelot', 'u': 'unicorn'}\n",
    "letter in vowel_dict"
   ],
   "metadata": {
    "collapsed": false,
    "ExecuteTime": {
     "end_time": "2024-03-04T06:49:12.399704Z",
     "start_time": "2024-03-04T06:49:12.390586Z"
    }
   },
   "id": "d94555bd5fa68a4a",
   "execution_count": 26
  },
  {
   "cell_type": "code",
   "outputs": [
    {
     "data": {
      "text/plain": "True"
     },
     "execution_count": 27,
     "metadata": {},
     "output_type": "execute_result"
    }
   ],
   "source": [
    "vowel_string = \"aeiou\"\n",
    "letter in vowel_string"
   ],
   "metadata": {
    "collapsed": false,
    "ExecuteTime": {
     "end_time": "2024-03-04T06:49:31.241292Z",
     "start_time": "2024-03-04T06:49:31.233443Z"
    }
   },
   "id": "f384aefe7fb42fe",
   "execution_count": 27
  },
  {
   "cell_type": "code",
   "outputs": [
    {
     "name": "stdout",
     "output_type": "stream",
     "text": [
      "A fitting tweet\n"
     ]
    }
   ],
   "source": [
    "tweet_limit = 280\n",
    "tweet_string = \"Blah\" * 50\n",
    "diff = tweet_limit - len(tweet_string)\n",
    "if diff > 0:\n",
    "    print(\"A fitting tweet\")\n",
    "else:\n",
    "    print(\"Went over by\", abs(diff))"
   ],
   "metadata": {
    "collapsed": false,
    "ExecuteTime": {
     "end_time": "2024-03-04T06:52:05.868866Z",
     "start_time": "2024-03-04T06:52:05.848819Z"
    }
   },
   "id": "6ec58e594c6d1ac0",
   "execution_count": 28
  },
  {
   "cell_type": "code",
   "outputs": [
    {
     "name": "stdout",
     "output_type": "stream",
     "text": [
      "A fitting tweet\n"
     ]
    }
   ],
   "source": [
    "tweet_limit = 280\n",
    "tweet_string = \"Blah\" * 50\n",
    "if diff := tweet_limit - len(tweet_string) >= 0:\n",
    "    print(\"A fitting tweet\")\n",
    "else:\n",
    "    print(\"Went over by\", abs(diff))"
   ],
   "metadata": {
    "collapsed": false,
    "ExecuteTime": {
     "end_time": "2024-03-04T06:53:36.321124Z",
     "start_time": "2024-03-04T06:53:36.314732Z"
    }
   },
   "id": "35ca8d4ed2dedd7b",
   "execution_count": 29
  }
 ],
 "metadata": {
  "kernelspec": {
   "display_name": "Python 3",
   "language": "python",
   "name": "python3"
  },
  "language_info": {
   "codemirror_mode": {
    "name": "ipython",
    "version": 2
   },
   "file_extension": ".py",
   "mimetype": "text/x-python",
   "name": "python",
   "nbconvert_exporter": "python",
   "pygments_lexer": "ipython2",
   "version": "2.7.6"
  }
 },
 "nbformat": 4,
 "nbformat_minor": 5
}
