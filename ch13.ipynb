{
 "cells": [
  {
   "cell_type": "code",
   "execution_count": 1,
   "id": "initial_id",
   "metadata": {
    "collapsed": true,
    "ExecuteTime": {
     "end_time": "2024-03-06T03:50:47.238715Z",
     "start_time": "2024-03-06T03:50:47.232659Z"
    }
   },
   "outputs": [
    {
     "data": {
      "text/plain": "False"
     },
     "execution_count": 1,
     "metadata": {},
     "output_type": "execute_result"
    }
   ],
   "source": [
    "import calendar\n",
    "calendar.isleap(1900)"
   ]
  },
  {
   "cell_type": "code",
   "outputs": [
    {
     "data": {
      "text/plain": "True"
     },
     "execution_count": 2,
     "metadata": {},
     "output_type": "execute_result"
    }
   ],
   "source": [
    "calendar.isleap(1996)"
   ],
   "metadata": {
    "collapsed": false,
    "ExecuteTime": {
     "end_time": "2024-03-06T03:50:56.998472Z",
     "start_time": "2024-03-06T03:50:56.993051Z"
    }
   },
   "id": "19d0f69dd6b8ef15",
   "execution_count": 2
  },
  {
   "cell_type": "code",
   "outputs": [
    {
     "data": {
      "text/plain": "True"
     },
     "execution_count": 3,
     "metadata": {},
     "output_type": "execute_result"
    }
   ],
   "source": [
    "calendar.isleap(1992)"
   ],
   "metadata": {
    "collapsed": false,
    "ExecuteTime": {
     "end_time": "2024-03-06T03:51:08.793451Z",
     "start_time": "2024-03-06T03:51:08.786675Z"
    }
   },
   "id": "ee3788dfa7a1d32b",
   "execution_count": 3
  },
  {
   "cell_type": "code",
   "outputs": [
    {
     "data": {
      "text/plain": "True"
     },
     "execution_count": 4,
     "metadata": {},
     "output_type": "execute_result"
    }
   ],
   "source": [
    "calendar.isleap(2000)"
   ],
   "metadata": {
    "collapsed": false,
    "ExecuteTime": {
     "end_time": "2024-03-06T03:51:20.503088Z",
     "start_time": "2024-03-06T03:51:20.496005Z"
    }
   },
   "id": "762a1bf8e6cad995",
   "execution_count": 4
  },
  {
   "cell_type": "code",
   "outputs": [
    {
     "data": {
      "text/plain": "False"
     },
     "execution_count": 5,
     "metadata": {},
     "output_type": "execute_result"
    }
   ],
   "source": [
    "calendar.isleap(2002)"
   ],
   "metadata": {
    "collapsed": false,
    "ExecuteTime": {
     "end_time": "2024-03-06T03:51:26.871720Z",
     "start_time": "2024-03-06T03:51:26.867511Z"
    }
   },
   "id": "76ca06a0444e4093",
   "execution_count": 5
  },
  {
   "cell_type": "code",
   "outputs": [
    {
     "data": {
      "text/plain": "True"
     },
     "execution_count": 6,
     "metadata": {},
     "output_type": "execute_result"
    }
   ],
   "source": [
    "calendar.isleap(2004)"
   ],
   "metadata": {
    "collapsed": false,
    "ExecuteTime": {
     "end_time": "2024-03-06T03:51:34.227047Z",
     "start_time": "2024-03-06T03:51:34.221056Z"
    }
   },
   "id": "9aa9ed95aafff1bc",
   "execution_count": 6
  },
  {
   "cell_type": "code",
   "outputs": [
    {
     "data": {
      "text/plain": "datetime.date(2019, 10, 31)"
     },
     "execution_count": 7,
     "metadata": {},
     "output_type": "execute_result"
    }
   ],
   "source": [
    "from datetime import date\n",
    "halloween = date(2019, 10, 31)\n",
    "halloween"
   ],
   "metadata": {
    "collapsed": false,
    "ExecuteTime": {
     "end_time": "2024-03-06T03:52:53.592346Z",
     "start_time": "2024-03-06T03:52:53.580571Z"
    }
   },
   "id": "f4523820879d4a63",
   "execution_count": 7
  },
  {
   "cell_type": "code",
   "outputs": [
    {
     "data": {
      "text/plain": "31"
     },
     "execution_count": 8,
     "metadata": {},
     "output_type": "execute_result"
    }
   ],
   "source": [
    "halloween.day"
   ],
   "metadata": {
    "collapsed": false,
    "ExecuteTime": {
     "end_time": "2024-03-06T03:53:07.592157Z",
     "start_time": "2024-03-06T03:53:07.586758Z"
    }
   },
   "id": "4fb5c72550ddfd35",
   "execution_count": 8
  },
  {
   "cell_type": "code",
   "outputs": [
    {
     "data": {
      "text/plain": "10"
     },
     "execution_count": 9,
     "metadata": {},
     "output_type": "execute_result"
    }
   ],
   "source": [
    "halloween.month"
   ],
   "metadata": {
    "collapsed": false,
    "ExecuteTime": {
     "end_time": "2024-03-06T03:53:14.350713Z",
     "start_time": "2024-03-06T03:53:14.347235Z"
    }
   },
   "id": "9804dee2894f3c8e",
   "execution_count": 9
  },
  {
   "cell_type": "code",
   "outputs": [
    {
     "data": {
      "text/plain": "2019"
     },
     "execution_count": 10,
     "metadata": {},
     "output_type": "execute_result"
    }
   ],
   "source": [
    "halloween.year"
   ],
   "metadata": {
    "collapsed": false,
    "ExecuteTime": {
     "end_time": "2024-03-06T03:53:18.675945Z",
     "start_time": "2024-03-06T03:53:18.672549Z"
    }
   },
   "id": "cc5de88d29c99965",
   "execution_count": 10
  },
  {
   "cell_type": "code",
   "outputs": [
    {
     "data": {
      "text/plain": "'2019-10-31'"
     },
     "execution_count": 11,
     "metadata": {},
     "output_type": "execute_result"
    }
   ],
   "source": [
    "halloween.isoformat()"
   ],
   "metadata": {
    "collapsed": false,
    "ExecuteTime": {
     "end_time": "2024-03-06T03:53:31.256570Z",
     "start_time": "2024-03-06T03:53:31.251018Z"
    }
   },
   "id": "3781867ca46dcaa8",
   "execution_count": 11
  },
  {
   "cell_type": "code",
   "outputs": [
    {
     "data": {
      "text/plain": "datetime.date(2024, 3, 6)"
     },
     "execution_count": 12,
     "metadata": {},
     "output_type": "execute_result"
    }
   ],
   "source": [
    "from datetime import date\n",
    "now = date.today()\n",
    "now"
   ],
   "metadata": {
    "collapsed": false,
    "ExecuteTime": {
     "end_time": "2024-03-06T03:54:00.540348Z",
     "start_time": "2024-03-06T03:54:00.533052Z"
    }
   },
   "id": "1df0f0efd5123a74",
   "execution_count": 12
  },
  {
   "cell_type": "code",
   "outputs": [
    {
     "data": {
      "text/plain": "datetime.date(2024, 3, 7)"
     },
     "execution_count": 13,
     "metadata": {},
     "output_type": "execute_result"
    }
   ],
   "source": [
    "from datetime import timedelta\n",
    "one_day = timedelta(days=1)\n",
    "tomorrow = now + one_day\n",
    "tomorrow"
   ],
   "metadata": {
    "collapsed": false,
    "ExecuteTime": {
     "end_time": "2024-03-06T03:54:49.185310Z",
     "start_time": "2024-03-06T03:54:49.178366Z"
    }
   },
   "id": "41131c33b6ac3bda",
   "execution_count": 13
  },
  {
   "cell_type": "code",
   "outputs": [
    {
     "data": {
      "text/plain": "datetime.date(2024, 3, 23)"
     },
     "execution_count": 14,
     "metadata": {},
     "output_type": "execute_result"
    }
   ],
   "source": [
    "now  + 17 * one_day"
   ],
   "metadata": {
    "collapsed": false,
    "ExecuteTime": {
     "end_time": "2024-03-06T03:55:16.781388Z",
     "start_time": "2024-03-06T03:55:16.774018Z"
    }
   },
   "id": "bc9882756db979fb",
   "execution_count": 14
  },
  {
   "cell_type": "code",
   "outputs": [],
   "source": [
    "yesterday = now - one_day"
   ],
   "metadata": {
    "collapsed": false,
    "ExecuteTime": {
     "end_time": "2024-03-06T03:55:32.089506Z",
     "start_time": "2024-03-06T03:55:32.085601Z"
    }
   },
   "id": "d4dd93d15cc3b318",
   "execution_count": 15
  },
  {
   "cell_type": "code",
   "outputs": [
    {
     "data": {
      "text/plain": "datetime.date(2024, 3, 5)"
     },
     "execution_count": 16,
     "metadata": {},
     "output_type": "execute_result"
    }
   ],
   "source": [
    "yesterday"
   ],
   "metadata": {
    "collapsed": false,
    "ExecuteTime": {
     "end_time": "2024-03-06T03:55:34.440583Z",
     "start_time": "2024-03-06T03:55:34.437393Z"
    }
   },
   "id": "992b03e41a9f4f88",
   "execution_count": 16
  },
  {
   "cell_type": "code",
   "outputs": [
    {
     "data": {
      "text/plain": "datetime.time(12, 0)"
     },
     "execution_count": 17,
     "metadata": {},
     "output_type": "execute_result"
    }
   ],
   "source": [
    "from datetime import time\n",
    "noon = time(12,0,0)\n",
    "noon"
   ],
   "metadata": {
    "collapsed": false,
    "ExecuteTime": {
     "end_time": "2024-03-06T03:56:41.890257Z",
     "start_time": "2024-03-06T03:56:41.882660Z"
    }
   },
   "id": "dcf2eb0abfbb604c",
   "execution_count": 17
  },
  {
   "cell_type": "code",
   "outputs": [
    {
     "data": {
      "text/plain": "12"
     },
     "execution_count": 18,
     "metadata": {},
     "output_type": "execute_result"
    }
   ],
   "source": [
    "noon.hour"
   ],
   "metadata": {
    "collapsed": false,
    "ExecuteTime": {
     "end_time": "2024-03-06T03:56:49.552786Z",
     "start_time": "2024-03-06T03:56:49.550039Z"
    }
   },
   "id": "e7c894d62760416c",
   "execution_count": 18
  },
  {
   "cell_type": "code",
   "outputs": [
    {
     "data": {
      "text/plain": "0"
     },
     "execution_count": 19,
     "metadata": {},
     "output_type": "execute_result"
    }
   ],
   "source": [
    "noon.minute"
   ],
   "metadata": {
    "collapsed": false,
    "ExecuteTime": {
     "end_time": "2024-03-06T03:56:57.476519Z",
     "start_time": "2024-03-06T03:56:57.472197Z"
    }
   },
   "id": "bc7b4eac50b883e",
   "execution_count": 19
  },
  {
   "cell_type": "code",
   "outputs": [
    {
     "data": {
      "text/plain": "0"
     },
     "execution_count": 20,
     "metadata": {},
     "output_type": "execute_result"
    }
   ],
   "source": [
    "noon.second"
   ],
   "metadata": {
    "collapsed": false,
    "ExecuteTime": {
     "end_time": "2024-03-06T03:57:02.734098Z",
     "start_time": "2024-03-06T03:57:02.730310Z"
    }
   },
   "id": "bdfbcfd9394325be",
   "execution_count": 20
  },
  {
   "cell_type": "code",
   "outputs": [
    {
     "data": {
      "text/plain": "0"
     },
     "execution_count": 21,
     "metadata": {},
     "output_type": "execute_result"
    }
   ],
   "source": [
    "noon.microsecond"
   ],
   "metadata": {
    "collapsed": false,
    "ExecuteTime": {
     "end_time": "2024-03-06T04:54:58.951757Z",
     "start_time": "2024-03-06T04:54:58.945436Z"
    }
   },
   "id": "8a9e5a2ea255d66d",
   "execution_count": 21
  },
  {
   "cell_type": "code",
   "outputs": [
    {
     "data": {
      "text/plain": "datetime.datetime(2019, 1, 2, 3, 4, 5, 6)"
     },
     "execution_count": 22,
     "metadata": {},
     "output_type": "execute_result"
    }
   ],
   "source": [
    "from datetime import datetime\n",
    "some_day = datetime(2019, 1, 2, 3, 4, 5,6)\n",
    "some_day"
   ],
   "metadata": {
    "collapsed": false,
    "ExecuteTime": {
     "end_time": "2024-03-06T04:55:36.388751Z",
     "start_time": "2024-03-06T04:55:36.377527Z"
    }
   },
   "id": "d74d294fbca13c70",
   "execution_count": 22
  },
  {
   "cell_type": "code",
   "outputs": [
    {
     "data": {
      "text/plain": "'2019-01-02T03:04:05.000006'"
     },
     "execution_count": 23,
     "metadata": {},
     "output_type": "execute_result"
    }
   ],
   "source": [
    "some_day.isoformat()"
   ],
   "metadata": {
    "collapsed": false,
    "ExecuteTime": {
     "end_time": "2024-03-06T04:55:50.274353Z",
     "start_time": "2024-03-06T04:55:50.270525Z"
    }
   },
   "id": "9e674f41b8322787",
   "execution_count": 23
  },
  {
   "cell_type": "code",
   "outputs": [
    {
     "data": {
      "text/plain": "datetime.datetime(2024, 3, 6, 12, 56, 27, 364355)"
     },
     "execution_count": 24,
     "metadata": {},
     "output_type": "execute_result"
    }
   ],
   "source": [
    "from datetime import datetime\n",
    "now = datetime.now()\n",
    "now"
   ],
   "metadata": {
    "collapsed": false,
    "ExecuteTime": {
     "end_time": "2024-03-06T04:56:27.367563Z",
     "start_time": "2024-03-06T04:56:27.361950Z"
    }
   },
   "id": "d85896b12cffe99e",
   "execution_count": 24
  },
  {
   "cell_type": "code",
   "outputs": [
    {
     "data": {
      "text/plain": "2024"
     },
     "execution_count": 25,
     "metadata": {},
     "output_type": "execute_result"
    }
   ],
   "source": [
    "now.year"
   ],
   "metadata": {
    "collapsed": false,
    "ExecuteTime": {
     "end_time": "2024-03-06T04:56:41.040656Z",
     "start_time": "2024-03-06T04:56:41.037799Z"
    }
   },
   "id": "907282549825a09",
   "execution_count": 25
  },
  {
   "cell_type": "code",
   "outputs": [
    {
     "data": {
      "text/plain": "3"
     },
     "execution_count": 26,
     "metadata": {},
     "output_type": "execute_result"
    }
   ],
   "source": [
    "now.month"
   ],
   "metadata": {
    "collapsed": false,
    "ExecuteTime": {
     "end_time": "2024-03-06T04:56:47.326826Z",
     "start_time": "2024-03-06T04:56:47.321896Z"
    }
   },
   "id": "62698e941e7b3233",
   "execution_count": 26
  },
  {
   "cell_type": "code",
   "outputs": [
    {
     "data": {
      "text/plain": "6"
     },
     "execution_count": 27,
     "metadata": {},
     "output_type": "execute_result"
    }
   ],
   "source": [
    "now.day"
   ],
   "metadata": {
    "collapsed": false,
    "ExecuteTime": {
     "end_time": "2024-03-06T04:56:53.498933Z",
     "start_time": "2024-03-06T04:56:53.494854Z"
    }
   },
   "id": "e341eeaccf02a4d2",
   "execution_count": 27
  },
  {
   "cell_type": "code",
   "outputs": [
    {
     "data": {
      "text/plain": "12"
     },
     "execution_count": 28,
     "metadata": {},
     "output_type": "execute_result"
    }
   ],
   "source": [
    "now.hour"
   ],
   "metadata": {
    "collapsed": false,
    "ExecuteTime": {
     "end_time": "2024-03-06T04:57:00.120731Z",
     "start_time": "2024-03-06T04:57:00.116437Z"
    }
   },
   "id": "a6c08959e9300cbc",
   "execution_count": 28
  },
  {
   "cell_type": "code",
   "outputs": [
    {
     "data": {
      "text/plain": "56"
     },
     "execution_count": 29,
     "metadata": {},
     "output_type": "execute_result"
    }
   ],
   "source": [
    "now.minute"
   ],
   "metadata": {
    "collapsed": false,
    "ExecuteTime": {
     "end_time": "2024-03-06T04:57:07.011529Z",
     "start_time": "2024-03-06T04:57:07.003574Z"
    }
   },
   "id": "d9c3a1af30ea5e2f",
   "execution_count": 29
  },
  {
   "cell_type": "code",
   "outputs": [
    {
     "data": {
      "text/plain": "27"
     },
     "execution_count": 30,
     "metadata": {},
     "output_type": "execute_result"
    }
   ],
   "source": [
    "now.second"
   ],
   "metadata": {
    "collapsed": false,
    "ExecuteTime": {
     "end_time": "2024-03-06T04:57:11.155692Z",
     "start_time": "2024-03-06T04:57:11.152300Z"
    }
   },
   "id": "e627b84c1c647798",
   "execution_count": 30
  },
  {
   "cell_type": "code",
   "outputs": [
    {
     "data": {
      "text/plain": "364355"
     },
     "execution_count": 31,
     "metadata": {},
     "output_type": "execute_result"
    }
   ],
   "source": [
    "now.microsecond"
   ],
   "metadata": {
    "collapsed": false,
    "ExecuteTime": {
     "end_time": "2024-03-06T04:57:17.460964Z",
     "start_time": "2024-03-06T04:57:17.455925Z"
    }
   },
   "id": "8b19da773f6f16a",
   "execution_count": 31
  },
  {
   "cell_type": "code",
   "outputs": [
    {
     "data": {
      "text/plain": "datetime.datetime(2024, 3, 6, 12, 0)"
     },
     "execution_count": 32,
     "metadata": {},
     "output_type": "execute_result"
    }
   ],
   "source": [
    "from datetime import datetime,time,date\n",
    "noon = time(12)\n",
    "this_day = date.today()\n",
    "noon_today = datetime.combine(this_day, noon)\n",
    "noon_today"
   ],
   "metadata": {
    "collapsed": false,
    "ExecuteTime": {
     "end_time": "2024-03-06T04:58:09.672540Z",
     "start_time": "2024-03-06T04:58:09.666942Z"
    }
   },
   "id": "cb5315bd2acce2bd",
   "execution_count": 32
  },
  {
   "cell_type": "code",
   "outputs": [
    {
     "data": {
      "text/plain": "datetime.date(2024, 3, 6)"
     },
     "execution_count": 33,
     "metadata": {},
     "output_type": "execute_result"
    }
   ],
   "source": [
    "noon_today.date()"
   ],
   "metadata": {
    "collapsed": false,
    "ExecuteTime": {
     "end_time": "2024-03-06T04:58:27.352786Z",
     "start_time": "2024-03-06T04:58:27.348917Z"
    }
   },
   "id": "1239eb0c8f715dc3",
   "execution_count": 33
  },
  {
   "cell_type": "code",
   "outputs": [
    {
     "data": {
      "text/plain": "datetime.time(12, 0)"
     },
     "execution_count": 34,
     "metadata": {},
     "output_type": "execute_result"
    }
   ],
   "source": [
    "noon_today.time()"
   ],
   "metadata": {
    "collapsed": false,
    "ExecuteTime": {
     "end_time": "2024-03-06T04:58:36.284515Z",
     "start_time": "2024-03-06T04:58:36.281137Z"
    }
   },
   "id": "a75960619a5dc5b1",
   "execution_count": 34
  },
  {
   "cell_type": "code",
   "outputs": [
    {
     "data": {
      "text/plain": "1709701136.460387"
     },
     "execution_count": 35,
     "metadata": {},
     "output_type": "execute_result"
    }
   ],
   "source": [
    "import time\n",
    "now = time.time()\n",
    "now"
   ],
   "metadata": {
    "collapsed": false,
    "ExecuteTime": {
     "end_time": "2024-03-06T04:58:56.463944Z",
     "start_time": "2024-03-06T04:58:56.457807Z"
    }
   },
   "id": "700c5e1c89a58661",
   "execution_count": 35
  },
  {
   "cell_type": "code",
   "outputs": [
    {
     "data": {
      "text/plain": "'Wed Mar  6 12:58:56 2024'"
     },
     "execution_count": 36,
     "metadata": {},
     "output_type": "execute_result"
    }
   ],
   "source": [
    "time.ctime(now)"
   ],
   "metadata": {
    "collapsed": false,
    "ExecuteTime": {
     "end_time": "2024-03-06T04:59:24.421256Z",
     "start_time": "2024-03-06T04:59:24.407193Z"
    }
   },
   "id": "58051877a3be4b4c",
   "execution_count": 36
  },
  {
   "cell_type": "code",
   "outputs": [
    {
     "data": {
      "text/plain": "time.struct_time(tm_year=2024, tm_mon=3, tm_mday=6, tm_hour=12, tm_min=58, tm_sec=56, tm_wday=2, tm_yday=66, tm_isdst=0)"
     },
     "execution_count": 37,
     "metadata": {},
     "output_type": "execute_result"
    }
   ],
   "source": [
    "time.localtime(now)"
   ],
   "metadata": {
    "collapsed": false,
    "ExecuteTime": {
     "end_time": "2024-03-06T04:59:44.585608Z",
     "start_time": "2024-03-06T04:59:44.582499Z"
    }
   },
   "id": "5ffbdd02f3d41775",
   "execution_count": 37
  },
  {
   "cell_type": "code",
   "outputs": [
    {
     "data": {
      "text/plain": "time.struct_time(tm_year=2024, tm_mon=3, tm_mday=6, tm_hour=4, tm_min=58, tm_sec=56, tm_wday=2, tm_yday=66, tm_isdst=0)"
     },
     "execution_count": 38,
     "metadata": {},
     "output_type": "execute_result"
    }
   ],
   "source": [
    "time.gmtime(now)"
   ],
   "metadata": {
    "collapsed": false,
    "ExecuteTime": {
     "end_time": "2024-03-06T05:00:17.229246Z",
     "start_time": "2024-03-06T05:00:17.223435Z"
    }
   },
   "id": "d222876887294d3e",
   "execution_count": 38
  },
  {
   "cell_type": "code",
   "outputs": [
    {
     "data": {
      "text/plain": "time.struct_time(tm_year=2024, tm_mon=3, tm_mday=6, tm_hour=13, tm_min=2, tm_sec=18, tm_wday=2, tm_yday=66, tm_isdst=0)"
     },
     "execution_count": 39,
     "metadata": {},
     "output_type": "execute_result"
    }
   ],
   "source": [
    "import time\n",
    "now = time.localtime()\n",
    "now"
   ],
   "metadata": {
    "collapsed": false,
    "ExecuteTime": {
     "end_time": "2024-03-06T05:02:18.793952Z",
     "start_time": "2024-03-06T05:02:18.788272Z"
    }
   },
   "id": "3a16589ba47925a5",
   "execution_count": 39
  },
  {
   "cell_type": "code",
   "outputs": [
    {
     "data": {
      "text/plain": "2024"
     },
     "execution_count": 40,
     "metadata": {},
     "output_type": "execute_result"
    }
   ],
   "source": [
    "now[0]"
   ],
   "metadata": {
    "collapsed": false,
    "ExecuteTime": {
     "end_time": "2024-03-06T05:02:24.570833Z",
     "start_time": "2024-03-06T05:02:24.567447Z"
    }
   },
   "id": "5096de32ae5407c4",
   "execution_count": 40
  },
  {
   "cell_type": "code",
   "outputs": [
    {
     "name": "stdout",
     "output_type": "stream",
     "text": [
      "[2024, 3, 6, 13, 2, 18, 2, 66, 0]\n"
     ]
    }
   ],
   "source": [
    "print(list(now[x] for x in range(9)))"
   ],
   "metadata": {
    "collapsed": false,
    "ExecuteTime": {
     "end_time": "2024-03-06T05:02:50.047362Z",
     "start_time": "2024-03-06T05:02:50.042450Z"
    }
   },
   "id": "c2d82e81a1fdb448",
   "execution_count": 41
  },
  {
   "cell_type": "code",
   "outputs": [
    {
     "ename": "TypeError",
     "evalue": "an integer is required (got type time.struct_time)",
     "output_type": "error",
     "traceback": [
      "\u001B[0;31m---------------------------------------------------------------------------\u001B[0m",
      "\u001B[0;31mTypeError\u001B[0m                                 Traceback (most recent call last)",
      "Cell \u001B[0;32mIn[42], line 1\u001B[0m\n\u001B[0;32m----> 1\u001B[0m tm \u001B[38;5;241m=\u001B[39m \u001B[43mtime\u001B[49m\u001B[38;5;241;43m.\u001B[39;49m\u001B[43mlocaltime\u001B[49m\u001B[43m(\u001B[49m\u001B[43mnow\u001B[49m\u001B[43m)\u001B[49m\n\u001B[1;32m      2\u001B[0m time\u001B[38;5;241m.\u001B[39mmktime(tm)\n",
      "\u001B[0;31mTypeError\u001B[0m: an integer is required (got type time.struct_time)"
     ]
    }
   ],
   "source": [
    "tm = time.localtime(now)\n",
    "time.mktime(tm)"
   ],
   "metadata": {
    "collapsed": false,
    "ExecuteTime": {
     "end_time": "2024-03-06T05:03:39.933693Z",
     "start_time": "2024-03-06T05:03:39.767199Z"
    }
   },
   "id": "273740a3d410754a",
   "execution_count": 42
  },
  {
   "cell_type": "code",
   "outputs": [
    {
     "ename": "TypeError",
     "evalue": "an integer is required (got type time.struct_time)",
     "output_type": "error",
     "traceback": [
      "\u001B[0;31m---------------------------------------------------------------------------\u001B[0m",
      "\u001B[0;31mTypeError\u001B[0m                                 Traceback (most recent call last)",
      "Cell \u001B[0;32mIn[43], line 3\u001B[0m\n\u001B[1;32m      1\u001B[0m \u001B[38;5;28;01mimport\u001B[39;00m \u001B[38;5;21;01mtime\u001B[39;00m\n\u001B[1;32m      2\u001B[0m now \u001B[38;5;241m=\u001B[39m time\u001B[38;5;241m.\u001B[39mlocaltime()\n\u001B[0;32m----> 3\u001B[0m tm \u001B[38;5;241m=\u001B[39m \u001B[43mtime\u001B[49m\u001B[38;5;241;43m.\u001B[39;49m\u001B[43mlocaltime\u001B[49m\u001B[43m(\u001B[49m\u001B[43mnow\u001B[49m\u001B[43m)\u001B[49m\n\u001B[1;32m      4\u001B[0m time\u001B[38;5;241m.\u001B[39mmktime(tm)\n",
      "\u001B[0;31mTypeError\u001B[0m: an integer is required (got type time.struct_time)"
     ]
    }
   ],
   "source": [
    "import time\n",
    "now = time.localtime()\n",
    "tm = time.localtime(now)\n",
    "time.mktime(tm)"
   ],
   "metadata": {
    "collapsed": false,
    "ExecuteTime": {
     "end_time": "2024-03-06T05:04:59.946835Z",
     "start_time": "2024-03-06T05:04:59.896954Z"
    }
   },
   "id": "aa54e8e20c5a40de",
   "execution_count": 43
  },
  {
   "cell_type": "code",
   "outputs": [
    {
     "data": {
      "text/plain": "'Wed Mar  6 13:07:11 2024'"
     },
     "execution_count": 44,
     "metadata": {},
     "output_type": "execute_result"
    }
   ],
   "source": [
    "import time\n",
    "now = time.time()\n",
    "time.ctime(now)"
   ],
   "metadata": {
    "collapsed": false,
    "ExecuteTime": {
     "end_time": "2024-03-06T05:07:11.740390Z",
     "start_time": "2024-03-06T05:07:11.734172Z"
    }
   },
   "id": "d2ac12bd3dadac06",
   "execution_count": 44
  },
  {
   "cell_type": "code",
   "outputs": [
    {
     "data": {
      "text/plain": "time.struct_time(tm_year=2024, tm_mon=3, tm_mday=6, tm_hour=13, tm_min=13, tm_sec=14, tm_wday=2, tm_yday=66, tm_isdst=0)"
     },
     "execution_count": 45,
     "metadata": {},
     "output_type": "execute_result"
    }
   ],
   "source": [
    "import time\n",
    "fmt = \"It's %A, %B %d, %Y, localtime %I:%M:%S%p\"\n",
    "t = time.localtime()\n",
    "t"
   ],
   "metadata": {
    "collapsed": false,
    "ExecuteTime": {
     "end_time": "2024-03-06T05:13:14.788632Z",
     "start_time": "2024-03-06T05:13:14.782669Z"
    }
   },
   "id": "603326da4dbbd335",
   "execution_count": 45
  },
  {
   "cell_type": "code",
   "outputs": [
    {
     "data": {
      "text/plain": "\"It's Wednesday, March 06, 2024, localtime 01:13:14PM\""
     },
     "execution_count": 46,
     "metadata": {},
     "output_type": "execute_result"
    }
   ],
   "source": [
    "time.strftime(fmt,t)"
   ],
   "metadata": {
    "collapsed": false,
    "ExecuteTime": {
     "end_time": "2024-03-06T05:13:31.587732Z",
     "start_time": "2024-03-06T05:13:31.584183Z"
    }
   },
   "id": "40e123a80da0b38e",
   "execution_count": 46
  },
  {
   "cell_type": "code",
   "outputs": [
    {
     "data": {
      "text/plain": "\"It's Thursday, July 04, 2019, local time 12:00:00AM\""
     },
     "execution_count": 47,
     "metadata": {},
     "output_type": "execute_result"
    }
   ],
   "source": [
    "from datetime import date\n",
    "some_day = date(2019,7,4)\n",
    "fmt = \"It's %A, %B %d, %Y, local time %I:%M:%S%p\"\n",
    "some_day.strftime(fmt)"
   ],
   "metadata": {
    "collapsed": false,
    "ExecuteTime": {
     "end_time": "2024-03-06T05:15:23.731344Z",
     "start_time": "2024-03-06T05:15:23.726127Z"
    }
   },
   "id": "5fecf5e159241f69",
   "execution_count": 47
  },
  {
   "cell_type": "code",
   "outputs": [
    {
     "data": {
      "text/plain": "\"It's Monday, January 01, 1900, local time 10:35:00AM\""
     },
     "execution_count": 52,
     "metadata": {},
     "output_type": "execute_result"
    }
   ],
   "source": [
    "from datetime import time\n",
    "fmt = \"It's %A, %B %d, %Y, local time %I:%M:%S%p\"\n",
    "some_time = time(10,35)\n",
    "some_time.strftime(fmt)"
   ],
   "metadata": {
    "collapsed": false,
    "ExecuteTime": {
     "end_time": "2024-03-06T05:17:03.272338Z",
     "start_time": "2024-03-06T05:17:03.266866Z"
    }
   },
   "id": "1cec17c989566f6e",
   "execution_count": 52
  },
  {
   "cell_type": "code",
   "outputs": [
    {
     "data": {
      "text/plain": "time.struct_time(tm_year=2019, tm_mon=1, tm_mday=29, tm_hour=0, tm_min=0, tm_sec=0, tm_wday=1, tm_yday=29, tm_isdst=-1)"
     },
     "execution_count": 59,
     "metadata": {},
     "output_type": "execute_result"
    }
   ],
   "source": [
    "import time\n",
    "fmt=\"%Y-%m-%d\"\n",
    "time.strptime(\"2019-01-29\", fmt)"
   ],
   "metadata": {
    "collapsed": false,
    "ExecuteTime": {
     "end_time": "2024-03-06T05:19:51.159537Z",
     "start_time": "2024-03-06T05:19:51.155163Z"
    }
   },
   "id": "6f9aeb75cc3b8e05",
   "execution_count": 59
  },
  {
   "cell_type": "code",
   "outputs": [
    {
     "name": "stdout",
     "output_type": "stream",
     "text": [
      "Thursday, October 31\n",
      "Jeudi, octobre 31\n",
      "Donnerstag, Oktober 31\n",
      "jueves, octubre 31\n",
      "fimmtudagur, október 31\n",
      "星期四, 十月 31\n"
     ]
    }
   ],
   "source": [
    "import locale\n",
    "from datetime import date\n",
    "halloween = date(2019, 10, 31)\n",
    "for lang_country in ['en_us', 'fr_fr','de_de','es_es','is_is','zh_cn']:\n",
    "    locale.setlocale(locale.LC_TIME, lang_country)\n",
    "    print(halloween.strftime('%A, %B %d'))"
   ],
   "metadata": {
    "collapsed": false,
    "ExecuteTime": {
     "end_time": "2024-03-06T05:22:54.083626Z",
     "start_time": "2024-03-06T05:22:54.074470Z"
    }
   },
   "id": "cdff46466983e933",
   "execution_count": 65
  },
  {
   "cell_type": "code",
   "outputs": [],
   "source": [
    "import locale\n",
    "names = locale.locale_alias.keys()"
   ],
   "metadata": {
    "collapsed": false,
    "ExecuteTime": {
     "end_time": "2024-03-06T05:23:40.434574Z",
     "start_time": "2024-03-06T05:23:40.429621Z"
    }
   },
   "id": "f621b31a103d778b",
   "execution_count": 66
  },
  {
   "cell_type": "code",
   "outputs": [
    {
     "data": {
      "text/plain": "['a3_az', 'aa_dj', 'aa_er', 'aa_et', 'af_za']"
     },
     "execution_count": 67,
     "metadata": {},
     "output_type": "execute_result"
    }
   ],
   "source": [
    "good_names = [name for name in names if len(name) == 5 and name[2] == '_']\n",
    "good_names[:5]"
   ],
   "metadata": {
    "collapsed": false,
    "ExecuteTime": {
     "end_time": "2024-03-06T05:24:36.534810Z",
     "start_time": "2024-03-06T05:24:36.528853Z"
    }
   },
   "id": "83081f4e92a260d4",
   "execution_count": 67
  },
  {
   "cell_type": "code",
   "outputs": [
    {
     "data": {
      "text/plain": "['de_at', 'de_be', 'de_ch', 'de_de', 'de_it', 'de_lu']"
     },
     "execution_count": 68,
     "metadata": {},
     "output_type": "execute_result"
    }
   ],
   "source": [
    "de = [name for name in good_names if name.startswith('de')]\n",
    "de"
   ],
   "metadata": {
    "collapsed": false,
    "ExecuteTime": {
     "end_time": "2024-03-06T05:25:14.558479Z",
     "start_time": "2024-03-06T05:25:14.553121Z"
    }
   },
   "id": "a6369873cc3c1938",
   "execution_count": 68
  },
  {
   "cell_type": "code",
   "outputs": [],
   "source": [],
   "metadata": {
    "collapsed": false
   },
   "id": "d333ffdb3c422e5b"
  }
 ],
 "metadata": {
  "kernelspec": {
   "display_name": "Python 3",
   "language": "python",
   "name": "python3"
  },
  "language_info": {
   "codemirror_mode": {
    "name": "ipython",
    "version": 2
   },
   "file_extension": ".py",
   "mimetype": "text/x-python",
   "name": "python",
   "nbconvert_exporter": "python",
   "pygments_lexer": "ipython2",
   "version": "2.7.6"
  }
 },
 "nbformat": 4,
 "nbformat_minor": 5
}
