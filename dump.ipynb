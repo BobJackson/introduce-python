{
 "cells": [
  {
   "cell_type": "code",
   "execution_count": 1,
   "id": "initial_id",
   "metadata": {
    "collapsed": true,
    "ExecuteTime": {
     "end_time": "2024-03-12T05:09:34.468715Z",
     "start_time": "2024-03-12T05:09:34.463865Z"
    }
   },
   "outputs": [],
   "source": [
    "import sys\n",
    "\n",
    "\n",
    "def dump(func):\n",
    "    \"Print input arguments and output value(s)\"\n",
    "\n",
    "    def wrapper(*args, **kwargs):\n",
    "        print(\"Function name:\", func.__name__)\n",
    "        print('Input arguments:', ' '.join(map(str, args)))\n",
    "        print('Input keyword arguments:', kwargs.items())\n",
    "        result = func(*args, **kwargs)\n",
    "        print('Output:', result)\n",
    "        return result\n",
    "\n",
    "    return wrapper"
   ]
  },
  {
   "cell_type": "code",
   "outputs": [],
   "source": [
    "\n",
    "@dump\n",
    "def double(*args, **kwargs):\n",
    "    \"Double every argument\"\n",
    "    output_list = [2 * arg for arg in args]\n",
    "    output_dict = {k: 2 * v for k, v in kwargs.items()}\n",
    "    return output_list, output_dict"
   ],
   "metadata": {
    "collapsed": false,
    "ExecuteTime": {
     "end_time": "2024-03-12T05:12:21.968173Z",
     "start_time": "2024-03-12T05:12:21.963277Z"
    }
   },
   "id": "442824aa2efceee3",
   "execution_count": 2
  },
  {
   "cell_type": "code",
   "outputs": [
    {
     "name": "stdout",
     "output_type": "stream",
     "text": [
      "Function name: double\n",
      "Input arguments: 3 5\n",
      "Input keyword arguments: dict_items([('first', 100), ('next', 98.6), ('last', -40)])\n",
      "Output: ([6, 10], {'first': 200, 'next': 197.2, 'last': -80})\n"
     ]
    }
   ],
   "source": [
    "output = double(3, 5, first=100, next=98.6, last=-40)"
   ],
   "metadata": {
    "collapsed": false,
    "ExecuteTime": {
     "end_time": "2024-03-12T05:12:51.785772Z",
     "start_time": "2024-03-12T05:12:51.780575Z"
    }
   },
   "id": "bd7335f17220f6f1",
   "execution_count": 3
  },
  {
   "cell_type": "code",
   "outputs": [],
   "source": [
    "def process_cities(filename):\n",
    "    with open(filename, 'rt') as file:\n",
    "        for line in file:\n",
    "            line = line.strip()\n",
    "            if 'quit' == line.lower():\n",
    "                return\n",
    "            country, city = line.split(',')\n",
    "            city = city.strip()\n",
    "            country = country.strip()\n",
    "            print(city.title(), country.title(), sep=',')\n",
    "\n",
    "\n",
    "process_cities(sys.argv[1])"
   ],
   "metadata": {
    "collapsed": false
   },
   "id": "47e68d3a9b05939"
  },
  {
   "cell_type": "code",
   "outputs": [
    {
     "name": "stderr",
     "output_type": "stream",
     "text": [
      "WARNING:root:Did I hear thunder?\n",
      "ERROR:root:Was that lightning?\n"
     ]
    }
   ],
   "source": [
    "import logging\n",
    "\n",
    "logging.debug(\"Looks like rain\")\n",
    "logging.info(\"And hail\")\n",
    "logging.warning(\"Did I hear thunder?\")\n",
    "logging.error(\"Was that lightning?\")"
   ],
   "metadata": {
    "collapsed": false,
    "ExecuteTime": {
     "end_time": "2024-03-12T05:30:41.612343Z",
     "start_time": "2024-03-12T05:30:41.602555Z"
    }
   },
   "id": "efaf9dfb40bbc3b",
   "execution_count": 4
  },
  {
   "cell_type": "code",
   "outputs": [
    {
     "name": "stderr",
     "output_type": "stream",
     "text": [
      "CRITICAL:root:Stop fencing and get inside!\n"
     ]
    }
   ],
   "source": [
    "logging.critical(\"Stop fencing and get inside!\")"
   ],
   "metadata": {
    "collapsed": false,
    "ExecuteTime": {
     "end_time": "2024-03-12T05:31:13.087343Z",
     "start_time": "2024-03-12T05:31:13.082621Z"
    }
   },
   "id": "93adc941d0fdb31c",
   "execution_count": 5
  },
  {
   "cell_type": "code",
   "outputs": [],
   "source": [
    "import logging\n",
    "\n",
    "logging.basicConfig(level=logging.DEBUG)\n",
    "logging.debug(\"It's raining again\")"
   ],
   "metadata": {
    "collapsed": false,
    "ExecuteTime": {
     "end_time": "2024-03-12T05:32:07.251568Z",
     "start_time": "2024-03-12T05:32:07.247027Z"
    }
   },
   "id": "74685fa7685656dc",
   "execution_count": 8
  },
  {
   "cell_type": "code",
   "outputs": [],
   "source": [
    "logging.info(\"With hail the size of hailstones\")"
   ],
   "metadata": {
    "collapsed": false,
    "ExecuteTime": {
     "end_time": "2024-03-12T05:32:31.791014Z",
     "start_time": "2024-03-12T05:32:31.786188Z"
    }
   },
   "id": "3130305037cac0fc",
   "execution_count": 9
  },
  {
   "cell_type": "code",
   "outputs": [],
   "source": [
    "import logging\n",
    "\n",
    "logging.basicConfig(level='DEBUG')\n",
    "logger = logging.getLogger('bunyan')\n",
    "logger.debug('Timber!')"
   ],
   "metadata": {
    "collapsed": false,
    "ExecuteTime": {
     "end_time": "2024-03-12T05:33:39.967519Z",
     "start_time": "2024-03-12T05:33:39.940251Z"
    }
   },
   "id": "b07dc89b78c943",
   "execution_count": 10
  },
  {
   "cell_type": "code",
   "outputs": [
    {
     "name": "stderr",
     "output_type": "stream",
     "text": [
      "WARNING:bunyan:I need my axe\n"
     ]
    }
   ],
   "source": [
    "import logging\n",
    "\n",
    "logging.basicConfig(level='DEBUG', filename='blue_ox.log')\n",
    "logger = logging.getLogger('bunyan')\n",
    "logger.debug(\"Where's my axe?\")\n",
    "logger.warning(\"I need my axe\")"
   ],
   "metadata": {
    "collapsed": false,
    "ExecuteTime": {
     "end_time": "2024-03-12T05:35:03.368357Z",
     "start_time": "2024-03-12T05:35:03.362798Z"
    }
   },
   "id": "a04b0644f4a2e07e",
   "execution_count": 12
  },
  {
   "cell_type": "code",
   "outputs": [
    {
     "name": "stderr",
     "output_type": "stream",
     "text": [
      "ERROR:bunyan:Where's my other plaid shirt?\n"
     ]
    }
   ],
   "source": [
    "import logging\n",
    "\n",
    "fmt = '%(asctime)s %(levelname)s %(lineno)s %(message)s'\n",
    "logging.basicConfig(level='DEBUG', format=fmt)\n",
    "logger = logging.getLogger('bunyan')\n",
    "logger.error(\"Where's my other plaid shirt?\")"
   ],
   "metadata": {
    "collapsed": false,
    "ExecuteTime": {
     "end_time": "2024-03-12T05:37:28.632765Z",
     "start_time": "2024-03-12T05:37:28.618322Z"
    }
   },
   "id": "2a2c2ce442b70222",
   "execution_count": 13
  },
  {
   "cell_type": "code",
   "outputs": [
    {
     "name": "stdout",
     "output_type": "stream",
     "text": [
      "4.100799560546875e-05\n"
     ]
    }
   ],
   "source": [
    "from time import time\n",
    "\n",
    "t1 = time()\n",
    "num = 5\n",
    "num *= 2\n",
    "print(time() - t1)"
   ],
   "metadata": {
    "collapsed": false,
    "ExecuteTime": {
     "end_time": "2024-03-12T05:38:25.859402Z",
     "start_time": "2024-03-12T05:38:25.854143Z"
    }
   },
   "id": "e24bcce342f95fb8",
   "execution_count": 14
  },
  {
   "cell_type": "code",
   "outputs": [
    {
     "name": "stdout",
     "output_type": "stream",
     "text": [
      "2.0051608085632324\n"
     ]
    }
   ],
   "source": [
    "from time import time, sleep\n",
    "\n",
    "t1 = time()\n",
    "sleep(2.0)\n",
    "print(time() - t1)"
   ],
   "metadata": {
    "collapsed": false,
    "ExecuteTime": {
     "end_time": "2024-03-12T05:39:01.074483Z",
     "start_time": "2024-03-12T05:38:59.064985Z"
    }
   },
   "id": "d9f2f407be8f6ba1",
   "execution_count": 15
  },
  {
   "cell_type": "code",
   "outputs": [
    {
     "name": "stdout",
     "output_type": "stream",
     "text": [
      "5.000001692678779e-07\n"
     ]
    }
   ],
   "source": [
    "from timeit import timeit\n",
    "\n",
    "print(timeit('num = 5; num *= 2', number=1))"
   ],
   "metadata": {
    "collapsed": false,
    "ExecuteTime": {
     "end_time": "2024-03-12T05:39:40.302806Z",
     "start_time": "2024-03-12T05:39:40.297707Z"
    }
   },
   "id": "a727838facae5b1b",
   "execution_count": 16
  },
  {
   "cell_type": "code",
   "outputs": [
    {
     "name": "stdout",
     "output_type": "stream",
     "text": [
      "[2.5000008463393897e-07, 4.1000021155923605e-08, 4.200001058052294e-08]\n"
     ]
    }
   ],
   "source": [
    "from timeit import repeat\n",
    "\n",
    "print(repeat('num = 5; num *= 2', number=1, repeat=3))"
   ],
   "metadata": {
    "collapsed": false,
    "ExecuteTime": {
     "end_time": "2024-03-12T05:40:20.601236Z",
     "start_time": "2024-03-12T05:40:20.592892Z"
    }
   },
   "id": "93beacd527c6a4b1",
   "execution_count": 17
  },
  {
   "cell_type": "code",
   "outputs": [
    {
     "name": "stdout",
     "output_type": "stream",
     "text": [
      "1.0048\n"
     ]
    }
   ],
   "source": [
    "import time\n",
    "from timeit import timeit\n",
    "\n",
    "\n",
    "def snooze():\n",
    "    time.sleep(1)\n",
    "\n",
    "\n",
    "seconds = timeit('snooze()', globals=globals(), number=1)\n",
    "print(\"%.4f\" % seconds)"
   ],
   "metadata": {
    "collapsed": false,
    "ExecuteTime": {
     "end_time": "2024-03-12T05:41:43.421871Z",
     "start_time": "2024-03-12T05:41:42.411971Z"
    }
   },
   "id": "f2fdafe9eaf6dfd2",
   "execution_count": 18
  },
  {
   "cell_type": "code",
   "outputs": [
    {
     "name": "stdout",
     "output_type": "stream",
     "text": [
      "1.0050\n"
     ]
    }
   ],
   "source": [
    "def time_decorator(func):\n",
    "    def inner(*args, **kwargs):\n",
    "        t1 = time.time()\n",
    "        result = func(*args, **kwargs)\n",
    "        t2 = time.time()\n",
    "        print(f\"{(t2 - t1):.4f}\")\n",
    "        return result\n",
    "\n",
    "    return inner\n",
    "\n",
    "\n",
    "@time_decorator\n",
    "def naptime():\n",
    "    time.sleep(1)\n",
    "\n",
    "\n",
    "naptime()"
   ],
   "metadata": {
    "collapsed": false,
    "ExecuteTime": {
     "end_time": "2024-03-12T05:43:56.315572Z",
     "start_time": "2024-03-12T05:43:55.305936Z"
    }
   },
   "id": "705e015b2802cc52",
   "execution_count": 19
  },
  {
   "cell_type": "code",
   "outputs": [
    {
     "name": "stdout",
     "output_type": "stream",
     "text": [
      "1.0025\n"
     ]
    }
   ],
   "source": [
    "import time\n",
    "\n",
    "\n",
    "def snooze2():\n",
    "    time.sleep(1)\n",
    "\n",
    "\n",
    "class TimeContextManager:\n",
    "    def __enter__(self):\n",
    "        self.t1 = time.time()\n",
    "        return self\n",
    "\n",
    "    def __exit__(self, type, value, traceback):\n",
    "        t2 = time.time()\n",
    "        print(f\"{(t2 - self.t1):.4f}\")\n",
    "\n",
    "\n",
    "with TimeContextManager():\n",
    "    snooze2()"
   ],
   "metadata": {
    "collapsed": false,
    "ExecuteTime": {
     "end_time": "2024-03-12T05:51:41.444104Z",
     "start_time": "2024-03-12T05:51:40.432573Z"
    }
   },
   "id": "f917a040678db289",
   "execution_count": 20
  },
  {
   "cell_type": "code",
   "outputs": [
    {
     "name": "stdout",
     "output_type": "stream",
     "text": [
      "make_list_1 takes 0.04418283299992254 seconds\n",
      "make_list_2 takes 0.01617291699994894 seconds\n"
     ]
    }
   ],
   "source": [
    "from timeit import timeit\n",
    "\n",
    "\n",
    "def make_list_1():\n",
    "    result = []\n",
    "    for i in range(1000):\n",
    "        result.append(i)\n",
    "    return result\n",
    "\n",
    "\n",
    "def make_list_2():\n",
    "    result = [value for value in range(1000)]\n",
    "    return result\n",
    "\n",
    "\n",
    "print('make_list_1 takes', timeit(make_list_1, number=1000), 'seconds')\n",
    "print('make_list_2 takes', timeit(make_list_2, number=1000), 'seconds')"
   ],
   "metadata": {
    "collapsed": false,
    "ExecuteTime": {
     "end_time": "2024-03-12T05:54:03.578069Z",
     "start_time": "2024-03-12T05:54:03.490038Z"
    }
   },
   "id": "4d928281767493c0",
   "execution_count": 21
  },
  {
   "cell_type": "code",
   "outputs": [
    {
     "data": {
      "text/plain": "0.5061699999996563"
     },
     "execution_count": 22,
     "metadata": {},
     "output_type": "execute_result"
    }
   ],
   "source": [
    "import math\n",
    "from timeit import timeit\n",
    "from numba import jit\n",
    "\n",
    "\n",
    "def hypot(a, b):\n",
    "    return math.sqrt(a ** 2 + b ** 2)\n",
    "\n",
    "timeit('hypot(5,6)', globals=globals())"
   ],
   "metadata": {
    "collapsed": false,
    "ExecuteTime": {
     "end_time": "2024-03-12T05:56:35.891901Z",
     "start_time": "2024-03-12T05:56:34.883626Z"
    }
   },
   "id": "635c0d9edc9f1205",
   "execution_count": 22
  },
  {
   "cell_type": "code",
   "outputs": [
    {
     "data": {
      "text/plain": "0.655305374999898"
     },
     "execution_count": 23,
     "metadata": {},
     "output_type": "execute_result"
    }
   ],
   "source": [
    "timeit('hypot(5,6)', globals=globals())"
   ],
   "metadata": {
    "collapsed": false,
    "ExecuteTime": {
     "end_time": "2024-03-12T05:56:49.943455Z",
     "start_time": "2024-03-12T05:56:49.280193Z"
    }
   },
   "id": "8d73a29bd13c3675",
   "execution_count": 23
  },
  {
   "cell_type": "code",
   "outputs": [
    {
     "data": {
      "text/plain": "0.5657537499996579"
     },
     "execution_count": 24,
     "metadata": {},
     "output_type": "execute_result"
    }
   ],
   "source": [
    "@jit\n",
    "def hypot_jit(a, b):\n",
    "    return math.sqrt(a ** 2 + b ** 2)\n",
    "\n",
    "timeit('hypot_jit(5,6)', globals=globals())"
   ],
   "metadata": {
    "collapsed": false,
    "ExecuteTime": {
     "end_time": "2024-03-12T05:57:17.299050Z",
     "start_time": "2024-03-12T05:57:16.680423Z"
    }
   },
   "id": "7c0481612bb3dbf6",
   "execution_count": 24
  },
  {
   "cell_type": "code",
   "outputs": [
    {
     "data": {
      "text/plain": "0.09810408399971493"
     },
     "execution_count": 25,
     "metadata": {},
     "output_type": "execute_result"
    }
   ],
   "source": [
    "timeit('hypot_jit(5,6)', globals=globals())"
   ],
   "metadata": {
    "collapsed": false,
    "ExecuteTime": {
     "end_time": "2024-03-12T05:57:21.671696Z",
     "start_time": "2024-03-12T05:57:21.567728Z"
    }
   },
   "id": "ac6d2e0d849d9274",
   "execution_count": 25
  },
  {
   "cell_type": "code",
   "outputs": [
    {
     "data": {
      "text/plain": "0.2568431669997153"
     },
     "execution_count": 26,
     "metadata": {},
     "output_type": "execute_result"
    }
   ],
   "source": [
    "@jit(nopython=True)\n",
    "def hypot_jit_nopy(a, b):\n",
    "    return math.sqrt(a ** 2 + b ** 2)\n",
    "\n",
    "timeit('hypot_jit_nopy(5,6)', globals=globals())"
   ],
   "metadata": {
    "collapsed": false,
    "ExecuteTime": {
     "end_time": "2024-03-12T05:58:15.685062Z",
     "start_time": "2024-03-12T05:58:15.418445Z"
    }
   },
   "id": "c364409c9d2aacfc",
   "execution_count": 26
  },
  {
   "cell_type": "code",
   "outputs": [
    {
     "data": {
      "text/plain": "0.08788491699988299"
     },
     "execution_count": 27,
     "metadata": {},
     "output_type": "execute_result"
    }
   ],
   "source": [
    "timeit('hypot_jit_nopy(5,6)', globals=globals())"
   ],
   "metadata": {
    "collapsed": false,
    "ExecuteTime": {
     "end_time": "2024-03-12T05:58:20.875456Z",
     "start_time": "2024-03-12T05:58:20.784734Z"
    }
   },
   "id": "ff58ac35cac74730",
   "execution_count": 27
  },
  {
   "cell_type": "code",
   "outputs": [],
   "source": [],
   "metadata": {
    "collapsed": false
   },
   "id": "69fb50c1e7969222"
  }
 ],
 "metadata": {
  "kernelspec": {
   "display_name": "Python 3",
   "language": "python",
   "name": "python3"
  },
  "language_info": {
   "codemirror_mode": {
    "name": "ipython",
    "version": 2
   },
   "file_extension": ".py",
   "mimetype": "text/x-python",
   "name": "python",
   "nbconvert_exporter": "python",
   "pygments_lexer": "ipython2",
   "version": "2.7.6"
  }
 },
 "nbformat": 4,
 "nbformat_minor": 5
}
