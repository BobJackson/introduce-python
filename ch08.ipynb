{
 "cells": [
  {
   "cell_type": "code",
   "execution_count": 1,
   "id": "initial_id",
   "metadata": {
    "collapsed": true,
    "ExecuteTime": {
     "end_time": "2024-03-05T02:57:04.396865Z",
     "start_time": "2024-03-05T02:57:04.392473Z"
    }
   },
   "outputs": [],
   "source": [
    "empty_dict = {}"
   ]
  },
  {
   "cell_type": "code",
   "outputs": [
    {
     "data": {
      "text/plain": "{}"
     },
     "execution_count": 2,
     "metadata": {},
     "output_type": "execute_result"
    }
   ],
   "source": [
    "empty_dict"
   ],
   "metadata": {
    "collapsed": false,
    "ExecuteTime": {
     "end_time": "2024-03-05T02:57:06.842659Z",
     "start_time": "2024-03-05T02:57:06.838297Z"
    }
   },
   "id": "f14cfb8fb9672652",
   "execution_count": 2
  },
  {
   "cell_type": "code",
   "outputs": [
    {
     "data": {
      "text/plain": "{'day': 'A period of twenty-four hours, mostly misspent',\n 'positive': \"Mistaken at the top of one's voice\",\n 'misfortune': 'The kind of fortune that never misses'}"
     },
     "execution_count": 3,
     "metadata": {},
     "output_type": "execute_result"
    }
   ],
   "source": [
    "bierce ={\n",
    "    \"day\": \"A period of twenty-four hours, mostly misspent\",\n",
    "    \"positive\": \"Mistaken at the top of one's voice\",\n",
    "    \"misfortune\": \"The kind of fortune that never misses\"\n",
    "}\n",
    "bierce"
   ],
   "metadata": {
    "collapsed": false,
    "ExecuteTime": {
     "end_time": "2024-03-05T02:57:29.056678Z",
     "start_time": "2024-03-05T02:57:29.051498Z"
    }
   },
   "id": "4179a60bd959b01b",
   "execution_count": 3
  },
  {
   "cell_type": "code",
   "outputs": [
    {
     "data": {
      "text/plain": "{'first': 'Wile', 'middle': 'E', 'last': 'Coyote'}"
     },
     "execution_count": 4,
     "metadata": {},
     "output_type": "execute_result"
    }
   ],
   "source": [
    "acme_customer = {\n",
    "    \"first\": \"Wile\",\n",
    "    \"middle\": \"E\",\n",
    "    \"last\": \"Coyote\"\n",
    "}\n",
    "acme_customer"
   ],
   "metadata": {
    "collapsed": false,
    "ExecuteTime": {
     "end_time": "2024-03-05T02:58:21.897136Z",
     "start_time": "2024-03-05T02:58:21.892965Z"
    }
   },
   "id": "c384fc8c8df5248d",
   "execution_count": 4
  },
  {
   "cell_type": "code",
   "outputs": [
    {
     "data": {
      "text/plain": "{'first': 'Wile', 'middle': 'E', 'last': 'Coyote'}"
     },
     "execution_count": 5,
     "metadata": {},
     "output_type": "execute_result"
    }
   ],
   "source": [
    "acme_customer = dict(first=\"Wile\", middle=\"E\", last=\"Coyote\")\n",
    "acme_customer"
   ],
   "metadata": {
    "collapsed": false,
    "ExecuteTime": {
     "end_time": "2024-03-05T02:58:44.646237Z",
     "start_time": "2024-03-05T02:58:44.640530Z"
    }
   },
   "id": "b5738ee2f67e9e4",
   "execution_count": 5
  },
  {
   "cell_type": "code",
   "outputs": [
    {
     "data": {
      "text/plain": "{'a': 'b', 'c': 'd', 'e': 'f'}"
     },
     "execution_count": 6,
     "metadata": {},
     "output_type": "execute_result"
    }
   ],
   "source": [
    "lol=[['a','b'],['c','d'],['e','f']]\n",
    "dict(lol)"
   ],
   "metadata": {
    "collapsed": false,
    "ExecuteTime": {
     "end_time": "2024-03-05T03:01:34.836466Z",
     "start_time": "2024-03-05T03:01:34.829449Z"
    }
   },
   "id": "d8af021334b92ee5",
   "execution_count": 6
  },
  {
   "cell_type": "code",
   "outputs": [
    {
     "data": {
      "text/plain": "{'a': 'b', 'c': 'd', 'e': 'f'}"
     },
     "execution_count": 7,
     "metadata": {},
     "output_type": "execute_result"
    }
   ],
   "source": [
    "lot = [('a','b'), ('c','d'), ('e','f')]\n",
    "dict(lot)"
   ],
   "metadata": {
    "collapsed": false,
    "ExecuteTime": {
     "end_time": "2024-03-05T03:03:13.461313Z",
     "start_time": "2024-03-05T03:03:13.456136Z"
    }
   },
   "id": "eb66fc430bac9985",
   "execution_count": 7
  },
  {
   "cell_type": "code",
   "outputs": [
    {
     "data": {
      "text/plain": "{'a': 'b', 'c': 'd', 'e': 'f'}"
     },
     "execution_count": 8,
     "metadata": {},
     "output_type": "execute_result"
    }
   ],
   "source": [
    "tol = (['a','b'], ['c','d'], ['e','f'])\n",
    "dict(tol)"
   ],
   "metadata": {
    "collapsed": false,
    "ExecuteTime": {
     "end_time": "2024-03-05T03:04:18.848723Z",
     "start_time": "2024-03-05T03:04:18.841666Z"
    }
   },
   "id": "d0c2dd0903ae0fe8",
   "execution_count": 8
  },
  {
   "cell_type": "code",
   "outputs": [
    {
     "data": {
      "text/plain": "{'a': 'b', 'c': 'd', 'e': 'f'}"
     },
     "execution_count": 9,
     "metadata": {},
     "output_type": "execute_result"
    }
   ],
   "source": [
    "los = ['ab','cd','ef']\n",
    "dict(los)"
   ],
   "metadata": {
    "collapsed": false,
    "ExecuteTime": {
     "end_time": "2024-03-05T03:04:49.867454Z",
     "start_time": "2024-03-05T03:04:49.862053Z"
    }
   },
   "id": "1c60041a90720fef",
   "execution_count": 9
  },
  {
   "cell_type": "code",
   "outputs": [
    {
     "data": {
      "text/plain": "{'a': 'b', 'd': 'f', 'g': 'h'}"
     },
     "execution_count": 12,
     "metadata": {},
     "output_type": "execute_result"
    }
   ],
   "source": [
    "los = ['ab','df','gh']\n",
    "dict(los)"
   ],
   "metadata": {
    "collapsed": false,
    "ExecuteTime": {
     "end_time": "2024-03-05T03:05:35.170945Z",
     "start_time": "2024-03-05T03:05:35.166306Z"
    }
   },
   "id": "7cfb3b638db8b470",
   "execution_count": 12
  },
  {
   "cell_type": "code",
   "outputs": [
    {
     "data": {
      "text/plain": "{'a': 'b', 'c': 'd', 'e': 'f'}"
     },
     "execution_count": 13,
     "metadata": {},
     "output_type": "execute_result"
    }
   ],
   "source": [
    "tos = ('ab','cd','ef')\n",
    "dict(tos)"
   ],
   "metadata": {
    "collapsed": false,
    "ExecuteTime": {
     "end_time": "2024-03-05T03:06:31.024435Z",
     "start_time": "2024-03-05T03:06:31.016915Z"
    }
   },
   "id": "7b30b32293b298e8",
   "execution_count": 13
  },
  {
   "cell_type": "code",
   "outputs": [
    {
     "data": {
      "text/plain": "{'Chapman': 'Graham',\n 'Cleese': 'John',\n 'Idle': 'Eric',\n 'Jones': 'Terry',\n 'Palin': 'Michael'}"
     },
     "execution_count": 14,
     "metadata": {},
     "output_type": "execute_result"
    }
   ],
   "source": [
    "pythons = {\n",
    "    \"Chapman\": \"Graham\",\n",
    "    \"Cleese\": \"John\",\n",
    "    \"Idle\": \"Eric\",\n",
    "    \"Jones\": \"Terry\",\n",
    "    \"Palin\": \"Michael\"\n",
    "}\n",
    "pythons"
   ],
   "metadata": {
    "collapsed": false,
    "ExecuteTime": {
     "end_time": "2024-03-05T03:07:02.559933Z",
     "start_time": "2024-03-05T03:07:02.556376Z"
    }
   },
   "id": "a5a7d02dadbec878",
   "execution_count": 14
  },
  {
   "cell_type": "code",
   "outputs": [
    {
     "data": {
      "text/plain": "{'Chapman': 'Graham',\n 'Cleese': 'John',\n 'Idle': 'Eric',\n 'Jones': 'Terry',\n 'Palin': 'Michael',\n 'Gilliam': 'Gerry'}"
     },
     "execution_count": 15,
     "metadata": {},
     "output_type": "execute_result"
    }
   ],
   "source": [
    "pythons[\"Gilliam\"] = \"Gerry\"\n",
    "pythons"
   ],
   "metadata": {
    "collapsed": false,
    "ExecuteTime": {
     "end_time": "2024-03-05T03:08:35.512247Z",
     "start_time": "2024-03-05T03:08:35.507465Z"
    }
   },
   "id": "a4e71f87467c20a3",
   "execution_count": 15
  },
  {
   "cell_type": "code",
   "outputs": [
    {
     "data": {
      "text/plain": "{'Chapman': 'Graham',\n 'Cleese': 'John',\n 'Idle': 'Eric',\n 'Jones': 'Terry',\n 'Palin': 'Michael',\n 'Gilliam': 'Terry'}"
     },
     "execution_count": 16,
     "metadata": {},
     "output_type": "execute_result"
    }
   ],
   "source": [
    "pythons[\"Gilliam\"] = \"Terry\"\n",
    "pythons"
   ],
   "metadata": {
    "collapsed": false,
    "ExecuteTime": {
     "end_time": "2024-03-05T03:09:06.393066Z",
     "start_time": "2024-03-05T03:09:06.385817Z"
    }
   },
   "id": "4a73fb46eea40c34",
   "execution_count": 16
  },
  {
   "cell_type": "code",
   "outputs": [
    {
     "data": {
      "text/plain": "{'Graham': 'Chapman',\n 'John': 'Cleese',\n 'Eric': 'Idle',\n 'Terry': 'Jones',\n 'Michael': 'Palin'}"
     },
     "execution_count": 17,
     "metadata": {},
     "output_type": "execute_result"
    }
   ],
   "source": [
    "some_pythons = {\n",
    "    \"Graham\": \"Chapman\",\n",
    "    \"John\": \"Cleese\",\n",
    "    \"Eric\": \"Idle\",\n",
    "    \"Terry\": \"Gilliam\",\n",
    "    \"Michael\": \"Palin\",\n",
    "    'Terry': 'Jones'\n",
    "}\n",
    "some_pythons"
   ],
   "metadata": {
    "collapsed": false,
    "ExecuteTime": {
     "end_time": "2024-03-05T03:10:04.517034Z",
     "start_time": "2024-03-05T03:10:04.512803Z"
    }
   },
   "id": "cc9346da9306fd89",
   "execution_count": 17
  },
  {
   "cell_type": "code",
   "outputs": [
    {
     "data": {
      "text/plain": "'Idle'"
     },
     "execution_count": 18,
     "metadata": {},
     "output_type": "execute_result"
    }
   ],
   "source": [
    "some_pythons['Eric']"
   ],
   "metadata": {
    "collapsed": false,
    "ExecuteTime": {
     "end_time": "2024-03-05T03:10:23.105659Z",
     "start_time": "2024-03-05T03:10:23.101385Z"
    }
   },
   "id": "12ad2911e4fc1651",
   "execution_count": 18
  },
  {
   "cell_type": "code",
   "outputs": [
    {
     "ename": "KeyError",
     "evalue": "'Hello'",
     "output_type": "error",
     "traceback": [
      "\u001B[0;31m---------------------------------------------------------------------------\u001B[0m",
      "\u001B[0;31mKeyError\u001B[0m                                  Traceback (most recent call last)",
      "Cell \u001B[0;32mIn[19], line 1\u001B[0m\n\u001B[0;32m----> 1\u001B[0m \u001B[43msome_pythons\u001B[49m\u001B[43m[\u001B[49m\u001B[38;5;124;43m'\u001B[39;49m\u001B[38;5;124;43mHello\u001B[39;49m\u001B[38;5;124;43m'\u001B[39;49m\u001B[43m]\u001B[49m\n",
      "\u001B[0;31mKeyError\u001B[0m: 'Hello'"
     ]
    }
   ],
   "source": [
    "some_pythons['Hello']"
   ],
   "metadata": {
    "collapsed": false,
    "ExecuteTime": {
     "end_time": "2024-03-05T03:10:34.828355Z",
     "start_time": "2024-03-05T03:10:34.790040Z"
    }
   },
   "id": "42add5832c55f671",
   "execution_count": 19
  },
  {
   "cell_type": "code",
   "outputs": [
    {
     "data": {
      "text/plain": "False"
     },
     "execution_count": 20,
     "metadata": {},
     "output_type": "execute_result"
    }
   ],
   "source": [
    "'Groucho' in some_pythons"
   ],
   "metadata": {
    "collapsed": false,
    "ExecuteTime": {
     "end_time": "2024-03-05T03:10:48.340236Z",
     "start_time": "2024-03-05T03:10:48.336643Z"
    }
   },
   "id": "611ea493e735563e",
   "execution_count": 20
  },
  {
   "cell_type": "code",
   "outputs": [
    {
     "data": {
      "text/plain": "'Cleese'"
     },
     "execution_count": 21,
     "metadata": {},
     "output_type": "execute_result"
    }
   ],
   "source": [
    "some_pythons.get('John')"
   ],
   "metadata": {
    "collapsed": false,
    "ExecuteTime": {
     "end_time": "2024-03-05T03:11:14.470366Z",
     "start_time": "2024-03-05T03:11:14.466597Z"
    }
   },
   "id": "1581a22d7c338774",
   "execution_count": 21
  },
  {
   "cell_type": "code",
   "outputs": [
    {
     "data": {
      "text/plain": "'Not a Python'"
     },
     "execution_count": 22,
     "metadata": {},
     "output_type": "execute_result"
    }
   ],
   "source": [
    "some_pythons.get('Groucho','Not a Python')"
   ],
   "metadata": {
    "collapsed": false,
    "ExecuteTime": {
     "end_time": "2024-03-05T03:11:46.914901Z",
     "start_time": "2024-03-05T03:11:46.911439Z"
    }
   },
   "id": "3b0073e372547647",
   "execution_count": 22
  },
  {
   "cell_type": "code",
   "outputs": [
    {
     "data": {
      "text/plain": "NoneType"
     },
     "execution_count": 26,
     "metadata": {},
     "output_type": "execute_result"
    }
   ],
   "source": [
    "result = some_pythons.get('Groucho')\n",
    "result\n",
    "type(result)"
   ],
   "metadata": {
    "collapsed": false,
    "ExecuteTime": {
     "end_time": "2024-03-05T03:12:40.735974Z",
     "start_time": "2024-03-05T03:12:40.732765Z"
    }
   },
   "id": "76531784b1c6b0d0",
   "execution_count": 26
  },
  {
   "cell_type": "code",
   "outputs": [
    {
     "data": {
      "text/plain": "dict_keys(['green', 'yellow', 'red'])"
     },
     "execution_count": 27,
     "metadata": {},
     "output_type": "execute_result"
    }
   ],
   "source": [
    "signals = {'green': 'go', 'yellow': 'go faster', 'red': 'smile for the camera'}\n",
    "signals.keys()"
   ],
   "metadata": {
    "collapsed": false,
    "ExecuteTime": {
     "end_time": "2024-03-05T03:13:14.831476Z",
     "start_time": "2024-03-05T03:13:14.828383Z"
    }
   },
   "id": "e2bba5e59bf6599",
   "execution_count": 27
  },
  {
   "cell_type": "code",
   "outputs": [
    {
     "data": {
      "text/plain": "['green', 'yellow', 'red']"
     },
     "execution_count": 28,
     "metadata": {},
     "output_type": "execute_result"
    }
   ],
   "source": [
    "list(signals.keys())"
   ],
   "metadata": {
    "collapsed": false,
    "ExecuteTime": {
     "end_time": "2024-03-05T03:13:30.503419Z",
     "start_time": "2024-03-05T03:13:30.498224Z"
    }
   },
   "id": "b7b2186cadc9789b",
   "execution_count": 28
  },
  {
   "cell_type": "code",
   "outputs": [
    {
     "data": {
      "text/plain": "['go', 'go faster', 'smile for the camera']"
     },
     "execution_count": 29,
     "metadata": {},
     "output_type": "execute_result"
    }
   ],
   "source": [
    "list(signals.values())"
   ],
   "metadata": {
    "collapsed": false,
    "ExecuteTime": {
     "end_time": "2024-03-05T03:14:34.729213Z",
     "start_time": "2024-03-05T03:14:34.725501Z"
    }
   },
   "id": "a1f83aa65f03192d",
   "execution_count": 29
  },
  {
   "cell_type": "code",
   "outputs": [
    {
     "data": {
      "text/plain": "[('green', 'go'), ('yellow', 'go faster'), ('red', 'smile for the camera')]"
     },
     "execution_count": 30,
     "metadata": {},
     "output_type": "execute_result"
    }
   ],
   "source": [
    "list(signals.items())"
   ],
   "metadata": {
    "collapsed": false,
    "ExecuteTime": {
     "end_time": "2024-03-05T03:14:46.094510Z",
     "start_time": "2024-03-05T03:14:46.090348Z"
    }
   },
   "id": "dfd8b8ebdd42e90",
   "execution_count": 30
  },
  {
   "cell_type": "code",
   "outputs": [
    {
     "data": {
      "text/plain": "3"
     },
     "execution_count": 31,
     "metadata": {},
     "output_type": "execute_result"
    }
   ],
   "source": [
    "len(signals)"
   ],
   "metadata": {
    "collapsed": false,
    "ExecuteTime": {
     "end_time": "2024-03-05T03:15:03.104769Z",
     "start_time": "2024-03-05T03:15:03.101494Z"
    }
   },
   "id": "70d7b3f3bfb7feed",
   "execution_count": 31
  },
  {
   "cell_type": "code",
   "outputs": [
    {
     "data": {
      "text/plain": "{'a': 'agony', 'b': 'bagels', 'c': 'candy'}"
     },
     "execution_count": 32,
     "metadata": {},
     "output_type": "execute_result"
    }
   ],
   "source": [
    "first = {'a': 'agony', 'b': 'bliss'}\n",
    "second = {'b': 'bagels', 'c': 'candy'}\n",
    "{**first, **second}"
   ],
   "metadata": {
    "collapsed": false,
    "ExecuteTime": {
     "end_time": "2024-03-05T03:16:07.874471Z",
     "start_time": "2024-03-05T03:16:07.869892Z"
    }
   },
   "id": "69b59bb2c519f7d",
   "execution_count": 32
  },
  {
   "cell_type": "code",
   "outputs": [
    {
     "data": {
      "text/plain": "{'a': 'agony', 'b': 'bagels', 'd': 'donuts', 'c': 'candy'}"
     },
     "execution_count": 33,
     "metadata": {},
     "output_type": "execute_result"
    }
   ],
   "source": [
    "third = {'d': 'donuts'}\n",
    "{**first, **third, **second}"
   ],
   "metadata": {
    "collapsed": false,
    "ExecuteTime": {
     "end_time": "2024-03-05T03:17:00.952120Z",
     "start_time": "2024-03-05T03:17:00.948384Z"
    }
   },
   "id": "24a2badb689f7a52",
   "execution_count": 33
  },
  {
   "cell_type": "code",
   "outputs": [
    {
     "data": {
      "text/plain": "{'Chapman': 'Graham',\n 'Cleese': 'John',\n 'Gilliam': 'Terry',\n 'Idle': 'Eric',\n 'Jones': 'Terry',\n 'Palin': 'Michael'}"
     },
     "execution_count": 34,
     "metadata": {},
     "output_type": "execute_result"
    }
   ],
   "source": [
    "pythons = {\n",
    "    \"Chapman\": \"Graham\",\n",
    "    \"Cleese\": \"John\",\n",
    "    \"Gilliam\": \"Terry\",\n",
    "    \"Idle\": \"Eric\",\n",
    "    \"Jones\": \"Terry\",\n",
    "    \"Palin\": \"Michael\"\n",
    "}\n",
    "pythons"
   ],
   "metadata": {
    "collapsed": false,
    "ExecuteTime": {
     "end_time": "2024-03-05T03:18:28.639391Z",
     "start_time": "2024-03-05T03:18:28.633965Z"
    }
   },
   "id": "9735933dc9bf659e",
   "execution_count": 34
  },
  {
   "cell_type": "code",
   "outputs": [
    {
     "data": {
      "text/plain": "{'Chapman': 'Graham',\n 'Cleese': 'John',\n 'Gilliam': 'Terry',\n 'Idle': 'Eric',\n 'Jones': 'Terry',\n 'Palin': 'Michael',\n 'Marx': 'Groucho',\n 'Howard': 'Moe'}"
     },
     "execution_count": 35,
     "metadata": {},
     "output_type": "execute_result"
    }
   ],
   "source": [
    "others = {\n",
    "    \"Marx\": \"Groucho\",\n",
    "    \"Howard\": \"Moe\"\n",
    "}\n",
    "\n",
    "pythons.update(others)\n",
    "pythons"
   ],
   "metadata": {
    "collapsed": false,
    "ExecuteTime": {
     "end_time": "2024-03-05T03:19:04.912424Z",
     "start_time": "2024-03-05T03:19:04.907563Z"
    }
   },
   "id": "aa71e75e4d32becb",
   "execution_count": 35
  },
  {
   "cell_type": "code",
   "outputs": [
    {
     "data": {
      "text/plain": "{'a': 1, 'b': 'platypus'}"
     },
     "execution_count": 36,
     "metadata": {},
     "output_type": "execute_result"
    }
   ],
   "source": [
    "first = {'a': 1, 'b': 2}\n",
    "second = {'b': 'platypus'}\n",
    "first.update(second)\n",
    "first"
   ],
   "metadata": {
    "collapsed": false,
    "ExecuteTime": {
     "end_time": "2024-03-05T03:19:57.360223Z",
     "start_time": "2024-03-05T03:19:57.356438Z"
    }
   },
   "id": "a3a5a1cb47296c33",
   "execution_count": 36
  },
  {
   "cell_type": "code",
   "outputs": [
    {
     "data": {
      "text/plain": "{'Chapman': 'Graham',\n 'Cleese': 'John',\n 'Gilliam': 'Terry',\n 'Idle': 'Eric',\n 'Jones': 'Terry',\n 'Palin': 'Michael',\n 'Howard': 'Moe'}"
     },
     "execution_count": 37,
     "metadata": {},
     "output_type": "execute_result"
    }
   ],
   "source": [
    "del pythons['Marx']\n",
    "pythons"
   ],
   "metadata": {
    "collapsed": false,
    "ExecuteTime": {
     "end_time": "2024-03-05T03:20:26.353107Z",
     "start_time": "2024-03-05T03:20:26.349087Z"
    }
   },
   "id": "c5db7eb50a162aa9",
   "execution_count": 37
  },
  {
   "cell_type": "code",
   "outputs": [],
   "source": [
    "del pythons['Howard']"
   ],
   "metadata": {
    "collapsed": false,
    "ExecuteTime": {
     "end_time": "2024-03-05T03:21:00.361774Z",
     "start_time": "2024-03-05T03:21:00.358606Z"
    }
   },
   "id": "13e235ccab94869a",
   "execution_count": 38
  },
  {
   "cell_type": "code",
   "outputs": [
    {
     "data": {
      "text/plain": "{'Chapman': 'Graham',\n 'Cleese': 'John',\n 'Gilliam': 'Terry',\n 'Idle': 'Eric',\n 'Jones': 'Terry',\n 'Palin': 'Michael'}"
     },
     "execution_count": 39,
     "metadata": {},
     "output_type": "execute_result"
    }
   ],
   "source": [
    "pythons"
   ],
   "metadata": {
    "collapsed": false,
    "ExecuteTime": {
     "end_time": "2024-03-05T03:21:06.859711Z",
     "start_time": "2024-03-05T03:21:06.857057Z"
    }
   },
   "id": "11e84f5317d2f52b",
   "execution_count": 39
  },
  {
   "cell_type": "code",
   "outputs": [
    {
     "data": {
      "text/plain": "6"
     },
     "execution_count": 40,
     "metadata": {},
     "output_type": "execute_result"
    }
   ],
   "source": [
    "len(pythons)"
   ],
   "metadata": {
    "collapsed": false,
    "ExecuteTime": {
     "end_time": "2024-03-05T03:21:17.919446Z",
     "start_time": "2024-03-05T03:21:17.916697Z"
    }
   },
   "id": "844911c6f6e9953e",
   "execution_count": 40
  },
  {
   "cell_type": "code",
   "outputs": [
    {
     "data": {
      "text/plain": "'Michael'"
     },
     "execution_count": 41,
     "metadata": {},
     "output_type": "execute_result"
    }
   ],
   "source": [
    "pythons.pop('Palin')"
   ],
   "metadata": {
    "collapsed": false,
    "ExecuteTime": {
     "end_time": "2024-03-05T03:21:29.569732Z",
     "start_time": "2024-03-05T03:21:29.566708Z"
    }
   },
   "id": "1bbc7076b7b770c7",
   "execution_count": 41
  },
  {
   "cell_type": "code",
   "outputs": [
    {
     "data": {
      "text/plain": "5"
     },
     "execution_count": 42,
     "metadata": {},
     "output_type": "execute_result"
    }
   ],
   "source": [
    "len(pythons)"
   ],
   "metadata": {
    "collapsed": false,
    "ExecuteTime": {
     "end_time": "2024-03-05T03:21:36.960215Z",
     "start_time": "2024-03-05T03:21:36.956770Z"
    }
   },
   "id": "cffbfc5978fab029",
   "execution_count": 42
  },
  {
   "cell_type": "code",
   "outputs": [
    {
     "ename": "KeyError",
     "evalue": "'Palin'",
     "output_type": "error",
     "traceback": [
      "\u001B[0;31m---------------------------------------------------------------------------\u001B[0m",
      "\u001B[0;31mKeyError\u001B[0m                                  Traceback (most recent call last)",
      "Cell \u001B[0;32mIn[43], line 1\u001B[0m\n\u001B[0;32m----> 1\u001B[0m \u001B[43mpythons\u001B[49m\u001B[38;5;241;43m.\u001B[39;49m\u001B[43mpop\u001B[49m\u001B[43m(\u001B[49m\u001B[38;5;124;43m'\u001B[39;49m\u001B[38;5;124;43mPalin\u001B[39;49m\u001B[38;5;124;43m'\u001B[39;49m\u001B[43m)\u001B[49m\n",
      "\u001B[0;31mKeyError\u001B[0m: 'Palin'"
     ]
    }
   ],
   "source": [
    "pythons.pop('Palin')"
   ],
   "metadata": {
    "collapsed": false,
    "ExecuteTime": {
     "end_time": "2024-03-05T03:21:46.039923Z",
     "start_time": "2024-03-05T03:21:46.023200Z"
    }
   },
   "id": "72b9d21ac8ac5764",
   "execution_count": 43
  },
  {
   "cell_type": "code",
   "outputs": [
    {
     "data": {
      "text/plain": "'Hugo'"
     },
     "execution_count": 44,
     "metadata": {},
     "output_type": "execute_result"
    }
   ],
   "source": [
    "pythons.pop('First', 'Hugo')"
   ],
   "metadata": {
    "collapsed": false,
    "ExecuteTime": {
     "end_time": "2024-03-05T03:22:05.570613Z",
     "start_time": "2024-03-05T03:22:05.566645Z"
    }
   },
   "id": "5428eb9d5c226ad2",
   "execution_count": 44
  },
  {
   "cell_type": "code",
   "outputs": [
    {
     "data": {
      "text/plain": "5"
     },
     "execution_count": 45,
     "metadata": {},
     "output_type": "execute_result"
    }
   ],
   "source": [
    "len(pythons)"
   ],
   "metadata": {
    "collapsed": false,
    "ExecuteTime": {
     "end_time": "2024-03-05T03:22:17.967944Z",
     "start_time": "2024-03-05T03:22:17.962213Z"
    }
   },
   "id": "7b12e8aa97c7940e",
   "execution_count": 45
  },
  {
   "cell_type": "code",
   "outputs": [
    {
     "data": {
      "text/plain": "{}"
     },
     "execution_count": 46,
     "metadata": {},
     "output_type": "execute_result"
    }
   ],
   "source": [
    "pythons.clear()\n",
    "pythons"
   ],
   "metadata": {
    "collapsed": false,
    "ExecuteTime": {
     "end_time": "2024-03-05T03:22:34.285060Z",
     "start_time": "2024-03-05T03:22:34.281519Z"
    }
   },
   "id": "6177157300e56780",
   "execution_count": 46
  },
  {
   "cell_type": "code",
   "outputs": [
    {
     "data": {
      "text/plain": "{}"
     },
     "execution_count": 47,
     "metadata": {},
     "output_type": "execute_result"
    }
   ],
   "source": [
    "pythons = {}\n",
    "pythons"
   ],
   "metadata": {
    "collapsed": false,
    "ExecuteTime": {
     "end_time": "2024-03-05T03:22:45.302676Z",
     "start_time": "2024-03-05T03:22:45.300236Z"
    }
   },
   "id": "3b4af6007e1854a2",
   "execution_count": 47
  },
  {
   "cell_type": "code",
   "outputs": [
    {
     "data": {
      "text/plain": "True"
     },
     "execution_count": 48,
     "metadata": {},
     "output_type": "execute_result"
    }
   ],
   "source": [
    "pythons = {\n",
    "    \"Chapman\": \"Graham\",\n",
    "    \"Cleese\": \"John\",\n",
    "    \"Gilliam\": \"Terry\",\n",
    "    \"Idle\": \"Eric\",\n",
    "    \"Jones\": \"Terry\",\n",
    "    \"Palin\": \"Michael\"\n",
    "}\n",
    "\n",
    "'Gilliam' in pythons"
   ],
   "metadata": {
    "collapsed": false,
    "ExecuteTime": {
     "end_time": "2024-03-05T03:23:11.894Z",
     "start_time": "2024-03-05T03:23:11.890635Z"
    }
   },
   "id": "1a0d640f8c4d843d",
   "execution_count": 48
  },
  {
   "cell_type": "code",
   "outputs": [
    {
     "data": {
      "text/plain": "True"
     },
     "execution_count": 49,
     "metadata": {},
     "output_type": "execute_result"
    }
   ],
   "source": [
    "'Hello' not in pythons"
   ],
   "metadata": {
    "collapsed": false,
    "ExecuteTime": {
     "end_time": "2024-03-05T03:23:35.529775Z",
     "start_time": "2024-03-05T03:23:35.527069Z"
    }
   },
   "id": "ab3a807459b81d52",
   "execution_count": 49
  },
  {
   "cell_type": "code",
   "outputs": [
    {
     "data": {
      "text/plain": "{'green': 'go',\n 'yellow': 'go faster',\n 'red': 'smile for the camera',\n 'blue': 'confuse everyone'}"
     },
     "execution_count": 50,
     "metadata": {},
     "output_type": "execute_result"
    }
   ],
   "source": [
    "signals = {\n",
    "    'green': 'go',\n",
    "    'yellow': 'go faster',\n",
    "    'red': 'smile for the camera'\n",
    "}\n",
    "save_signals = signals\n",
    "signals['blue'] = 'confuse everyone'\n",
    "save_signals"
   ],
   "metadata": {
    "collapsed": false,
    "ExecuteTime": {
     "end_time": "2024-03-05T03:25:59.314147Z",
     "start_time": "2024-03-05T03:25:59.308764Z"
    }
   },
   "id": "5ee919bfcaef572c",
   "execution_count": 50
  },
  {
   "cell_type": "code",
   "outputs": [
    {
     "data": {
      "text/plain": "{'green': 'go', 'yellow': 'go faster', 'red': 'smile for the camera'}"
     },
     "execution_count": 51,
     "metadata": {},
     "output_type": "execute_result"
    }
   ],
   "source": [
    "signals ={\n",
    "    'green': 'go',\n",
    "    'yellow': 'go faster',\n",
    "    'red': 'smile for the camera'\n",
    "}\n",
    "original_signals = signals.copy()\n",
    "signals['blue'] = 'confuse everyone'\n",
    "original_signals"
   ],
   "metadata": {
    "collapsed": false,
    "ExecuteTime": {
     "end_time": "2024-03-05T03:26:37.693747Z",
     "start_time": "2024-03-05T03:26:37.689258Z"
    }
   },
   "id": "b01b9449a7dd8108",
   "execution_count": 51
  },
  {
   "cell_type": "code",
   "outputs": [
    {
     "data": {
      "text/plain": "{'green': 'go',\n 'yellow': 'go faster',\n 'red': 'smile for the camera',\n 'blue': 'confuse everyone'}"
     },
     "execution_count": 52,
     "metadata": {},
     "output_type": "execute_result"
    }
   ],
   "source": [
    "signals"
   ],
   "metadata": {
    "collapsed": false,
    "ExecuteTime": {
     "end_time": "2024-03-05T03:26:47.514212Z",
     "start_time": "2024-03-05T03:26:47.510878Z"
    }
   },
   "id": "af912c50a8d195b0",
   "execution_count": 52
  },
  {
   "cell_type": "code",
   "outputs": [
    {
     "data": {
      "text/plain": "{'green': 'go', 'yellow': 'go faster', 'red': ['stop', 'smile']}"
     },
     "execution_count": 53,
     "metadata": {},
     "output_type": "execute_result"
    }
   ],
   "source": [
    "signals = {\n",
    "    'green': 'go',\n",
    "    'yellow': 'go faster',\n",
    "    'red': ['stop', 'smile']\n",
    "}\n",
    "signals_copy = signals.copy()\n",
    "signals"
   ],
   "metadata": {
    "collapsed": false,
    "ExecuteTime": {
     "end_time": "2024-03-05T03:27:58.451151Z",
     "start_time": "2024-03-05T03:27:58.447400Z"
    }
   },
   "id": "705faca9c048dae8",
   "execution_count": 53
  },
  {
   "cell_type": "code",
   "outputs": [
    {
     "data": {
      "text/plain": "{'green': 'go', 'yellow': 'go faster', 'red': ['stop', 'smile']}"
     },
     "execution_count": 54,
     "metadata": {},
     "output_type": "execute_result"
    }
   ],
   "source": [
    "signals_copy"
   ],
   "metadata": {
    "collapsed": false,
    "ExecuteTime": {
     "end_time": "2024-03-05T03:28:14.518830Z",
     "start_time": "2024-03-05T03:28:14.515395Z"
    }
   },
   "id": "1838b44a7cfbf058",
   "execution_count": 54
  },
  {
   "cell_type": "code",
   "outputs": [
    {
     "data": {
      "text/plain": "{'green': 'go', 'yellow': 'go faster', 'red': ['stop', 'sweat']}"
     },
     "execution_count": 55,
     "metadata": {},
     "output_type": "execute_result"
    }
   ],
   "source": [
    "signals_copy['red'][1] = 'sweat'\n",
    "signals\n",
    "#"
   ],
   "metadata": {
    "collapsed": false,
    "ExecuteTime": {
     "end_time": "2024-03-05T03:28:46.333980Z",
     "start_time": "2024-03-05T03:28:46.328641Z"
    }
   },
   "id": "ecc3f4b774e21bfe",
   "execution_count": 55
  },
  {
   "cell_type": "code",
   "outputs": [
    {
     "data": {
      "text/plain": "{'green': 'go', 'yellow': 'go faster', 'red': ['stop', 'sweat']}"
     },
     "execution_count": 56,
     "metadata": {},
     "output_type": "execute_result"
    }
   ],
   "source": [
    "signals_copy"
   ],
   "metadata": {
    "collapsed": false,
    "ExecuteTime": {
     "end_time": "2024-03-05T03:28:56.293844Z",
     "start_time": "2024-03-05T03:28:56.290740Z"
    }
   },
   "id": "7b0118d6d485c95e",
   "execution_count": 56
  },
  {
   "cell_type": "code",
   "outputs": [
    {
     "data": {
      "text/plain": "{'green': 'go', 'yellow': 'go faster', 'red': ['stop', 'smile']}"
     },
     "execution_count": 67,
     "metadata": {},
     "output_type": "execute_result"
    }
   ],
   "source": [
    "import copy\n",
    "signals = {\n",
    "    'green': 'go',\n",
    "    'yellow': 'go faster',\n",
    "    'red': ['stop', 'smile']\n",
    "}\n",
    "signals_copy = copy.deepcopy(signals)\n",
    "signals"
   ],
   "metadata": {
    "collapsed": false,
    "ExecuteTime": {
     "end_time": "2024-03-05T03:31:18.766430Z",
     "start_time": "2024-03-05T03:31:18.762134Z"
    }
   },
   "id": "27a310934ae5de14",
   "execution_count": 67
  },
  {
   "cell_type": "code",
   "outputs": [
    {
     "data": {
      "text/plain": "{'green': 'go', 'yellow': 'go faster', 'red': ['stop', 'smile']}"
     },
     "execution_count": 68,
     "metadata": {},
     "output_type": "execute_result"
    }
   ],
   "source": [
    "signals_copy"
   ],
   "metadata": {
    "collapsed": false,
    "ExecuteTime": {
     "end_time": "2024-03-05T03:31:26.393144Z",
     "start_time": "2024-03-05T03:31:26.389560Z"
    }
   },
   "id": "290b33709e1b9f7e",
   "execution_count": 68
  },
  {
   "cell_type": "code",
   "outputs": [
    {
     "data": {
      "text/plain": "{'green': 'go', 'yellow': 'go faster', 'red': ['stop', 'sweat']}"
     },
     "execution_count": 70,
     "metadata": {},
     "output_type": "execute_result"
    }
   ],
   "source": [
    "signals['red'][1] = 'sweat'\n",
    "signals"
   ],
   "metadata": {
    "collapsed": false,
    "ExecuteTime": {
     "end_time": "2024-03-05T03:31:38.297087Z",
     "start_time": "2024-03-05T03:31:38.292762Z"
    }
   },
   "id": "6ae4da9d9dc4918b",
   "execution_count": 70
  },
  {
   "cell_type": "code",
   "outputs": [
    {
     "data": {
      "text/plain": "{'green': 'go', 'yellow': 'go faster', 'red': ['stop', 'smile']}"
     },
     "execution_count": 71,
     "metadata": {},
     "output_type": "execute_result"
    }
   ],
   "source": [
    "signals_copy"
   ],
   "metadata": {
    "collapsed": false,
    "ExecuteTime": {
     "end_time": "2024-03-05T03:31:45.466626Z",
     "start_time": "2024-03-05T03:31:45.462477Z"
    }
   },
   "id": "bb05ddab6d9e0eff",
   "execution_count": 71
  },
  {
   "cell_type": "code",
   "outputs": [
    {
     "data": {
      "text/plain": "True"
     },
     "execution_count": 72,
     "metadata": {},
     "output_type": "execute_result"
    }
   ],
   "source": [
    "a = {1:1,2:2,3:3}\n",
    "b = {3:3,2:2,1:1}\n",
    "a == b"
   ],
   "metadata": {
    "collapsed": false,
    "ExecuteTime": {
     "end_time": "2024-03-05T03:32:23.766579Z",
     "start_time": "2024-03-05T03:32:23.763159Z"
    }
   },
   "id": "36ce7344d4080f7a",
   "execution_count": 72
  },
  {
   "cell_type": "code",
   "outputs": [
    {
     "ename": "TypeError",
     "evalue": "'<=' not supported between instances of 'dict' and 'dict'",
     "output_type": "error",
     "traceback": [
      "\u001B[0;31m---------------------------------------------------------------------------\u001B[0m",
      "\u001B[0;31mTypeError\u001B[0m                                 Traceback (most recent call last)",
      "Cell \u001B[0;32mIn[73], line 3\u001B[0m\n\u001B[1;32m      1\u001B[0m a \u001B[38;5;241m=\u001B[39m {\u001B[38;5;241m1\u001B[39m:\u001B[38;5;241m1\u001B[39m, \u001B[38;5;241m2\u001B[39m:\u001B[38;5;241m2\u001B[39m, \u001B[38;5;241m3\u001B[39m:\u001B[38;5;241m3\u001B[39m}\n\u001B[1;32m      2\u001B[0m b \u001B[38;5;241m=\u001B[39m {\u001B[38;5;241m3\u001B[39m:\u001B[38;5;241m3\u001B[39m, \u001B[38;5;241m2\u001B[39m:\u001B[38;5;241m2\u001B[39m, \u001B[38;5;241m1\u001B[39m:\u001B[38;5;241m1\u001B[39m}\n\u001B[0;32m----> 3\u001B[0m \u001B[43ma\u001B[49m\u001B[43m \u001B[49m\u001B[38;5;241;43m<\u001B[39;49m\u001B[38;5;241;43m=\u001B[39;49m\u001B[43m \u001B[49m\u001B[43mb\u001B[49m\n",
      "\u001B[0;31mTypeError\u001B[0m: '<=' not supported between instances of 'dict' and 'dict'"
     ]
    }
   ],
   "source": [
    "a = {1:1, 2:2, 3:3}\n",
    "b = {3:3, 2:2, 1:1}\n",
    "a <= b"
   ],
   "metadata": {
    "collapsed": false,
    "ExecuteTime": {
     "end_time": "2024-03-05T03:33:00.513764Z",
     "start_time": "2024-03-05T03:33:00.498484Z"
    }
   },
   "id": "793ad140ae8422c5",
   "execution_count": 73
  },
  {
   "cell_type": "code",
   "outputs": [
    {
     "data": {
      "text/plain": "False"
     },
     "execution_count": 74,
     "metadata": {},
     "output_type": "execute_result"
    }
   ],
   "source": [
    "a = {1: [1,2], 2: [1], 3: [1]}\n",
    "b = {1: [1,1], 2: [1], 3: [1]}\n",
    "a == b"
   ],
   "metadata": {
    "collapsed": false,
    "ExecuteTime": {
     "end_time": "2024-03-05T03:33:59.062899Z",
     "start_time": "2024-03-05T03:33:59.057289Z"
    }
   },
   "id": "58b5ff94291c81d9",
   "execution_count": 74
  },
  {
   "cell_type": "code",
   "outputs": [
    {
     "name": "stdout",
     "output_type": "stream",
     "text": [
      "room\n",
      "weapon\n",
      "person\n"
     ]
    }
   ],
   "source": [
    "accusation = {'room': 'ballroom', 'weapon': 'lead pipe', 'person': 'Col. Mustard'}\n",
    "for card in accusation:\n",
    "    print(card)"
   ],
   "metadata": {
    "collapsed": false,
    "ExecuteTime": {
     "end_time": "2024-03-05T03:35:03.616719Z",
     "start_time": "2024-03-05T03:35:03.612209Z"
    }
   },
   "id": "2bbe999fbb08c25c",
   "execution_count": 75
  },
  {
   "cell_type": "code",
   "outputs": [
    {
     "name": "stdout",
     "output_type": "stream",
     "text": [
      "ballroom\n",
      "lead pipe\n",
      "Col. Mustard\n"
     ]
    }
   ],
   "source": [
    "for card in accusation.values():\n",
    "    print(card)"
   ],
   "metadata": {
    "collapsed": false,
    "ExecuteTime": {
     "end_time": "2024-03-05T03:35:28.973485Z",
     "start_time": "2024-03-05T03:35:28.970519Z"
    }
   },
   "id": "79930bd7d1dba721",
   "execution_count": 76
  },
  {
   "cell_type": "code",
   "outputs": [
    {
     "name": "stdout",
     "output_type": "stream",
     "text": [
      "('room', 'ballroom')\n",
      "('weapon', 'lead pipe')\n",
      "('person', 'Col. Mustard')\n"
     ]
    }
   ],
   "source": [
    "for card in accusation.items():\n",
    "    print(card)"
   ],
   "metadata": {
    "collapsed": false,
    "ExecuteTime": {
     "end_time": "2024-03-05T03:35:38.262028Z",
     "start_time": "2024-03-05T03:35:38.258520Z"
    }
   },
   "id": "69856662681b7efb",
   "execution_count": 77
  },
  {
   "cell_type": "code",
   "outputs": [
    {
     "name": "stdout",
     "output_type": "stream",
     "text": [
      "Card room has the contents ballroom.\n",
      "Card weapon has the contents lead pipe.\n",
      "Card person has the contents Col. Mustard.\n"
     ]
    }
   ],
   "source": [
    "for card, content in accusation.items():\n",
    "    print(f'Card {card} has the contents {content}.')"
   ],
   "metadata": {
    "collapsed": false,
    "ExecuteTime": {
     "end_time": "2024-03-05T03:37:15.154933Z",
     "start_time": "2024-03-05T03:37:15.152374Z"
    }
   },
   "id": "b488a1044bda50d4",
   "execution_count": 80
  },
  {
   "cell_type": "code",
   "outputs": [
    {
     "data": {
      "text/plain": "{'l': 1, 'e': 2, 't': 2, 'r': 1, 's': 1}"
     },
     "execution_count": 81,
     "metadata": {},
     "output_type": "execute_result"
    }
   ],
   "source": [
    "word = 'letters'\n",
    "letter_counts = {letter: word.count(letter) for letter in word}\n",
    "letter_counts"
   ],
   "metadata": {
    "collapsed": false,
    "ExecuteTime": {
     "end_time": "2024-03-05T03:38:31.374588Z",
     "start_time": "2024-03-05T03:38:31.369804Z"
    }
   },
   "id": "20cb315e703f2f49",
   "execution_count": 81
  },
  {
   "cell_type": "code",
   "outputs": [
    {
     "data": {
      "text/plain": "{'r': 1, 's': 1, 'e': 2, 'l': 1, 't': 2}"
     },
     "execution_count": 82,
     "metadata": {},
     "output_type": "execute_result"
    }
   ],
   "source": [
    "word = 'letters'\n",
    "letter_counts = {letter: word.count(letter) for letter in set(word)}\n",
    "letter_counts"
   ],
   "metadata": {
    "collapsed": false,
    "ExecuteTime": {
     "end_time": "2024-03-05T03:40:20.258956Z",
     "start_time": "2024-03-05T03:40:20.252506Z"
    }
   },
   "id": "73d10a46f82d27d6",
   "execution_count": 82
  },
  {
   "cell_type": "code",
   "outputs": [
    {
     "data": {
      "text/plain": "{'e': 1, 'i': 1, 'o': 4, 'a': 2}"
     },
     "execution_count": 83,
     "metadata": {},
     "output_type": "execute_result"
    }
   ],
   "source": [
    "vowels = 'aeiou'\n",
    "word = 'onomatopoeia'\n",
    "letter_counts = {letter: word.count(letter) for letter in set(word) if letter in vowels}\n",
    "letter_counts"
   ],
   "metadata": {
    "collapsed": false,
    "ExecuteTime": {
     "end_time": "2024-03-05T03:41:28.688743Z",
     "start_time": "2024-03-05T03:41:28.682503Z"
    }
   },
   "id": "b735d57974872732",
   "execution_count": 83
  },
  {
   "cell_type": "code",
   "outputs": [
    {
     "data": {
      "text/plain": "set()"
     },
     "execution_count": 84,
     "metadata": {},
     "output_type": "execute_result"
    }
   ],
   "source": [
    "empty_set = set()\n",
    "empty_set"
   ],
   "metadata": {
    "collapsed": false,
    "ExecuteTime": {
     "end_time": "2024-03-05T03:42:51.143818Z",
     "start_time": "2024-03-05T03:42:51.140727Z"
    }
   },
   "id": "b53e4944f9b3bbbc",
   "execution_count": 84
  },
  {
   "cell_type": "code",
   "outputs": [
    {
     "data": {
      "text/plain": "{0, 2, 4, 6, 8}"
     },
     "execution_count": 85,
     "metadata": {},
     "output_type": "execute_result"
    }
   ],
   "source": [
    "even_numbers = {0,2,4,6,8}\n",
    "even_numbers"
   ],
   "metadata": {
    "collapsed": false,
    "ExecuteTime": {
     "end_time": "2024-03-05T03:43:11.184385Z",
     "start_time": "2024-03-05T03:43:11.172696Z"
    }
   },
   "id": "2cfafbedf6f2c02b",
   "execution_count": 85
  },
  {
   "cell_type": "code",
   "outputs": [
    {
     "data": {
      "text/plain": "{1, 3, 5, 7, 9}"
     },
     "execution_count": 86,
     "metadata": {},
     "output_type": "execute_result"
    }
   ],
   "source": [
    "odd_numbers = {1,3,5,7,9}\n",
    "odd_numbers"
   ],
   "metadata": {
    "collapsed": false,
    "ExecuteTime": {
     "end_time": "2024-03-05T03:43:18.176858Z",
     "start_time": "2024-03-05T03:43:18.173621Z"
    }
   },
   "id": "daad20f4c32349ba",
   "execution_count": 86
  },
  {
   "cell_type": "code",
   "outputs": [
    {
     "data": {
      "text/plain": "()"
     },
     "execution_count": 87,
     "metadata": {},
     "output_type": "execute_result"
    }
   ],
   "source": [
    "empty_set = ()\n",
    "empty_set"
   ],
   "metadata": {
    "collapsed": false,
    "ExecuteTime": {
     "end_time": "2024-03-05T03:44:19.240884Z",
     "start_time": "2024-03-05T03:44:19.236481Z"
    }
   },
   "id": "aba463b7dbca7ca0",
   "execution_count": 87
  },
  {
   "cell_type": "code",
   "outputs": [
    {
     "data": {
      "text/plain": "{'e', 'l', 'r', 's', 't'}"
     },
     "execution_count": 88,
     "metadata": {},
     "output_type": "execute_result"
    }
   ],
   "source": [
    "set('letters')"
   ],
   "metadata": {
    "collapsed": false,
    "ExecuteTime": {
     "end_time": "2024-03-05T03:44:34.477076Z",
     "start_time": "2024-03-05T03:44:34.473472Z"
    }
   },
   "id": "6716886f8a3bd202",
   "execution_count": 88
  },
  {
   "cell_type": "code",
   "outputs": [
    {
     "data": {
      "text/plain": "set"
     },
     "execution_count": 91,
     "metadata": {},
     "output_type": "execute_result"
    }
   ],
   "source": [
    "result = {'Dasher', 'Dancer', 'Prancer', 'Mason-Dixon'}\n",
    "type(result)"
   ],
   "metadata": {
    "collapsed": false,
    "ExecuteTime": {
     "end_time": "2024-03-05T03:46:00.323784Z",
     "start_time": "2024-03-05T03:46:00.320965Z"
    }
   },
   "id": "c60574b4febc447f",
   "execution_count": 91
  },
  {
   "cell_type": "code",
   "outputs": [
    {
     "data": {
      "text/plain": "{'Atom Heart Mother', 'Echoes', 'Ummagumma'}"
     },
     "execution_count": 92,
     "metadata": {},
     "output_type": "execute_result"
    }
   ],
   "source": [
    "{'Ummagumma', 'Echoes', 'Atom Heart Mother'}"
   ],
   "metadata": {
    "collapsed": false,
    "ExecuteTime": {
     "end_time": "2024-03-05T03:47:05.896712Z",
     "start_time": "2024-03-05T03:47:05.890367Z"
    }
   },
   "id": "769517e5c95def92",
   "execution_count": 92
  },
  {
   "cell_type": "code",
   "outputs": [
    {
     "data": {
      "text/plain": "{'apple': 'red', 'orange': 'orange', 'cherry': 'red'}"
     },
     "execution_count": 94,
     "metadata": {},
     "output_type": "execute_result"
    }
   ],
   "source": [
    "{'apple': 'red', 'orange': 'orange', 'cherry': 'red'}"
   ],
   "metadata": {
    "collapsed": false,
    "ExecuteTime": {
     "end_time": "2024-03-05T03:48:22.948770Z",
     "start_time": "2024-03-05T03:48:22.943975Z"
    }
   },
   "id": "1b5b975677447656",
   "execution_count": 94
  },
  {
   "cell_type": "code",
   "outputs": [],
   "source": [
    "reindeer = {'Dasher', 'Dancer', 'Prancer', 'Mason-Dixon'}\n",
    "reindeer"
   ],
   "metadata": {
    "collapsed": false
   },
   "id": "c726cdbfe04ea557"
  },
  {
   "cell_type": "code",
   "outputs": [
    {
     "data": {
      "text/plain": "4"
     },
     "execution_count": 96,
     "metadata": {},
     "output_type": "execute_result"
    }
   ],
   "source": [
    "reindeer = {'Dasher', 'Dancer', 'Prancer', 'Mason-Dixon', 'Dancer'}\n",
    "len(reindeer)"
   ],
   "metadata": {
    "collapsed": false,
    "ExecuteTime": {
     "end_time": "2024-03-05T03:50:01.686720Z",
     "start_time": "2024-03-05T03:50:01.683296Z"
    }
   },
   "id": "8b9d9b6c6fafad77",
   "execution_count": 96
  },
  {
   "cell_type": "code",
   "outputs": [
    {
     "data": {
      "text/plain": "{1, 2, 3}"
     },
     "execution_count": 97,
     "metadata": {},
     "output_type": "execute_result"
    }
   ],
   "source": [
    "s = {1, 2, 3}\n",
    "s"
   ],
   "metadata": {
    "collapsed": false,
    "ExecuteTime": {
     "end_time": "2024-03-05T03:50:36.668240Z",
     "start_time": "2024-03-05T03:50:36.662920Z"
    }
   },
   "id": "c3001c2ec02bf851",
   "execution_count": 97
  },
  {
   "cell_type": "code",
   "outputs": [],
   "source": [
    "s.add(4)"
   ],
   "metadata": {
    "collapsed": false,
    "ExecuteTime": {
     "end_time": "2024-03-05T03:50:42.472364Z",
     "start_time": "2024-03-05T03:50:42.469893Z"
    }
   },
   "id": "c4b0c2bacd8a6e1",
   "execution_count": 98
  },
  {
   "cell_type": "code",
   "outputs": [
    {
     "data": {
      "text/plain": "{1, 2, 3, 4}"
     },
     "execution_count": 99,
     "metadata": {},
     "output_type": "execute_result"
    }
   ],
   "source": [
    "s"
   ],
   "metadata": {
    "collapsed": false,
    "ExecuteTime": {
     "end_time": "2024-03-05T03:50:44.714050Z",
     "start_time": "2024-03-05T03:50:44.711300Z"
    }
   },
   "id": "f33013330c2e2a3",
   "execution_count": 99
  },
  {
   "cell_type": "code",
   "outputs": [
    {
     "data": {
      "text/plain": "{1, 2}"
     },
     "execution_count": 100,
     "metadata": {},
     "output_type": "execute_result"
    }
   ],
   "source": [
    "s = {1,2,3}\n",
    "s.remove(3)\n",
    "s"
   ],
   "metadata": {
    "collapsed": false,
    "ExecuteTime": {
     "end_time": "2024-03-05T03:51:08.349805Z",
     "start_time": "2024-03-05T03:51:08.346010Z"
    }
   },
   "id": "1ef9fad9aece5feb",
   "execution_count": 100
  },
  {
   "cell_type": "code",
   "outputs": [
    {
     "name": "stdout",
     "output_type": "stream",
     "text": [
      "table\n",
      "sofa\n",
      "ottoman\n"
     ]
    }
   ],
   "source": [
    "furniture = {'sofa', 'ottoman', 'table'}\n",
    "for piece in furniture:\n",
    "    print(piece)"
   ],
   "metadata": {
    "collapsed": false,
    "ExecuteTime": {
     "end_time": "2024-03-05T03:51:46.182576Z",
     "start_time": "2024-03-05T03:51:46.179476Z"
    }
   },
   "id": "e7b224e288673890",
   "execution_count": 101
  },
  {
   "cell_type": "code",
   "outputs": [
    {
     "name": "stdout",
     "output_type": "stream",
     "text": [
      "black russian\n",
      "screwdriver\n"
     ]
    }
   ],
   "source": [
    "drinks = {\n",
    "    'martini': {'vodka', 'vermouth'},\n",
    "    'black russian': {'vodka', 'kahlua'},\n",
    "    'white russian': {'cream', 'kahlua', 'vodka'},\n",
    "    'manhattan': {'rye', 'vermouth', 'bitters'},\n",
    "    'screwdriver': {'orange juice', 'vodka'}\n",
    "}\n",
    "for name, content in drinks.items():\n",
    "    if 'vodka' in content and not ('vermouth' in content or 'cream' in content):\n",
    "        print(name)"
   ],
   "metadata": {
    "collapsed": false,
    "ExecuteTime": {
     "end_time": "2024-03-05T03:53:16.986474Z",
     "start_time": "2024-03-05T03:53:16.982075Z"
    }
   },
   "id": "4aae2e7b58d3ffb9",
   "execution_count": 102
  },
  {
   "cell_type": "code",
   "outputs": [
    {
     "name": "stdout",
     "output_type": "stream",
     "text": [
      "martini\n",
      "manhattan\n",
      "screwdriver\n"
     ]
    }
   ],
   "source": [
    "for name, contents in drinks.items():\n",
    "    if contents & {'vermouth', 'orange juice'}:\n",
    "        print(name)"
   ],
   "metadata": {
    "collapsed": false,
    "ExecuteTime": {
     "end_time": "2024-03-05T03:55:04.297524Z",
     "start_time": "2024-03-05T03:55:04.293739Z"
    }
   },
   "id": "829edb1b7a7a544c",
   "execution_count": 103
  },
  {
   "cell_type": "code",
   "outputs": [
    {
     "name": "stdout",
     "output_type": "stream",
     "text": [
      "black russian\n",
      "screwdriver\n"
     ]
    }
   ],
   "source": [
    "for name, contents in drinks.items():\n",
    "    if 'vodka' in contents and not contents & {'vermouth', 'cream'}:\n",
    "        print(name)"
   ],
   "metadata": {
    "collapsed": false,
    "ExecuteTime": {
     "end_time": "2024-03-05T03:56:45.922031Z",
     "start_time": "2024-03-05T03:56:45.917503Z"
    }
   },
   "id": "2ed6357e0089bec",
   "execution_count": 104
  },
  {
   "cell_type": "code",
   "outputs": [],
   "source": [
    "bruss=  drinks['black russian']\n",
    "wruss = drinks['white russian']"
   ],
   "metadata": {
    "collapsed": false,
    "ExecuteTime": {
     "end_time": "2024-03-05T03:58:00.427866Z",
     "start_time": "2024-03-05T03:58:00.424514Z"
    }
   },
   "id": "2f553f2250a8e7ea",
   "execution_count": 105
  },
  {
   "cell_type": "code",
   "outputs": [
    {
     "data": {
      "text/plain": "{2}"
     },
     "execution_count": 106,
     "metadata": {},
     "output_type": "execute_result"
    }
   ],
   "source": [
    "a = {1, 2}\n",
    "b = {2, 3}\n",
    "\n",
    "a & b"
   ],
   "metadata": {
    "collapsed": false,
    "ExecuteTime": {
     "end_time": "2024-03-05T03:58:17.708053Z",
     "start_time": "2024-03-05T03:58:17.704010Z"
    }
   },
   "id": "dc10930a9d9a534",
   "execution_count": 106
  },
  {
   "cell_type": "code",
   "outputs": [
    {
     "data": {
      "text/plain": "{2}"
     },
     "execution_count": 107,
     "metadata": {},
     "output_type": "execute_result"
    }
   ],
   "source": [
    "a.intersection(b)"
   ],
   "metadata": {
    "collapsed": false,
    "ExecuteTime": {
     "end_time": "2024-03-05T03:58:26.582107Z",
     "start_time": "2024-03-05T03:58:26.571948Z"
    }
   },
   "id": "c6a582fe3ca54fb9",
   "execution_count": 107
  },
  {
   "cell_type": "code",
   "outputs": [
    {
     "data": {
      "text/plain": "{'kahlua', 'vodka'}"
     },
     "execution_count": 108,
     "metadata": {},
     "output_type": "execute_result"
    }
   ],
   "source": [
    "bruss & wruss"
   ],
   "metadata": {
    "collapsed": false,
    "ExecuteTime": {
     "end_time": "2024-03-05T03:58:35.021379Z",
     "start_time": "2024-03-05T03:58:35.018421Z"
    }
   },
   "id": "5958c0d94612cc15",
   "execution_count": 108
  },
  {
   "cell_type": "code",
   "outputs": [
    {
     "data": {
      "text/plain": "{1, 2, 3}"
     },
     "execution_count": 109,
     "metadata": {},
     "output_type": "execute_result"
    }
   ],
   "source": [
    "a |b"
   ],
   "metadata": {
    "collapsed": false,
    "ExecuteTime": {
     "end_time": "2024-03-05T03:58:49.632042Z",
     "start_time": "2024-03-05T03:58:49.628867Z"
    }
   },
   "id": "1849b7055193c98",
   "execution_count": 109
  },
  {
   "cell_type": "code",
   "outputs": [
    {
     "data": {
      "text/plain": "{1, 2, 3}"
     },
     "execution_count": 110,
     "metadata": {},
     "output_type": "execute_result"
    }
   ],
   "source": [
    "a.union(b)"
   ],
   "metadata": {
    "collapsed": false,
    "ExecuteTime": {
     "end_time": "2024-03-05T03:58:55.199282Z",
     "start_time": "2024-03-05T03:58:55.194775Z"
    }
   },
   "id": "e7406224868489b9",
   "execution_count": 110
  },
  {
   "cell_type": "code",
   "outputs": [
    {
     "data": {
      "text/plain": "{'cream', 'kahlua', 'vodka'}"
     },
     "execution_count": 111,
     "metadata": {},
     "output_type": "execute_result"
    }
   ],
   "source": [
    "bruss | wruss"
   ],
   "metadata": {
    "collapsed": false,
    "ExecuteTime": {
     "end_time": "2024-03-05T03:59:03.174267Z",
     "start_time": "2024-03-05T03:59:03.171280Z"
    }
   },
   "id": "c40b28a4bf1f945f",
   "execution_count": 111
  },
  {
   "cell_type": "code",
   "outputs": [
    {
     "data": {
      "text/plain": "{1}"
     },
     "execution_count": 112,
     "metadata": {},
     "output_type": "execute_result"
    }
   ],
   "source": [
    "a - b"
   ],
   "metadata": {
    "collapsed": false,
    "ExecuteTime": {
     "end_time": "2024-03-05T03:59:10.693991Z",
     "start_time": "2024-03-05T03:59:10.689843Z"
    }
   },
   "id": "3600a1fa2d117176",
   "execution_count": 112
  },
  {
   "cell_type": "code",
   "outputs": [
    {
     "data": {
      "text/plain": "{1}"
     },
     "execution_count": 113,
     "metadata": {},
     "output_type": "execute_result"
    }
   ],
   "source": [
    "a.difference(b)"
   ],
   "metadata": {
    "collapsed": false,
    "ExecuteTime": {
     "end_time": "2024-03-05T03:59:17.679783Z",
     "start_time": "2024-03-05T03:59:17.676524Z"
    }
   },
   "id": "d8132e1c19575126",
   "execution_count": 113
  },
  {
   "cell_type": "code",
   "outputs": [
    {
     "data": {
      "text/plain": "set()"
     },
     "execution_count": 114,
     "metadata": {},
     "output_type": "execute_result"
    }
   ],
   "source": [
    "bruss - wruss"
   ],
   "metadata": {
    "collapsed": false,
    "ExecuteTime": {
     "end_time": "2024-03-05T03:59:23.356639Z",
     "start_time": "2024-03-05T03:59:23.353639Z"
    }
   },
   "id": "f6ee659c9bd68135",
   "execution_count": 114
  },
  {
   "cell_type": "code",
   "outputs": [
    {
     "data": {
      "text/plain": "{'cream'}"
     },
     "execution_count": 115,
     "metadata": {},
     "output_type": "execute_result"
    }
   ],
   "source": [
    "wruss - bruss"
   ],
   "metadata": {
    "collapsed": false,
    "ExecuteTime": {
     "end_time": "2024-03-05T03:59:32.826749Z",
     "start_time": "2024-03-05T03:59:32.824272Z"
    }
   },
   "id": "aa5f28d0d4e1a44a",
   "execution_count": 115
  },
  {
   "cell_type": "code",
   "outputs": [
    {
     "data": {
      "text/plain": "{1, 3}"
     },
     "execution_count": 116,
     "metadata": {},
     "output_type": "execute_result"
    }
   ],
   "source": [
    "a ^ b"
   ],
   "metadata": {
    "collapsed": false,
    "ExecuteTime": {
     "end_time": "2024-03-05T03:59:44.051346Z",
     "start_time": "2024-03-05T03:59:44.047099Z"
    }
   },
   "id": "43797bd25a3b3249",
   "execution_count": 116
  },
  {
   "cell_type": "code",
   "outputs": [
    {
     "data": {
      "text/plain": "{1, 3}"
     },
     "execution_count": 117,
     "metadata": {},
     "output_type": "execute_result"
    }
   ],
   "source": [
    "a.symmetric_difference(b)"
   ],
   "metadata": {
    "collapsed": false,
    "ExecuteTime": {
     "end_time": "2024-03-05T04:00:02.129780Z",
     "start_time": "2024-03-05T04:00:02.125335Z"
    }
   },
   "id": "14e91843693e344d",
   "execution_count": 117
  },
  {
   "cell_type": "code",
   "outputs": [
    {
     "data": {
      "text/plain": "{'cream'}"
     },
     "execution_count": 118,
     "metadata": {},
     "output_type": "execute_result"
    }
   ],
   "source": [
    "bruss ^ wruss"
   ],
   "metadata": {
    "collapsed": false,
    "ExecuteTime": {
     "end_time": "2024-03-05T04:00:07.204114Z",
     "start_time": "2024-03-05T04:00:07.201403Z"
    }
   },
   "id": "b1b3109166ef041a",
   "execution_count": 118
  },
  {
   "cell_type": "code",
   "outputs": [
    {
     "data": {
      "text/plain": "False"
     },
     "execution_count": 119,
     "metadata": {},
     "output_type": "execute_result"
    }
   ],
   "source": [
    "a <= b"
   ],
   "metadata": {
    "collapsed": false,
    "ExecuteTime": {
     "end_time": "2024-03-05T05:19:15.725478Z",
     "start_time": "2024-03-05T05:19:15.716732Z"
    }
   },
   "id": "bda61d16594437d8",
   "execution_count": 119
  },
  {
   "cell_type": "code",
   "outputs": [
    {
     "data": {
      "text/plain": "False"
     },
     "execution_count": 120,
     "metadata": {},
     "output_type": "execute_result"
    }
   ],
   "source": [
    "a.issubset(b)"
   ],
   "metadata": {
    "collapsed": false,
    "ExecuteTime": {
     "end_time": "2024-03-05T05:19:24.057343Z",
     "start_time": "2024-03-05T05:19:24.054408Z"
    }
   },
   "id": "463acbba1ffeb412",
   "execution_count": 120
  },
  {
   "cell_type": "code",
   "outputs": [
    {
     "data": {
      "text/plain": "True"
     },
     "execution_count": 121,
     "metadata": {},
     "output_type": "execute_result"
    }
   ],
   "source": [
    "bruss <= wruss"
   ],
   "metadata": {
    "collapsed": false,
    "ExecuteTime": {
     "end_time": "2024-03-05T05:19:42.734084Z",
     "start_time": "2024-03-05T05:19:42.730786Z"
    }
   },
   "id": "c4e0a7d0db5ca80d",
   "execution_count": 121
  },
  {
   "cell_type": "code",
   "outputs": [
    {
     "data": {
      "text/plain": "True"
     },
     "execution_count": 122,
     "metadata": {},
     "output_type": "execute_result"
    }
   ],
   "source": [
    "a <= a"
   ],
   "metadata": {
    "collapsed": false,
    "ExecuteTime": {
     "end_time": "2024-03-05T05:19:57.759483Z",
     "start_time": "2024-03-05T05:19:57.752636Z"
    }
   },
   "id": "c0d9607941a246a7",
   "execution_count": 122
  },
  {
   "cell_type": "code",
   "outputs": [
    {
     "data": {
      "text/plain": "True"
     },
     "execution_count": 123,
     "metadata": {},
     "output_type": "execute_result"
    }
   ],
   "source": [
    "s.issubset(a)"
   ],
   "metadata": {
    "collapsed": false,
    "ExecuteTime": {
     "end_time": "2024-03-05T05:20:09.542777Z",
     "start_time": "2024-03-05T05:20:09.539304Z"
    }
   },
   "id": "a8219e7b2e2afb48",
   "execution_count": 123
  },
  {
   "cell_type": "code",
   "outputs": [
    {
     "data": {
      "text/plain": "True"
     },
     "execution_count": 124,
     "metadata": {},
     "output_type": "execute_result"
    }
   ],
   "source": [
    "a.issuperset(a)"
   ],
   "metadata": {
    "collapsed": false,
    "ExecuteTime": {
     "end_time": "2024-03-05T05:20:15.895223Z",
     "start_time": "2024-03-05T05:20:15.892687Z"
    }
   },
   "id": "55d7583aecd573b2",
   "execution_count": 124
  },
  {
   "cell_type": "code",
   "outputs": [
    {
     "data": {
      "text/plain": "False"
     },
     "execution_count": 125,
     "metadata": {},
     "output_type": "execute_result"
    }
   ],
   "source": [
    "a < b"
   ],
   "metadata": {
    "collapsed": false,
    "ExecuteTime": {
     "end_time": "2024-03-05T05:20:25.639712Z",
     "start_time": "2024-03-05T05:20:25.636024Z"
    }
   },
   "id": "a503d7f4ab852c4e",
   "execution_count": 125
  },
  {
   "cell_type": "code",
   "outputs": [
    {
     "data": {
      "text/plain": "False"
     },
     "execution_count": 126,
     "metadata": {},
     "output_type": "execute_result"
    }
   ],
   "source": [
    "a < a"
   ],
   "metadata": {
    "collapsed": false,
    "ExecuteTime": {
     "end_time": "2024-03-05T05:20:28.386935Z",
     "start_time": "2024-03-05T05:20:28.384311Z"
    }
   },
   "id": "e37777873d0c0894",
   "execution_count": 126
  },
  {
   "cell_type": "code",
   "outputs": [
    {
     "data": {
      "text/plain": "False"
     },
     "execution_count": 127,
     "metadata": {},
     "output_type": "execute_result"
    }
   ],
   "source": [
    "a >= b"
   ],
   "metadata": {
    "collapsed": false,
    "ExecuteTime": {
     "end_time": "2024-03-05T05:20:36.555309Z",
     "start_time": "2024-03-05T05:20:36.552384Z"
    }
   },
   "id": "5034d35eec0225f",
   "execution_count": 127
  },
  {
   "cell_type": "code",
   "outputs": [
    {
     "data": {
      "text/plain": "False"
     },
     "execution_count": 128,
     "metadata": {},
     "output_type": "execute_result"
    }
   ],
   "source": [
    "a.issuperset(b)"
   ],
   "metadata": {
    "collapsed": false,
    "ExecuteTime": {
     "end_time": "2024-03-05T05:20:43.287960Z",
     "start_time": "2024-03-05T05:20:43.285279Z"
    }
   },
   "id": "52b770d0a7c112ae",
   "execution_count": 128
  },
  {
   "cell_type": "code",
   "outputs": [
    {
     "data": {
      "text/plain": "True"
     },
     "execution_count": 129,
     "metadata": {},
     "output_type": "execute_result"
    }
   ],
   "source": [
    "wruss >= bruss"
   ],
   "metadata": {
    "collapsed": false,
    "ExecuteTime": {
     "end_time": "2024-03-05T05:20:52.917749Z",
     "start_time": "2024-03-05T05:20:52.915124Z"
    }
   },
   "id": "754ea29bf5a67df4",
   "execution_count": 129
  },
  {
   "cell_type": "code",
   "outputs": [
    {
     "data": {
      "text/plain": "True"
     },
     "execution_count": 130,
     "metadata": {},
     "output_type": "execute_result"
    }
   ],
   "source": [
    "a >= a"
   ],
   "metadata": {
    "collapsed": false,
    "ExecuteTime": {
     "end_time": "2024-03-05T05:21:02.227976Z",
     "start_time": "2024-03-05T05:21:02.225413Z"
    }
   },
   "id": "8b11e21f999534c0",
   "execution_count": 130
  },
  {
   "cell_type": "code",
   "outputs": [
    {
     "data": {
      "text/plain": "False"
     },
     "execution_count": 131,
     "metadata": {},
     "output_type": "execute_result"
    }
   ],
   "source": [
    "a > b"
   ],
   "metadata": {
    "collapsed": false,
    "ExecuteTime": {
     "end_time": "2024-03-05T05:21:08.301157Z",
     "start_time": "2024-03-05T05:21:08.297784Z"
    }
   },
   "id": "1dc8aba4c81e054e",
   "execution_count": 131
  },
  {
   "cell_type": "code",
   "outputs": [
    {
     "data": {
      "text/plain": "True"
     },
     "execution_count": 132,
     "metadata": {},
     "output_type": "execute_result"
    }
   ],
   "source": [
    "wruss > bruss"
   ],
   "metadata": {
    "collapsed": false,
    "ExecuteTime": {
     "end_time": "2024-03-05T05:21:21.382040Z",
     "start_time": "2024-03-05T05:21:21.378026Z"
    }
   },
   "id": "31a622b2c352fed8",
   "execution_count": 132
  },
  {
   "cell_type": "code",
   "outputs": [
    {
     "data": {
      "text/plain": "False"
     },
     "execution_count": 133,
     "metadata": {},
     "output_type": "execute_result"
    }
   ],
   "source": [
    "a > a"
   ],
   "metadata": {
    "collapsed": false,
    "ExecuteTime": {
     "end_time": "2024-03-05T05:21:29.233353Z",
     "start_time": "2024-03-05T05:21:29.230196Z"
    }
   },
   "id": "88e045b97ea4649b",
   "execution_count": 133
  },
  {
   "cell_type": "code",
   "outputs": [
    {
     "data": {
      "text/plain": "{1, 4}"
     },
     "execution_count": 134,
     "metadata": {},
     "output_type": "execute_result"
    }
   ],
   "source": [
    "a_set = {number for number in range(1,6) if number % 3 == 1}\n",
    "a_set"
   ],
   "metadata": {
    "collapsed": false,
    "ExecuteTime": {
     "end_time": "2024-03-05T05:22:17.277187Z",
     "start_time": "2024-03-05T05:22:17.272112Z"
    }
   },
   "id": "69dcca44605a1681",
   "execution_count": 134
  },
  {
   "cell_type": "code",
   "outputs": [
    {
     "data": {
      "text/plain": "frozenset({1, 2, 3})"
     },
     "execution_count": 135,
     "metadata": {},
     "output_type": "execute_result"
    }
   ],
   "source": [
    "frozenset([3,2,1])"
   ],
   "metadata": {
    "collapsed": false,
    "ExecuteTime": {
     "end_time": "2024-03-05T05:22:34.325822Z",
     "start_time": "2024-03-05T05:22:34.323147Z"
    }
   },
   "id": "8d78012364577771",
   "execution_count": 135
  },
  {
   "cell_type": "code",
   "outputs": [
    {
     "data": {
      "text/plain": "frozenset({1, 2, 3})"
     },
     "execution_count": 137,
     "metadata": {},
     "output_type": "execute_result"
    }
   ],
   "source": [
    "frozenset({2, 1, 3})"
   ],
   "metadata": {
    "collapsed": false,
    "ExecuteTime": {
     "end_time": "2024-03-05T05:23:13.790035Z",
     "start_time": "2024-03-05T05:23:13.785974Z"
    }
   },
   "id": "d9a25d1b87f17f00",
   "execution_count": 137
  },
  {
   "cell_type": "code",
   "outputs": [
    {
     "data": {
      "text/plain": "frozenset({1, 2, 3})"
     },
     "execution_count": 138,
     "metadata": {},
     "output_type": "execute_result"
    }
   ],
   "source": [
    "frozenset({3,2,1})"
   ],
   "metadata": {
    "collapsed": false,
    "ExecuteTime": {
     "end_time": "2024-03-05T05:23:28.800122Z",
     "start_time": "2024-03-05T05:23:28.797272Z"
    }
   },
   "id": "d69207d1a4cf6fac",
   "execution_count": 138
  },
  {
   "cell_type": "code",
   "outputs": [
    {
     "data": {
      "text/plain": "frozenset({1, 2, 3})"
     },
     "execution_count": 139,
     "metadata": {},
     "output_type": "execute_result"
    }
   ],
   "source": [
    "frozenset((2,3,1))"
   ],
   "metadata": {
    "collapsed": false,
    "ExecuteTime": {
     "end_time": "2024-03-05T05:23:48.010002Z",
     "start_time": "2024-03-05T05:23:48.007055Z"
    }
   },
   "id": "35a5abd766332acd",
   "execution_count": 139
  },
  {
   "cell_type": "code",
   "outputs": [],
   "source": [
    "fs = frozenset([3,2,1])"
   ],
   "metadata": {
    "collapsed": false,
    "ExecuteTime": {
     "end_time": "2024-03-05T05:24:09.640185Z",
     "start_time": "2024-03-05T05:24:09.638155Z"
    }
   },
   "id": "fb6c16ecde022598",
   "execution_count": 140
  },
  {
   "cell_type": "code",
   "outputs": [
    {
     "data": {
      "text/plain": "frozenset({1, 2, 3})"
     },
     "execution_count": 141,
     "metadata": {},
     "output_type": "execute_result"
    }
   ],
   "source": [
    "fs"
   ],
   "metadata": {
    "collapsed": false,
    "ExecuteTime": {
     "end_time": "2024-03-05T05:24:13.169620Z",
     "start_time": "2024-03-05T05:24:13.166358Z"
    }
   },
   "id": "4339fca3b76128ed",
   "execution_count": 141
  },
  {
   "cell_type": "code",
   "outputs": [
    {
     "ename": "AttributeError",
     "evalue": "'frozenset' object has no attribute 'add'",
     "output_type": "error",
     "traceback": [
      "\u001B[0;31m---------------------------------------------------------------------------\u001B[0m",
      "\u001B[0;31mAttributeError\u001B[0m                            Traceback (most recent call last)",
      "Cell \u001B[0;32mIn[142], line 1\u001B[0m\n\u001B[0;32m----> 1\u001B[0m \u001B[43mfs\u001B[49m\u001B[38;5;241;43m.\u001B[39;49m\u001B[43madd\u001B[49m(\u001B[38;5;241m4\u001B[39m)\n",
      "\u001B[0;31mAttributeError\u001B[0m: 'frozenset' object has no attribute 'add'"
     ]
    }
   ],
   "source": [
    "fs.add(4)"
   ],
   "metadata": {
    "collapsed": false,
    "ExecuteTime": {
     "end_time": "2024-03-05T05:24:20.309184Z",
     "start_time": "2024-03-05T05:24:20.297100Z"
    }
   },
   "id": "cbe8ce2f39e96071",
   "execution_count": 142
  },
  {
   "cell_type": "code",
   "outputs": [
    {
     "data": {
      "text/plain": "'Harpo'"
     },
     "execution_count": 143,
     "metadata": {},
     "output_type": "execute_result"
    }
   ],
   "source": [
    "marx_list= ['Groucho', 'Chico', 'Harpo']\n",
    "marx_tuple=('Groucho', 'Chico', 'Harpo')\n",
    "marx_dict = {'Groucho':'banjo', 'Chico': 'piano', 'Harpo': 'harp'}\n",
    "marx_set= {'Groucho', 'Chico', 'Harpo'}\n",
    "marx_list[2]\n"
   ],
   "metadata": {
    "collapsed": false,
    "ExecuteTime": {
     "end_time": "2024-03-05T05:26:51.633024Z",
     "start_time": "2024-03-05T05:26:51.627970Z"
    }
   },
   "id": "3e34beaea737c2bb",
   "execution_count": 143
  },
  {
   "cell_type": "code",
   "outputs": [
    {
     "data": {
      "text/plain": "'harp'"
     },
     "execution_count": 144,
     "metadata": {},
     "output_type": "execute_result"
    }
   ],
   "source": [
    "marx_dict['Harpo']"
   ],
   "metadata": {
    "collapsed": false,
    "ExecuteTime": {
     "end_time": "2024-03-05T05:27:05.558043Z",
     "start_time": "2024-03-05T05:27:05.555533Z"
    }
   },
   "id": "146e8e4ec0c87ccb",
   "execution_count": 144
  },
  {
   "cell_type": "code",
   "outputs": [
    {
     "data": {
      "text/plain": "True"
     },
     "execution_count": 145,
     "metadata": {},
     "output_type": "execute_result"
    }
   ],
   "source": [
    "'Harpo' in marx_list"
   ],
   "metadata": {
    "collapsed": false,
    "ExecuteTime": {
     "end_time": "2024-03-05T05:27:28.230713Z",
     "start_time": "2024-03-05T05:27:28.227948Z"
    }
   },
   "id": "d67b9d25fe6aef1c",
   "execution_count": 145
  },
  {
   "cell_type": "code",
   "outputs": [
    {
     "data": {
      "text/plain": "True"
     },
     "execution_count": 146,
     "metadata": {},
     "output_type": "execute_result"
    }
   ],
   "source": [
    "'Harpo' in marx_tuple"
   ],
   "metadata": {
    "collapsed": false,
    "ExecuteTime": {
     "end_time": "2024-03-05T05:27:37.527056Z",
     "start_time": "2024-03-05T05:27:37.524219Z"
    }
   },
   "id": "a37ea37e4edbb81e",
   "execution_count": 146
  },
  {
   "cell_type": "code",
   "outputs": [
    {
     "data": {
      "text/plain": "True"
     },
     "execution_count": 147,
     "metadata": {},
     "output_type": "execute_result"
    }
   ],
   "source": [
    "'Harpo' in marx_dict"
   ],
   "metadata": {
    "collapsed": false,
    "ExecuteTime": {
     "end_time": "2024-03-05T05:27:44.998089Z",
     "start_time": "2024-03-05T05:27:44.994472Z"
    }
   },
   "id": "57e3d543153e90",
   "execution_count": 147
  },
  {
   "cell_type": "code",
   "outputs": [
    {
     "data": {
      "text/plain": "True"
     },
     "execution_count": 148,
     "metadata": {},
     "output_type": "execute_result"
    }
   ],
   "source": [
    "'Harpo' in marx_set"
   ],
   "metadata": {
    "collapsed": false,
    "ExecuteTime": {
     "end_time": "2024-03-05T05:27:46.448220Z",
     "start_time": "2024-03-05T05:27:46.445555Z"
    }
   },
   "id": "d70b9b03c94259d",
   "execution_count": 148
  },
  {
   "cell_type": "code",
   "outputs": [],
   "source": [
    "marxes = ['Groucho', 'Chico', 'Harpo']\n",
    "pythons = ['Chapman', 'Cleese', 'Gilliam', 'Jones', 'Palin']\n",
    "stooges = ['Moe', 'Curly', 'Larry']\n",
    "\n",
    "tuple_of_lists= marxes, pythons, stooges"
   ],
   "metadata": {
    "collapsed": false,
    "ExecuteTime": {
     "end_time": "2024-03-05T05:29:14.368692Z",
     "start_time": "2024-03-05T05:29:14.364570Z"
    }
   },
   "id": "31a20095340f34e5",
   "execution_count": 149
  },
  {
   "cell_type": "code",
   "outputs": [
    {
     "data": {
      "text/plain": "(['Groucho', 'Chico', 'Harpo'],\n ['Chapman', 'Cleese', 'Gilliam', 'Jones', 'Palin'],\n ['Moe', 'Curly', 'Larry'])"
     },
     "execution_count": 150,
     "metadata": {},
     "output_type": "execute_result"
    }
   ],
   "source": [
    "tuple_of_lists"
   ],
   "metadata": {
    "collapsed": false,
    "ExecuteTime": {
     "end_time": "2024-03-05T05:29:18.789866Z",
     "start_time": "2024-03-05T05:29:18.786310Z"
    }
   },
   "id": "eb8c9ccbb3112394",
   "execution_count": 150
  },
  {
   "cell_type": "code",
   "outputs": [
    {
     "data": {
      "text/plain": "[['Groucho', 'Chico', 'Harpo'],\n ['Chapman', 'Cleese', 'Gilliam', 'Jones', 'Palin'],\n ['Moe', 'Curly', 'Larry']]"
     },
     "execution_count": 151,
     "metadata": {},
     "output_type": "execute_result"
    }
   ],
   "source": [
    "list_of_lists= [marxes, pythons, stooges]\n",
    "list_of_lists"
   ],
   "metadata": {
    "collapsed": false,
    "ExecuteTime": {
     "end_time": "2024-03-05T05:31:54.182749Z",
     "start_time": "2024-03-05T05:31:54.178265Z"
    }
   },
   "id": "f26171355965f08",
   "execution_count": 151
  },
  {
   "cell_type": "code",
   "outputs": [
    {
     "data": {
      "text/plain": "{'Marxes': ['Groucho', 'Chico', 'Harpo'],\n 'Pythons': ['Chapman', 'Cleese', 'Gilliam', 'Jones', 'Palin'],\n 'Stooges': ['Moe', 'Curly', 'Larry']}"
     },
     "execution_count": 152,
     "metadata": {},
     "output_type": "execute_result"
    }
   ],
   "source": [
    "dict_of_lists = {'Marxes': marxes, 'Pythons': pythons, 'Stooges': stooges}\n",
    "dict_of_lists"
   ],
   "metadata": {
    "collapsed": false,
    "ExecuteTime": {
     "end_time": "2024-03-05T05:32:30.182763Z",
     "start_time": "2024-03-05T05:32:30.179169Z"
    }
   },
   "id": "1f0f8e3744e436d1",
   "execution_count": 152
  },
  {
   "cell_type": "code",
   "outputs": [],
   "source": [
    "houses = {(44.79,-93.14,285): 'My House',(38.89,-77.03, 13): 'The White House'}"
   ],
   "metadata": {
    "collapsed": false,
    "ExecuteTime": {
     "end_time": "2024-03-05T05:34:50.651006Z",
     "start_time": "2024-03-05T05:34:50.647320Z"
    }
   },
   "id": "e630db239d11af2",
   "execution_count": 153
  },
  {
   "cell_type": "code",
   "outputs": [
    {
     "data": {
      "text/plain": "{(44.79, -93.14, 285): 'My House', (38.89, -77.03, 13): 'The White House'}"
     },
     "execution_count": 154,
     "metadata": {},
     "output_type": "execute_result"
    }
   ],
   "source": [
    "houses"
   ],
   "metadata": {
    "collapsed": false,
    "ExecuteTime": {
     "end_time": "2024-03-05T05:34:55.269602Z",
     "start_time": "2024-03-05T05:34:55.263098Z"
    }
   },
   "id": "b08520baaae12162",
   "execution_count": 154
  },
  {
   "cell_type": "code",
   "outputs": [],
   "source": [],
   "metadata": {
    "collapsed": false
   },
   "id": "6795c1285ec76f2e"
  }
 ],
 "metadata": {
  "kernelspec": {
   "display_name": "Python 3",
   "language": "python",
   "name": "python3"
  },
  "language_info": {
   "codemirror_mode": {
    "name": "ipython",
    "version": 2
   },
   "file_extension": ".py",
   "mimetype": "text/x-python",
   "name": "python",
   "nbconvert_exporter": "python",
   "pygments_lexer": "ipython2",
   "version": "2.7.6"
  }
 },
 "nbformat": 4,
 "nbformat_minor": 5
}
