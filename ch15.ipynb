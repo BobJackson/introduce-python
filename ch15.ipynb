{
 "cells": [
  {
   "cell_type": "code",
   "execution_count": 1,
   "id": "initial_id",
   "metadata": {
    "collapsed": true,
    "ExecuteTime": {
     "end_time": "2024-03-06T07:14:01.606185Z",
     "start_time": "2024-03-06T07:14:01.600128Z"
    }
   },
   "outputs": [
    {
     "data": {
      "text/plain": "14184"
     },
     "execution_count": 1,
     "metadata": {},
     "output_type": "execute_result"
    }
   ],
   "source": [
    "import os\n",
    "\n",
    "os.getpid()"
   ]
  },
  {
   "cell_type": "code",
   "outputs": [
    {
     "data": {
      "text/plain": "'/Users/bob/PycharmProjects/introduce-python'"
     },
     "execution_count": 2,
     "metadata": {},
     "output_type": "execute_result"
    }
   ],
   "source": [
    "os.getcwd()"
   ],
   "metadata": {
    "collapsed": false,
    "ExecuteTime": {
     "end_time": "2024-03-06T07:14:11.036538Z",
     "start_time": "2024-03-06T07:14:11.033241Z"
    }
   },
   "id": "8144a61d1f2f641",
   "execution_count": 2
  },
  {
   "cell_type": "code",
   "outputs": [
    {
     "data": {
      "text/plain": "501"
     },
     "execution_count": 3,
     "metadata": {},
     "output_type": "execute_result"
    }
   ],
   "source": [
    "os.getuid()"
   ],
   "metadata": {
    "collapsed": false,
    "ExecuteTime": {
     "end_time": "2024-03-06T07:14:30.972796Z",
     "start_time": "2024-03-06T07:14:30.968566Z"
    }
   },
   "id": "368d4b9f18bca46f",
   "execution_count": 3
  },
  {
   "cell_type": "code",
   "outputs": [
    {
     "data": {
      "text/plain": "20"
     },
     "execution_count": 4,
     "metadata": {},
     "output_type": "execute_result"
    }
   ],
   "source": [
    "os.getgid()"
   ],
   "metadata": {
    "collapsed": false,
    "ExecuteTime": {
     "end_time": "2024-03-06T07:14:36.419655Z",
     "start_time": "2024-03-06T07:14:36.416053Z"
    }
   },
   "id": "b553699917785f33",
   "execution_count": 4
  },
  {
   "cell_type": "code",
   "outputs": [
    {
     "data": {
      "text/plain": "'Wed Mar  6 15:15:16 CST 2024'"
     },
     "execution_count": 5,
     "metadata": {},
     "output_type": "execute_result"
    }
   ],
   "source": [
    "import subprocess\n",
    "\n",
    "ret = subprocess.getoutput('date')\n",
    "ret"
   ],
   "metadata": {
    "collapsed": false,
    "ExecuteTime": {
     "end_time": "2024-03-06T07:15:16.076808Z",
     "start_time": "2024-03-06T07:15:16.051806Z"
    }
   },
   "id": "1d21222a8b7024f5",
   "execution_count": 5
  },
  {
   "cell_type": "code",
   "outputs": [
    {
     "data": {
      "text/plain": "'Wed Mar  6 07:15:44 UTC 2024'"
     },
     "execution_count": 6,
     "metadata": {},
     "output_type": "execute_result"
    }
   ],
   "source": [
    "ret = subprocess.getoutput('date -u')\n",
    "ret"
   ],
   "metadata": {
    "collapsed": false,
    "ExecuteTime": {
     "end_time": "2024-03-06T07:15:44.365906Z",
     "start_time": "2024-03-06T07:15:44.354967Z"
    }
   },
   "id": "62cb1583ef528318",
   "execution_count": 6
  },
  {
   "cell_type": "code",
   "outputs": [
    {
     "data": {
      "text/plain": "'       1       6      29'"
     },
     "execution_count": 7,
     "metadata": {},
     "output_type": "execute_result"
    }
   ],
   "source": [
    "ret = subprocess.getoutput('date -u | wc')\n",
    "ret"
   ],
   "metadata": {
    "collapsed": false,
    "ExecuteTime": {
     "end_time": "2024-03-06T07:16:36.799231Z",
     "start_time": "2024-03-06T07:16:36.784887Z"
    }
   },
   "id": "4088df41dda24258",
   "execution_count": 7
  },
  {
   "cell_type": "code",
   "outputs": [
    {
     "data": {
      "text/plain": "b'Wed Mar  6 07:17:21 UTC 2024\\n'"
     },
     "execution_count": 8,
     "metadata": {},
     "output_type": "execute_result"
    }
   ],
   "source": [
    "ret = subprocess.check_output(['date', '-u'])\n",
    "ret"
   ],
   "metadata": {
    "collapsed": false,
    "ExecuteTime": {
     "end_time": "2024-03-06T07:17:21.353198Z",
     "start_time": "2024-03-06T07:17:21.341882Z"
    }
   },
   "id": "61ff7b470bf686d5",
   "execution_count": 8
  },
  {
   "cell_type": "code",
   "outputs": [
    {
     "data": {
      "text/plain": "(0, 'Wed Mar  6 15:18:00 CST 2024')"
     },
     "execution_count": 9,
     "metadata": {},
     "output_type": "execute_result"
    }
   ],
   "source": [
    "ret = subprocess.getstatusoutput('date')\n",
    "ret"
   ],
   "metadata": {
    "collapsed": false,
    "ExecuteTime": {
     "end_time": "2024-03-06T07:18:00.737199Z",
     "start_time": "2024-03-06T07:18:00.720395Z"
    }
   },
   "id": "c22107c0300f13aa",
   "execution_count": 9
  },
  {
   "cell_type": "code",
   "outputs": [
    {
     "name": "stdout",
     "output_type": "stream",
     "text": [
      "Wed Mar  6 15:18:22 CST 2024\n"
     ]
    }
   ],
   "source": [
    "ret = subprocess.call('date')"
   ],
   "metadata": {
    "collapsed": false,
    "ExecuteTime": {
     "end_time": "2024-03-06T07:18:22.784658Z",
     "start_time": "2024-03-06T07:18:22.773588Z"
    }
   },
   "id": "73b58564d764da0d",
   "execution_count": 10
  },
  {
   "cell_type": "code",
   "outputs": [
    {
     "data": {
      "text/plain": "0"
     },
     "execution_count": 11,
     "metadata": {},
     "output_type": "execute_result"
    }
   ],
   "source": [
    "ret"
   ],
   "metadata": {
    "collapsed": false,
    "ExecuteTime": {
     "end_time": "2024-03-06T07:18:27.541440Z",
     "start_time": "2024-03-06T07:18:27.538496Z"
    }
   },
   "id": "bc3e3ce848166875",
   "execution_count": 11
  },
  {
   "cell_type": "code",
   "outputs": [
    {
     "name": "stdout",
     "output_type": "stream",
     "text": [
      "Wed Mar  6 07:20:19 UTC 2024\n"
     ]
    }
   ],
   "source": [
    "ret = subprocess.call('date -u', shell=True)"
   ],
   "metadata": {
    "collapsed": false,
    "ExecuteTime": {
     "end_time": "2024-03-06T07:20:19.387714Z",
     "start_time": "2024-03-06T07:20:19.372256Z"
    }
   },
   "id": "ad3d8c657d0a4c5e",
   "execution_count": 12
  },
  {
   "cell_type": "code",
   "outputs": [
    {
     "name": "stdout",
     "output_type": "stream",
     "text": [
      "Wed Mar  6 07:21:00 UTC 2024\n"
     ]
    }
   ],
   "source": [
    "ret = subprocess.call(['date', '-u'])"
   ],
   "metadata": {
    "collapsed": false,
    "ExecuteTime": {
     "end_time": "2024-03-06T07:21:00.833497Z",
     "start_time": "2024-03-06T07:21:00.818936Z"
    }
   },
   "id": "80911dac84c72118",
   "execution_count": 13
  },
  {
   "cell_type": "code",
   "outputs": [
    {
     "data": {
      "text/plain": "posix.uname_result(sysname='Darwin', nodename='anti-mediocrity.local', release='22.1.0', version='Darwin Kernel Version 22.1.0: Sun Oct  9 20:15:09 PDT 2022; root:xnu-8792.41.9~2/RELEASE_ARM64_T6000', machine='arm64')"
     },
     "execution_count": 14,
     "metadata": {},
     "output_type": "execute_result"
    }
   ],
   "source": [
    "import os\n",
    "\n",
    "os.uname()"
   ],
   "metadata": {
    "collapsed": false,
    "ExecuteTime": {
     "end_time": "2024-03-06T07:29:50.843544Z",
     "start_time": "2024-03-06T07:29:50.834323Z"
    }
   },
   "id": "d678dde93df98580",
   "execution_count": 14
  },
  {
   "cell_type": "code",
   "outputs": [
    {
     "data": {
      "text/plain": "(2.68310546875, 3.759765625, 3.80029296875)"
     },
     "execution_count": 15,
     "metadata": {},
     "output_type": "execute_result"
    }
   ],
   "source": [
    "os.getloadavg()"
   ],
   "metadata": {
    "collapsed": false,
    "ExecuteTime": {
     "end_time": "2024-03-06T07:30:22.945225Z",
     "start_time": "2024-03-06T07:30:22.938419Z"
    }
   },
   "id": "2fd4ee72ae196d9f",
   "execution_count": 15
  },
  {
   "cell_type": "code",
   "outputs": [
    {
     "data": {
      "text/plain": "8"
     },
     "execution_count": 16,
     "metadata": {},
     "output_type": "execute_result"
    }
   ],
   "source": [
    "os.cpu_count()"
   ],
   "metadata": {
    "collapsed": false,
    "ExecuteTime": {
     "end_time": "2024-03-06T07:30:37.924315Z",
     "start_time": "2024-03-06T07:30:37.918485Z"
    }
   },
   "id": "e23bfd525f3e96cc",
   "execution_count": 16
  },
  {
   "cell_type": "code",
   "outputs": [
    {
     "name": "stdout",
     "output_type": "stream",
     "text": [
      "Wed Mar  6 07:31:00 UTC 2024\n"
     ]
    },
    {
     "data": {
      "text/plain": "0"
     },
     "execution_count": 17,
     "metadata": {},
     "output_type": "execute_result"
    }
   ],
   "source": [
    "os.system('date -u')"
   ],
   "metadata": {
    "collapsed": false,
    "ExecuteTime": {
     "end_time": "2024-03-06T07:31:00.106521Z",
     "start_time": "2024-03-06T07:31:00.086769Z"
    }
   },
   "id": "34cb93eb15af4ffd",
   "execution_count": 17
  },
  {
   "cell_type": "code",
   "outputs": [
    {
     "data": {
      "text/plain": "[scputimes(user=21494.84, nice=0.0, system=17067.61, idle=73158.25),\n scputimes(user=21594.97, nice=0.0, system=16543.29, idle=73600.52),\n scputimes(user=8482.35, nice=0.0, system=2490.35, idle=101510.05),\n scputimes(user=6341.43, nice=0.0, system=1794.14, idle=104418.61),\n scputimes(user=3577.09, nice=0.0, system=867.75, idle=108225.63),\n scputimes(user=3410.1, nice=0.0, system=652.51, idle=108630.53),\n scputimes(user=2183.9, nice=0.0, system=335.36, idle=110201.53),\n scputimes(user=1717.79, nice=0.0, system=237.93, idle=110780.71)]"
     },
     "execution_count": 18,
     "metadata": {},
     "output_type": "execute_result"
    }
   ],
   "source": [
    "import psutil\n",
    "\n",
    "psutil.cpu_times(True)"
   ],
   "metadata": {
    "collapsed": false,
    "ExecuteTime": {
     "end_time": "2024-03-06T07:32:15.860201Z",
     "start_time": "2024-03-06T07:32:15.856176Z"
    }
   },
   "id": "202daf3bfb6224e3",
   "execution_count": 18
  },
  {
   "cell_type": "code",
   "outputs": [
    {
     "data": {
      "text/plain": "33.1"
     },
     "execution_count": 19,
     "metadata": {},
     "output_type": "execute_result"
    }
   ],
   "source": [
    "psutil.cpu_percent(True)"
   ],
   "metadata": {
    "collapsed": false,
    "ExecuteTime": {
     "end_time": "2024-03-06T07:32:43.292473Z",
     "start_time": "2024-03-06T07:32:42.278804Z"
    }
   },
   "id": "6d7a09fc0cc12e5f",
   "execution_count": 19
  },
  {
   "cell_type": "code",
   "outputs": [
    {
     "data": {
      "text/plain": "[44.0, 43.5, 12.7, 9.5, 6.4, 6.4, 4.1, 3.3]"
     },
     "execution_count": 20,
     "metadata": {},
     "output_type": "execute_result"
    }
   ],
   "source": [
    "psutil.cpu_percent(percpu=True)"
   ],
   "metadata": {
    "collapsed": false,
    "ExecuteTime": {
     "end_time": "2024-03-06T07:32:59.739507Z",
     "start_time": "2024-03-06T07:32:59.736691Z"
    }
   },
   "id": "3c77a7bebe203c55",
   "execution_count": 20
  },
  {
   "cell_type": "code",
   "outputs": [
    {
     "data": {
      "text/plain": "8"
     },
     "execution_count": 21,
     "metadata": {},
     "output_type": "execute_result"
    }
   ],
   "source": [
    "psutil.cpu_count()"
   ],
   "metadata": {
    "collapsed": false,
    "ExecuteTime": {
     "end_time": "2024-03-06T07:33:18.894738Z",
     "start_time": "2024-03-06T07:33:18.890384Z"
    }
   },
   "id": "c565a175249d7e57",
   "execution_count": 21
  },
  {
   "cell_type": "code",
   "outputs": [
    {
     "name": "stdout",
     "output_type": "stream",
     "text": [
      "66.6.44.4\n",
      "None\n",
      "180.101.50.188\n"
     ]
    }
   ],
   "source": [
    "import gevent\n",
    "\n",
    "from gevent import monkey;\n",
    "\n",
    "monkey.patch_all()\n",
    "import socket\n",
    "\n",
    "hosts = ['www.crappytaxidermy.com', 'www.walterpottertaxidermy.com/', 'www.baidu.com']\n",
    "jobs = [gevent.spawn(socket.gethostbyname, host) for host in hosts]\n",
    "gevent.joinall(jobs, timeout=5)\n",
    "for job in jobs:\n",
    "    print(job.value)"
   ],
   "metadata": {
    "collapsed": false,
    "ExecuteTime": {
     "end_time": "2024-03-06T08:37:08.978649Z",
     "start_time": "2024-03-06T08:37:08.960962Z"
    }
   },
   "id": "483571a903d2adb5",
   "execution_count": 36
  },
  {
   "cell_type": "code",
   "outputs": [
    {
     "data": {
      "text/plain": "bytes"
     },
     "execution_count": 1,
     "metadata": {},
     "output_type": "execute_result"
    }
   ],
   "source": [
    "tmp = \"Knock knock\".encode('utf-8')\n",
    "type(tmp)"
   ],
   "metadata": {
    "collapsed": false,
    "ExecuteTime": {
     "end_time": "2024-03-06T09:12:59.837688Z",
     "start_time": "2024-03-06T09:12:59.831036Z"
    }
   },
   "id": "6fad1ed8cc3fb44f",
   "execution_count": 1
  },
  {
   "cell_type": "code",
   "outputs": [],
   "source": [],
   "metadata": {
    "collapsed": false
   },
   "id": "552fa5b465ca5e1"
  }
 ],
 "metadata": {
  "kernelspec": {
   "display_name": "Python 3",
   "language": "python",
   "name": "python3"
  },
  "language_info": {
   "codemirror_mode": {
    "name": "ipython",
    "version": 2
   },
   "file_extension": ".py",
   "mimetype": "text/x-python",
   "name": "python",
   "nbconvert_exporter": "python",
   "pygments_lexer": "ipython2",
   "version": "2.7.6"
  }
 },
 "nbformat": 4,
 "nbformat_minor": 5
}
