{
 "cells": [
  {
   "cell_type": "code",
   "execution_count": 81,
   "id": "initial_id",
   "metadata": {
    "collapsed": true,
    "ExecuteTime": {
     "end_time": "2024-03-06T06:35:16.233816Z",
     "start_time": "2024-03-06T06:35:16.228541Z"
    }
   },
   "outputs": [],
   "source": [
    "fout = open('oops.txt','wt')\n",
    "fout.close()"
   ]
  },
  {
   "cell_type": "code",
   "outputs": [],
   "source": [
    "fout = open('oops.txt','wt')\n",
    "print('Oops, I created a file.', file=fout)\n",
    "fout.close()"
   ],
   "metadata": {
    "collapsed": false,
    "ExecuteTime": {
     "end_time": "2024-03-06T06:34:20.753150Z",
     "start_time": "2024-03-06T06:34:20.749927Z"
    }
   },
   "id": "467103081486a77d",
   "execution_count": 79
  },
  {
   "cell_type": "code",
   "outputs": [
    {
     "data": {
      "text/plain": "150"
     },
     "execution_count": 3,
     "metadata": {},
     "output_type": "execute_result"
    }
   ],
   "source": [
    "poem = '''There was a young lady named Bright,\n",
    "Whose speed was far faster than light;\n",
    "She started one day\n",
    "In a relative way,\n",
    "And returned on the previous night.'''\n",
    "len(poem)"
   ],
   "metadata": {
    "collapsed": false,
    "ExecuteTime": {
     "end_time": "2024-03-06T05:33:12.836225Z",
     "start_time": "2024-03-06T05:33:12.820701Z"
    }
   },
   "id": "a75ce849610486e",
   "execution_count": 3
  },
  {
   "cell_type": "code",
   "outputs": [],
   "source": [
    "fout = open('relativity','wt')\n",
    "fout.write(poem)\n",
    "fout.close()"
   ],
   "metadata": {
    "collapsed": false,
    "ExecuteTime": {
     "end_time": "2024-03-06T05:33:54.023997Z",
     "start_time": "2024-03-06T05:33:54.011263Z"
    }
   },
   "id": "2e7df6f368d1d994",
   "execution_count": 4
  },
  {
   "cell_type": "code",
   "outputs": [],
   "source": [
    "fout = open('relativity', 'wt')\n",
    "size = len(poem)\n",
    "offset = 0\n",
    "chunk = 100\n",
    "while True:\n",
    "    if offset > size:\n",
    "        break\n",
    "    fout.write(poem[offset:offset+chunk])\n",
    "    offset += chunk\n",
    "fout.close()"
   ],
   "metadata": {
    "collapsed": false,
    "ExecuteTime": {
     "end_time": "2024-03-06T05:36:46.147315Z",
     "start_time": "2024-03-06T05:36:46.142451Z"
    }
   },
   "id": "6e1e246cab2ccb0f",
   "execution_count": 6
  },
  {
   "cell_type": "code",
   "outputs": [
    {
     "ename": "FileExistsError",
     "evalue": "[Errno 17] File exists: 'relativity'",
     "output_type": "error",
     "traceback": [
      "\u001B[0;31m---------------------------------------------------------------------------\u001B[0m",
      "\u001B[0;31mFileExistsError\u001B[0m                           Traceback (most recent call last)",
      "Cell \u001B[0;32mIn[7], line 1\u001B[0m\n\u001B[0;32m----> 1\u001B[0m fout \u001B[38;5;241m=\u001B[39m \u001B[38;5;28;43mopen\u001B[39;49m\u001B[43m(\u001B[49m\u001B[38;5;124;43m'\u001B[39;49m\u001B[38;5;124;43mrelativity\u001B[39;49m\u001B[38;5;124;43m'\u001B[39;49m\u001B[43m,\u001B[49m\u001B[43m \u001B[49m\u001B[38;5;124;43m'\u001B[39;49m\u001B[38;5;124;43mxt\u001B[39;49m\u001B[38;5;124;43m'\u001B[39;49m\u001B[43m)\u001B[49m\n",
      "File \u001B[0;32m~/PycharmProjects/introduce-python/.venv/lib/python3.9/site-packages/IPython/core/interactiveshell.py:310\u001B[0m, in \u001B[0;36m_modified_open\u001B[0;34m(file, *args, **kwargs)\u001B[0m\n\u001B[1;32m    303\u001B[0m \u001B[38;5;28;01mif\u001B[39;00m file \u001B[38;5;129;01min\u001B[39;00m {\u001B[38;5;241m0\u001B[39m, \u001B[38;5;241m1\u001B[39m, \u001B[38;5;241m2\u001B[39m}:\n\u001B[1;32m    304\u001B[0m     \u001B[38;5;28;01mraise\u001B[39;00m \u001B[38;5;167;01mValueError\u001B[39;00m(\n\u001B[1;32m    305\u001B[0m         \u001B[38;5;124mf\u001B[39m\u001B[38;5;124m\"\u001B[39m\u001B[38;5;124mIPython won\u001B[39m\u001B[38;5;124m'\u001B[39m\u001B[38;5;124mt let you open fd=\u001B[39m\u001B[38;5;132;01m{\u001B[39;00mfile\u001B[38;5;132;01m}\u001B[39;00m\u001B[38;5;124m by default \u001B[39m\u001B[38;5;124m\"\u001B[39m\n\u001B[1;32m    306\u001B[0m         \u001B[38;5;124m\"\u001B[39m\u001B[38;5;124mas it is likely to crash IPython. If you know what you are doing, \u001B[39m\u001B[38;5;124m\"\u001B[39m\n\u001B[1;32m    307\u001B[0m         \u001B[38;5;124m\"\u001B[39m\u001B[38;5;124myou can use builtins\u001B[39m\u001B[38;5;124m'\u001B[39m\u001B[38;5;124m open.\u001B[39m\u001B[38;5;124m\"\u001B[39m\n\u001B[1;32m    308\u001B[0m     )\n\u001B[0;32m--> 310\u001B[0m \u001B[38;5;28;01mreturn\u001B[39;00m \u001B[43mio_open\u001B[49m\u001B[43m(\u001B[49m\u001B[43mfile\u001B[49m\u001B[43m,\u001B[49m\u001B[43m \u001B[49m\u001B[38;5;241;43m*\u001B[39;49m\u001B[43margs\u001B[49m\u001B[43m,\u001B[49m\u001B[43m \u001B[49m\u001B[38;5;241;43m*\u001B[39;49m\u001B[38;5;241;43m*\u001B[39;49m\u001B[43mkwargs\u001B[49m\u001B[43m)\u001B[49m\n",
      "\u001B[0;31mFileExistsError\u001B[0m: [Errno 17] File exists: 'relativity'"
     ]
    }
   ],
   "source": [
    "fout = open('relativity', 'xt')"
   ],
   "metadata": {
    "collapsed": false,
    "ExecuteTime": {
     "end_time": "2024-03-06T05:37:30.746063Z",
     "start_time": "2024-03-06T05:37:30.501050Z"
    }
   },
   "id": "e613abc09b6068ae",
   "execution_count": 7
  },
  {
   "cell_type": "code",
   "outputs": [
    {
     "name": "stdout",
     "output_type": "stream",
     "text": [
      "relativity already exists!. That was a close one.\n"
     ]
    }
   ],
   "source": [
    "try:\n",
    "    fout = open('relativity', 'xt')\n",
    "    fout.write('stomp stomp stomp')\n",
    "except FileExistsError:\n",
    "    print('relativity already exists!. That was a close one.')\n",
    "finally:\n",
    "    fout.close()    "
   ],
   "metadata": {
    "collapsed": false,
    "ExecuteTime": {
     "end_time": "2024-03-06T05:39:14.707972Z",
     "start_time": "2024-03-06T05:39:14.702791Z"
    }
   },
   "id": "6a1effadd5a5bfb0",
   "execution_count": 10
  },
  {
   "cell_type": "code",
   "outputs": [],
   "source": [
    "fout.close()"
   ],
   "metadata": {
    "collapsed": false,
    "ExecuteTime": {
     "end_time": "2024-03-06T05:39:16.063660Z",
     "start_time": "2024-03-06T05:39:16.059407Z"
    }
   },
   "id": "d156d1ed18d71d4b",
   "execution_count": 11
  },
  {
   "cell_type": "code",
   "outputs": [
    {
     "data": {
      "text/plain": "150"
     },
     "execution_count": 12,
     "metadata": {},
     "output_type": "execute_result"
    }
   ],
   "source": [
    "fin = open('relativity', 'rt')\n",
    "poem = fin.read()\n",
    "fin.close()\n",
    "len(poem)"
   ],
   "metadata": {
    "collapsed": false,
    "ExecuteTime": {
     "end_time": "2024-03-06T05:40:39.979429Z",
     "start_time": "2024-03-06T05:40:39.970940Z"
    }
   },
   "id": "f71ebff21f97eb19",
   "execution_count": 12
  },
  {
   "cell_type": "code",
   "outputs": [
    {
     "data": {
      "text/plain": "150"
     },
     "execution_count": 15,
     "metadata": {},
     "output_type": "execute_result"
    }
   ],
   "source": [
    "poem = ''\n",
    "fin = open('relativity', 'rt')\n",
    "chunk = 100\n",
    "while True:\n",
    "    fragment = fin.read(chunk)\n",
    "    if not fragment:\n",
    "        break\n",
    "    poem += fragment\n",
    "fin.close()\n",
    "len(poem)"
   ],
   "metadata": {
    "collapsed": false,
    "ExecuteTime": {
     "end_time": "2024-03-06T05:42:26.912678Z",
     "start_time": "2024-03-06T05:42:26.906483Z"
    }
   },
   "id": "bcd59d5d947f5f11",
   "execution_count": 15
  },
  {
   "cell_type": "code",
   "outputs": [
    {
     "data": {
      "text/plain": "150"
     },
     "execution_count": 16,
     "metadata": {},
     "output_type": "execute_result"
    }
   ],
   "source": [
    "poem = ''\n",
    "fin = open('relativity', 'rt')\n",
    "while True:\n",
    "    line = fin.readline()\n",
    "    if not line:\n",
    "        break\n",
    "    poem += line\n",
    "fin.close()\n",
    "len(poem)"
   ],
   "metadata": {
    "collapsed": false,
    "ExecuteTime": {
     "end_time": "2024-03-06T05:43:16.798671Z",
     "start_time": "2024-03-06T05:43:16.789626Z"
    }
   },
   "id": "37f155b0f10c5c0d",
   "execution_count": 16
  },
  {
   "cell_type": "code",
   "outputs": [
    {
     "data": {
      "text/plain": "150"
     },
     "execution_count": 17,
     "metadata": {},
     "output_type": "execute_result"
    }
   ],
   "source": [
    "poem = ''\n",
    "fin = open('relativity', 'rt')\n",
    "for line in fin:\n",
    "    poem += line\n",
    "fin.close()\n",
    "len(poem)"
   ],
   "metadata": {
    "collapsed": false,
    "ExecuteTime": {
     "end_time": "2024-03-06T05:43:55.637289Z",
     "start_time": "2024-03-06T05:43:55.629126Z"
    }
   },
   "id": "12c0df195bc8e6a",
   "execution_count": 17
  },
  {
   "cell_type": "code",
   "outputs": [
    {
     "name": "stdout",
     "output_type": "stream",
     "text": [
      "5 lines read\n"
     ]
    }
   ],
   "source": [
    "fin = open('relativity', 'rt')\n",
    "lines = fin.readlines()\n",
    "fin.close()\n",
    "print(len(lines), 'lines read')"
   ],
   "metadata": {
    "collapsed": false,
    "ExecuteTime": {
     "end_time": "2024-03-06T05:44:49.188277Z",
     "start_time": "2024-03-06T05:44:49.183072Z"
    }
   },
   "id": "1e42a285be4e32e9",
   "execution_count": 18
  },
  {
   "cell_type": "code",
   "outputs": [
    {
     "name": "stdout",
     "output_type": "stream",
     "text": [
      "There was a young lady named Bright,\n",
      "Whose speed was far faster than light;\n",
      "She started one day\n",
      "In a relative way,\n",
      "And returned on the previous night."
     ]
    }
   ],
   "source": [
    "for line in lines:\n",
    "    print(line, end='')"
   ],
   "metadata": {
    "collapsed": false,
    "ExecuteTime": {
     "end_time": "2024-03-06T05:45:29.073807Z",
     "start_time": "2024-03-06T05:45:29.067696Z"
    }
   },
   "id": "72fd47469954c8dd",
   "execution_count": 21
  },
  {
   "cell_type": "code",
   "outputs": [
    {
     "data": {
      "text/plain": "256"
     },
     "execution_count": 22,
     "metadata": {},
     "output_type": "execute_result"
    }
   ],
   "source": [
    "bdata = bytes(range(0,256))\n",
    "len(bdata)"
   ],
   "metadata": {
    "collapsed": false,
    "ExecuteTime": {
     "end_time": "2024-03-06T05:46:10.524352Z",
     "start_time": "2024-03-06T05:46:10.513528Z"
    }
   },
   "id": "b21315f5af6ffb90",
   "execution_count": 22
  },
  {
   "cell_type": "code",
   "outputs": [],
   "source": [
    "fout = open('bfile', 'wb')\n",
    "fout.write(bdata)\n",
    "fout.close()"
   ],
   "metadata": {
    "collapsed": false,
    "ExecuteTime": {
     "end_time": "2024-03-06T05:46:41.019562Z",
     "start_time": "2024-03-06T05:46:41.012278Z"
    }
   },
   "id": "35ddf6bf942b855b",
   "execution_count": 23
  },
  {
   "cell_type": "code",
   "outputs": [],
   "source": [
    "fout = open('bfile', 'wb')\n",
    "size = len(bdata)\n",
    "offset = 0\n",
    "chunk = 100\n",
    "while True:\n",
    "    if offset > size:\n",
    "        break\n",
    "    fout.write(bdata[offset:offset+chunk])\n",
    "    offset += chunk\n",
    "fout.close()"
   ],
   "metadata": {
    "collapsed": false,
    "ExecuteTime": {
     "end_time": "2024-03-06T05:51:21.833227Z",
     "start_time": "2024-03-06T05:51:21.827426Z"
    }
   },
   "id": "e7258b33e59e9822",
   "execution_count": 24
  },
  {
   "cell_type": "code",
   "outputs": [
    {
     "name": "stdout",
     "output_type": "stream",
     "text": [
      "256\n"
     ]
    }
   ],
   "source": [
    "fin = open('bfile', 'rb')\n",
    "bdata = fin.read()\n",
    "print(len(bdata))\n",
    "fin.close()"
   ],
   "metadata": {
    "collapsed": false,
    "ExecuteTime": {
     "end_time": "2024-03-06T05:52:22.544785Z",
     "start_time": "2024-03-06T05:52:22.540015Z"
    }
   },
   "id": "cd33459182ade348",
   "execution_count": 26
  },
  {
   "cell_type": "code",
   "outputs": [],
   "source": [
    "poem ='''There was a young lady named Bright,\n",
    "Whose speed was far faster than light,\n",
    "She started one day\n",
    "In a relative way,\n",
    "And returned on the previous night.'''\n",
    "with open('relativity','wt') as fout:\n",
    "    fout.write(poem)"
   ],
   "metadata": {
    "collapsed": false,
    "ExecuteTime": {
     "end_time": "2024-03-06T05:59:47.405514Z",
     "start_time": "2024-03-06T05:59:47.402337Z"
    }
   },
   "id": "4bc10b2e0c9ccbba",
   "execution_count": 28
  },
  {
   "cell_type": "code",
   "outputs": [
    {
     "name": "stdout",
     "output_type": "stream",
     "text": [
      "0\n"
     ]
    }
   ],
   "source": [
    "with open('bfile','rb') as fin:\n",
    "    print(fin.tell())"
   ],
   "metadata": {
    "collapsed": false,
    "ExecuteTime": {
     "end_time": "2024-03-06T06:01:31.183824Z",
     "start_time": "2024-03-06T06:01:31.180689Z"
    }
   },
   "id": "fdfd95266b8f86f4",
   "execution_count": 30
  },
  {
   "cell_type": "code",
   "outputs": [
    {
     "name": "stdout",
     "output_type": "stream",
     "text": [
      "255\n"
     ]
    }
   ],
   "source": [
    "with open('bfile','rb') as fin:\n",
    "    print(fin.seek(255))"
   ],
   "metadata": {
    "collapsed": false,
    "ExecuteTime": {
     "end_time": "2024-03-06T06:01:32.484240Z",
     "start_time": "2024-03-06T06:01:32.479919Z"
    }
   },
   "id": "f12cd68cf024aac6",
   "execution_count": 31
  },
  {
   "cell_type": "code",
   "outputs": [
    {
     "name": "stdout",
     "output_type": "stream",
     "text": [
      "256\n",
      "0\n"
     ]
    }
   ],
   "source": [
    "with open('bfile','rb') as fin:\n",
    "    bdata = fin.read()\n",
    "    print(len(bdata))\n",
    "    print(bdata[0])"
   ],
   "metadata": {
    "collapsed": false,
    "ExecuteTime": {
     "end_time": "2024-03-06T06:02:46.719795Z",
     "start_time": "2024-03-06T06:02:46.715169Z"
    }
   },
   "id": "f383aec88a5ad65c",
   "execution_count": 33
  },
  {
   "cell_type": "code",
   "outputs": [
    {
     "data": {
      "text/plain": "0"
     },
     "execution_count": 34,
     "metadata": {},
     "output_type": "execute_result"
    }
   ],
   "source": [
    "import os\n",
    "os.SEEK_SET"
   ],
   "metadata": {
    "collapsed": false,
    "ExecuteTime": {
     "end_time": "2024-03-06T06:03:25.307820Z",
     "start_time": "2024-03-06T06:03:25.303852Z"
    }
   },
   "id": "48f7e221a459060a",
   "execution_count": 34
  },
  {
   "cell_type": "code",
   "outputs": [
    {
     "data": {
      "text/plain": "1"
     },
     "execution_count": 35,
     "metadata": {},
     "output_type": "execute_result"
    }
   ],
   "source": [
    "os.SEEK_CUR"
   ],
   "metadata": {
    "collapsed": false,
    "ExecuteTime": {
     "end_time": "2024-03-06T06:03:33.008881Z",
     "start_time": "2024-03-06T06:03:33.004695Z"
    }
   },
   "id": "6a161b3e28b7d451",
   "execution_count": 35
  },
  {
   "cell_type": "code",
   "outputs": [
    {
     "data": {
      "text/plain": "2"
     },
     "execution_count": 36,
     "metadata": {},
     "output_type": "execute_result"
    }
   ],
   "source": [
    "os.SEEK_END"
   ],
   "metadata": {
    "collapsed": false,
    "ExecuteTime": {
     "end_time": "2024-03-06T06:03:39.455995Z",
     "start_time": "2024-03-06T06:03:39.451121Z"
    }
   },
   "id": "7bd17a96f9834d4d",
   "execution_count": 36
  },
  {
   "cell_type": "code",
   "outputs": [
    {
     "name": "stdout",
     "output_type": "stream",
     "text": [
      "255\n",
      "255\n"
     ]
    }
   ],
   "source": [
    "with open('bfile','rb') as fin:\n",
    "    print(fin.seek(-1,2))\n",
    "    print(fin.tell())"
   ],
   "metadata": {
    "collapsed": false,
    "ExecuteTime": {
     "end_time": "2024-03-06T06:04:35.459848Z",
     "start_time": "2024-03-06T06:04:35.448381Z"
    }
   },
   "id": "eb852215748c6e7d",
   "execution_count": 37
  },
  {
   "cell_type": "code",
   "outputs": [
    {
     "name": "stdout",
     "output_type": "stream",
     "text": [
      "256\n",
      "100\n"
     ]
    }
   ],
   "source": [
    "with open('bfile','rb') as fin:\n",
    "    bdata = fin.read()\n",
    "    print(len(bdata))\n",
    "    print(bdata[100])"
   ],
   "metadata": {
    "collapsed": false,
    "ExecuteTime": {
     "end_time": "2024-03-06T06:05:25.105194Z",
     "start_time": "2024-03-06T06:05:25.101089Z"
    }
   },
   "id": "9778e64b216ae38e",
   "execution_count": 40
  },
  {
   "cell_type": "code",
   "outputs": [
    {
     "name": "stdout",
     "output_type": "stream",
     "text": [
      "254\n",
      "254\n",
      "255\n",
      "255\n"
     ]
    }
   ],
   "source": [
    "with open('bfile','rb') as fin:\n",
    "    print(fin.seek(254,0))\n",
    "    print(fin.tell())\n",
    "    print(fin.seek(1,1))\n",
    "    print(fin.tell())"
   ],
   "metadata": {
    "collapsed": false,
    "ExecuteTime": {
     "end_time": "2024-03-06T06:06:52.248539Z",
     "start_time": "2024-03-06T06:06:52.244968Z"
    }
   },
   "id": "c6466eac6ee7fcf3",
   "execution_count": 41
  },
  {
   "cell_type": "code",
   "outputs": [
    {
     "data": {
      "text/plain": "True"
     },
     "execution_count": 42,
     "metadata": {},
     "output_type": "execute_result"
    }
   ],
   "source": [
    "import os\n",
    "os.path.exists('oops.txt')"
   ],
   "metadata": {
    "collapsed": false,
    "ExecuteTime": {
     "end_time": "2024-03-06T06:08:02.624817Z",
     "start_time": "2024-03-06T06:08:02.620923Z"
    }
   },
   "id": "63cfc846e3c6472a",
   "execution_count": 42
  },
  {
   "cell_type": "code",
   "outputs": [
    {
     "data": {
      "text/plain": "True"
     },
     "execution_count": 43,
     "metadata": {},
     "output_type": "execute_result"
    }
   ],
   "source": [
    "os.path.exists('./oops.txt')"
   ],
   "metadata": {
    "collapsed": false,
    "ExecuteTime": {
     "end_time": "2024-03-06T06:08:19.157015Z",
     "start_time": "2024-03-06T06:08:19.148992Z"
    }
   },
   "id": "87a86f49455c2be",
   "execution_count": 43
  },
  {
   "cell_type": "code",
   "outputs": [
    {
     "data": {
      "text/plain": "False"
     },
     "execution_count": 44,
     "metadata": {},
     "output_type": "execute_result"
    }
   ],
   "source": [
    "os.path.exists('waffles')"
   ],
   "metadata": {
    "collapsed": false,
    "ExecuteTime": {
     "end_time": "2024-03-06T06:08:28.028318Z",
     "start_time": "2024-03-06T06:08:28.024400Z"
    }
   },
   "id": "233382caff34bf2",
   "execution_count": 44
  },
  {
   "cell_type": "code",
   "outputs": [
    {
     "data": {
      "text/plain": "True"
     },
     "execution_count": 45,
     "metadata": {},
     "output_type": "execute_result"
    }
   ],
   "source": [
    "os.path.exists('.')"
   ],
   "metadata": {
    "collapsed": false,
    "ExecuteTime": {
     "end_time": "2024-03-06T06:08:37.541674Z",
     "start_time": "2024-03-06T06:08:37.538639Z"
    }
   },
   "id": "a798ee70d70da20a",
   "execution_count": 45
  },
  {
   "cell_type": "code",
   "outputs": [
    {
     "data": {
      "text/plain": "True"
     },
     "execution_count": 46,
     "metadata": {},
     "output_type": "execute_result"
    }
   ],
   "source": [
    "os.path.exists('..')"
   ],
   "metadata": {
    "collapsed": false,
    "ExecuteTime": {
     "end_time": "2024-03-06T06:08:45.843414Z",
     "start_time": "2024-03-06T06:08:45.839724Z"
    }
   },
   "id": "27b7f163379b44d0",
   "execution_count": 46
  },
  {
   "cell_type": "code",
   "outputs": [
    {
     "data": {
      "text/plain": "True"
     },
     "execution_count": 47,
     "metadata": {},
     "output_type": "execute_result"
    }
   ],
   "source": [
    "name = 'oops.txt'\n",
    "os.path.isfile(name)"
   ],
   "metadata": {
    "collapsed": false,
    "ExecuteTime": {
     "end_time": "2024-03-06T06:09:11.777679Z",
     "start_time": "2024-03-06T06:09:11.773434Z"
    }
   },
   "id": "e584d7953eaeffcf",
   "execution_count": 47
  },
  {
   "cell_type": "code",
   "outputs": [
    {
     "data": {
      "text/plain": "False"
     },
     "execution_count": 48,
     "metadata": {},
     "output_type": "execute_result"
    }
   ],
   "source": [
    "os.path.isdir(name)"
   ],
   "metadata": {
    "collapsed": false,
    "ExecuteTime": {
     "end_time": "2024-03-06T06:09:25.591423Z",
     "start_time": "2024-03-06T06:09:25.587842Z"
    }
   },
   "id": "86b3fe47937d0af0",
   "execution_count": 48
  },
  {
   "cell_type": "code",
   "outputs": [
    {
     "data": {
      "text/plain": "True"
     },
     "execution_count": 49,
     "metadata": {},
     "output_type": "execute_result"
    }
   ],
   "source": [
    "os.path.isdir('.')"
   ],
   "metadata": {
    "collapsed": false,
    "ExecuteTime": {
     "end_time": "2024-03-06T06:09:39.893917Z",
     "start_time": "2024-03-06T06:09:39.890707Z"
    }
   },
   "id": "7f82a30f9169698f",
   "execution_count": 49
  },
  {
   "cell_type": "code",
   "outputs": [
    {
     "data": {
      "text/plain": "False"
     },
     "execution_count": 50,
     "metadata": {},
     "output_type": "execute_result"
    }
   ],
   "source": [
    "os.path.isabs(name)"
   ],
   "metadata": {
    "collapsed": false,
    "ExecuteTime": {
     "end_time": "2024-03-06T06:09:55.987314Z",
     "start_time": "2024-03-06T06:09:55.981560Z"
    }
   },
   "id": "e9001b171aa3878b",
   "execution_count": 50
  },
  {
   "cell_type": "code",
   "outputs": [
    {
     "data": {
      "text/plain": "True"
     },
     "execution_count": 51,
     "metadata": {},
     "output_type": "execute_result"
    }
   ],
   "source": [
    "os.path.isabs('/big/fake/name')"
   ],
   "metadata": {
    "collapsed": false,
    "ExecuteTime": {
     "end_time": "2024-03-06T06:10:16.184919Z",
     "start_time": "2024-03-06T06:10:16.181592Z"
    }
   },
   "id": "a5acf52600d2763c",
   "execution_count": 51
  },
  {
   "cell_type": "code",
   "outputs": [
    {
     "data": {
      "text/plain": "False"
     },
     "execution_count": 52,
     "metadata": {},
     "output_type": "execute_result"
    }
   ],
   "source": [
    "os.path.isabs('big/fake/name/without/a/leading/slash')"
   ],
   "metadata": {
    "collapsed": false,
    "ExecuteTime": {
     "end_time": "2024-03-06T06:10:48.426497Z",
     "start_time": "2024-03-06T06:10:48.422835Z"
    }
   },
   "id": "c4a259dc515d2325",
   "execution_count": 52
  },
  {
   "cell_type": "code",
   "outputs": [
    {
     "data": {
      "text/plain": "'ohno.txt'"
     },
     "execution_count": 53,
     "metadata": {},
     "output_type": "execute_result"
    }
   ],
   "source": [
    "import shutil\n",
    "shutil.copy('oops.txt', 'ohno.txt')"
   ],
   "metadata": {
    "collapsed": false,
    "ExecuteTime": {
     "end_time": "2024-03-06T06:11:23.205564Z",
     "start_time": "2024-03-06T06:11:23.196870Z"
    }
   },
   "id": "4fcc1f5c3ef904c6",
   "execution_count": 53
  },
  {
   "cell_type": "code",
   "outputs": [],
   "source": [
    "import os\n",
    "os.rename('ohno.txt', 'ohwell.txt')"
   ],
   "metadata": {
    "collapsed": false,
    "ExecuteTime": {
     "end_time": "2024-03-06T06:12:29.740128Z",
     "start_time": "2024-03-06T06:12:29.736384Z"
    }
   },
   "id": "559132af942f5b3f",
   "execution_count": 55
  },
  {
   "cell_type": "code",
   "outputs": [
    {
     "data": {
      "text/plain": "True"
     },
     "execution_count": 56,
     "metadata": {},
     "output_type": "execute_result"
    }
   ],
   "source": [
    "os.link('oops.txt', 'yikes.txt')\n",
    "os.path.isfile('yikes.txt')"
   ],
   "metadata": {
    "collapsed": false,
    "ExecuteTime": {
     "end_time": "2024-03-06T06:13:45.911916Z",
     "start_time": "2024-03-06T06:13:45.907882Z"
    }
   },
   "id": "491f5b3f440551f5",
   "execution_count": 56
  },
  {
   "cell_type": "code",
   "outputs": [
    {
     "data": {
      "text/plain": "False"
     },
     "execution_count": 57,
     "metadata": {},
     "output_type": "execute_result"
    }
   ],
   "source": [
    "os.path.islink('yikes.txt')"
   ],
   "metadata": {
    "collapsed": false,
    "ExecuteTime": {
     "end_time": "2024-03-06T06:14:00.932504Z",
     "start_time": "2024-03-06T06:14:00.928838Z"
    }
   },
   "id": "c3e3cc5fbea7fe05",
   "execution_count": 57
  },
  {
   "cell_type": "code",
   "outputs": [
    {
     "data": {
      "text/plain": "True"
     },
     "execution_count": 58,
     "metadata": {},
     "output_type": "execute_result"
    }
   ],
   "source": [
    "os.symlink('oops.txt','jeepers.txt')\n",
    "os.path.islink('jeepers.txt')"
   ],
   "metadata": {
    "collapsed": false,
    "ExecuteTime": {
     "end_time": "2024-03-06T06:14:47.803008Z",
     "start_time": "2024-03-06T06:14:47.799681Z"
    }
   },
   "id": "54a016c4d5da3bad",
   "execution_count": 58
  },
  {
   "cell_type": "code",
   "outputs": [],
   "source": [
    "os.chmod('oops.txt',0o400)"
   ],
   "metadata": {
    "collapsed": false,
    "ExecuteTime": {
     "end_time": "2024-03-06T06:16:09.338408Z",
     "start_time": "2024-03-06T06:16:09.334122Z"
    }
   },
   "id": "ced1203f666fc8c2",
   "execution_count": 59
  },
  {
   "cell_type": "code",
   "outputs": [],
   "source": [
    "import stat\n",
    "os.chmod('oops.txt', stat.S_IRUSR)"
   ],
   "metadata": {
    "collapsed": false,
    "ExecuteTime": {
     "end_time": "2024-03-06T06:16:46.940971Z",
     "start_time": "2024-03-06T06:16:46.938283Z"
    }
   },
   "id": "af8626e62fe7a1af",
   "execution_count": 60
  },
  {
   "cell_type": "code",
   "outputs": [
    {
     "ename": "PermissionError",
     "evalue": "[Errno 1] Operation not permitted: 'oops.txt'",
     "output_type": "error",
     "traceback": [
      "\u001B[0;31m---------------------------------------------------------------------------\u001B[0m",
      "\u001B[0;31mPermissionError\u001B[0m                           Traceback (most recent call last)",
      "Cell \u001B[0;32mIn[62], line 3\u001B[0m\n\u001B[1;32m      1\u001B[0m uid \u001B[38;5;241m=\u001B[39m \u001B[38;5;241m5\u001B[39m\n\u001B[1;32m      2\u001B[0m gid \u001B[38;5;241m=\u001B[39m \u001B[38;5;241m22\u001B[39m\n\u001B[0;32m----> 3\u001B[0m \u001B[43mos\u001B[49m\u001B[38;5;241;43m.\u001B[39;49m\u001B[43mchown\u001B[49m\u001B[43m(\u001B[49m\u001B[38;5;124;43m'\u001B[39;49m\u001B[38;5;124;43moops.txt\u001B[39;49m\u001B[38;5;124;43m'\u001B[39;49m\u001B[43m,\u001B[49m\u001B[43m \u001B[49m\u001B[43muid\u001B[49m\u001B[43m,\u001B[49m\u001B[43m \u001B[49m\u001B[43mgid\u001B[49m\u001B[43m)\u001B[49m\n",
      "\u001B[0;31mPermissionError\u001B[0m: [Errno 1] Operation not permitted: 'oops.txt'"
     ]
    }
   ],
   "source": [
    "uid = 5\n",
    "gid = 22\n",
    "os.chown('oops.txt', uid, gid)"
   ],
   "metadata": {
    "collapsed": false,
    "ExecuteTime": {
     "end_time": "2024-03-06T06:19:18.594183Z",
     "start_time": "2024-03-06T06:19:18.580506Z"
    }
   },
   "id": "c3cdd6f4becf13ca",
   "execution_count": 62
  },
  {
   "cell_type": "code",
   "outputs": [
    {
     "data": {
      "text/plain": "False"
     },
     "execution_count": 63,
     "metadata": {},
     "output_type": "execute_result"
    }
   ],
   "source": [
    "os.remove('oops.txt')\n",
    "os.path.exists('oops.txt')"
   ],
   "metadata": {
    "collapsed": false,
    "ExecuteTime": {
     "end_time": "2024-03-06T06:19:45.724410Z",
     "start_time": "2024-03-06T06:19:45.720348Z"
    }
   },
   "id": "a3cc40998a390cec",
   "execution_count": 63
  },
  {
   "cell_type": "code",
   "outputs": [],
   "source": [
    "os.remove('jeepers.txt')"
   ],
   "metadata": {
    "collapsed": false,
    "ExecuteTime": {
     "end_time": "2024-03-06T06:20:13.857615Z",
     "start_time": "2024-03-06T06:20:13.855243Z"
    }
   },
   "id": "b50099a0cb23a216",
   "execution_count": 64
  },
  {
   "cell_type": "code",
   "outputs": [
    {
     "data": {
      "text/plain": "True"
     },
     "execution_count": 65,
     "metadata": {},
     "output_type": "execute_result"
    }
   ],
   "source": [
    "os.mkdir('poems')\n",
    "os.path.exists('poems')"
   ],
   "metadata": {
    "collapsed": false,
    "ExecuteTime": {
     "end_time": "2024-03-06T06:21:08.340742Z",
     "start_time": "2024-03-06T06:21:08.335105Z"
    }
   },
   "id": "70466ec0e81afe63",
   "execution_count": 65
  },
  {
   "cell_type": "code",
   "outputs": [
    {
     "data": {
      "text/plain": "False"
     },
     "execution_count": 66,
     "metadata": {},
     "output_type": "execute_result"
    }
   ],
   "source": [
    "os.rmdir('poems')\n",
    "os.path.exists('poems')"
   ],
   "metadata": {
    "collapsed": false,
    "ExecuteTime": {
     "end_time": "2024-03-06T06:21:43.934922Z",
     "start_time": "2024-03-06T06:21:43.930933Z"
    }
   },
   "id": "9377035b9a59f5b1",
   "execution_count": 66
  },
  {
   "cell_type": "code",
   "outputs": [
    {
     "data": {
      "text/plain": "[]"
     },
     "execution_count": 67,
     "metadata": {},
     "output_type": "execute_result"
    }
   ],
   "source": [
    "os.mkdir('poems')\n",
    "os.listdir('poems')"
   ],
   "metadata": {
    "collapsed": false,
    "ExecuteTime": {
     "end_time": "2024-03-06T06:22:09.645006Z",
     "start_time": "2024-03-06T06:22:09.641578Z"
    }
   },
   "id": "c7c6b7fceb9605f3",
   "execution_count": 67
  },
  {
   "cell_type": "code",
   "outputs": [
    {
     "data": {
      "text/plain": "['mcintyre']"
     },
     "execution_count": 68,
     "metadata": {},
     "output_type": "execute_result"
    }
   ],
   "source": [
    "os.mkdir('poems/mcintyre')\n",
    "os.listdir('poems')"
   ],
   "metadata": {
    "collapsed": false,
    "ExecuteTime": {
     "end_time": "2024-03-06T06:22:41.122436Z",
     "start_time": "2024-03-06T06:22:41.118576Z"
    }
   },
   "id": "65400ec7617de5e4",
   "execution_count": 68
  },
  {
   "cell_type": "code",
   "outputs": [],
   "source": [
    "with open('poems/mcintyre/the_good_man','wt') as fout:\n",
    "    fout.write('''Cheerful and happy was his mood,\n",
    "    He to the poor was kind and good,\n",
    "    And he oft' times did find them food,\n",
    "    Also supplies of coal and wood,\n",
    "    He never spake a word was rude,\n",
    "    And cheer'd those did o'er sorrows brood,\n",
    "    He passed away not understood,\n",
    "    Because no poet in his lays\n",
    "    Had penned a sonnet in his praise,\n",
    "    'Tis sad, but such is world's ways.\n",
    "    ''')"
   ],
   "metadata": {
    "collapsed": false,
    "ExecuteTime": {
     "end_time": "2024-03-06T06:27:08.215365Z",
     "start_time": "2024-03-06T06:27:08.201157Z"
    }
   },
   "id": "639aa7c18678841d",
   "execution_count": 69
  },
  {
   "cell_type": "code",
   "outputs": [
    {
     "data": {
      "text/plain": "['the_good_man']"
     },
     "execution_count": 70,
     "metadata": {},
     "output_type": "execute_result"
    }
   ],
   "source": [
    "os.listdir('poems/mcintyre')"
   ],
   "metadata": {
    "collapsed": false,
    "ExecuteTime": {
     "end_time": "2024-03-06T06:27:36.680572Z",
     "start_time": "2024-03-06T06:27:36.676042Z"
    }
   },
   "id": "8b5a803e77af467",
   "execution_count": 70
  },
  {
   "cell_type": "code",
   "outputs": [
    {
     "data": {
      "text/plain": "['mcintyre']"
     },
     "execution_count": 71,
     "metadata": {},
     "output_type": "execute_result"
    }
   ],
   "source": [
    "os.chdir('poems')\n",
    "os.listdir('.')"
   ],
   "metadata": {
    "collapsed": false,
    "ExecuteTime": {
     "end_time": "2024-03-06T06:28:16.720936Z",
     "start_time": "2024-03-06T06:28:16.717512Z"
    }
   },
   "id": "a97920df07848b3d",
   "execution_count": 71
  },
  {
   "cell_type": "code",
   "outputs": [
    {
     "data": {
      "text/plain": "['mcintyre']"
     },
     "execution_count": 72,
     "metadata": {},
     "output_type": "execute_result"
    }
   ],
   "source": [
    "import glob\n",
    "glob.glob('m*')"
   ],
   "metadata": {
    "collapsed": false,
    "ExecuteTime": {
     "end_time": "2024-03-06T06:28:48.566542Z",
     "start_time": "2024-03-06T06:28:48.562180Z"
    }
   },
   "id": "e2847942534fdc11",
   "execution_count": 72
  },
  {
   "cell_type": "code",
   "outputs": [
    {
     "data": {
      "text/plain": "[]"
     },
     "execution_count": 73,
     "metadata": {},
     "output_type": "execute_result"
    }
   ],
   "source": [
    "glob.glob('??')"
   ],
   "metadata": {
    "collapsed": false,
    "ExecuteTime": {
     "end_time": "2024-03-06T06:29:05.494887Z",
     "start_time": "2024-03-06T06:29:05.491495Z"
    }
   },
   "id": "8283f387627f58f7",
   "execution_count": 73
  },
  {
   "cell_type": "code",
   "outputs": [
    {
     "data": {
      "text/plain": "['mcintyre']"
     },
     "execution_count": 74,
     "metadata": {},
     "output_type": "execute_result"
    }
   ],
   "source": [
    "glob.glob('m??????e')"
   ],
   "metadata": {
    "collapsed": false,
    "ExecuteTime": {
     "end_time": "2024-03-06T06:29:30.097071Z",
     "start_time": "2024-03-06T06:29:30.093454Z"
    }
   },
   "id": "319a1ef2c4be5bf3",
   "execution_count": 74
  },
  {
   "cell_type": "code",
   "outputs": [
    {
     "data": {
      "text/plain": "['mcintyre']"
     },
     "execution_count": 75,
     "metadata": {},
     "output_type": "execute_result"
    }
   ],
   "source": [
    "glob.glob('[klm]*e')"
   ],
   "metadata": {
    "collapsed": false,
    "ExecuteTime": {
     "end_time": "2024-03-06T06:30:25.230081Z",
     "start_time": "2024-03-06T06:30:25.226428Z"
    }
   },
   "id": "a7dd6927fcc395f9",
   "execution_count": 75
  },
  {
   "cell_type": "code",
   "outputs": [
    {
     "data": {
      "text/plain": "'eek\\\\urk\\\\snort.txt'"
     },
     "execution_count": 76,
     "metadata": {},
     "output_type": "execute_result"
    }
   ],
   "source": [
    "win_file = 'eek\\\\urk\\\\snort.txt'\n",
    "win_file2 = r'eek\\urk\\snort.txt'\n",
    "win_file"
   ],
   "metadata": {
    "collapsed": false,
    "ExecuteTime": {
     "end_time": "2024-03-06T06:31:48.688198Z",
     "start_time": "2024-03-06T06:31:48.685119Z"
    }
   },
   "id": "1106c045e2ea9e4a",
   "execution_count": 76
  },
  {
   "cell_type": "code",
   "outputs": [
    {
     "data": {
      "text/plain": "'eek\\\\urk\\\\snort.txt'"
     },
     "execution_count": 77,
     "metadata": {},
     "output_type": "execute_result"
    }
   ],
   "source": [
    "win_file2"
   ],
   "metadata": {
    "collapsed": false,
    "ExecuteTime": {
     "end_time": "2024-03-06T06:31:53.347771Z",
     "start_time": "2024-03-06T06:31:53.345074Z"
    }
   },
   "id": "59012707dad4734f",
   "execution_count": 77
  },
  {
   "cell_type": "code",
   "outputs": [],
   "source": [
    "fout = open('oops.txt','wt')\n",
    "print('Oops, I created a file.', file=fout)\n",
    "fout.close()"
   ],
   "metadata": {
    "collapsed": false,
    "ExecuteTime": {
     "end_time": "2024-03-06T06:43:50.185297Z",
     "start_time": "2024-03-06T06:43:50.180888Z"
    }
   },
   "id": "99cd3ab30848214",
   "execution_count": 85
  },
  {
   "cell_type": "code",
   "outputs": [
    {
     "data": {
      "text/plain": "'/Users/bob/PycharmProjects/introduce-python/oops.txt'"
     },
     "execution_count": 86,
     "metadata": {},
     "output_type": "execute_result"
    }
   ],
   "source": [
    "os.path.abspath('oops.txt')"
   ],
   "metadata": {
    "collapsed": false,
    "ExecuteTime": {
     "end_time": "2024-03-06T06:44:35.916040Z",
     "start_time": "2024-03-06T06:44:35.911135Z"
    }
   },
   "id": "2dd2980c39bf962f",
   "execution_count": 86
  },
  {
   "cell_type": "code",
   "outputs": [],
   "source": [
    "os.symlink('oops.txt','jeepers.txt')"
   ],
   "metadata": {
    "collapsed": false,
    "ExecuteTime": {
     "end_time": "2024-03-06T06:45:41.987312Z",
     "start_time": "2024-03-06T06:45:41.985155Z"
    }
   },
   "id": "e5e83fa396f325fd",
   "execution_count": 87
  },
  {
   "cell_type": "code",
   "outputs": [
    {
     "data": {
      "text/plain": "'jeepers.txt'"
     },
     "execution_count": 88,
     "metadata": {},
     "output_type": "execute_result"
    }
   ],
   "source": [
    "os.path.relpath('jeepers.txt')"
   ],
   "metadata": {
    "collapsed": false,
    "ExecuteTime": {
     "end_time": "2024-03-06T06:46:02.853287Z",
     "start_time": "2024-03-06T06:46:02.850643Z"
    }
   },
   "id": "af108294292bc063",
   "execution_count": 88
  },
  {
   "cell_type": "code",
   "outputs": [
    {
     "data": {
      "text/plain": "True"
     },
     "execution_count": 89,
     "metadata": {},
     "output_type": "execute_result"
    }
   ],
   "source": [
    "os.path.islink('jeepers.txt')"
   ],
   "metadata": {
    "collapsed": false,
    "ExecuteTime": {
     "end_time": "2024-03-06T06:46:32.831116Z",
     "start_time": "2024-03-06T06:46:32.827645Z"
    }
   },
   "id": "3e7c4b774d486cac",
   "execution_count": 89
  },
  {
   "cell_type": "code",
   "outputs": [
    {
     "data": {
      "text/plain": "'/Users/bob/PycharmProjects/introduce-python/oops.txt'"
     },
     "execution_count": 90,
     "metadata": {},
     "output_type": "execute_result"
    }
   ],
   "source": [
    "os.path.realpath('jeepers.txt')"
   ],
   "metadata": {
    "collapsed": false,
    "ExecuteTime": {
     "end_time": "2024-03-06T06:47:14.571637Z",
     "start_time": "2024-03-06T06:47:14.568522Z"
    }
   },
   "id": "2ec9fe6e034c8ba1",
   "execution_count": 90
  },
  {
   "cell_type": "code",
   "outputs": [
    {
     "data": {
      "text/plain": "'eek/urk/snort.txt'"
     },
     "execution_count": 91,
     "metadata": {},
     "output_type": "execute_result"
    }
   ],
   "source": [
    "win_file = os.path.join('eek', 'urk')\n",
    "win_file = os.path.join(win_file, 'snort.txt')\n",
    "win_file"
   ],
   "metadata": {
    "collapsed": false,
    "ExecuteTime": {
     "end_time": "2024-03-06T06:48:11.831969Z",
     "start_time": "2024-03-06T06:48:11.822469Z"
    }
   },
   "id": "1fac8981ef415e94",
   "execution_count": 91
  },
  {
   "cell_type": "code",
   "outputs": [
    {
     "data": {
      "text/plain": "PosixPath('eek/urk/snort.txt')"
     },
     "execution_count": 92,
     "metadata": {},
     "output_type": "execute_result"
    }
   ],
   "source": [
    "from pathlib import Path\n",
    "file_path = Path('eek') / 'urk' / 'snort.txt'\n",
    "file_path"
   ],
   "metadata": {
    "collapsed": false,
    "ExecuteTime": {
     "end_time": "2024-03-06T06:49:08.593418Z",
     "start_time": "2024-03-06T06:49:08.590216Z"
    }
   },
   "id": "47b6e620c3cb1e93",
   "execution_count": 92
  },
  {
   "cell_type": "code",
   "outputs": [
    {
     "name": "stdout",
     "output_type": "stream",
     "text": [
      "eek/urk/snort.txt\n"
     ]
    }
   ],
   "source": [
    "print(file_path)"
   ],
   "metadata": {
    "collapsed": false,
    "ExecuteTime": {
     "end_time": "2024-03-06T06:49:18.423058Z",
     "start_time": "2024-03-06T06:49:18.421215Z"
    }
   },
   "id": "5dec382d8c0187b2",
   "execution_count": 93
  },
  {
   "cell_type": "code",
   "outputs": [
    {
     "data": {
      "text/plain": "'snort.txt'"
     },
     "execution_count": 94,
     "metadata": {},
     "output_type": "execute_result"
    }
   ],
   "source": [
    "file_path.name"
   ],
   "metadata": {
    "collapsed": false,
    "ExecuteTime": {
     "end_time": "2024-03-06T06:49:42.846228Z",
     "start_time": "2024-03-06T06:49:42.842263Z"
    }
   },
   "id": "87128d2c1d71d506",
   "execution_count": 94
  },
  {
   "cell_type": "code",
   "outputs": [
    {
     "data": {
      "text/plain": "'.txt'"
     },
     "execution_count": 95,
     "metadata": {},
     "output_type": "execute_result"
    }
   ],
   "source": [
    "file_path.suffix"
   ],
   "metadata": {
    "collapsed": false,
    "ExecuteTime": {
     "end_time": "2024-03-06T06:49:49.763142Z",
     "start_time": "2024-03-06T06:49:49.760368Z"
    }
   },
   "id": "14fcd652489d9f4b",
   "execution_count": 95
  },
  {
   "cell_type": "code",
   "outputs": [
    {
     "data": {
      "text/plain": "'snort'"
     },
     "execution_count": 96,
     "metadata": {},
     "output_type": "execute_result"
    }
   ],
   "source": [
    "file_path.stem"
   ],
   "metadata": {
    "collapsed": false,
    "ExecuteTime": {
     "end_time": "2024-03-06T06:49:57.473605Z",
     "start_time": "2024-03-06T06:49:57.471037Z"
    }
   },
   "id": "9530eae4959061c0",
   "execution_count": 96
  },
  {
   "cell_type": "code",
   "outputs": [
    {
     "data": {
      "text/plain": "PureWindowsPath('eek/urk/snort.txt')"
     },
     "execution_count": 97,
     "metadata": {},
     "output_type": "execute_result"
    }
   ],
   "source": [
    "from pathlib import PureWindowsPath\n",
    "PureWindowsPath(file_path)"
   ],
   "metadata": {
    "collapsed": false,
    "ExecuteTime": {
     "end_time": "2024-03-06T06:50:44.135737Z",
     "start_time": "2024-03-06T06:50:44.132584Z"
    }
   },
   "id": "41789903f326f75d",
   "execution_count": 97
  },
  {
   "cell_type": "code",
   "outputs": [
    {
     "name": "stdout",
     "output_type": "stream",
     "text": [
      "eek\\urk\\snort.txt\n"
     ]
    }
   ],
   "source": [
    "print(PureWindowsPath(file_path))"
   ],
   "metadata": {
    "collapsed": false,
    "ExecuteTime": {
     "end_time": "2024-03-06T06:50:55.997001Z",
     "start_time": "2024-03-06T06:50:55.994249Z"
    }
   },
   "id": "c5814b978a489c52",
   "execution_count": 98
  },
  {
   "cell_type": "code",
   "outputs": [],
   "source": [
    "\n",
    "        "
   ],
   "metadata": {
    "collapsed": false
   },
   "id": "8f8990a29c59020e"
  }
 ],
 "metadata": {
  "kernelspec": {
   "display_name": "Python 3",
   "language": "python",
   "name": "python3"
  },
  "language_info": {
   "codemirror_mode": {
    "name": "ipython",
    "version": 2
   },
   "file_extension": ".py",
   "mimetype": "text/x-python",
   "name": "python",
   "nbconvert_exporter": "python",
   "pygments_lexer": "ipython2",
   "version": "2.7.6"
  }
 },
 "nbformat": 4,
 "nbformat_minor": 5
}
